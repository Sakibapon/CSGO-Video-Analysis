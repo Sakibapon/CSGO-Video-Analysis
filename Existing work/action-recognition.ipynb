{
 "cells": [
  {
   "cell_type": "code",
   "execution_count": 1,
   "metadata": {
    "scrolled": false
   },
   "outputs": [],
   "source": [
    "import os\n",
    "import re\n",
    "import math\n",
    "import cv2\n",
    "import pickle\n",
    "import pandas as pd\n",
    "import numpy as np\n",
    "import matplotlib.pyplot as plt\n",
    "import tensorflow as tf\n",
    "\n",
    "from tqdm import tqdm\n",
    "from glob import glob\n",
    "from tools.settings import *\n",
    "from keras.models import Sequential\n",
    "from keras.preprocessing import image\n",
    "from keras.preprocessing.image import ImageDataGenerator\n",
    "from keras.layers import Dense, Dropout\n",
    "from tensorflow.keras.utils import to_categorical\n",
    "from tools.train_val_test_spliter import split\n"
   ]
  },
  {
   "cell_type": "markdown",
   "metadata": {},
   "source": [
    "### Pre Processing"
   ]
  },
  {
   "cell_type": "code",
   "execution_count": 3,
   "metadata": {},
   "outputs": [],
   "source": [
    "train = pd. read_csv(os.path.join(dataset_path, \"train.csv\"))\n",
    "test = pd. read_csv(os.path.join(dataset_path, \"test.csv\"))\n",
    "val = pd. read_csv(os.path.join(dataset_path, \"val.csv\"))"
   ]
  },
  {
   "cell_type": "code",
   "execution_count": 2,
   "metadata": {},
   "outputs": [
    {
     "name": "stdout",
     "output_type": "stream",
     "text": [
      "Splitting the ginen dataset into Train Test=0.2 Validation=0.2\n",
      "Done\n"
     ]
    }
   ],
   "source": [
    "# To split dataset if already splits folder already exits no need to run it\n",
    "split()"
   ]
  },
  {
   "cell_type": "code",
   "execution_count": 10,
   "metadata": {},
   "outputs": [
    {
     "data": {
      "text/html": [
       "<div>\n",
       "<style scoped>\n",
       "    .dataframe tbody tr th:only-of-type {\n",
       "        vertical-align: middle;\n",
       "    }\n",
       "\n",
       "    .dataframe tbody tr th {\n",
       "        vertical-align: top;\n",
       "    }\n",
       "\n",
       "    .dataframe thead th {\n",
       "        text-align: right;\n",
       "    }\n",
       "</style>\n",
       "<table border=\"1\" class=\"dataframe\">\n",
       "  <thead>\n",
       "    <tr style=\"text-align: right;\">\n",
       "      <th></th>\n",
       "      <th>Video_url</th>\n",
       "      <th>action</th>\n",
       "    </tr>\n",
       "  </thead>\n",
       "  <tbody>\n",
       "    <tr>\n",
       "      <th>0</th>\n",
       "      <td>E:\\Project 103\\Data\\kill/kill_67.mp4</td>\n",
       "      <td>kill</td>\n",
       "    </tr>\n",
       "    <tr>\n",
       "      <th>1</th>\n",
       "      <td>E:\\Project 103\\Data\\kill/kill_08.mp4</td>\n",
       "      <td>kill</td>\n",
       "    </tr>\n",
       "    <tr>\n",
       "      <th>2</th>\n",
       "      <td>E:\\Project 103\\Data\\death/death_48.mp4</td>\n",
       "      <td>death</td>\n",
       "    </tr>\n",
       "    <tr>\n",
       "      <th>3</th>\n",
       "      <td>E:\\Project 103\\Data\\death/death_13.mp4</td>\n",
       "      <td>death</td>\n",
       "    </tr>\n",
       "    <tr>\n",
       "      <th>4</th>\n",
       "      <td>E:\\Project 103\\Data\\kill/kill_92.mp4</td>\n",
       "      <td>kill</td>\n",
       "    </tr>\n",
       "    <tr>\n",
       "      <th>...</th>\n",
       "      <td>...</td>\n",
       "      <td>...</td>\n",
       "    </tr>\n",
       "    <tr>\n",
       "      <th>115</th>\n",
       "      <td>E:\\Project 103\\Data\\kill/kill_26.mp4</td>\n",
       "      <td>kill</td>\n",
       "    </tr>\n",
       "    <tr>\n",
       "      <th>116</th>\n",
       "      <td>E:\\Project 103\\Data\\kill/kill_61.mp4</td>\n",
       "      <td>kill</td>\n",
       "    </tr>\n",
       "    <tr>\n",
       "      <th>117</th>\n",
       "      <td>E:\\Project 103\\Data\\kill/kill_80.mp4</td>\n",
       "      <td>kill</td>\n",
       "    </tr>\n",
       "    <tr>\n",
       "      <th>118</th>\n",
       "      <td>E:\\Project 103\\Data\\death/death_80.mp4</td>\n",
       "      <td>death</td>\n",
       "    </tr>\n",
       "    <tr>\n",
       "      <th>119</th>\n",
       "      <td>E:\\Project 103\\Data\\death/death_32.mp4</td>\n",
       "      <td>death</td>\n",
       "    </tr>\n",
       "  </tbody>\n",
       "</table>\n",
       "<p>120 rows × 2 columns</p>\n",
       "</div>"
      ],
      "text/plain": [
       "                                  Video_url action\n",
       "0      E:\\Project 103\\Data\\kill/kill_67.mp4   kill\n",
       "1      E:\\Project 103\\Data\\kill/kill_08.mp4   kill\n",
       "2    E:\\Project 103\\Data\\death/death_48.mp4  death\n",
       "3    E:\\Project 103\\Data\\death/death_13.mp4  death\n",
       "4      E:\\Project 103\\Data\\kill/kill_92.mp4   kill\n",
       "..                                      ...    ...\n",
       "115    E:\\Project 103\\Data\\kill/kill_26.mp4   kill\n",
       "116    E:\\Project 103\\Data\\kill/kill_61.mp4   kill\n",
       "117    E:\\Project 103\\Data\\kill/kill_80.mp4   kill\n",
       "118  E:\\Project 103\\Data\\death/death_80.mp4  death\n",
       "119  E:\\Project 103\\Data\\death/death_32.mp4  death\n",
       "\n",
       "[120 rows x 2 columns]"
      ]
     },
     "execution_count": 10,
     "metadata": {},
     "output_type": "execute_result"
    }
   ],
   "source": [
    "train"
   ]
  },
  {
   "cell_type": "code",
   "execution_count": 11,
   "metadata": {},
   "outputs": [
    {
     "data": {
      "text/html": [
       "<div>\n",
       "<style scoped>\n",
       "    .dataframe tbody tr th:only-of-type {\n",
       "        vertical-align: middle;\n",
       "    }\n",
       "\n",
       "    .dataframe tbody tr th {\n",
       "        vertical-align: top;\n",
       "    }\n",
       "\n",
       "    .dataframe thead th {\n",
       "        text-align: right;\n",
       "    }\n",
       "</style>\n",
       "<table border=\"1\" class=\"dataframe\">\n",
       "  <thead>\n",
       "    <tr style=\"text-align: right;\">\n",
       "      <th></th>\n",
       "      <th>Video_url</th>\n",
       "      <th>action</th>\n",
       "    </tr>\n",
       "  </thead>\n",
       "  <tbody>\n",
       "    <tr>\n",
       "      <th>0</th>\n",
       "      <td>E:\\Project 103\\Data\\kill/kill_100.mp4</td>\n",
       "      <td>kill</td>\n",
       "    </tr>\n",
       "    <tr>\n",
       "      <th>1</th>\n",
       "      <td>E:\\Project 103\\Data\\kill/kill_72.mp4</td>\n",
       "      <td>kill</td>\n",
       "    </tr>\n",
       "    <tr>\n",
       "      <th>2</th>\n",
       "      <td>E:\\Project 103\\Data\\death/death_81.mp4</td>\n",
       "      <td>death</td>\n",
       "    </tr>\n",
       "    <tr>\n",
       "      <th>3</th>\n",
       "      <td>E:\\Project 103\\Data\\kill/kill_06.mp4</td>\n",
       "      <td>kill</td>\n",
       "    </tr>\n",
       "    <tr>\n",
       "      <th>4</th>\n",
       "      <td>E:\\Project 103\\Data\\death/death_14.mp4</td>\n",
       "      <td>death</td>\n",
       "    </tr>\n",
       "    <tr>\n",
       "      <th>5</th>\n",
       "      <td>E:\\Project 103\\Data\\kill/kill_3.mp4</td>\n",
       "      <td>kill</td>\n",
       "    </tr>\n",
       "    <tr>\n",
       "      <th>6</th>\n",
       "      <td>E:\\Project 103\\Data\\death/death_29.mp4</td>\n",
       "      <td>death</td>\n",
       "    </tr>\n",
       "    <tr>\n",
       "      <th>7</th>\n",
       "      <td>E:\\Project 103\\Data\\kill/kill_73.mp4</td>\n",
       "      <td>kill</td>\n",
       "    </tr>\n",
       "    <tr>\n",
       "      <th>8</th>\n",
       "      <td>E:\\Project 103\\Data\\death/death_70.mp4</td>\n",
       "      <td>death</td>\n",
       "    </tr>\n",
       "    <tr>\n",
       "      <th>9</th>\n",
       "      <td>E:\\Project 103\\Data\\kill/kill_31.mp4</td>\n",
       "      <td>kill</td>\n",
       "    </tr>\n",
       "    <tr>\n",
       "      <th>10</th>\n",
       "      <td>E:\\Project 103\\Data\\death/death_83.mp4</td>\n",
       "      <td>death</td>\n",
       "    </tr>\n",
       "    <tr>\n",
       "      <th>11</th>\n",
       "      <td>E:\\Project 103\\Data\\death/death_86.mp4</td>\n",
       "      <td>death</td>\n",
       "    </tr>\n",
       "    <tr>\n",
       "      <th>12</th>\n",
       "      <td>E:\\Project 103\\Data\\kill/kill_01.mp4</td>\n",
       "      <td>kill</td>\n",
       "    </tr>\n",
       "    <tr>\n",
       "      <th>13</th>\n",
       "      <td>E:\\Project 103\\Data\\kill/kill_81.mp4</td>\n",
       "      <td>kill</td>\n",
       "    </tr>\n",
       "    <tr>\n",
       "      <th>14</th>\n",
       "      <td>E:\\Project 103\\Data\\death/death_77.mp4</td>\n",
       "      <td>death</td>\n",
       "    </tr>\n",
       "    <tr>\n",
       "      <th>15</th>\n",
       "      <td>E:\\Project 103\\Data\\death/death_03.mp4</td>\n",
       "      <td>death</td>\n",
       "    </tr>\n",
       "    <tr>\n",
       "      <th>16</th>\n",
       "      <td>E:\\Project 103\\Data\\kill/kill_93.mp4</td>\n",
       "      <td>kill</td>\n",
       "    </tr>\n",
       "    <tr>\n",
       "      <th>17</th>\n",
       "      <td>E:\\Project 103\\Data\\kill/kill_55.mp4</td>\n",
       "      <td>kill</td>\n",
       "    </tr>\n",
       "    <tr>\n",
       "      <th>18</th>\n",
       "      <td>E:\\Project 103\\Data\\kill/kill_95.mp4</td>\n",
       "      <td>kill</td>\n",
       "    </tr>\n",
       "    <tr>\n",
       "      <th>19</th>\n",
       "      <td>E:\\Project 103\\Data\\death/death_63.mp4</td>\n",
       "      <td>death</td>\n",
       "    </tr>\n",
       "    <tr>\n",
       "      <th>20</th>\n",
       "      <td>E:\\Project 103\\Data\\death/death_54.mp4</td>\n",
       "      <td>death</td>\n",
       "    </tr>\n",
       "    <tr>\n",
       "      <th>21</th>\n",
       "      <td>E:\\Project 103\\Data\\kill/kill_83.mp4</td>\n",
       "      <td>kill</td>\n",
       "    </tr>\n",
       "    <tr>\n",
       "      <th>22</th>\n",
       "      <td>E:\\Project 103\\Data\\kill/kill_04.mp4</td>\n",
       "      <td>kill</td>\n",
       "    </tr>\n",
       "    <tr>\n",
       "      <th>23</th>\n",
       "      <td>E:\\Project 103\\Data\\death/death_15.mp4</td>\n",
       "      <td>death</td>\n",
       "    </tr>\n",
       "    <tr>\n",
       "      <th>24</th>\n",
       "      <td>E:\\Project 103\\Data\\death/death_43.mp4</td>\n",
       "      <td>death</td>\n",
       "    </tr>\n",
       "    <tr>\n",
       "      <th>25</th>\n",
       "      <td>E:\\Project 103\\Data\\death/death_42.mp4</td>\n",
       "      <td>death</td>\n",
       "    </tr>\n",
       "    <tr>\n",
       "      <th>26</th>\n",
       "      <td>E:\\Project 103\\Data\\kill/kill_77.mp4</td>\n",
       "      <td>kill</td>\n",
       "    </tr>\n",
       "    <tr>\n",
       "      <th>27</th>\n",
       "      <td>E:\\Project 103\\Data\\death/death_38.mp4</td>\n",
       "      <td>death</td>\n",
       "    </tr>\n",
       "    <tr>\n",
       "      <th>28</th>\n",
       "      <td>E:\\Project 103\\Data\\death/death_87.mp4</td>\n",
       "      <td>death</td>\n",
       "    </tr>\n",
       "    <tr>\n",
       "      <th>29</th>\n",
       "      <td>E:\\Project 103\\Data\\kill/kill_59.mp4</td>\n",
       "      <td>kill</td>\n",
       "    </tr>\n",
       "    <tr>\n",
       "      <th>30</th>\n",
       "      <td>E:\\Project 103\\Data\\kill/kill_94.mp4</td>\n",
       "      <td>kill</td>\n",
       "    </tr>\n",
       "    <tr>\n",
       "      <th>31</th>\n",
       "      <td>E:\\Project 103\\Data\\death/death_97.mp4</td>\n",
       "      <td>death</td>\n",
       "    </tr>\n",
       "    <tr>\n",
       "      <th>32</th>\n",
       "      <td>E:\\Project 103\\Data\\kill/kill_86.mp4</td>\n",
       "      <td>kill</td>\n",
       "    </tr>\n",
       "    <tr>\n",
       "      <th>33</th>\n",
       "      <td>E:\\Project 103\\Data\\death/death_22.mp4</td>\n",
       "      <td>death</td>\n",
       "    </tr>\n",
       "    <tr>\n",
       "      <th>34</th>\n",
       "      <td>E:\\Project 103\\Data\\death/death_06.mp4</td>\n",
       "      <td>death</td>\n",
       "    </tr>\n",
       "    <tr>\n",
       "      <th>35</th>\n",
       "      <td>E:\\Project 103\\Data\\kill/kill_75.mp4</td>\n",
       "      <td>kill</td>\n",
       "    </tr>\n",
       "    <tr>\n",
       "      <th>36</th>\n",
       "      <td>E:\\Project 103\\Data\\kill/kill_89.mp4</td>\n",
       "      <td>kill</td>\n",
       "    </tr>\n",
       "    <tr>\n",
       "      <th>37</th>\n",
       "      <td>E:\\Project 103\\Data\\death/death_35.mp4</td>\n",
       "      <td>death</td>\n",
       "    </tr>\n",
       "    <tr>\n",
       "      <th>38</th>\n",
       "      <td>E:\\Project 103\\Data\\death/death_16.mp4</td>\n",
       "      <td>death</td>\n",
       "    </tr>\n",
       "    <tr>\n",
       "      <th>39</th>\n",
       "      <td>E:\\Project 103\\Data\\kill/kill_14.mp4</td>\n",
       "      <td>kill</td>\n",
       "    </tr>\n",
       "  </tbody>\n",
       "</table>\n",
       "</div>"
      ],
      "text/plain": [
       "                                 Video_url action\n",
       "0    E:\\Project 103\\Data\\kill/kill_100.mp4   kill\n",
       "1     E:\\Project 103\\Data\\kill/kill_72.mp4   kill\n",
       "2   E:\\Project 103\\Data\\death/death_81.mp4  death\n",
       "3     E:\\Project 103\\Data\\kill/kill_06.mp4   kill\n",
       "4   E:\\Project 103\\Data\\death/death_14.mp4  death\n",
       "5      E:\\Project 103\\Data\\kill/kill_3.mp4   kill\n",
       "6   E:\\Project 103\\Data\\death/death_29.mp4  death\n",
       "7     E:\\Project 103\\Data\\kill/kill_73.mp4   kill\n",
       "8   E:\\Project 103\\Data\\death/death_70.mp4  death\n",
       "9     E:\\Project 103\\Data\\kill/kill_31.mp4   kill\n",
       "10  E:\\Project 103\\Data\\death/death_83.mp4  death\n",
       "11  E:\\Project 103\\Data\\death/death_86.mp4  death\n",
       "12    E:\\Project 103\\Data\\kill/kill_01.mp4   kill\n",
       "13    E:\\Project 103\\Data\\kill/kill_81.mp4   kill\n",
       "14  E:\\Project 103\\Data\\death/death_77.mp4  death\n",
       "15  E:\\Project 103\\Data\\death/death_03.mp4  death\n",
       "16    E:\\Project 103\\Data\\kill/kill_93.mp4   kill\n",
       "17    E:\\Project 103\\Data\\kill/kill_55.mp4   kill\n",
       "18    E:\\Project 103\\Data\\kill/kill_95.mp4   kill\n",
       "19  E:\\Project 103\\Data\\death/death_63.mp4  death\n",
       "20  E:\\Project 103\\Data\\death/death_54.mp4  death\n",
       "21    E:\\Project 103\\Data\\kill/kill_83.mp4   kill\n",
       "22    E:\\Project 103\\Data\\kill/kill_04.mp4   kill\n",
       "23  E:\\Project 103\\Data\\death/death_15.mp4  death\n",
       "24  E:\\Project 103\\Data\\death/death_43.mp4  death\n",
       "25  E:\\Project 103\\Data\\death/death_42.mp4  death\n",
       "26    E:\\Project 103\\Data\\kill/kill_77.mp4   kill\n",
       "27  E:\\Project 103\\Data\\death/death_38.mp4  death\n",
       "28  E:\\Project 103\\Data\\death/death_87.mp4  death\n",
       "29    E:\\Project 103\\Data\\kill/kill_59.mp4   kill\n",
       "30    E:\\Project 103\\Data\\kill/kill_94.mp4   kill\n",
       "31  E:\\Project 103\\Data\\death/death_97.mp4  death\n",
       "32    E:\\Project 103\\Data\\kill/kill_86.mp4   kill\n",
       "33  E:\\Project 103\\Data\\death/death_22.mp4  death\n",
       "34  E:\\Project 103\\Data\\death/death_06.mp4  death\n",
       "35    E:\\Project 103\\Data\\kill/kill_75.mp4   kill\n",
       "36    E:\\Project 103\\Data\\kill/kill_89.mp4   kill\n",
       "37  E:\\Project 103\\Data\\death/death_35.mp4  death\n",
       "38  E:\\Project 103\\Data\\death/death_16.mp4  death\n",
       "39    E:\\Project 103\\Data\\kill/kill_14.mp4   kill"
      ]
     },
     "execution_count": 11,
     "metadata": {},
     "output_type": "execute_result"
    }
   ],
   "source": [
    "test"
   ]
  },
  {
   "cell_type": "code",
   "execution_count": 6,
   "metadata": {},
   "outputs": [
    {
     "data": {
      "text/html": [
       "<div>\n",
       "<style scoped>\n",
       "    .dataframe tbody tr th:only-of-type {\n",
       "        vertical-align: middle;\n",
       "    }\n",
       "\n",
       "    .dataframe tbody tr th {\n",
       "        vertical-align: top;\n",
       "    }\n",
       "\n",
       "    .dataframe thead th {\n",
       "        text-align: right;\n",
       "    }\n",
       "</style>\n",
       "<table border=\"1\" class=\"dataframe\">\n",
       "  <thead>\n",
       "    <tr style=\"text-align: right;\">\n",
       "      <th></th>\n",
       "      <th>Video_url</th>\n",
       "      <th>action</th>\n",
       "    </tr>\n",
       "  </thead>\n",
       "  <tbody>\n",
       "    <tr>\n",
       "      <th>0</th>\n",
       "      <td>E:\\Project 103\\Data\\kill/kill_70.mp4</td>\n",
       "      <td>kill</td>\n",
       "    </tr>\n",
       "    <tr>\n",
       "      <th>1</th>\n",
       "      <td>E:\\Project 103\\Data\\death/death_70.mp4</td>\n",
       "      <td>death</td>\n",
       "    </tr>\n",
       "    <tr>\n",
       "      <th>2</th>\n",
       "      <td>E:\\Project 103\\Data\\death/death_04.mp4</td>\n",
       "      <td>death</td>\n",
       "    </tr>\n",
       "    <tr>\n",
       "      <th>3</th>\n",
       "      <td>E:\\Project 103\\Data\\death/death_08.mp4</td>\n",
       "      <td>death</td>\n",
       "    </tr>\n",
       "    <tr>\n",
       "      <th>4</th>\n",
       "      <td>E:\\Project 103\\Data\\death/death_03.mp4</td>\n",
       "      <td>death</td>\n",
       "    </tr>\n",
       "    <tr>\n",
       "      <th>5</th>\n",
       "      <td>E:\\Project 103\\Data\\death/death_96.mp4</td>\n",
       "      <td>death</td>\n",
       "    </tr>\n",
       "    <tr>\n",
       "      <th>6</th>\n",
       "      <td>E:\\Project 103\\Data\\kill/kill_67.mp4</td>\n",
       "      <td>kill</td>\n",
       "    </tr>\n",
       "    <tr>\n",
       "      <th>7</th>\n",
       "      <td>E:\\Project 103\\Data\\kill/kill_73.mp4</td>\n",
       "      <td>kill</td>\n",
       "    </tr>\n",
       "    <tr>\n",
       "      <th>8</th>\n",
       "      <td>E:\\Project 103\\Data\\kill/kill_30.mp4</td>\n",
       "      <td>kill</td>\n",
       "    </tr>\n",
       "    <tr>\n",
       "      <th>9</th>\n",
       "      <td>E:\\Project 103\\Data\\kill/kill_99.mp4</td>\n",
       "      <td>kill</td>\n",
       "    </tr>\n",
       "    <tr>\n",
       "      <th>10</th>\n",
       "      <td>E:\\Project 103\\Data\\death/death_71.mp4</td>\n",
       "      <td>death</td>\n",
       "    </tr>\n",
       "    <tr>\n",
       "      <th>11</th>\n",
       "      <td>E:\\Project 103\\Data\\death/death_39.mp4</td>\n",
       "      <td>death</td>\n",
       "    </tr>\n",
       "    <tr>\n",
       "      <th>12</th>\n",
       "      <td>E:\\Project 103\\Data\\kill/kill_89.mp4</td>\n",
       "      <td>kill</td>\n",
       "    </tr>\n",
       "    <tr>\n",
       "      <th>13</th>\n",
       "      <td>E:\\Project 103\\Data\\kill/kill_53.mp4</td>\n",
       "      <td>kill</td>\n",
       "    </tr>\n",
       "    <tr>\n",
       "      <th>14</th>\n",
       "      <td>E:\\Project 103\\Data\\death/death_66.mp4</td>\n",
       "      <td>death</td>\n",
       "    </tr>\n",
       "    <tr>\n",
       "      <th>15</th>\n",
       "      <td>E:\\Project 103\\Data\\death/death_17.mp4</td>\n",
       "      <td>death</td>\n",
       "    </tr>\n",
       "    <tr>\n",
       "      <th>16</th>\n",
       "      <td>E:\\Project 103\\Data\\kill/kill_91.mp4</td>\n",
       "      <td>kill</td>\n",
       "    </tr>\n",
       "    <tr>\n",
       "      <th>17</th>\n",
       "      <td>E:\\Project 103\\Data\\kill/kill_02.mp4</td>\n",
       "      <td>kill</td>\n",
       "    </tr>\n",
       "    <tr>\n",
       "      <th>18</th>\n",
       "      <td>E:\\Project 103\\Data\\kill/kill_32.mp4</td>\n",
       "      <td>kill</td>\n",
       "    </tr>\n",
       "    <tr>\n",
       "      <th>19</th>\n",
       "      <td>E:\\Project 103\\Data\\kill/kill_71.mp4</td>\n",
       "      <td>kill</td>\n",
       "    </tr>\n",
       "    <tr>\n",
       "      <th>20</th>\n",
       "      <td>E:\\Project 103\\Data\\kill/kill_11.mp4</td>\n",
       "      <td>kill</td>\n",
       "    </tr>\n",
       "    <tr>\n",
       "      <th>21</th>\n",
       "      <td>E:\\Project 103\\Data\\kill/kill_22.mp4</td>\n",
       "      <td>kill</td>\n",
       "    </tr>\n",
       "    <tr>\n",
       "      <th>22</th>\n",
       "      <td>E:\\Project 103\\Data\\death/death_32.mp4</td>\n",
       "      <td>death</td>\n",
       "    </tr>\n",
       "    <tr>\n",
       "      <th>23</th>\n",
       "      <td>E:\\Project 103\\Data\\death/death_60.mp4</td>\n",
       "      <td>death</td>\n",
       "    </tr>\n",
       "    <tr>\n",
       "      <th>24</th>\n",
       "      <td>E:\\Project 103\\Data\\death/death_80.mp4</td>\n",
       "      <td>death</td>\n",
       "    </tr>\n",
       "    <tr>\n",
       "      <th>25</th>\n",
       "      <td>E:\\Project 103\\Data\\death/death_93.mp4</td>\n",
       "      <td>death</td>\n",
       "    </tr>\n",
       "    <tr>\n",
       "      <th>26</th>\n",
       "      <td>E:\\Project 103\\Data\\death/death_26.mp4</td>\n",
       "      <td>death</td>\n",
       "    </tr>\n",
       "    <tr>\n",
       "      <th>27</th>\n",
       "      <td>E:\\Project 103\\Data\\kill/kill_17.mp4</td>\n",
       "      <td>kill</td>\n",
       "    </tr>\n",
       "    <tr>\n",
       "      <th>28</th>\n",
       "      <td>E:\\Project 103\\Data\\kill/kill_79.mp4</td>\n",
       "      <td>kill</td>\n",
       "    </tr>\n",
       "    <tr>\n",
       "      <th>29</th>\n",
       "      <td>E:\\Project 103\\Data\\death/death_68.mp4</td>\n",
       "      <td>death</td>\n",
       "    </tr>\n",
       "    <tr>\n",
       "      <th>30</th>\n",
       "      <td>E:\\Project 103\\Data\\kill/kill_87.mp4</td>\n",
       "      <td>kill</td>\n",
       "    </tr>\n",
       "    <tr>\n",
       "      <th>31</th>\n",
       "      <td>E:\\Project 103\\Data\\kill/kill_61.mp4</td>\n",
       "      <td>kill</td>\n",
       "    </tr>\n",
       "    <tr>\n",
       "      <th>32</th>\n",
       "      <td>E:\\Project 103\\Data\\death/death_01.mp4</td>\n",
       "      <td>death</td>\n",
       "    </tr>\n",
       "    <tr>\n",
       "      <th>33</th>\n",
       "      <td>E:\\Project 103\\Data\\death/death_42.mp4</td>\n",
       "      <td>death</td>\n",
       "    </tr>\n",
       "    <tr>\n",
       "      <th>34</th>\n",
       "      <td>E:\\Project 103\\Data\\death/death_12.mp4</td>\n",
       "      <td>death</td>\n",
       "    </tr>\n",
       "    <tr>\n",
       "      <th>35</th>\n",
       "      <td>E:\\Project 103\\Data\\kill/kill_34.mp4</td>\n",
       "      <td>kill</td>\n",
       "    </tr>\n",
       "    <tr>\n",
       "      <th>36</th>\n",
       "      <td>E:\\Project 103\\Data\\kill/kill_92.mp4</td>\n",
       "      <td>kill</td>\n",
       "    </tr>\n",
       "    <tr>\n",
       "      <th>37</th>\n",
       "      <td>E:\\Project 103\\Data\\kill/kill_31.mp4</td>\n",
       "      <td>kill</td>\n",
       "    </tr>\n",
       "    <tr>\n",
       "      <th>38</th>\n",
       "      <td>E:\\Project 103\\Data\\death/death_78.mp4</td>\n",
       "      <td>death</td>\n",
       "    </tr>\n",
       "    <tr>\n",
       "      <th>39</th>\n",
       "      <td>E:\\Project 103\\Data\\death/death_85.mp4</td>\n",
       "      <td>death</td>\n",
       "    </tr>\n",
       "  </tbody>\n",
       "</table>\n",
       "</div>"
      ],
      "text/plain": [
       "                                 Video_url action\n",
       "0     E:\\Project 103\\Data\\kill/kill_70.mp4   kill\n",
       "1   E:\\Project 103\\Data\\death/death_70.mp4  death\n",
       "2   E:\\Project 103\\Data\\death/death_04.mp4  death\n",
       "3   E:\\Project 103\\Data\\death/death_08.mp4  death\n",
       "4   E:\\Project 103\\Data\\death/death_03.mp4  death\n",
       "5   E:\\Project 103\\Data\\death/death_96.mp4  death\n",
       "6     E:\\Project 103\\Data\\kill/kill_67.mp4   kill\n",
       "7     E:\\Project 103\\Data\\kill/kill_73.mp4   kill\n",
       "8     E:\\Project 103\\Data\\kill/kill_30.mp4   kill\n",
       "9     E:\\Project 103\\Data\\kill/kill_99.mp4   kill\n",
       "10  E:\\Project 103\\Data\\death/death_71.mp4  death\n",
       "11  E:\\Project 103\\Data\\death/death_39.mp4  death\n",
       "12    E:\\Project 103\\Data\\kill/kill_89.mp4   kill\n",
       "13    E:\\Project 103\\Data\\kill/kill_53.mp4   kill\n",
       "14  E:\\Project 103\\Data\\death/death_66.mp4  death\n",
       "15  E:\\Project 103\\Data\\death/death_17.mp4  death\n",
       "16    E:\\Project 103\\Data\\kill/kill_91.mp4   kill\n",
       "17    E:\\Project 103\\Data\\kill/kill_02.mp4   kill\n",
       "18    E:\\Project 103\\Data\\kill/kill_32.mp4   kill\n",
       "19    E:\\Project 103\\Data\\kill/kill_71.mp4   kill\n",
       "20    E:\\Project 103\\Data\\kill/kill_11.mp4   kill\n",
       "21    E:\\Project 103\\Data\\kill/kill_22.mp4   kill\n",
       "22  E:\\Project 103\\Data\\death/death_32.mp4  death\n",
       "23  E:\\Project 103\\Data\\death/death_60.mp4  death\n",
       "24  E:\\Project 103\\Data\\death/death_80.mp4  death\n",
       "25  E:\\Project 103\\Data\\death/death_93.mp4  death\n",
       "26  E:\\Project 103\\Data\\death/death_26.mp4  death\n",
       "27    E:\\Project 103\\Data\\kill/kill_17.mp4   kill\n",
       "28    E:\\Project 103\\Data\\kill/kill_79.mp4   kill\n",
       "29  E:\\Project 103\\Data\\death/death_68.mp4  death\n",
       "30    E:\\Project 103\\Data\\kill/kill_87.mp4   kill\n",
       "31    E:\\Project 103\\Data\\kill/kill_61.mp4   kill\n",
       "32  E:\\Project 103\\Data\\death/death_01.mp4  death\n",
       "33  E:\\Project 103\\Data\\death/death_42.mp4  death\n",
       "34  E:\\Project 103\\Data\\death/death_12.mp4  death\n",
       "35    E:\\Project 103\\Data\\kill/kill_34.mp4   kill\n",
       "36    E:\\Project 103\\Data\\kill/kill_92.mp4   kill\n",
       "37    E:\\Project 103\\Data\\kill/kill_31.mp4   kill\n",
       "38  E:\\Project 103\\Data\\death/death_78.mp4  death\n",
       "39  E:\\Project 103\\Data\\death/death_85.mp4  death"
      ]
     },
     "execution_count": 6,
     "metadata": {},
     "output_type": "execute_result"
    }
   ],
   "source": [
    "val"
   ]
  },
  {
   "cell_type": "code",
   "execution_count": 5,
   "metadata": {},
   "outputs": [
    {
     "name": "stdout",
     "output_type": "stream",
     "text": [
      "(120, 2)\n",
      "(40, 2)\n",
      "(40, 2)\n"
     ]
    }
   ],
   "source": [
    "print(train.shape)\n",
    "print(test.shape)\n",
    "print(val.shape)"
   ]
  },
  {
   "cell_type": "code",
   "execution_count": 8,
   "metadata": {},
   "outputs": [],
   "source": [
    "def convert_to_frame(data, folder_name):\n",
    "    '''\n",
    "    Generated filenames format dataset_path/folder_name/video_name_frame{number}_action.jpg\n",
    "    '''\n",
    "    directory = os.path.join(dataset_path, folder_name)\n",
    "    if not os.path.exists(directory):\n",
    "        os.makedirs(directory)\n",
    "    for i in tqdm(range(data.shape[0])):\n",
    "        video_file = data['Video_url'][i]\n",
    "        action = data['action'][i]\n",
    "        video_name_list = video_file.split('/')[-1].split('.')\n",
    "        video_name_list = video_name_list[:-1]\n",
    "        video_name = \"\"\n",
    "        for n in video_name_list:\n",
    "            video_name += n\n",
    "        # capturing the video from the given path\n",
    "        capture = cv2.VideoCapture(video_file) \n",
    "        #frame rate\n",
    "        frame_rate = capture.get(5)\n",
    "        count = 0\n",
    "        while(capture.isOpened()):\n",
    "            #current frame number\n",
    "            frame_id = capture.get(1) \n",
    "            read_correctly, frame = capture.read()\n",
    "            if not read_correctly:\n",
    "                break\n",
    "            if (frame_id % math.floor(frame_rate) == 0):\n",
    "                # storing the frames in a new folder named train_1\n",
    "                filename = directory + \"/\" + video_name + \"_frame{}_\".format(count) + action +\".jpg\"\n",
    "                count += 1\n",
    "                cv2.imwrite(filename, frame)\n",
    "        capture.release()\n",
    "    print(\"Successfully Converted\")"
   ]
  },
  {
   "cell_type": "code",
   "execution_count": 61,
   "metadata": {},
   "outputs": [
    {
     "name": "stderr",
     "output_type": "stream",
     "text": [
      "100%|████████████████████████████████████████████████████████████████████████████████| 120/120 [01:08<00:00,  1.75it/s]"
     ]
    },
    {
     "name": "stdout",
     "output_type": "stream",
     "text": [
      "Successfully Converted\n"
     ]
    },
    {
     "name": "stderr",
     "output_type": "stream",
     "text": [
      "\n"
     ]
    }
   ],
   "source": [
    "convert_to_frame(train, train_frames_path_name)"
   ]
  },
  {
   "cell_type": "code",
   "execution_count": 62,
   "metadata": {},
   "outputs": [
    {
     "name": "stderr",
     "output_type": "stream",
     "text": [
      "100%|██████████████████████████████████████████████████████████████████████████████████| 40/40 [00:25<00:00,  1.59it/s]"
     ]
    },
    {
     "name": "stdout",
     "output_type": "stream",
     "text": [
      "Successfully Converted\n"
     ]
    },
    {
     "name": "stderr",
     "output_type": "stream",
     "text": [
      "\n"
     ]
    }
   ],
   "source": [
    "convert_to_frame(val, val_frames_path_name)"
   ]
  },
  {
   "cell_type": "code",
   "execution_count": 6,
   "metadata": {},
   "outputs": [],
   "source": [
    "def create_paths_csv(directory, file_name):\n",
    "    images = os.listdir(directory)\n",
    "    images_path_list = []\n",
    "    images_action_list = [] \n",
    "    for image in images:\n",
    "        images_path_list.append(directory + image)\n",
    "        images_action_list.append(image.split('.')[0].split('_')[-1])\n",
    "    df = pd.DataFrame()\n",
    "    df['image'] = images_path_list\n",
    "    df['action'] = images_action_list\n",
    "    print(os.path.join(dataset_path, file_name+'.csv'))\n",
    "    df.to_csv(os.path.join(dataset_path, file_name+'.csv'), index=False)"
   ]
  },
  {
   "cell_type": "code",
   "execution_count": 7,
   "metadata": {},
   "outputs": [
    {
     "name": "stdout",
     "output_type": "stream",
     "text": [
      "E:\\Project 103\\Data\\train_frames.csv\n"
     ]
    }
   ],
   "source": [
    "create_paths_csv(train_frames_path, train_frames_path_name)"
   ]
  },
  {
   "cell_type": "code",
   "execution_count": 8,
   "metadata": {},
   "outputs": [
    {
     "name": "stdout",
     "output_type": "stream",
     "text": [
      "E:\\Project 103\\Data\\val_frames.csv\n"
     ]
    }
   ],
   "source": [
    "create_paths_csv(val_frames_path, val_frames_path_name)"
   ]
  },
  {
   "cell_type": "code",
   "execution_count": 9,
   "metadata": {},
   "outputs": [
    {
     "data": {
      "text/html": [
       "<div>\n",
       "<style scoped>\n",
       "    .dataframe tbody tr th:only-of-type {\n",
       "        vertical-align: middle;\n",
       "    }\n",
       "\n",
       "    .dataframe tbody tr th {\n",
       "        vertical-align: top;\n",
       "    }\n",
       "\n",
       "    .dataframe thead th {\n",
       "        text-align: right;\n",
       "    }\n",
       "</style>\n",
       "<table border=\"1\" class=\"dataframe\">\n",
       "  <thead>\n",
       "    <tr style=\"text-align: right;\">\n",
       "      <th></th>\n",
       "      <th>image</th>\n",
       "      <th>action</th>\n",
       "    </tr>\n",
       "  </thead>\n",
       "  <tbody>\n",
       "    <tr>\n",
       "      <th>0</th>\n",
       "      <td>E:\\Project 103\\Data\\train_frames\\death_02_fram...</td>\n",
       "      <td>death</td>\n",
       "    </tr>\n",
       "    <tr>\n",
       "      <th>1</th>\n",
       "      <td>E:\\Project 103\\Data\\train_frames\\death_02_fram...</td>\n",
       "      <td>death</td>\n",
       "    </tr>\n",
       "    <tr>\n",
       "      <th>2</th>\n",
       "      <td>E:\\Project 103\\Data\\train_frames\\death_02_fram...</td>\n",
       "      <td>death</td>\n",
       "    </tr>\n",
       "    <tr>\n",
       "      <th>3</th>\n",
       "      <td>E:\\Project 103\\Data\\train_frames\\death_02_fram...</td>\n",
       "      <td>death</td>\n",
       "    </tr>\n",
       "    <tr>\n",
       "      <th>4</th>\n",
       "      <td>E:\\Project 103\\Data\\train_frames\\death_05_fram...</td>\n",
       "      <td>death</td>\n",
       "    </tr>\n",
       "    <tr>\n",
       "      <th>...</th>\n",
       "      <td>...</td>\n",
       "      <td>...</td>\n",
       "    </tr>\n",
       "    <tr>\n",
       "      <th>401</th>\n",
       "      <td>E:\\Project 103\\Data\\train_frames\\kill_98_frame...</td>\n",
       "      <td>kill</td>\n",
       "    </tr>\n",
       "    <tr>\n",
       "      <th>402</th>\n",
       "      <td>E:\\Project 103\\Data\\train_frames\\kill_9_frame0...</td>\n",
       "      <td>kill</td>\n",
       "    </tr>\n",
       "    <tr>\n",
       "      <th>403</th>\n",
       "      <td>E:\\Project 103\\Data\\train_frames\\kill_9_frame1...</td>\n",
       "      <td>kill</td>\n",
       "    </tr>\n",
       "    <tr>\n",
       "      <th>404</th>\n",
       "      <td>E:\\Project 103\\Data\\train_frames\\kill_9_frame2...</td>\n",
       "      <td>kill</td>\n",
       "    </tr>\n",
       "    <tr>\n",
       "      <th>405</th>\n",
       "      <td>E:\\Project 103\\Data\\train_frames\\kill_9_frame3...</td>\n",
       "      <td>kill</td>\n",
       "    </tr>\n",
       "  </tbody>\n",
       "</table>\n",
       "<p>406 rows × 2 columns</p>\n",
       "</div>"
      ],
      "text/plain": [
       "                                                 image action\n",
       "0    E:\\Project 103\\Data\\train_frames\\death_02_fram...  death\n",
       "1    E:\\Project 103\\Data\\train_frames\\death_02_fram...  death\n",
       "2    E:\\Project 103\\Data\\train_frames\\death_02_fram...  death\n",
       "3    E:\\Project 103\\Data\\train_frames\\death_02_fram...  death\n",
       "4    E:\\Project 103\\Data\\train_frames\\death_05_fram...  death\n",
       "..                                                 ...    ...\n",
       "401  E:\\Project 103\\Data\\train_frames\\kill_98_frame...   kill\n",
       "402  E:\\Project 103\\Data\\train_frames\\kill_9_frame0...   kill\n",
       "403  E:\\Project 103\\Data\\train_frames\\kill_9_frame1...   kill\n",
       "404  E:\\Project 103\\Data\\train_frames\\kill_9_frame2...   kill\n",
       "405  E:\\Project 103\\Data\\train_frames\\kill_9_frame3...   kill\n",
       "\n",
       "[406 rows x 2 columns]"
      ]
     },
     "execution_count": 9,
     "metadata": {},
     "output_type": "execute_result"
    }
   ],
   "source": [
    "train_image = pd.read_csv(os.path.join(dataset_path, 'train_frames.csv'))\n",
    "train_image"
   ]
  },
  {
   "cell_type": "code",
   "execution_count": 10,
   "metadata": {},
   "outputs": [
    {
     "name": "stdout",
     "output_type": "stream",
     "text": [
      "(406, 2)\n"
     ]
    }
   ],
   "source": [
    "print(train_image.shape)"
   ]
  },
  {
   "cell_type": "code",
   "execution_count": 11,
   "metadata": {},
   "outputs": [
    {
     "data": {
      "text/html": [
       "<div>\n",
       "<style scoped>\n",
       "    .dataframe tbody tr th:only-of-type {\n",
       "        vertical-align: middle;\n",
       "    }\n",
       "\n",
       "    .dataframe tbody tr th {\n",
       "        vertical-align: top;\n",
       "    }\n",
       "\n",
       "    .dataframe thead th {\n",
       "        text-align: right;\n",
       "    }\n",
       "</style>\n",
       "<table border=\"1\" class=\"dataframe\">\n",
       "  <thead>\n",
       "    <tr style=\"text-align: right;\">\n",
       "      <th></th>\n",
       "      <th>image</th>\n",
       "      <th>action</th>\n",
       "    </tr>\n",
       "  </thead>\n",
       "  <tbody>\n",
       "    <tr>\n",
       "      <th>0</th>\n",
       "      <td>E:\\Project 103\\Data\\val_frames\\death_01_frame0...</td>\n",
       "      <td>death</td>\n",
       "    </tr>\n",
       "    <tr>\n",
       "      <th>1</th>\n",
       "      <td>E:\\Project 103\\Data\\val_frames\\death_01_frame1...</td>\n",
       "      <td>death</td>\n",
       "    </tr>\n",
       "    <tr>\n",
       "      <th>2</th>\n",
       "      <td>E:\\Project 103\\Data\\val_frames\\death_01_frame2...</td>\n",
       "      <td>death</td>\n",
       "    </tr>\n",
       "    <tr>\n",
       "      <th>3</th>\n",
       "      <td>E:\\Project 103\\Data\\val_frames\\death_01_frame3...</td>\n",
       "      <td>death</td>\n",
       "    </tr>\n",
       "    <tr>\n",
       "      <th>4</th>\n",
       "      <td>E:\\Project 103\\Data\\val_frames\\death_01_frame4...</td>\n",
       "      <td>death</td>\n",
       "    </tr>\n",
       "    <tr>\n",
       "      <th>...</th>\n",
       "      <td>...</td>\n",
       "      <td>...</td>\n",
       "    </tr>\n",
       "    <tr>\n",
       "      <th>127</th>\n",
       "      <td>E:\\Project 103\\Data\\val_frames\\kill_92_frame1_...</td>\n",
       "      <td>kill</td>\n",
       "    </tr>\n",
       "    <tr>\n",
       "      <th>128</th>\n",
       "      <td>E:\\Project 103\\Data\\val_frames\\kill_92_frame2_...</td>\n",
       "      <td>kill</td>\n",
       "    </tr>\n",
       "    <tr>\n",
       "      <th>129</th>\n",
       "      <td>E:\\Project 103\\Data\\val_frames\\kill_99_frame0_...</td>\n",
       "      <td>kill</td>\n",
       "    </tr>\n",
       "    <tr>\n",
       "      <th>130</th>\n",
       "      <td>E:\\Project 103\\Data\\val_frames\\kill_99_frame1_...</td>\n",
       "      <td>kill</td>\n",
       "    </tr>\n",
       "    <tr>\n",
       "      <th>131</th>\n",
       "      <td>E:\\Project 103\\Data\\val_frames\\kill_99_frame2_...</td>\n",
       "      <td>kill</td>\n",
       "    </tr>\n",
       "  </tbody>\n",
       "</table>\n",
       "<p>132 rows × 2 columns</p>\n",
       "</div>"
      ],
      "text/plain": [
       "                                                 image action\n",
       "0    E:\\Project 103\\Data\\val_frames\\death_01_frame0...  death\n",
       "1    E:\\Project 103\\Data\\val_frames\\death_01_frame1...  death\n",
       "2    E:\\Project 103\\Data\\val_frames\\death_01_frame2...  death\n",
       "3    E:\\Project 103\\Data\\val_frames\\death_01_frame3...  death\n",
       "4    E:\\Project 103\\Data\\val_frames\\death_01_frame4...  death\n",
       "..                                                 ...    ...\n",
       "127  E:\\Project 103\\Data\\val_frames\\kill_92_frame1_...   kill\n",
       "128  E:\\Project 103\\Data\\val_frames\\kill_92_frame2_...   kill\n",
       "129  E:\\Project 103\\Data\\val_frames\\kill_99_frame0_...   kill\n",
       "130  E:\\Project 103\\Data\\val_frames\\kill_99_frame1_...   kill\n",
       "131  E:\\Project 103\\Data\\val_frames\\kill_99_frame2_...   kill\n",
       "\n",
       "[132 rows x 2 columns]"
      ]
     },
     "execution_count": 11,
     "metadata": {},
     "output_type": "execute_result"
    }
   ],
   "source": [
    "val_image = pd.read_csv(os.path.join(dataset_path, 'val_frames.csv'))\n",
    "val_image"
   ]
  },
  {
   "cell_type": "code",
   "execution_count": 12,
   "metadata": {},
   "outputs": [
    {
     "name": "stdout",
     "output_type": "stream",
     "text": [
      "(132, 2)\n"
     ]
    }
   ],
   "source": [
    "print(val_image.shape)"
   ]
  },
  {
   "cell_type": "code",
   "execution_count": 13,
   "metadata": {},
   "outputs": [
    {
     "data": {
      "text/plain": [
       "['death', 'kill']"
      ]
     },
     "execution_count": 13,
     "metadata": {},
     "output_type": "execute_result"
    }
   ],
   "source": [
    "action_values = list(train_image['action'].unique())\n",
    "action_values"
   ]
  },
  {
   "cell_type": "code",
   "execution_count": 14,
   "metadata": {},
   "outputs": [],
   "source": [
    "def create_class_columns(df):\n",
    "    for value in action_values:\n",
    "        df[value] = np.where(df['action'].str.contains(value), 1, 0)\n",
    "    df.drop('action', axis='columns', inplace=True)"
   ]
  },
  {
   "cell_type": "code",
   "execution_count": 15,
   "metadata": {},
   "outputs": [
    {
     "data": {
      "text/html": [
       "<div>\n",
       "<style scoped>\n",
       "    .dataframe tbody tr th:only-of-type {\n",
       "        vertical-align: middle;\n",
       "    }\n",
       "\n",
       "    .dataframe tbody tr th {\n",
       "        vertical-align: top;\n",
       "    }\n",
       "\n",
       "    .dataframe thead th {\n",
       "        text-align: right;\n",
       "    }\n",
       "</style>\n",
       "<table border=\"1\" class=\"dataframe\">\n",
       "  <thead>\n",
       "    <tr style=\"text-align: right;\">\n",
       "      <th></th>\n",
       "      <th>image</th>\n",
       "      <th>death</th>\n",
       "      <th>kill</th>\n",
       "    </tr>\n",
       "  </thead>\n",
       "  <tbody>\n",
       "    <tr>\n",
       "      <th>0</th>\n",
       "      <td>E:\\Project 103\\Data\\train_frames\\death_02_fram...</td>\n",
       "      <td>1</td>\n",
       "      <td>0</td>\n",
       "    </tr>\n",
       "    <tr>\n",
       "      <th>1</th>\n",
       "      <td>E:\\Project 103\\Data\\train_frames\\death_02_fram...</td>\n",
       "      <td>1</td>\n",
       "      <td>0</td>\n",
       "    </tr>\n",
       "    <tr>\n",
       "      <th>2</th>\n",
       "      <td>E:\\Project 103\\Data\\train_frames\\death_02_fram...</td>\n",
       "      <td>1</td>\n",
       "      <td>0</td>\n",
       "    </tr>\n",
       "    <tr>\n",
       "      <th>3</th>\n",
       "      <td>E:\\Project 103\\Data\\train_frames\\death_02_fram...</td>\n",
       "      <td>1</td>\n",
       "      <td>0</td>\n",
       "    </tr>\n",
       "    <tr>\n",
       "      <th>4</th>\n",
       "      <td>E:\\Project 103\\Data\\train_frames\\death_05_fram...</td>\n",
       "      <td>1</td>\n",
       "      <td>0</td>\n",
       "    </tr>\n",
       "  </tbody>\n",
       "</table>\n",
       "</div>"
      ],
      "text/plain": [
       "                                               image  death  kill\n",
       "0  E:\\Project 103\\Data\\train_frames\\death_02_fram...      1     0\n",
       "1  E:\\Project 103\\Data\\train_frames\\death_02_fram...      1     0\n",
       "2  E:\\Project 103\\Data\\train_frames\\death_02_fram...      1     0\n",
       "3  E:\\Project 103\\Data\\train_frames\\death_02_fram...      1     0\n",
       "4  E:\\Project 103\\Data\\train_frames\\death_05_fram...      1     0"
      ]
     },
     "execution_count": 15,
     "metadata": {},
     "output_type": "execute_result"
    }
   ],
   "source": [
    "create_class_columns(train_image)\n",
    "train_image.head()"
   ]
  },
  {
   "cell_type": "code",
   "execution_count": 16,
   "metadata": {},
   "outputs": [
    {
     "data": {
      "text/html": [
       "<div>\n",
       "<style scoped>\n",
       "    .dataframe tbody tr th:only-of-type {\n",
       "        vertical-align: middle;\n",
       "    }\n",
       "\n",
       "    .dataframe tbody tr th {\n",
       "        vertical-align: top;\n",
       "    }\n",
       "\n",
       "    .dataframe thead th {\n",
       "        text-align: right;\n",
       "    }\n",
       "</style>\n",
       "<table border=\"1\" class=\"dataframe\">\n",
       "  <thead>\n",
       "    <tr style=\"text-align: right;\">\n",
       "      <th></th>\n",
       "      <th>image</th>\n",
       "      <th>death</th>\n",
       "      <th>kill</th>\n",
       "    </tr>\n",
       "  </thead>\n",
       "  <tbody>\n",
       "    <tr>\n",
       "      <th>0</th>\n",
       "      <td>E:\\Project 103\\Data\\val_frames\\death_01_frame0...</td>\n",
       "      <td>1</td>\n",
       "      <td>0</td>\n",
       "    </tr>\n",
       "    <tr>\n",
       "      <th>1</th>\n",
       "      <td>E:\\Project 103\\Data\\val_frames\\death_01_frame1...</td>\n",
       "      <td>1</td>\n",
       "      <td>0</td>\n",
       "    </tr>\n",
       "    <tr>\n",
       "      <th>2</th>\n",
       "      <td>E:\\Project 103\\Data\\val_frames\\death_01_frame2...</td>\n",
       "      <td>1</td>\n",
       "      <td>0</td>\n",
       "    </tr>\n",
       "    <tr>\n",
       "      <th>3</th>\n",
       "      <td>E:\\Project 103\\Data\\val_frames\\death_01_frame3...</td>\n",
       "      <td>1</td>\n",
       "      <td>0</td>\n",
       "    </tr>\n",
       "    <tr>\n",
       "      <th>4</th>\n",
       "      <td>E:\\Project 103\\Data\\val_frames\\death_01_frame4...</td>\n",
       "      <td>1</td>\n",
       "      <td>0</td>\n",
       "    </tr>\n",
       "  </tbody>\n",
       "</table>\n",
       "</div>"
      ],
      "text/plain": [
       "                                               image  death  kill\n",
       "0  E:\\Project 103\\Data\\val_frames\\death_01_frame0...      1     0\n",
       "1  E:\\Project 103\\Data\\val_frames\\death_01_frame1...      1     0\n",
       "2  E:\\Project 103\\Data\\val_frames\\death_01_frame2...      1     0\n",
       "3  E:\\Project 103\\Data\\val_frames\\death_01_frame3...      1     0\n",
       "4  E:\\Project 103\\Data\\val_frames\\death_01_frame4...      1     0"
      ]
     },
     "execution_count": 16,
     "metadata": {},
     "output_type": "execute_result"
    }
   ],
   "source": [
    "create_class_columns(val_image)\n",
    "val_image.head()"
   ]
  },
  {
   "cell_type": "code",
   "execution_count": 17,
   "metadata": {},
   "outputs": [],
   "source": [
    "def convert_to_array_and_split(image_data):\n",
    "    image_value = []\n",
    "    for i in tqdm(range(image_data.shape[0])):\n",
    "        img = image.load_img(image_data['image'][i], target_size=(224,224,3))\n",
    "        img = image.img_to_array(img)\n",
    "        # normalizing the pixel value\n",
    "        img = img / 255\n",
    "        image_value.append(img)\n",
    "\n",
    "    X = np.array(image_value)\n",
    "    y = image_data\n",
    "    y.drop('image', axis='columns', inplace=True)\n",
    "    return X, y"
   ]
  },
  {
   "cell_type": "code",
   "execution_count": 18,
   "metadata": {},
   "outputs": [
    {
     "name": "stderr",
     "output_type": "stream",
     "text": [
      "100%|████████████████████████████████████████████████████████████████████████████████| 406/406 [00:10<00:00, 39.85it/s]\n"
     ]
    },
    {
     "name": "stdout",
     "output_type": "stream",
     "text": [
      "(406, 224, 224, 3)\n"
     ]
    }
   ],
   "source": [
    "X_train, y_train = convert_to_array_and_split(train_image)\n",
    "print(X_train.shape)"
   ]
  },
  {
   "cell_type": "code",
   "execution_count": 19,
   "metadata": {},
   "outputs": [
    {
     "name": "stderr",
     "output_type": "stream",
     "text": [
      "100%|████████████████████████████████████████████████████████████████████████████████| 132/132 [00:04<00:00, 26.56it/s]"
     ]
    },
    {
     "name": "stdout",
     "output_type": "stream",
     "text": [
      "(132, 224, 224, 3)\n"
     ]
    },
    {
     "name": "stderr",
     "output_type": "stream",
     "text": [
      "\n"
     ]
    }
   ],
   "source": [
    "X_val, y_val = convert_to_array_and_split(val_image)\n",
    "print(X_val.shape)"
   ]
  },
  {
   "cell_type": "code",
   "execution_count": 26,
   "metadata": {},
   "outputs": [],
   "source": [
    "X_train_set_copy = X_train\n",
    "X_val_set_copy = X_val"
   ]
  },
  {
   "cell_type": "code",
   "execution_count": 193,
   "metadata": {},
   "outputs": [],
   "source": [
    "X_train = X_train_set_copy\n",
    "X_val = X_val_set_copy"
   ]
  },
  {
   "cell_type": "code",
   "execution_count": 78,
   "metadata": {},
   "outputs": [
    {
     "data": {
      "text/html": [
       "<div>\n",
       "<style scoped>\n",
       "    .dataframe tbody tr th:only-of-type {\n",
       "        vertical-align: middle;\n",
       "    }\n",
       "\n",
       "    .dataframe tbody tr th {\n",
       "        vertical-align: top;\n",
       "    }\n",
       "\n",
       "    .dataframe thead th {\n",
       "        text-align: right;\n",
       "    }\n",
       "</style>\n",
       "<table border=\"1\" class=\"dataframe\">\n",
       "  <thead>\n",
       "    <tr style=\"text-align: right;\">\n",
       "      <th></th>\n",
       "      <th>death</th>\n",
       "      <th>kill</th>\n",
       "    </tr>\n",
       "  </thead>\n",
       "  <tbody>\n",
       "    <tr>\n",
       "      <th>0</th>\n",
       "      <td>1</td>\n",
       "      <td>0</td>\n",
       "    </tr>\n",
       "    <tr>\n",
       "      <th>1</th>\n",
       "      <td>1</td>\n",
       "      <td>0</td>\n",
       "    </tr>\n",
       "    <tr>\n",
       "      <th>2</th>\n",
       "      <td>1</td>\n",
       "      <td>0</td>\n",
       "    </tr>\n",
       "    <tr>\n",
       "      <th>3</th>\n",
       "      <td>1</td>\n",
       "      <td>0</td>\n",
       "    </tr>\n",
       "    <tr>\n",
       "      <th>4</th>\n",
       "      <td>1</td>\n",
       "      <td>0</td>\n",
       "    </tr>\n",
       "  </tbody>\n",
       "</table>\n",
       "</div>"
      ],
      "text/plain": [
       "   death  kill\n",
       "0      1     0\n",
       "1      1     0\n",
       "2      1     0\n",
       "3      1     0\n",
       "4      1     0"
      ]
     },
     "execution_count": 78,
     "metadata": {},
     "output_type": "execute_result"
    }
   ],
   "source": [
    "y_train.head()"
   ]
  },
  {
   "cell_type": "code",
   "execution_count": 79,
   "metadata": {},
   "outputs": [
    {
     "data": {
      "text/html": [
       "<div>\n",
       "<style scoped>\n",
       "    .dataframe tbody tr th:only-of-type {\n",
       "        vertical-align: middle;\n",
       "    }\n",
       "\n",
       "    .dataframe tbody tr th {\n",
       "        vertical-align: top;\n",
       "    }\n",
       "\n",
       "    .dataframe thead th {\n",
       "        text-align: right;\n",
       "    }\n",
       "</style>\n",
       "<table border=\"1\" class=\"dataframe\">\n",
       "  <thead>\n",
       "    <tr style=\"text-align: right;\">\n",
       "      <th></th>\n",
       "      <th>death</th>\n",
       "      <th>kill</th>\n",
       "    </tr>\n",
       "  </thead>\n",
       "  <tbody>\n",
       "    <tr>\n",
       "      <th>0</th>\n",
       "      <td>1</td>\n",
       "      <td>0</td>\n",
       "    </tr>\n",
       "    <tr>\n",
       "      <th>1</th>\n",
       "      <td>1</td>\n",
       "      <td>0</td>\n",
       "    </tr>\n",
       "    <tr>\n",
       "      <th>2</th>\n",
       "      <td>1</td>\n",
       "      <td>0</td>\n",
       "    </tr>\n",
       "    <tr>\n",
       "      <th>3</th>\n",
       "      <td>1</td>\n",
       "      <td>0</td>\n",
       "    </tr>\n",
       "    <tr>\n",
       "      <th>4</th>\n",
       "      <td>1</td>\n",
       "      <td>0</td>\n",
       "    </tr>\n",
       "  </tbody>\n",
       "</table>\n",
       "</div>"
      ],
      "text/plain": [
       "   death  kill\n",
       "0      1     0\n",
       "1      1     0\n",
       "2      1     0\n",
       "3      1     0\n",
       "4      1     0"
      ]
     },
     "execution_count": 79,
     "metadata": {},
     "output_type": "execute_result"
    }
   ],
   "source": [
    "y_val.head()"
   ]
  },
  {
   "cell_type": "code",
   "execution_count": 27,
   "metadata": {},
   "outputs": [
    {
     "data": {
      "text/plain": [
       "(406, 7, 7, 2048)"
      ]
     },
     "execution_count": 27,
     "metadata": {},
     "output_type": "execute_result"
    }
   ],
   "source": [
    "X_train.shape"
   ]
  },
  {
   "cell_type": "markdown",
   "metadata": {},
   "source": [
    "### Processing With Pre-trained VGG16 with imagenet weight"
   ]
  },
  {
   "cell_type": "code",
   "execution_count": 28,
   "metadata": {},
   "outputs": [],
   "source": [
    "from tensorflow.keras.applications.xception import Xception\n",
    "'''This model was trained on a dataset that has 1,000 classes. \n",
    "include_top = False will remove the last layer of this model so that we can tune it as per our need.\n",
    "'''\n",
    "base_model = Xception(weights='imagenet', include_top=False)"
   ]
  },
  {
   "cell_type": "code",
   "execution_count": 23,
   "metadata": {},
   "outputs": [
    {
     "data": {
      "text/plain": [
       "(406, 7, 7, 2048)"
      ]
     },
     "execution_count": 23,
     "metadata": {},
     "output_type": "execute_result"
    }
   ],
   "source": [
    "# extracting features for training frames\n",
    "X_train = base_model.predict(X_train)\n",
    "X_train.shape"
   ]
  },
  {
   "cell_type": "code",
   "execution_count": 24,
   "metadata": {},
   "outputs": [
    {
     "data": {
      "text/plain": [
       "(406, 7, 7, 2048)"
      ]
     },
     "execution_count": 24,
     "metadata": {},
     "output_type": "execute_result"
    }
   ],
   "source": [
    "X_train.shape"
   ]
  },
  {
   "cell_type": "code",
   "execution_count": 25,
   "metadata": {},
   "outputs": [
    {
     "data": {
      "text/plain": [
       "(132, 7, 7, 2048)"
      ]
     },
     "execution_count": 25,
     "metadata": {},
     "output_type": "execute_result"
    }
   ],
   "source": [
    "X_val = base_model.predict(X_val)\n",
    "X_val.shape"
   ]
  },
  {
   "cell_type": "code",
   "execution_count": 28,
   "metadata": {},
   "outputs": [],
   "source": [
    "X_train_copy = X_train\n",
    "X_val_copy = X_val"
   ]
  },
  {
   "cell_type": "code",
   "execution_count": 194,
   "metadata": {},
   "outputs": [],
   "source": [
    "X_train = X_train_copy\n",
    "X_val = X_val_copy"
   ]
  },
  {
   "cell_type": "code",
   "execution_count": 29,
   "metadata": {},
   "outputs": [],
   "source": [
    "# reshaping the training as well as validation frames in single dimension\n",
    "X_train = X_train.reshape(X_train.shape[0], 7*7*2048)\n",
    "X_val = X_val.reshape(X_val.shape[0], 7*7*2048)"
   ]
  },
  {
   "cell_type": "code",
   "execution_count": 139,
   "metadata": {},
   "outputs": [],
   "source": [
    "X_train2 = X_train.reshape(X_train.shape[0], 7*7, 2048)\n",
    "X_val2 = X_val.reshape(X_val.shape[0], 7*7, 2048)"
   ]
  },
  {
   "cell_type": "code",
   "execution_count": 30,
   "metadata": {},
   "outputs": [
    {
     "name": "stdout",
     "output_type": "stream",
     "text": [
      "(406, 100352)\n",
      "(132, 100352)\n"
     ]
    }
   ],
   "source": [
    "# normalizing the pixel values\n",
    "max_pixel = X_train.max()\n",
    "X_train = X_train / max_pixel\n",
    "X_val = X_val / max_pixel\n",
    "print(X_train.shape)\n",
    "print(X_val.shape)"
   ]
  },
  {
   "cell_type": "code",
   "execution_count": 140,
   "metadata": {},
   "outputs": [
    {
     "name": "stdout",
     "output_type": "stream",
     "text": [
      "(406, 49, 2048)\n",
      "(132, 49, 2048)\n"
     ]
    }
   ],
   "source": [
    "# normalizing the pixel values\n",
    "max_pixel = X_train2.max()\n",
    "X_train2 = X_train2 / max_pixel\n",
    "X_val2 = X_val2 / max_pixel\n",
    "print(X_train2.shape)\n",
    "print(X_val2.shape)"
   ]
  },
  {
   "cell_type": "code",
   "execution_count": 32,
   "metadata": {},
   "outputs": [],
   "source": [
    "import keras_tuner as kt\n",
    "from tensorflow import keras\n",
    "from keras_tuner.tuners import RandomSearch"
   ]
  },
  {
   "cell_type": "code",
   "execution_count": 141,
   "metadata": {},
   "outputs": [
    {
     "data": {
      "text/plain": [
       "(406, 49, 2048)"
      ]
     },
     "execution_count": 141,
     "metadata": {},
     "output_type": "execute_result"
    }
   ],
   "source": [
    "X_train2.shape"
   ]
  },
  {
   "cell_type": "code",
   "execution_count": 40,
   "metadata": {},
   "outputs": [],
   "source": [
    "def build_model(hp):\n",
    "    model = keras.Sequential()\n",
    "    for i in range(hp.Int('num_layers', 2, 20)):\n",
    "        model.add(Dense(units=hp.Int('units_' + str(i),\n",
    "                                            min_value=8,\n",
    "                                            max_value=1500,\n",
    "                                            step=32),\n",
    "                               activation='relu'))\n",
    "    model.add(Dense(2, activation='softmax'))\n",
    "    model.compile(\n",
    "        optimizer=keras.optimizers.Adam(\n",
    "            hp.Choice('learning_rate', [1e-1, 1e-2, 1e-3, 1e-4])),\n",
    "        loss='categorical_crossentropy',\n",
    "        metrics=['accuracy'])\n",
    "    return model"
   ]
  },
  {
   "cell_type": "code",
   "execution_count": 38,
   "metadata": {},
   "outputs": [
    {
     "name": "stdout",
     "output_type": "stream",
     "text": [
      "INFO:tensorflow:Reloading Oracle from existing project .\\untitled_project\\oracle.json\n",
      "INFO:tensorflow:Reloading Tuner from .\\untitled_project\\tuner0.json\n"
     ]
    }
   ],
   "source": [
    "tuner = RandomSearch(\n",
    "    build_model,\n",
    "    objective='val_loss',\n",
    "    max_trials=5)\n",
    "    #executions_per_trial=3)\n",
    "    #directory='project',\n",
    "    #project_name='Air Quality Index')"
   ]
  },
  {
   "cell_type": "markdown",
   "metadata": {},
   "source": [
    "### Deep Neural Network model with 5 layers and3 output neurons"
   ]
  },
  {
   "cell_type": "code",
   "execution_count": 31,
   "metadata": {},
   "outputs": [
    {
     "name": "stdout",
     "output_type": "stream",
     "text": [
      "Model: \"sequential\"\n",
      "_________________________________________________________________\n",
      "Layer (type)                 Output Shape              Param #   \n",
      "=================================================================\n",
      "dense (Dense)                (None, 1024)              102761472 \n",
      "_________________________________________________________________\n",
      "dropout (Dropout)            (None, 1024)              0         \n",
      "_________________________________________________________________\n",
      "dense_1 (Dense)              (None, 512)               524800    \n",
      "_________________________________________________________________\n",
      "dropout_1 (Dropout)          (None, 512)               0         \n",
      "_________________________________________________________________\n",
      "dense_2 (Dense)              (None, 256)               131328    \n",
      "_________________________________________________________________\n",
      "dropout_2 (Dropout)          (None, 256)               0         \n",
      "_________________________________________________________________\n",
      "dense_3 (Dense)              (None, 128)               32896     \n",
      "_________________________________________________________________\n",
      "dropout_3 (Dropout)          (None, 128)               0         \n",
      "_________________________________________________________________\n",
      "dense_4 (Dense)              (None, 2)                 258       \n",
      "=================================================================\n",
      "Total params: 103,450,754\n",
      "Trainable params: 103,450,754\n",
      "Non-trainable params: 0\n",
      "_________________________________________________________________\n"
     ]
    }
   ],
   "source": [
    "\n",
    "  #model.add(keras.layers.Dense(\n",
    "      #hp.Choice('units', [8, 16, 32]),\n",
    "      #activation='relu'))\n",
    "  #model.add(keras.layers.Dense(1, activation='relu'))\n",
    "  #model.compile(loss='mse')\n",
    "  #return model\n",
    "    # The input shape will be 25,088\n",
    "model = Sequential()\n",
    "model.add(Dense(1024, activation='relu', input_shape=(100352,)))\n",
    "model.add(Dropout(0.5))\n",
    "#model.add(LSTM(512, activation='relu',))\n",
    "model.add(Dense(512, activation='relu'))\n",
    "model.add(Dropout(0.5))\n",
    "model.add(Dense(256, activation='relu'))\n",
    "model.add(Dropout(0.5))\n",
    "model.add(Dense(128, activation='relu'))\n",
    "model.add(Dropout(0.5))\n",
    "model.add(Dense(2, activation='softmax'))\n",
    "model.compile(loss='categorical_crossentropy',optimizer='Adam',metrics=['accuracy'])\n",
    "model.summary()"
   ]
  },
  {
   "cell_type": "code",
   "execution_count": 37,
   "metadata": {},
   "outputs": [
    {
     "name": "stdout",
     "output_type": "stream",
     "text": [
      "Search space summary\n",
      "Default search space size: 0\n"
     ]
    }
   ],
   "source": [
    "tuner.search_space_summary()"
   ]
  },
  {
   "cell_type": "code",
   "execution_count": 209,
   "metadata": {},
   "outputs": [
    {
     "name": "stdout",
     "output_type": "stream",
     "text": [
      "INFO:tensorflow:Reloading Oracle from existing project .\\untitled_project\\oracle.json\n",
      "INFO:tensorflow:Reloading Tuner from .\\untitled_project\\tuner0.json\n"
     ]
    }
   ],
   "source": [
    "tuner = kt.RandomSearch(build_model, objective='val_loss', max_trials=5)"
   ]
  },
  {
   "cell_type": "code",
   "execution_count": 36,
   "metadata": {},
   "outputs": [
    {
     "name": "stdout",
     "output_type": "stream",
     "text": [
      "INFO:tensorflow:Oracle triggered exit\n"
     ]
    }
   ],
   "source": [
    "tuner.search(X_train, y_train, epochs=10, validation_data=(X_val, y_val))\n",
    "best_model = tuner.get_best_models()[0]"
   ]
  },
  {
   "cell_type": "code",
   "execution_count": 32,
   "metadata": {},
   "outputs": [],
   "source": [
    "# defining a function to save the weights of best model\n",
    "from keras.callbacks import ModelCheckpoint\n",
    "mcp_weight = ModelCheckpoint('weight_xception2.hdf5', save_best_only=True, monitor='val_loss', mode='min')"
   ]
  },
  {
   "cell_type": "code",
   "execution_count": 33,
   "metadata": {},
   "outputs": [
    {
     "name": "stdout",
     "output_type": "stream",
     "text": [
      "Epoch 1/30\n",
      "4/4 [==============================] - 35s 8s/step - loss: 1.2821 - accuracy: 0.5368 - val_loss: 0.6407 - val_accuracy: 0.6970\n",
      "Epoch 2/30\n",
      "4/4 [==============================] - 11s 2s/step - loss: 1.9315 - accuracy: 0.5309 - val_loss: 0.7272 - val_accuracy: 0.5076\n",
      "Epoch 3/30\n",
      "4/4 [==============================] - 4s 915ms/step - loss: 1.8559 - accuracy: 0.5926 - val_loss: 0.6584 - val_accuracy: 0.6439\n",
      "Epoch 4/30\n",
      "4/4 [==============================] - 4s 969ms/step - loss: 1.4051 - accuracy: 0.5843 - val_loss: 0.6590 - val_accuracy: 0.6364\n",
      "Epoch 5/30\n",
      "4/4 [==============================] - 3s 852ms/step - loss: 1.0277 - accuracy: 0.6566 - val_loss: 0.6469 - val_accuracy: 0.6136\n",
      "Epoch 6/30\n",
      "4/4 [==============================] - 4s 928ms/step - loss: 1.1338 - accuracy: 0.5887 - val_loss: 0.6197 - val_accuracy: 0.7197\n",
      "Epoch 7/30\n",
      "4/4 [==============================] - 4s 978ms/step - loss: 0.9655 - accuracy: 0.5978 - val_loss: 0.6389 - val_accuracy: 0.6439\n",
      "Epoch 8/30\n",
      "4/4 [==============================] - 4s 977ms/step - loss: 1.0420 - accuracy: 0.6345 - val_loss: 0.5983 - val_accuracy: 0.7121\n",
      "Epoch 9/30\n",
      "4/4 [==============================] - 4s 901ms/step - loss: 0.8080 - accuracy: 0.6706 - val_loss: 0.5802 - val_accuracy: 0.7273\n",
      "Epoch 10/30\n",
      "4/4 [==============================] - 4s 1s/step - loss: 0.8104 - accuracy: 0.6827 - val_loss: 0.5771 - val_accuracy: 0.7121\n",
      "Epoch 11/30\n",
      "4/4 [==============================] - 4s 1s/step - loss: 0.6399 - accuracy: 0.7336 - val_loss: 0.6127 - val_accuracy: 0.7045\n",
      "Epoch 12/30\n",
      "4/4 [==============================] - 4s 924ms/step - loss: 0.7643 - accuracy: 0.6542 - val_loss: 0.5818 - val_accuracy: 0.7121\n",
      "Epoch 13/30\n",
      "4/4 [==============================] - 4s 1s/step - loss: 0.6102 - accuracy: 0.7621 - val_loss: 0.5523 - val_accuracy: 0.7197\n",
      "Epoch 14/30\n",
      "4/4 [==============================] - 4s 888ms/step - loss: 0.5629 - accuracy: 0.7349 - val_loss: 0.5528 - val_accuracy: 0.7273\n",
      "Epoch 15/30\n",
      "4/4 [==============================] - 4s 941ms/step - loss: 0.5394 - accuracy: 0.7882 - val_loss: 0.5923 - val_accuracy: 0.7348\n",
      "Epoch 16/30\n",
      "4/4 [==============================] - 4s 921ms/step - loss: 0.5386 - accuracy: 0.8019 - val_loss: 0.5638 - val_accuracy: 0.7348\n",
      "Epoch 17/30\n",
      "4/4 [==============================] - 4s 930ms/step - loss: 0.5752 - accuracy: 0.7475 - val_loss: 0.5333 - val_accuracy: 0.7348\n",
      "Epoch 18/30\n",
      "4/4 [==============================] - 4s 882ms/step - loss: 0.4090 - accuracy: 0.8255 - val_loss: 0.5287 - val_accuracy: 0.7273\n",
      "Epoch 19/30\n",
      "4/4 [==============================] - 4s 890ms/step - loss: 0.4285 - accuracy: 0.8355 - val_loss: 0.5364 - val_accuracy: 0.7348\n",
      "Epoch 20/30\n",
      "4/4 [==============================] - 4s 1s/step - loss: 0.4778 - accuracy: 0.8098 - val_loss: 0.5743 - val_accuracy: 0.7879\n",
      "Epoch 21/30\n",
      "4/4 [==============================] - 4s 1s/step - loss: 0.3403 - accuracy: 0.8459 - val_loss: 0.5357 - val_accuracy: 0.7424\n",
      "Epoch 22/30\n",
      "4/4 [==============================] - 3s 879ms/step - loss: 0.3232 - accuracy: 0.8590 - val_loss: 0.5731 - val_accuracy: 0.7500\n",
      "Epoch 23/30\n",
      "4/4 [==============================] - 4s 893ms/step - loss: 0.3720 - accuracy: 0.8730 - val_loss: 0.6779 - val_accuracy: 0.7500\n",
      "Epoch 24/30\n",
      "4/4 [==============================] - 4s 917ms/step - loss: 0.3585 - accuracy: 0.8536 - val_loss: 0.7625 - val_accuracy: 0.7652\n",
      "Epoch 25/30\n",
      "4/4 [==============================] - 4s 919ms/step - loss: 0.2737 - accuracy: 0.8658 - val_loss: 0.6829 - val_accuracy: 0.7727\n",
      "Epoch 26/30\n",
      "4/4 [==============================] - 4s 898ms/step - loss: 0.2605 - accuracy: 0.9009 - val_loss: 0.6033 - val_accuracy: 0.7652\n",
      "Epoch 27/30\n",
      "4/4 [==============================] - 4s 886ms/step - loss: 0.2532 - accuracy: 0.9030 - val_loss: 0.8065 - val_accuracy: 0.7652\n",
      "Epoch 28/30\n",
      "4/4 [==============================] - 4s 999ms/step - loss: 0.2978 - accuracy: 0.8656 - val_loss: 0.8196 - val_accuracy: 0.7576\n",
      "Epoch 29/30\n",
      "4/4 [==============================] - 4s 1s/step - loss: 0.1669 - accuracy: 0.9204 - val_loss: 0.7485 - val_accuracy: 0.7576\n",
      "Epoch 30/30\n",
      "4/4 [==============================] - 4s 962ms/step - loss: 0.1790 - accuracy: 0.9243 - val_loss: 0.7815 - val_accuracy: 0.7803\n"
     ]
    }
   ],
   "source": [
    "history=model.fit(X_train, y_train, epochs=30, validation_data=(X_val, y_val), callbacks=[mcp_weight], batch_size=128)"
   ]
  },
  {
   "cell_type": "code",
   "execution_count": 91,
   "metadata": {
    "scrolled": true
   },
   "outputs": [
    {
     "data": {
      "image/png": "[encoded data removed]",
      "text/plain": [
       "<Figure size 432x288 with 1 Axes>"
      ]
     },
     "metadata": {
      "needs_background": "light"
     },
     "output_type": "display_data"
    }
   ],
   "source": [
    "# summarize history for accuracy(2nd Run)\n",
    "plt.plot(history.history['accuracy'])\n",
    "plt.plot(history.history['val_accuracy'])\n",
    "plt.title('model accuracy')\n",
    "plt.ylabel('accuracy')\n",
    "plt.xlabel('epoch')\n",
    "plt.legend(['train', 'test'], loc='upper left')\n",
    "plt.show()"
   ]
  },
  {
   "cell_type": "code",
   "execution_count": 92,
   "metadata": {},
   "outputs": [
    {
     "data": {
      "image/png": "[encoded data removed]",
      "text/plain": [
       "<Figure size 432x288 with 1 Axes>"
      ]
     },
     "metadata": {
      "needs_background": "light"
     },
     "output_type": "display_data"
    }
   ],
   "source": [
    "# summarize history for loss(2nd Run)\n",
    "plt.plot(history.history['loss'])\n",
    "plt.plot(history.history['val_loss'])\n",
    "plt.title('model loss')\n",
    "plt.ylabel('loss')\n",
    "plt.xlabel('epoch')\n",
    "plt.legend(['train', 'test'], loc='upper left')\n",
    "plt.show()"
   ]
  },
  {
   "cell_type": "markdown",
   "metadata": {},
   "source": [
    "### Applying Built model  on Test data and calculate accuracy with VGG16 "
   ]
  },
  {
   "cell_type": "code",
   "execution_count": 40,
   "metadata": {
    "scrolled": true
   },
   "outputs": [
    {
     "name": "stdout",
     "output_type": "stream",
     "text": [
      "Model: \"sequential\"\n",
      "_________________________________________________________________\n",
      "Layer (type)                 Output Shape              Param #   \n",
      "=================================================================\n",
      "dense (Dense)                (None, 1024)              102761472 \n",
      "_________________________________________________________________\n",
      "dropout (Dropout)            (None, 1024)              0         \n",
      "_________________________________________________________________\n",
      "dense_1 (Dense)              (None, 512)               524800    \n",
      "_________________________________________________________________\n",
      "dropout_1 (Dropout)          (None, 512)               0         \n",
      "_________________________________________________________________\n",
      "dense_2 (Dense)              (None, 256)               131328    \n",
      "_________________________________________________________________\n",
      "dropout_2 (Dropout)          (None, 256)               0         \n",
      "_________________________________________________________________\n",
      "dense_3 (Dense)              (None, 128)               32896     \n",
      "_________________________________________________________________\n",
      "dropout_3 (Dropout)          (None, 128)               0         \n",
      "_________________________________________________________________\n",
      "dense_4 (Dense)              (None, 2)                 258       \n",
      "=================================================================\n",
      "Total params: 103,450,754\n",
      "Trainable params: 103,450,754\n",
      "Non-trainable params: 0\n",
      "_________________________________________________________________\n"
     ]
    }
   ],
   "source": [
    "model.load_weights(\"weight_xception.hdf5\")\n",
    "model.compile(loss='categorical_crossentropy',optimizer='Adam',metrics=['accuracy'])\n",
    "model.summary()"
   ]
  },
  {
   "cell_type": "code",
   "execution_count": 41,
   "metadata": {},
   "outputs": [
    {
     "name": "stderr",
     "output_type": "stream",
     "text": [
      "100%|██████████████████████████████████████████████████████████████████████████████████| 40/40 [00:53<00:00,  1.33s/it]\n"
     ]
    }
   ],
   "source": [
    "from scipy import stats as s\n",
    "predict = []\n",
    "actual = []\n",
    "if not os.path.exists(test_frames_path):\n",
    "    os.makedirs(test_frames_path)\n",
    "\n",
    "for i in tqdm(range(test.shape[0])):\n",
    "    video_file = test['Video_url'][i]\n",
    "    action = test['action'][i]\n",
    "    video_name_list = video_file.split('/')[-1].split('.')\n",
    "    video_name_list = video_name_list[:-1]\n",
    "    video_name = \"\"\n",
    "    for n in video_name_list:\n",
    "        video_name += n\n",
    "    # capturing the video from the given path\n",
    "    capture = cv2.VideoCapture(video_file) \n",
    "    #frame rate\n",
    "    frame_rate = capture.get(5)\n",
    "    count = 0\n",
    "    files = glob(test_frames_path + '/*')\n",
    "    #removing all files from folder\n",
    "    for f in files:\n",
    "        os.remove(f)\n",
    "    while(capture.isOpened()):\n",
    "        #current frame number\n",
    "        frame_id = capture.get(1) \n",
    "        read_correctly, frame = capture.read()\n",
    "        if not read_correctly:\n",
    "            break\n",
    "        if (frame_id % math.floor(frame_rate) == 0):\n",
    "            # storing the frames in a new folder named train_1\n",
    "            filename = test_frames_path + \"/\" + video_name + \"_frame{}_\".format(count) + action +\".jpg\"\n",
    "            count += 1\n",
    "            cv2.imwrite(filename, frame)\n",
    "    capture.release()\n",
    "    \n",
    "    # reading all the frames from temp folder\n",
    "    images = glob(test_frames_path + '/*.jpg')\n",
    "    prediction_images = []\n",
    "    for i in range(len(images)):\n",
    "        img = image.load_img(images[i], target_size=(224,224,3))\n",
    "        img = image.img_to_array(img)\n",
    "        img = img / 255\n",
    "        prediction_images.append(img)\n",
    "        \n",
    "    # converting all the frames for a test video into numpy array\n",
    "    prediction_images = np.array(prediction_images)\n",
    "    # extracting features using pre-trained model\n",
    "    prediction_images = base_model.predict(prediction_images)\n",
    "    # converting features in one dimensional array\n",
    "    prediction_images = prediction_images.reshape(prediction_images.shape[0], 7*7*512)\n",
    "    # predicting tags for each array\n",
    "    prediction = np.argmax(model.predict(prediction_images), axis=-1)\n",
    "    # appending the mode of predictions in predict list to assign the tag to the video\n",
    "    predict.append(y_train.columns.values[s.mode(prediction)[0][0]])\n",
    "    # appending the actual tag of the video\n",
    "    actual.append(action)"
   ]
  },
  {
   "cell_type": "code",
   "execution_count": 41,
   "metadata": {},
   "outputs": [
    {
     "data": {
      "text/plain": [
       "(40, 2)"
      ]
     },
     "execution_count": 41,
     "metadata": {},
     "output_type": "execute_result"
    }
   ],
   "source": [
    "test.shape\n"
   ]
  },
  {
   "cell_type": "code",
   "execution_count": 37,
   "metadata": {},
   "outputs": [],
   "source": []
  },
  {
   "cell_type": "code",
   "execution_count": null,
   "metadata": {},
   "outputs": [],
   "source": [
    "prediction2 = model.predict(X_test)\n",
    "prediction\n",
    "\n",
    "y_test_1d = y_test.to_numpy()\n",
    "\n",
    "def maxfunction(x):\n",
    "        return np.argmax(x)\n",
    "\n",
    "pred_1d = np.apply_along_axis( maxfunction, axis=1, arr=prediction )\n",
    "\n",
    "y_test_1d = np.apply_along_axis( maxfunction, axis=1, arr=y_test_1d )\n",
    "\n",
    "print(accuracy_score(y_test_1d, pred_1d)*100)"
   ]
  },
  {
   "cell_type": "code",
   "execution_count": null,
   "metadata": {},
   "outputs": [],
   "source": []
  },
  {
   "cell_type": "code",
   "execution_count": 49,
   "metadata": {},
   "outputs": [
    {
     "data": {
      "text/plain": [
       "'death'"
      ]
     },
     "execution_count": 49,
     "metadata": {},
     "output_type": "execute_result"
    }
   ],
   "source": [
    "y_train.columns.values[0]"
   ]
  },
  {
   "cell_type": "code",
   "execution_count": 42,
   "metadata": {},
   "outputs": [
    {
     "data": {
      "text/plain": [
       "82.5"
      ]
     },
     "execution_count": 42,
     "metadata": {},
     "output_type": "execute_result"
    }
   ],
   "source": [
    "from sklearn.metrics import accuracy_score\n",
    "accuracy_score(predict, actual)*100"
   ]
  },
  {
   "cell_type": "code",
   "execution_count": 43,
   "metadata": {},
   "outputs": [
    {
     "data": {
      "text/plain": [
       "82.5"
      ]
     },
     "execution_count": 43,
     "metadata": {},
     "output_type": "execute_result"
    }
   ],
   "source": [
    "#2nd run\n",
    "from sklearn.metrics import accuracy_score\n",
    "accuracy_score(predict, actual)*100"
   ]
  },
  {
   "cell_type": "code",
   "execution_count": 91,
   "metadata": {},
   "outputs": [],
   "source": [
    "def final_predict(get_video):\n",
    "    def frame_no(video_name):\n",
    "        cap= cv2.VideoCapture(video_name)\n",
    "        i=0\n",
    "        while(cap.isOpened()):\n",
    "            ret, frame = cap.read()\n",
    "            if ret == False:\n",
    "                break\n",
    "\n",
    "            frameId = cap.get(1)\n",
    "\n",
    "        #cap.release()\n",
    "        #cv2.destroyAllWindows()\n",
    "        return frameId\n",
    "\n",
    "    j=1\n",
    "    video_name = get_video\n",
    "    predict_lst = []\n",
    "\n",
    "    cap= cv2.VideoCapture(video_name)\n",
    "    frame_needed = 11\n",
    "    #frameRate = cap.get(5)\n",
    "    tot_frame = frame_no(video_name)\n",
    "    while(cap.isOpened()):\n",
    "        ret, frame = cap.read()\n",
    "        if ret == False:\n",
    "            break\n",
    "        frameId = cap.get(1)\n",
    "\n",
    "        a = np.linspace(0, tot_frame, frame_needed)\n",
    "\n",
    "        for i in range(len(a)):\n",
    "            if (frameId == math.floor(a[i])):\n",
    "                cv2.imwrite('predict'+str(j)+'.jpg',frame)\n",
    "                predict_lst.append('predict'+str(j)+'.jpg')\n",
    "                j+=1\n",
    "\n",
    "    cap.release()\n",
    "    cv2.destroyAllWindows()\n",
    "\n",
    "    predict_set_lst = []\n",
    "    for i in predict_lst:\n",
    "        img = image.load_img(i, target_size=(224,224,3))\n",
    "        img = image.img_to_array(img)\n",
    "        img = img/255\n",
    "        predict_set_lst.append(img)\n",
    "        predict_set_array = np.array(predict_set_lst)\n",
    "\n",
    "    predict_final = base_model.predict(predict_set_array)\n",
    "    predict_final = predict_final.reshape(predict_final.shape[0],7*7*2048)\n",
    "    prediction = model.predict(predict_final)\n",
    "\n",
    "    def maxfunction(x):\n",
    "        return np.argmax(x)\n",
    "\n",
    "    a = np.apply_along_axis( maxfunction, axis=1, arr=prediction )\n",
    "    print(a)\n",
    "\n",
    "    s = sum(a)\n",
    "    if s>=3:\n",
    "        print('kill')\n",
    "    else: \n",
    "        print('death')"
   ]
  },
  {
   "cell_type": "code",
   "execution_count": 86,
   "metadata": {},
   "outputs": [
    {
     "name": "stdout",
     "output_type": "stream",
     "text": [
      "[0 0 0 0 0]\n",
      "death\n",
      "10\n",
      "[0 0 0 0 0]\n",
      "death\n",
      "11\n",
      "[1 1 1 0 1]\n",
      "kill\n",
      "12\n",
      "[1 0 0 0 0]\n",
      "death\n",
      "13\n",
      "[1 1 0 0 0]\n",
      "death\n",
      "14\n",
      "[1 1 1 0 0]\n",
      "kill\n",
      "15\n",
      "[0 0 0 1 1]\n",
      "death\n",
      "16\n",
      "[1 1 1 0 0]\n",
      "kill\n",
      "17\n",
      "[1 0 0 0 1]\n",
      "death\n",
      "18\n",
      "[0 0 1 0 0]\n",
      "death\n",
      "19\n",
      "[1 1 1 0 1]\n",
      "kill\n",
      "20\n",
      "[0 0 0 1 1]\n",
      "death\n",
      "21\n",
      "[1 0 0 0 1]\n",
      "death\n",
      "22\n",
      "[0 0 0 0 1]\n",
      "death\n",
      "23\n",
      "[1 1 1 1 0]\n",
      "kill\n",
      "24\n",
      "[0 0 0 1 1]\n",
      "death\n",
      "25\n",
      "[1 1 1 0 1]\n",
      "kill\n",
      "26\n",
      "[1 1 0 0 0]\n",
      "death\n",
      "27\n",
      "[1 1 0 0 1]\n",
      "kill\n",
      "28\n",
      "[0 0 0 0 0]\n",
      "death\n",
      "29\n",
      "[0 0 0 0 0]\n",
      "death\n",
      "30\n",
      "[0 0 0 0 0]\n",
      "death\n",
      "31\n",
      "[0 0 1 1 1]\n",
      "kill\n",
      "32\n",
      "[1 1 0 1 0]\n",
      "kill\n",
      "33\n",
      "[0 0 0 0 0]\n",
      "death\n",
      "34\n",
      "[0 0 0 0 0]\n",
      "death\n",
      "35\n",
      "[0 0 0 0 0]\n",
      "death\n",
      "36\n",
      "[0 0 0 0 0]\n",
      "death\n",
      "37\n",
      "[0 0 0 0 0]\n",
      "death\n",
      "38\n",
      "[1 0 0 1 0]\n",
      "death\n",
      "39\n",
      "[0 0 0 0 0]\n",
      "death\n",
      "40\n",
      "[0 0 0 0 0]\n",
      "death\n",
      "41\n",
      "[1 1 1 0 1]\n",
      "kill\n",
      "42\n",
      "[0 1 1 0 0]\n",
      "death\n",
      "43\n",
      "[0 0 0 0 0]\n",
      "death\n",
      "44\n",
      "[0 0 0 0 0]\n",
      "death\n",
      "45\n",
      "[0 0 0 0 0]\n",
      "death\n",
      "46\n",
      "[0 0 0 0 0]\n",
      "death\n",
      "47\n",
      "[0 0 0 0 0]\n",
      "death\n",
      "48\n",
      "[0 0 0 0 0]\n",
      "death\n",
      "49\n",
      "[1 0 0 0 0]\n",
      "death\n",
      "50\n",
      "[0 0 0 0 0]\n",
      "death\n",
      "51\n",
      "[0 0 0 0 0]\n",
      "death\n",
      "52\n",
      "[0 0 0 0 0]\n",
      "death\n",
      "53\n",
      "[0 0 0 0 0]\n",
      "death\n",
      "54\n",
      "[0 0 0 0 0]\n",
      "death\n",
      "55\n",
      "[0 0 0 0 0]\n",
      "death\n",
      "56\n",
      "[0 0 0 0 0]\n",
      "death\n",
      "57\n",
      "[0 0 0 0 0]\n",
      "death\n",
      "58\n",
      "[0 0 0 0 0]\n",
      "death\n",
      "59\n",
      "[0 0 0 0 0]\n",
      "death\n",
      "60\n",
      "[0 0 0 0 0]\n",
      "death\n",
      "61\n",
      "[0 0 0 0 0]\n",
      "death\n",
      "62\n",
      "[0 0 0 0 0]\n",
      "death\n",
      "63\n",
      "[0 0 0 0 0]\n",
      "death\n",
      "64\n",
      "[0 0 0 0 0]\n",
      "death\n",
      "65\n",
      "[0 0 0 0 0]\n",
      "death\n",
      "66\n",
      "[0 0 0 0 0]\n",
      "death\n",
      "67\n",
      "[0 0 0 0 0]\n",
      "death\n",
      "68\n",
      "[0 0 0 0 0]\n",
      "death\n",
      "69\n",
      "[0 0 0 0 0]\n",
      "death\n",
      "70\n",
      "[0 0 0 0 0]\n",
      "death\n",
      "71\n",
      "[0 0 0 0 0]\n",
      "death\n",
      "72\n",
      "[0 0 0 0 0]\n",
      "death\n",
      "73\n",
      "[0 0 0 0 0]\n",
      "death\n",
      "74\n",
      "[0 0 0 0 0]\n",
      "death\n",
      "75\n",
      "[0 0 0 0 0]\n",
      "death\n",
      "76\n",
      "[0 0 0 0 0]\n",
      "death\n",
      "77\n"
     ]
    },
    {
     "ename": "KeyboardInterrupt",
     "evalue": "",
     "output_type": "error",
     "traceback": [
      "\u001b[1;31m---------------------------------------------------------------------------\u001b[0m",
      "\u001b[1;31mKeyboardInterrupt\u001b[0m                         Traceback (most recent call last)",
      "\u001b[1;32m<ipython-input-86-ab635f6ff8ff>\u001b[0m in \u001b[0;36m<module>\u001b[1;34m\u001b[0m\n\u001b[0;32m      2\u001b[0m     \u001b[1;31m#i=14\u001b[0m\u001b[1;33m\u001b[0m\u001b[1;33m\u001b[0m\u001b[1;33m\u001b[0m\u001b[0m\n\u001b[0;32m      3\u001b[0m     \u001b[0mvideo_name\u001b[0m \u001b[1;33m=\u001b[0m \u001b[1;34m'death_'\u001b[0m\u001b[1;33m+\u001b[0m\u001b[0mstr\u001b[0m\u001b[1;33m(\u001b[0m\u001b[0mi\u001b[0m\u001b[1;33m)\u001b[0m\u001b[1;33m+\u001b[0m\u001b[1;34m'.mp4'\u001b[0m\u001b[1;33m\u001b[0m\u001b[1;33m\u001b[0m\u001b[0m\n\u001b[1;32m----> 4\u001b[1;33m     \u001b[0mfinal_predict\u001b[0m\u001b[1;33m(\u001b[0m\u001b[0mvideo_name\u001b[0m\u001b[1;33m)\u001b[0m\u001b[1;33m\u001b[0m\u001b[1;33m\u001b[0m\u001b[0m\n\u001b[0m\u001b[0;32m      5\u001b[0m     \u001b[0mprint\u001b[0m\u001b[1;33m(\u001b[0m\u001b[0mi\u001b[0m\u001b[1;33m)\u001b[0m\u001b[1;33m\u001b[0m\u001b[1;33m\u001b[0m\u001b[0m\n\u001b[0;32m      6\u001b[0m \u001b[1;33m\u001b[0m\u001b[0m\n",
      "\u001b[1;32m<ipython-input-85-ac8e6843fd8e>\u001b[0m in \u001b[0;36mfinal_predict\u001b[1;34m(get_video)\u001b[0m\n\u001b[0;32m     21\u001b[0m     \u001b[0mframe_needed\u001b[0m \u001b[1;33m=\u001b[0m \u001b[1;36m6\u001b[0m\u001b[1;33m\u001b[0m\u001b[1;33m\u001b[0m\u001b[0m\n\u001b[0;32m     22\u001b[0m     \u001b[1;31m#frameRate = cap.get(5)\u001b[0m\u001b[1;33m\u001b[0m\u001b[1;33m\u001b[0m\u001b[1;33m\u001b[0m\u001b[0m\n\u001b[1;32m---> 23\u001b[1;33m     \u001b[0mtot_frame\u001b[0m \u001b[1;33m=\u001b[0m \u001b[0mframe_no\u001b[0m\u001b[1;33m(\u001b[0m\u001b[0mvideo_name\u001b[0m\u001b[1;33m)\u001b[0m\u001b[1;33m\u001b[0m\u001b[1;33m\u001b[0m\u001b[0m\n\u001b[0m\u001b[0;32m     24\u001b[0m     \u001b[1;32mwhile\u001b[0m\u001b[1;33m(\u001b[0m\u001b[0mcap\u001b[0m\u001b[1;33m.\u001b[0m\u001b[0misOpened\u001b[0m\u001b[1;33m(\u001b[0m\u001b[1;33m)\u001b[0m\u001b[1;33m)\u001b[0m\u001b[1;33m:\u001b[0m\u001b[1;33m\u001b[0m\u001b[1;33m\u001b[0m\u001b[0m\n\u001b[0;32m     25\u001b[0m         \u001b[0mret\u001b[0m\u001b[1;33m,\u001b[0m \u001b[0mframe\u001b[0m \u001b[1;33m=\u001b[0m \u001b[0mcap\u001b[0m\u001b[1;33m.\u001b[0m\u001b[0mread\u001b[0m\u001b[1;33m(\u001b[0m\u001b[1;33m)\u001b[0m\u001b[1;33m\u001b[0m\u001b[1;33m\u001b[0m\u001b[0m\n",
      "\u001b[1;32m<ipython-input-85-ac8e6843fd8e>\u001b[0m in \u001b[0;36mframe_no\u001b[1;34m(video_name)\u001b[0m\n\u001b[0;32m      4\u001b[0m         \u001b[0mi\u001b[0m\u001b[1;33m=\u001b[0m\u001b[1;36m0\u001b[0m\u001b[1;33m\u001b[0m\u001b[1;33m\u001b[0m\u001b[0m\n\u001b[0;32m      5\u001b[0m         \u001b[1;32mwhile\u001b[0m\u001b[1;33m(\u001b[0m\u001b[0mcap\u001b[0m\u001b[1;33m.\u001b[0m\u001b[0misOpened\u001b[0m\u001b[1;33m(\u001b[0m\u001b[1;33m)\u001b[0m\u001b[1;33m)\u001b[0m\u001b[1;33m:\u001b[0m\u001b[1;33m\u001b[0m\u001b[1;33m\u001b[0m\u001b[0m\n\u001b[1;32m----> 6\u001b[1;33m             \u001b[0mret\u001b[0m\u001b[1;33m,\u001b[0m \u001b[0mframe\u001b[0m \u001b[1;33m=\u001b[0m \u001b[0mcap\u001b[0m\u001b[1;33m.\u001b[0m\u001b[0mread\u001b[0m\u001b[1;33m(\u001b[0m\u001b[1;33m)\u001b[0m\u001b[1;33m\u001b[0m\u001b[1;33m\u001b[0m\u001b[0m\n\u001b[0m\u001b[0;32m      7\u001b[0m             \u001b[1;32mif\u001b[0m \u001b[0mret\u001b[0m \u001b[1;33m==\u001b[0m \u001b[1;32mFalse\u001b[0m\u001b[1;33m:\u001b[0m\u001b[1;33m\u001b[0m\u001b[1;33m\u001b[0m\u001b[0m\n\u001b[0;32m      8\u001b[0m                 \u001b[1;32mbreak\u001b[0m\u001b[1;33m\u001b[0m\u001b[1;33m\u001b[0m\u001b[0m\n",
      "\u001b[1;31mKeyboardInterrupt\u001b[0m: "
     ]
    }
   ],
   "source": [
    "for i in range(10,100):\n",
    "    #i=14\n",
    "    video_name = 'kill_'+str(i)+'.mp4'\n",
    "    final_predict(video_name)\n",
    "    print(i)\n",
    "\n"
   ]
  },
  {
   "cell_type": "code",
   "execution_count": 92,
   "metadata": {},
   "outputs": [
    {
     "name": "stdout",
     "output_type": "stream",
     "text": [
      "[1 1 1 1 1 1 1 0 0 1]\n",
      "kill\n"
     ]
    }
   ],
   "source": [
    "final_predict('death_12.mp4')"
   ]
  },
  {
   "cell_type": "code",
   "execution_count": 48,
   "metadata": {},
   "outputs": [
    {
     "data": {
      "text/plain": [
       "array([0.68181818, 0.72222222])"
      ]
     },
     "execution_count": 48,
     "metadata": {},
     "output_type": "execute_result"
    }
   ],
   "source": [
    "from sklearn.metrics import precision_score\n",
    "precision_score(actual, predict, average=None)"
   ]
  },
  {
   "cell_type": "code",
   "execution_count": 49,
   "metadata": {},
   "outputs": [
    {
     "data": {
      "text/plain": [
       "0.7"
      ]
     },
     "execution_count": 49,
     "metadata": {},
     "output_type": "execute_result"
    }
   ],
   "source": [
    "precision_score(actual, predict, average='micro')"
   ]
  },
  {
   "cell_type": "code",
   "execution_count": 51,
   "metadata": {},
   "outputs": [
    {
     "data": {
      "text/plain": [
       "array([0.71428571, 0.68421053])"
      ]
     },
     "execution_count": 51,
     "metadata": {},
     "output_type": "execute_result"
    }
   ],
   "source": [
    "from sklearn.metrics import f1_score\n",
    "f1_score(actual, predict, average=None)"
   ]
  },
  {
   "cell_type": "code",
   "execution_count": 52,
   "metadata": {},
   "outputs": [
    {
     "data": {
      "text/plain": [
       "0.7"
      ]
     },
     "execution_count": 52,
     "metadata": {},
     "output_type": "execute_result"
    }
   ],
   "source": [
    "f1_score(actual, predict, average='micro')"
   ]
  },
  {
   "cell_type": "code",
   "execution_count": 62,
   "metadata": {},
   "outputs": [
    {
     "data": {
      "text/plain": [
       "array([0.8 , 0.65])"
      ]
     },
     "execution_count": 62,
     "metadata": {},
     "output_type": "execute_result"
    }
   ],
   "source": [
    "from sklearn.metrics import recall_score\n",
    "recall_score(actual, predict, average=None)"
   ]
  },
  {
   "cell_type": "code",
   "execution_count": 63,
   "metadata": {},
   "outputs": [
    {
     "data": {
      "text/plain": [
       "0.725"
      ]
     },
     "execution_count": 63,
     "metadata": {},
     "output_type": "execute_result"
    }
   ],
   "source": [
    "recall_score(actual, predict, average='micro')"
   ]
  },
  {
   "cell_type": "code",
   "execution_count": 64,
   "metadata": {},
   "outputs": [
    {
     "name": "stdout",
     "output_type": "stream",
     "text": [
      "[[[13  7]\n",
      "  [ 4 16]]\n",
      "\n",
      " [[16  4]\n",
      "  [ 7 13]]]\n"
     ]
    }
   ],
   "source": [
    "from sklearn.metrics import multilabel_confusion_matrix\n",
    "confusion_matrix = multilabel_confusion_matrix(actual, predict, labels=action_values)\n",
    "# confusion_matrix = confusion_matrix.astype('float') / confusion_matrix.sum(axis=1)[:, np.newaxis]\n",
    "print(confusion_matrix)"
   ]
  },
  {
   "cell_type": "code",
   "execution_count": 65,
   "metadata": {},
   "outputs": [],
   "source": [
    "import pandas as pd\n",
    "import matplotlib.pyplot as plt\n",
    "import seaborn as sns\n",
    "\n",
    "confusion_matrix=([[[79 , 4],[ 0 ,40]], [[78 , 2], [ 5 ,38]], [[82 , 1],[ 2 ,38]]])\n",
    "def print_confusion_matrix(confusion_matrix, axes, class_label, class_names, fontsize=30):\n",
    "\n",
    "    df_cm = pd.DataFrame(\n",
    "        confusion_matrix, index=class_names, columns=class_names,\n",
    "    )\n",
    "\n",
    "    try:\n",
    "        heatmap = sns.heatmap(df_cm, annot=True, fmt=\"d\", cbar=False, ax=axes)\n",
    "    except ValueError:\n",
    "        raise ValueError(\"Confusion matrix values must be integers.\")\n",
    "    heatmap.yaxis.set_ticklabels(heatmap.yaxis.get_ticklabels(), rotation=0, ha='right', fontsize=fontsize)\n",
    "    heatmap.xaxis.set_ticklabels(heatmap.xaxis.get_ticklabels(), rotation=45, ha='right', fontsize=fontsize)\n",
    "    axes.set_ylabel('True label')\n",
    "    axes.set_xlabel('Predicted label')\n",
    "    axes.set_title(\"Confusion Matrix for the class - \" + class_label)"
   ]
  },
  {
   "cell_type": "code",
   "execution_count": 52,
   "metadata": {},
   "outputs": [
    {
     "data": {
      "image/png": "[encoded data removed]",
      "text/plain": [
       "<Figure size 864x720 with 1 Axes>"
      ]
     },
     "metadata": {
      "needs_background": "light"
     },
     "output_type": "display_data"
    }
   ],
   "source": [
    "fig, ax = plt.subplots(1, 1, figsize=(12, 10))\n",
    "plt.rcParams.update({'font.size': 40})\n",
    "print_confusion_matrix(confusion_matrix[0], ax, action_values[0], [\"0\", \"1\"])\n",
    "fig.tight_layout()\n",
    "plt.show()"
   ]
  },
  {
   "cell_type": "code",
   "execution_count": 53,
   "metadata": {},
   "outputs": [
    {
     "data": {
      "image/png": "[encoded data removed]",
      "text/plain": [
       "<Figure size 864x720 with 1 Axes>"
      ]
     },
     "metadata": {
      "needs_background": "light"
     },
     "output_type": "display_data"
    }
   ],
   "source": [
    "fig, ax = plt.subplots(1, 1, figsize=(12, 10))\n",
    "plt.rcParams.update({'font.size': 40})\n",
    "print_confusion_matrix(confusion_matrix[1], ax, action_values[1], [\"0\", \"1\"])\n",
    "fig.tight_layout()\n",
    "plt.show()"
   ]
  },
  {
   "cell_type": "code",
   "execution_count": 54,
   "metadata": {},
   "outputs": [
    {
     "data": {
      "image/png": "[encoded data removed]",
      "text/plain": [
       "<Figure size 864x720 with 1 Axes>"
      ]
     },
     "metadata": {
      "needs_background": "light"
     },
     "output_type": "display_data"
    }
   ],
   "source": [
    "fig, ax = plt.subplots(1, 1, figsize=(12, 10))\n",
    "plt.rcParams.update({'font.size': 40})\n",
    "print_confusion_matrix(confusion_matrix[2], ax, action_values[2], [\"0\", \"1\"])\n",
    "fig.tight_layout()\n",
    "plt.show()"
   ]
  },
  {
   "cell_type": "markdown",
   "metadata": {},
   "source": [
    "### Processing With Pre-trained InceptionV3 with imagenet weight "
   ]
  },
  {
   "cell_type": "code",
   "execution_count": 28,
   "metadata": {},
   "outputs": [
    {
     "name": "stdout",
     "output_type": "stream",
     "text": [
      "Downloading data from https://storage.googleapis.com/tensorflow/keras-applications/inception_v3/inception_v3_weights_tf_dim_ordering_tf_kernels_notop.h5\n",
      "87916544/87910968 [==============================] - 31s 0us/step\n"
     ]
    }
   ],
   "source": [
    "from tensorflow.keras.applications.inception_v3 import InceptionV3\n",
    "inception_model = InceptionV3(include_top = False, weights = 'imagenet')"
   ]
  },
  {
   "cell_type": "code",
   "execution_count": 23,
   "metadata": {
    "collapsed": true
   },
   "outputs": [
    {
     "name": "stderr",
     "output_type": "stream",
     "text": [
      "  0%|                                                                                          | 0/398 [00:00<?, ?it/s]\n"
     ]
    },
    {
     "ename": "KeyError",
     "evalue": "'image'",
     "output_type": "error",
     "traceback": [
      "\u001b[1;31m---------------------------------------------------------------------------\u001b[0m",
      "\u001b[1;31mKeyError\u001b[0m                                  Traceback (most recent call last)",
      "\u001b[1;32mE:\\Anaconda\\envs\\thesis\\lib\\site-packages\\pandas\\core\\indexes\\base.py\u001b[0m in \u001b[0;36mget_loc\u001b[1;34m(self, key, method, tolerance)\u001b[0m\n\u001b[0;32m   3079\u001b[0m             \u001b[1;32mtry\u001b[0m\u001b[1;33m:\u001b[0m\u001b[1;33m\u001b[0m\u001b[1;33m\u001b[0m\u001b[0m\n\u001b[1;32m-> 3080\u001b[1;33m                 \u001b[1;32mreturn\u001b[0m \u001b[0mself\u001b[0m\u001b[1;33m.\u001b[0m\u001b[0m_engine\u001b[0m\u001b[1;33m.\u001b[0m\u001b[0mget_loc\u001b[0m\u001b[1;33m(\u001b[0m\u001b[0mcasted_key\u001b[0m\u001b[1;33m)\u001b[0m\u001b[1;33m\u001b[0m\u001b[1;33m\u001b[0m\u001b[0m\n\u001b[0m\u001b[0;32m   3081\u001b[0m             \u001b[1;32mexcept\u001b[0m \u001b[0mKeyError\u001b[0m \u001b[1;32mas\u001b[0m \u001b[0merr\u001b[0m\u001b[1;33m:\u001b[0m\u001b[1;33m\u001b[0m\u001b[1;33m\u001b[0m\u001b[0m\n",
      "\u001b[1;32mpandas\\_libs\\index.pyx\u001b[0m in \u001b[0;36mpandas._libs.index.IndexEngine.get_loc\u001b[1;34m()\u001b[0m\n",
      "\u001b[1;32mpandas\\_libs\\index.pyx\u001b[0m in \u001b[0;36mpandas._libs.index.IndexEngine.get_loc\u001b[1;34m()\u001b[0m\n",
      "\u001b[1;32mpandas\\_libs\\hashtable_class_helper.pxi\u001b[0m in \u001b[0;36mpandas._libs.hashtable.PyObjectHashTable.get_item\u001b[1;34m()\u001b[0m\n",
      "\u001b[1;32mpandas\\_libs\\hashtable_class_helper.pxi\u001b[0m in \u001b[0;36mpandas._libs.hashtable.PyObjectHashTable.get_item\u001b[1;34m()\u001b[0m\n",
      "\u001b[1;31mKeyError\u001b[0m: 'image'",
      "\nThe above exception was the direct cause of the following exception:\n",
      "\u001b[1;31mKeyError\u001b[0m                                  Traceback (most recent call last)",
      "\u001b[1;32m<ipython-input-23-a07f83f599ad>\u001b[0m in \u001b[0;36m<module>\u001b[1;34m\u001b[0m\n\u001b[1;32m----> 1\u001b[1;33m \u001b[0mX_train\u001b[0m\u001b[1;33m,\u001b[0m \u001b[0my_train\u001b[0m \u001b[1;33m=\u001b[0m \u001b[0mconvert_to_array_and_split\u001b[0m\u001b[1;33m(\u001b[0m\u001b[0mtrain_image\u001b[0m\u001b[1;33m)\u001b[0m\u001b[1;33m\u001b[0m\u001b[1;33m\u001b[0m\u001b[0m\n\u001b[0m\u001b[0;32m      2\u001b[0m \u001b[0mprint\u001b[0m\u001b[1;33m(\u001b[0m\u001b[0mX_train\u001b[0m\u001b[1;33m.\u001b[0m\u001b[0mshape\u001b[0m\u001b[1;33m)\u001b[0m\u001b[1;33m\u001b[0m\u001b[1;33m\u001b[0m\u001b[0m\n",
      "\u001b[1;32m<ipython-input-17-f2bb45d16e6f>\u001b[0m in \u001b[0;36mconvert_to_array_and_split\u001b[1;34m(image_data)\u001b[0m\n\u001b[0;32m      2\u001b[0m     \u001b[0mimage_value\u001b[0m \u001b[1;33m=\u001b[0m \u001b[1;33m[\u001b[0m\u001b[1;33m]\u001b[0m\u001b[1;33m\u001b[0m\u001b[1;33m\u001b[0m\u001b[0m\n\u001b[0;32m      3\u001b[0m     \u001b[1;32mfor\u001b[0m \u001b[0mi\u001b[0m \u001b[1;32min\u001b[0m \u001b[0mtqdm\u001b[0m\u001b[1;33m(\u001b[0m\u001b[0mrange\u001b[0m\u001b[1;33m(\u001b[0m\u001b[0mimage_data\u001b[0m\u001b[1;33m.\u001b[0m\u001b[0mshape\u001b[0m\u001b[1;33m[\u001b[0m\u001b[1;36m0\u001b[0m\u001b[1;33m]\u001b[0m\u001b[1;33m)\u001b[0m\u001b[1;33m)\u001b[0m\u001b[1;33m:\u001b[0m\u001b[1;33m\u001b[0m\u001b[1;33m\u001b[0m\u001b[0m\n\u001b[1;32m----> 4\u001b[1;33m         \u001b[0mimg\u001b[0m \u001b[1;33m=\u001b[0m \u001b[0mimage\u001b[0m\u001b[1;33m.\u001b[0m\u001b[0mload_img\u001b[0m\u001b[1;33m(\u001b[0m\u001b[0mimage_data\u001b[0m\u001b[1;33m[\u001b[0m\u001b[1;34m'image'\u001b[0m\u001b[1;33m]\u001b[0m\u001b[1;33m[\u001b[0m\u001b[0mi\u001b[0m\u001b[1;33m]\u001b[0m\u001b[1;33m,\u001b[0m \u001b[0mtarget_size\u001b[0m\u001b[1;33m=\u001b[0m\u001b[1;33m(\u001b[0m\u001b[1;36m224\u001b[0m\u001b[1;33m,\u001b[0m\u001b[1;36m224\u001b[0m\u001b[1;33m,\u001b[0m\u001b[1;36m3\u001b[0m\u001b[1;33m)\u001b[0m\u001b[1;33m)\u001b[0m\u001b[1;33m\u001b[0m\u001b[1;33m\u001b[0m\u001b[0m\n\u001b[0m\u001b[0;32m      5\u001b[0m         \u001b[0mimg\u001b[0m \u001b[1;33m=\u001b[0m \u001b[0mimage\u001b[0m\u001b[1;33m.\u001b[0m\u001b[0mimg_to_array\u001b[0m\u001b[1;33m(\u001b[0m\u001b[0mimg\u001b[0m\u001b[1;33m)\u001b[0m\u001b[1;33m\u001b[0m\u001b[1;33m\u001b[0m\u001b[0m\n\u001b[0;32m      6\u001b[0m         \u001b[1;31m# normalizing the pixel value\u001b[0m\u001b[1;33m\u001b[0m\u001b[1;33m\u001b[0m\u001b[1;33m\u001b[0m\u001b[0m\n",
      "\u001b[1;32mE:\\Anaconda\\envs\\thesis\\lib\\site-packages\\pandas\\core\\frame.py\u001b[0m in \u001b[0;36m__getitem__\u001b[1;34m(self, key)\u001b[0m\n\u001b[0;32m   3022\u001b[0m             \u001b[1;32mif\u001b[0m \u001b[0mself\u001b[0m\u001b[1;33m.\u001b[0m\u001b[0mcolumns\u001b[0m\u001b[1;33m.\u001b[0m\u001b[0mnlevels\u001b[0m \u001b[1;33m>\u001b[0m \u001b[1;36m1\u001b[0m\u001b[1;33m:\u001b[0m\u001b[1;33m\u001b[0m\u001b[1;33m\u001b[0m\u001b[0m\n\u001b[0;32m   3023\u001b[0m                 \u001b[1;32mreturn\u001b[0m \u001b[0mself\u001b[0m\u001b[1;33m.\u001b[0m\u001b[0m_getitem_multilevel\u001b[0m\u001b[1;33m(\u001b[0m\u001b[0mkey\u001b[0m\u001b[1;33m)\u001b[0m\u001b[1;33m\u001b[0m\u001b[1;33m\u001b[0m\u001b[0m\n\u001b[1;32m-> 3024\u001b[1;33m             \u001b[0mindexer\u001b[0m \u001b[1;33m=\u001b[0m \u001b[0mself\u001b[0m\u001b[1;33m.\u001b[0m\u001b[0mcolumns\u001b[0m\u001b[1;33m.\u001b[0m\u001b[0mget_loc\u001b[0m\u001b[1;33m(\u001b[0m\u001b[0mkey\u001b[0m\u001b[1;33m)\u001b[0m\u001b[1;33m\u001b[0m\u001b[1;33m\u001b[0m\u001b[0m\n\u001b[0m\u001b[0;32m   3025\u001b[0m             \u001b[1;32mif\u001b[0m \u001b[0mis_integer\u001b[0m\u001b[1;33m(\u001b[0m\u001b[0mindexer\u001b[0m\u001b[1;33m)\u001b[0m\u001b[1;33m:\u001b[0m\u001b[1;33m\u001b[0m\u001b[1;33m\u001b[0m\u001b[0m\n\u001b[0;32m   3026\u001b[0m                 \u001b[0mindexer\u001b[0m \u001b[1;33m=\u001b[0m \u001b[1;33m[\u001b[0m\u001b[0mindexer\u001b[0m\u001b[1;33m]\u001b[0m\u001b[1;33m\u001b[0m\u001b[1;33m\u001b[0m\u001b[0m\n",
      "\u001b[1;32mE:\\Anaconda\\envs\\thesis\\lib\\site-packages\\pandas\\core\\indexes\\base.py\u001b[0m in \u001b[0;36mget_loc\u001b[1;34m(self, key, method, tolerance)\u001b[0m\n\u001b[0;32m   3080\u001b[0m                 \u001b[1;32mreturn\u001b[0m \u001b[0mself\u001b[0m\u001b[1;33m.\u001b[0m\u001b[0m_engine\u001b[0m\u001b[1;33m.\u001b[0m\u001b[0mget_loc\u001b[0m\u001b[1;33m(\u001b[0m\u001b[0mcasted_key\u001b[0m\u001b[1;33m)\u001b[0m\u001b[1;33m\u001b[0m\u001b[1;33m\u001b[0m\u001b[0m\n\u001b[0;32m   3081\u001b[0m             \u001b[1;32mexcept\u001b[0m \u001b[0mKeyError\u001b[0m \u001b[1;32mas\u001b[0m \u001b[0merr\u001b[0m\u001b[1;33m:\u001b[0m\u001b[1;33m\u001b[0m\u001b[1;33m\u001b[0m\u001b[0m\n\u001b[1;32m-> 3082\u001b[1;33m                 \u001b[1;32mraise\u001b[0m \u001b[0mKeyError\u001b[0m\u001b[1;33m(\u001b[0m\u001b[0mkey\u001b[0m\u001b[1;33m)\u001b[0m \u001b[1;32mfrom\u001b[0m \u001b[0merr\u001b[0m\u001b[1;33m\u001b[0m\u001b[1;33m\u001b[0m\u001b[0m\n\u001b[0m\u001b[0;32m   3083\u001b[0m \u001b[1;33m\u001b[0m\u001b[0m\n\u001b[0;32m   3084\u001b[0m         \u001b[1;32mif\u001b[0m \u001b[0mtolerance\u001b[0m \u001b[1;32mis\u001b[0m \u001b[1;32mnot\u001b[0m \u001b[1;32mNone\u001b[0m\u001b[1;33m:\u001b[0m\u001b[1;33m\u001b[0m\u001b[1;33m\u001b[0m\u001b[0m\n",
      "\u001b[1;31mKeyError\u001b[0m: 'image'"
     ]
    }
   ],
   "source": [
    "X_train, y_train = convert_to_array_and_split(train_image)\n",
    "print(X_train.shape)"
   ]
  },
  {
   "cell_type": "code",
   "execution_count": 29,
   "metadata": {},
   "outputs": [
    {
     "data": {
      "text/plain": [
       "(636, 5, 5, 2048)"
      ]
     },
     "execution_count": 29,
     "metadata": {},
     "output_type": "execute_result"
    }
   ],
   "source": [
    "# extracting features for training frames\n",
    "X_train = inception_model.predict(X_train)\n",
    "X_train.shape"
   ]
  },
  {
   "cell_type": "code",
   "execution_count": 30,
   "metadata": {},
   "outputs": [
    {
     "data": {
      "text/plain": [
       "(227, 5, 5, 2048)"
      ]
     },
     "execution_count": 30,
     "metadata": {},
     "output_type": "execute_result"
    }
   ],
   "source": [
    "X_val = inception_model.predict(X_val)\n",
    "X_val.shape"
   ]
  },
  {
   "cell_type": "code",
   "execution_count": 31,
   "metadata": {},
   "outputs": [],
   "source": [
    "# reshaping the training as well as validation frames in single dimension\n",
    "X_train = X_train.reshape(636, 5*5*2048)\n",
    "X_val = X_val.reshape(227, 5*5*2048)"
   ]
  },
  {
   "cell_type": "code",
   "execution_count": 32,
   "metadata": {},
   "outputs": [
    {
     "name": "stdout",
     "output_type": "stream",
     "text": [
      "(636, 51200)\n",
      "(227, 51200)\n"
     ]
    }
   ],
   "source": [
    "# normalizing the pixel values\n",
    "max_pixel = X_train.max()\n",
    "X_train = X_train / max_pixel\n",
    "X_val = X_val / max_pixel\n",
    "print(X_train.shape)\n",
    "print(X_val.shape)"
   ]
  },
  {
   "cell_type": "code",
   "execution_count": 33,
   "metadata": {},
   "outputs": [
    {
     "name": "stdout",
     "output_type": "stream",
     "text": [
      "Model: \"sequential\"\n",
      "_________________________________________________________________\n",
      "Layer (type)                 Output Shape              Param #   \n",
      "=================================================================\n",
      "dense (Dense)                (None, 1024)              52429824  \n",
      "_________________________________________________________________\n",
      "dropout (Dropout)            (None, 1024)              0         \n",
      "_________________________________________________________________\n",
      "dense_1 (Dense)              (None, 512)               524800    \n",
      "_________________________________________________________________\n",
      "dropout_1 (Dropout)          (None, 512)               0         \n",
      "_________________________________________________________________\n",
      "dense_2 (Dense)              (None, 256)               131328    \n",
      "_________________________________________________________________\n",
      "dropout_2 (Dropout)          (None, 256)               0         \n",
      "_________________________________________________________________\n",
      "dense_3 (Dense)              (None, 128)               32896     \n",
      "_________________________________________________________________\n",
      "dropout_3 (Dropout)          (None, 128)               0         \n",
      "_________________________________________________________________\n",
      "dense_4 (Dense)              (None, 3)                 387       \n",
      "=================================================================\n",
      "Total params: 53,119,235\n",
      "Trainable params: 53,119,235\n",
      "Non-trainable params: 0\n",
      "_________________________________________________________________\n"
     ]
    }
   ],
   "source": [
    "# The input shape will be 51200\n",
    "model = Sequential()\n",
    "model.add(Dense(1024, activation='relu', input_shape=(51200,)))\n",
    "model.add(Dropout(0.5))\n",
    "model.add(Dense(512, activation='relu'))\n",
    "model.add(Dropout(0.5))\n",
    "model.add(Dense(256, activation='relu'))\n",
    "model.add(Dropout(0.5))\n",
    "model.add(Dense(128, activation='relu'))\n",
    "model.add(Dropout(0.5))\n",
    "model.add(Dense(3, activation='softmax'))\n",
    "model.compile(loss='categorical_crossentropy',optimizer='Adam',metrics=['accuracy'])\n",
    "model.summary()"
   ]
  },
  {
   "cell_type": "code",
   "execution_count": 34,
   "metadata": {},
   "outputs": [],
   "source": [
    "# defining a function to save the weights of best model\n",
    "from keras.callbacks import ModelCheckpoint\n",
    "mcp_weight = ModelCheckpoint('weight02.hdf5', save_best_only=True, monitor='val_loss', mode='min')"
   ]
  },
  {
   "cell_type": "code",
   "execution_count": 35,
   "metadata": {},
   "outputs": [
    {
     "name": "stdout",
     "output_type": "stream",
     "text": [
      "Epoch 1/50\n",
      "5/5 [==============================] - 5s 900ms/step - loss: 1.3591 - accuracy: 0.3884 - val_loss: 0.9602 - val_accuracy: 0.5595\n",
      "Epoch 2/50\n",
      "5/5 [==============================] - 4s 886ms/step - loss: 1.3839 - accuracy: 0.4355 - val_loss: 0.9597 - val_accuracy: 0.6035\n",
      "Epoch 3/50\n",
      "5/5 [==============================] - 5s 920ms/step - loss: 1.1919 - accuracy: 0.4591 - val_loss: 0.9089 - val_accuracy: 0.5903\n",
      "Epoch 4/50\n",
      "5/5 [==============================] - 5s 909ms/step - loss: 0.9877 - accuracy: 0.5519 - val_loss: 0.8354 - val_accuracy: 0.6211\n",
      "Epoch 5/50\n",
      "5/5 [==============================] - 5s 916ms/step - loss: 0.8506 - accuracy: 0.6179 - val_loss: 0.8301 - val_accuracy: 0.6256\n",
      "Epoch 6/50\n",
      "5/5 [==============================] - 5s 920ms/step - loss: 0.7330 - accuracy: 0.6667 - val_loss: 0.8125 - val_accuracy: 0.6211\n",
      "Epoch 7/50\n",
      "5/5 [==============================] - 1s 219ms/step - loss: 0.6379 - accuracy: 0.7091 - val_loss: 0.8251 - val_accuracy: 0.6520\n",
      "Epoch 8/50\n",
      "5/5 [==============================] - 4s 887ms/step - loss: 0.6314 - accuracy: 0.7233 - val_loss: 0.8092 - val_accuracy: 0.6520\n",
      "Epoch 9/50\n",
      "5/5 [==============================] - 1s 225ms/step - loss: 0.5232 - accuracy: 0.7893 - val_loss: 0.8208 - val_accuracy: 0.6344\n",
      "Epoch 10/50\n",
      "5/5 [==============================] - 1s 229ms/step - loss: 0.4792 - accuracy: 0.7925 - val_loss: 0.8368 - val_accuracy: 0.6608\n",
      "Epoch 11/50\n",
      "5/5 [==============================] - 1s 224ms/step - loss: 0.4447 - accuracy: 0.8145 - val_loss: 0.8992 - val_accuracy: 0.6211\n",
      "Epoch 12/50\n",
      "5/5 [==============================] - 1s 227ms/step - loss: 0.4224 - accuracy: 0.8192 - val_loss: 0.8610 - val_accuracy: 0.6652\n",
      "Epoch 13/50\n",
      "5/5 [==============================] - 1s 218ms/step - loss: 0.3042 - accuracy: 0.8758 - val_loss: 0.9358 - val_accuracy: 0.6344\n",
      "Epoch 14/50\n",
      "5/5 [==============================] - 1s 230ms/step - loss: 0.2798 - accuracy: 0.9009 - val_loss: 0.9482 - val_accuracy: 0.6520\n",
      "Epoch 15/50\n",
      "5/5 [==============================] - 1s 221ms/step - loss: 0.2075 - accuracy: 0.9245 - val_loss: 1.0595 - val_accuracy: 0.6564\n",
      "Epoch 16/50\n",
      "5/5 [==============================] - 1s 221ms/step - loss: 0.1783 - accuracy: 0.9434 - val_loss: 1.1007 - val_accuracy: 0.6608\n",
      "Epoch 17/50\n",
      "5/5 [==============================] - 1s 223ms/step - loss: 0.1349 - accuracy: 0.9607 - val_loss: 1.2542 - val_accuracy: 0.6300\n",
      "Epoch 18/50\n",
      "5/5 [==============================] - 1s 221ms/step - loss: 0.1084 - accuracy: 0.9670 - val_loss: 1.3162 - val_accuracy: 0.6520\n",
      "Epoch 19/50\n",
      "5/5 [==============================] - 1s 222ms/step - loss: 0.1000 - accuracy: 0.9670 - val_loss: 1.4051 - val_accuracy: 0.6520\n",
      "Epoch 20/50\n",
      "5/5 [==============================] - 1s 224ms/step - loss: 0.0646 - accuracy: 0.9827 - val_loss: 1.5888 - val_accuracy: 0.6256\n",
      "Epoch 21/50\n",
      "5/5 [==============================] - 1s 219ms/step - loss: 0.0622 - accuracy: 0.9780 - val_loss: 1.5626 - val_accuracy: 0.6520\n",
      "Epoch 22/50\n",
      "5/5 [==============================] - 1s 219ms/step - loss: 0.0389 - accuracy: 0.9906 - val_loss: 1.8455 - val_accuracy: 0.6035\n",
      "Epoch 23/50\n",
      "5/5 [==============================] - 1s 221ms/step - loss: 0.0562 - accuracy: 0.9796 - val_loss: 1.7594 - val_accuracy: 0.6740\n",
      "Epoch 24/50\n",
      "5/5 [==============================] - 1s 220ms/step - loss: 0.0517 - accuracy: 0.9827 - val_loss: 1.9211 - val_accuracy: 0.6079\n",
      "Epoch 25/50\n",
      "5/5 [==============================] - 1s 218ms/step - loss: 0.0302 - accuracy: 0.9906 - val_loss: 1.9585 - val_accuracy: 0.6167\n",
      "Epoch 26/50\n",
      "5/5 [==============================] - 1s 213ms/step - loss: 0.0235 - accuracy: 0.9937 - val_loss: 2.0211 - val_accuracy: 0.6211\n",
      "Epoch 27/50\n",
      "5/5 [==============================] - 1s 220ms/step - loss: 0.0427 - accuracy: 0.9858 - val_loss: 2.1808 - val_accuracy: 0.6167\n",
      "Epoch 28/50\n",
      "5/5 [==============================] - 1s 226ms/step - loss: 0.0295 - accuracy: 0.9921 - val_loss: 2.0979 - val_accuracy: 0.6167\n",
      "Epoch 29/50\n",
      "5/5 [==============================] - 1s 221ms/step - loss: 0.0223 - accuracy: 0.9937 - val_loss: 1.9405 - val_accuracy: 0.6740\n",
      "Epoch 30/50\n",
      "5/5 [==============================] - 1s 222ms/step - loss: 0.0095 - accuracy: 1.0000 - val_loss: 2.4735 - val_accuracy: 0.6079\n",
      "Epoch 31/50\n",
      "5/5 [==============================] - 1s 223ms/step - loss: 0.0298 - accuracy: 0.9937 - val_loss: 1.9459 - val_accuracy: 0.6564\n",
      "Epoch 32/50\n",
      "5/5 [==============================] - 1s 222ms/step - loss: 0.0273 - accuracy: 0.9921 - val_loss: 1.9656 - val_accuracy: 0.6608\n",
      "Epoch 33/50\n",
      "5/5 [==============================] - 1s 226ms/step - loss: 0.0116 - accuracy: 0.9984 - val_loss: 2.5179 - val_accuracy: 0.6123\n",
      "Epoch 34/50\n",
      "5/5 [==============================] - 1s 221ms/step - loss: 0.0200 - accuracy: 0.9953 - val_loss: 2.0607 - val_accuracy: 0.6696\n",
      "Epoch 35/50\n",
      "5/5 [==============================] - 1s 243ms/step - loss: 0.0191 - accuracy: 0.9921 - val_loss: 2.4195 - val_accuracy: 0.6256\n",
      "Epoch 36/50\n",
      "5/5 [==============================] - 1s 228ms/step - loss: 0.0159 - accuracy: 0.9953 - val_loss: 2.5317 - val_accuracy: 0.6476\n",
      "Epoch 37/50\n",
      "5/5 [==============================] - 1s 225ms/step - loss: 0.0255 - accuracy: 0.9937 - val_loss: 2.3583 - val_accuracy: 0.6564\n",
      "Epoch 38/50\n",
      "5/5 [==============================] - 1s 221ms/step - loss: 0.0261 - accuracy: 0.9921 - val_loss: 2.9567 - val_accuracy: 0.5947\n",
      "Epoch 39/50\n",
      "5/5 [==============================] - 1s 224ms/step - loss: 0.0091 - accuracy: 0.9969 - val_loss: 2.2244 - val_accuracy: 0.6828\n",
      "Epoch 40/50\n",
      "5/5 [==============================] - 1s 221ms/step - loss: 0.0234 - accuracy: 0.9969 - val_loss: 2.3699 - val_accuracy: 0.6652\n",
      "Epoch 41/50\n",
      "5/5 [==============================] - 1s 219ms/step - loss: 0.0172 - accuracy: 0.9953 - val_loss: 2.5608 - val_accuracy: 0.6432\n",
      "Epoch 42/50\n",
      "5/5 [==============================] - 1s 224ms/step - loss: 0.0118 - accuracy: 0.9953 - val_loss: 2.7578 - val_accuracy: 0.6256\n",
      "Epoch 43/50\n",
      "5/5 [==============================] - 1s 221ms/step - loss: 0.0187 - accuracy: 0.9953 - val_loss: 2.7764 - val_accuracy: 0.6564\n",
      "Epoch 44/50\n",
      "5/5 [==============================] - 1s 221ms/step - loss: 0.0174 - accuracy: 0.9937 - val_loss: 2.7755 - val_accuracy: 0.6520\n",
      "Epoch 45/50\n",
      "5/5 [==============================] - 1s 224ms/step - loss: 0.0216 - accuracy: 0.9953 - val_loss: 2.8957 - val_accuracy: 0.6256\n",
      "Epoch 46/50\n",
      "5/5 [==============================] - 1s 220ms/step - loss: 0.0314 - accuracy: 0.9890 - val_loss: 2.3819 - val_accuracy: 0.6828\n",
      "Epoch 47/50\n",
      "5/5 [==============================] - 1s 222ms/step - loss: 0.0166 - accuracy: 0.9937 - val_loss: 2.4572 - val_accuracy: 0.6256\n",
      "Epoch 48/50\n",
      "5/5 [==============================] - 1s 220ms/step - loss: 0.0145 - accuracy: 0.9953 - val_loss: 2.0532 - val_accuracy: 0.7048\n",
      "Epoch 49/50\n",
      "5/5 [==============================] - 1s 219ms/step - loss: 0.0208 - accuracy: 0.9937 - val_loss: 2.2796 - val_accuracy: 0.6652\n",
      "Epoch 50/50\n",
      "5/5 [==============================] - 1s 219ms/step - loss: 0.0146 - accuracy: 0.9953 - val_loss: 2.3888 - val_accuracy: 0.6740\n"
     ]
    }
   ],
   "source": [
    "history=model.fit(X_train, y_train, epochs=50, validation_data=(X_val, y_val), callbacks=[mcp_weight], batch_size=128)"
   ]
  },
  {
   "cell_type": "code",
   "execution_count": 36,
   "metadata": {},
   "outputs": [
    {
     "data": {
      "image/png": "[encoded data removed]",
      "text/plain": [
       "<Figure size 432x288 with 1 Axes>"
      ]
     },
     "metadata": {
      "needs_background": "light"
     },
     "output_type": "display_data"
    }
   ],
   "source": [
    "plt.plot(history.history['accuracy'])\n",
    "plt.plot(history.history['val_accuracy'])\n",
    "plt.title('model accuracy')\n",
    "plt.ylabel('accuracy')\n",
    "plt.xlabel('epoch')\n",
    "plt.legend(['train', 'test'], loc='upper left')\n",
    "plt.show()"
   ]
  },
  {
   "cell_type": "code",
   "execution_count": 37,
   "metadata": {},
   "outputs": [
    {
     "data": {
      "image/png": "[encoded data removed]",
      "text/plain": [
       "<Figure size 432x288 with 1 Axes>"
      ]
     },
     "metadata": {
      "needs_background": "light"
     },
     "output_type": "display_data"
    }
   ],
   "source": [
    "# summarize history for loss(1st Run)\n",
    "plt.plot(history.history['loss'])\n",
    "plt.plot(history.history['val_loss'])\n",
    "plt.title('model loss')\n",
    "plt.ylabel('loss')\n",
    "plt.xlabel('epoch')\n",
    "plt.legend(['train', 'test'], loc='upper left')\n",
    "plt.show() "
   ]
  },
  {
   "cell_type": "code",
   "execution_count": 38,
   "metadata": {},
   "outputs": [
    {
     "name": "stdout",
     "output_type": "stream",
     "text": [
      "Model: \"sequential\"\n",
      "_________________________________________________________________\n",
      "Layer (type)                 Output Shape              Param #   \n",
      "=================================================================\n",
      "dense (Dense)                (None, 1024)              52429824  \n",
      "_________________________________________________________________\n",
      "dropout (Dropout)            (None, 1024)              0         \n",
      "_________________________________________________________________\n",
      "dense_1 (Dense)              (None, 512)               524800    \n",
      "_________________________________________________________________\n",
      "dropout_1 (Dropout)          (None, 512)               0         \n",
      "_________________________________________________________________\n",
      "dense_2 (Dense)              (None, 256)               131328    \n",
      "_________________________________________________________________\n",
      "dropout_2 (Dropout)          (None, 256)               0         \n",
      "_________________________________________________________________\n",
      "dense_3 (Dense)              (None, 128)               32896     \n",
      "_________________________________________________________________\n",
      "dropout_3 (Dropout)          (None, 128)               0         \n",
      "_________________________________________________________________\n",
      "dense_4 (Dense)              (None, 3)                 387       \n",
      "=================================================================\n",
      "Total params: 53,119,235\n",
      "Trainable params: 53,119,235\n",
      "Non-trainable params: 0\n",
      "_________________________________________________________________\n"
     ]
    }
   ],
   "source": [
    "model.load_weights(\"weight02.hdf5\")\n",
    "model.compile(loss='categorical_crossentropy',optimizer='Adam',metrics=['accuracy'])\n",
    "model.summary()"
   ]
  },
  {
   "cell_type": "markdown",
   "metadata": {},
   "source": [
    "### Applying Built model  on Test data and calculate accuracy with InceptionV3"
   ]
  },
  {
   "cell_type": "code",
   "execution_count": 39,
   "metadata": {},
   "outputs": [
    {
     "name": "stderr",
     "output_type": "stream",
     "text": [
      "100%|██████████████████████████████████████████████████████████████████████████████████| 60/60 [00:36<00:00,  1.63it/s]\n"
     ]
    }
   ],
   "source": [
    "from scipy import stats as s\n",
    "predict = []\n",
    "actual = []\n",
    "if not os.path.exists(test_frames_path):\n",
    "    os.makedirs(test_frames_path)\n",
    "\n",
    "for i in tqdm(range(test.shape[0])):\n",
    "    video_file = test['Video_url'][i]\n",
    "    action = test['action'][i]\n",
    "    video_name_list = video_file.split('/')[-1].split('.')\n",
    "    video_name_list = video_name_list[:-1]\n",
    "    video_name = \"\"\n",
    "    for n in video_name_list:\n",
    "        video_name += n\n",
    "    # capturing the video from the given path\n",
    "    capture = cv2.VideoCapture(video_file) \n",
    "    #frame rate\n",
    "    frame_rate = capture.get(5)\n",
    "    count = 0\n",
    "    files = glob(test_frames_path + '/*')\n",
    "    #removing all files from folder\n",
    "    for f in files:\n",
    "        os.remove(f)\n",
    "    while(capture.isOpened()):\n",
    "        #current frame number\n",
    "        frame_id = capture.get(1) \n",
    "        read_correctly, frame = capture.read()\n",
    "        if not read_correctly:\n",
    "            break\n",
    "        if (frame_id % math.floor(frame_rate) == 0):\n",
    "            # storing the frames in a new folder named train_1\n",
    "            filename = test_frames_path + \"/\" + video_name + \"_frame{}_\".format(count) + action +\".jpg\"\n",
    "            count += 1\n",
    "            cv2.imwrite(filename, frame)\n",
    "    capture.release()\n",
    "    \n",
    "    # reading all the frames from temp folder\n",
    "    images = glob(test_frames_path + '/*.jpg')\n",
    "    prediction_images = []\n",
    "    for i in range(len(images)):\n",
    "        img = image.load_img(images[i], target_size=(224,224,3))\n",
    "        img = image.img_to_array(img)\n",
    "        img = img / 255\n",
    "        prediction_images.append(img)\n",
    "        \n",
    "    # converting all the frames for a test video into numpy array\n",
    "    prediction_images = np.array(prediction_images)\n",
    "    # extracting features using pre-trained model\n",
    "    prediction_images = inception_model.predict(prediction_images)\n",
    "    # converting features in one dimensional array\n",
    "    prediction_images = prediction_images.reshape(prediction_images.shape[0], 5*5*2048)\n",
    "    # predicting tags for each array\n",
    "    prediction = np.argmax(model.predict(prediction_images), axis=-1)\n",
    "    # appending the mode of predictions in predict list to assign the tag to the video\n",
    "    predict.append(y_train.columns.values[s.mode(prediction)[0][0]])\n",
    "    # appending the actual tag of the video\n",
    "    actual.append(action)"
   ]
  },
  {
   "cell_type": "code",
   "execution_count": 40,
   "metadata": {},
   "outputs": [
    {
     "data": {
      "text/plain": [
       "73.33333333333333"
      ]
     },
     "execution_count": 40,
     "metadata": {},
     "output_type": "execute_result"
    }
   ],
   "source": [
    "from sklearn.metrics import accuracy_score\n",
    "accuracy_score(predict, actual)*100"
   ]
  },
  {
   "cell_type": "code",
   "execution_count": 41,
   "metadata": {},
   "outputs": [
    {
     "data": {
      "text/plain": [
       "array([0.6 , 0.75, 0.85])"
      ]
     },
     "execution_count": 41,
     "metadata": {},
     "output_type": "execute_result"
    }
   ],
   "source": [
    "from sklearn.metrics import precision_score\n",
    "precision_score(actual, predict, average=None)"
   ]
  },
  {
   "cell_type": "code",
   "execution_count": 42,
   "metadata": {},
   "outputs": [
    {
     "data": {
      "text/plain": [
       "0.7333333333333333"
      ]
     },
     "execution_count": 42,
     "metadata": {},
     "output_type": "execute_result"
    }
   ],
   "source": [
    "precision_score(actual, predict, average='micro')"
   ]
  },
  {
   "cell_type": "code",
   "execution_count": 43,
   "metadata": {},
   "outputs": [
    {
     "data": {
      "text/plain": [
       "array([0.6 , 0.75, 0.85])"
      ]
     },
     "execution_count": 43,
     "metadata": {},
     "output_type": "execute_result"
    }
   ],
   "source": [
    "from sklearn.metrics import f1_score\n",
    "f1_score(actual, predict, average=None)"
   ]
  },
  {
   "cell_type": "code",
   "execution_count": 44,
   "metadata": {},
   "outputs": [
    {
     "data": {
      "text/plain": [
       "0.7333333333333333"
      ]
     },
     "execution_count": 44,
     "metadata": {},
     "output_type": "execute_result"
    }
   ],
   "source": [
    "f1_score(actual, predict, average='micro')"
   ]
  },
  {
   "cell_type": "code",
   "execution_count": 45,
   "metadata": {},
   "outputs": [
    {
     "data": {
      "text/plain": [
       "array([0.6 , 0.75, 0.85])"
      ]
     },
     "execution_count": 45,
     "metadata": {},
     "output_type": "execute_result"
    }
   ],
   "source": [
    "from sklearn.metrics import recall_score\n",
    "recall_score(actual, predict, average=None)"
   ]
  },
  {
   "cell_type": "code",
   "execution_count": 46,
   "metadata": {},
   "outputs": [
    {
     "data": {
      "text/plain": [
       "0.7333333333333333"
      ]
     },
     "execution_count": 46,
     "metadata": {},
     "output_type": "execute_result"
    }
   ],
   "source": [
    "recall_score(actual, predict, average='micro')"
   ]
  },
  {
   "cell_type": "code",
   "execution_count": 47,
   "metadata": {},
   "outputs": [
    {
     "name": "stdout",
     "output_type": "stream",
     "text": [
      "[[[32  8]\n",
      "  [ 8 12]]\n",
      "\n",
      " [[35  5]\n",
      "  [ 5 15]]\n",
      "\n",
      " [[37  3]\n",
      "  [ 3 17]]]\n"
     ]
    }
   ],
   "source": [
    "from sklearn.metrics import multilabel_confusion_matrix\n",
    "confusion_matrix = multilabel_confusion_matrix(actual, predict, labels=action_values)\n",
    "# confusion_matrix = confusion_matrix.astype('float') / confusion_matrix.sum(axis=1)[:, np.newaxis]\n",
    "print(confusion_matrix)"
   ]
  },
  {
   "cell_type": "code",
   "execution_count": 48,
   "metadata": {},
   "outputs": [],
   "source": [
    "import pandas as pd\n",
    "import matplotlib.pyplot as plt\n",
    "import seaborn as sns\n",
    "\n",
    "confusion_matrix=([[[81,  2], [ 2, 38]],[[79 , 1],[ 5 ,38]],[[79,  4],[ 0 ,40]]])\n",
    "def print_confusion_matrix(confusion_matrix, axes, class_label, class_names, fontsize=30):\n",
    "\n",
    "    df_cm = pd.DataFrame(\n",
    "        confusion_matrix, index=class_names, columns=class_names,\n",
    "    )\n",
    "\n",
    "    try:\n",
    "        heatmap = sns.heatmap(df_cm, annot=True, fmt=\"d\", cbar=False, ax=axes)\n",
    "    except ValueError:\n",
    "        raise ValueError(\"Confusion matrix values must be integers.\")\n",
    "    heatmap.yaxis.set_ticklabels(heatmap.yaxis.get_ticklabels(), rotation=0, ha='right', fontsize=fontsize)\n",
    "    heatmap.xaxis.set_ticklabels(heatmap.xaxis.get_ticklabels(), rotation=45, ha='right', fontsize=fontsize)\n",
    "    axes.set_ylabel('True label')\n",
    "    axes.set_xlabel('Predicted label')\n",
    "    axes.set_title(\"Confusion Matrix for the class - \" + class_label)"
   ]
  },
  {
   "cell_type": "code",
   "execution_count": 49,
   "metadata": {},
   "outputs": [
    {
     "data": {
      "image/png": "[encoded data removed]",
      "text/plain": [
       "<Figure size 864x720 with 1 Axes>"
      ]
     },
     "metadata": {
      "needs_background": "light"
     },
     "output_type": "display_data"
    }
   ],
   "source": [
    "fig, ax = plt.subplots(1, 1, figsize=(12, 10))\n",
    "plt.rcParams.update({'font.size': 40})\n",
    "print_confusion_matrix(confusion_matrix[0], ax, action_values[0], [\"0\", \"1\"])\n",
    "fig.tight_layout()\n",
    "plt.show()"
   ]
  },
  {
   "cell_type": "code",
   "execution_count": 50,
   "metadata": {},
   "outputs": [
    {
     "data": {
      "image/png": "[encoded data removed]",
      "text/plain": [
       "<Figure size 864x720 with 1 Axes>"
      ]
     },
     "metadata": {
      "needs_background": "light"
     },
     "output_type": "display_data"
    }
   ],
   "source": [
    "fig, ax = plt.subplots(1, 1, figsize=(12, 10))\n",
    "plt.rcParams.update({'font.size': 40})\n",
    "print_confusion_matrix(confusion_matrix[1], ax, action_values[1], [\"0\", \"1\"])\n",
    "fig.tight_layout()\n",
    "plt.show()"
   ]
  },
  {
   "cell_type": "code",
   "execution_count": 51,
   "metadata": {},
   "outputs": [
    {
     "data": {
      "image/png": "[encoded data removed]",
      "text/plain": [
       "<Figure size 864x720 with 1 Axes>"
      ]
     },
     "metadata": {
      "needs_background": "light"
     },
     "output_type": "display_data"
    }
   ],
   "source": [
    "fig, ax = plt.subplots(1, 1, figsize=(12, 10))\n",
    "plt.rcParams.update({'font.size': 40})\n",
    "print_confusion_matrix(confusion_matrix[2], ax, action_values[2], [\"0\", \"1\"])\n",
    "fig.tight_layout()\n",
    "plt.show()"
   ]
  },
  {
   "cell_type": "markdown",
   "metadata": {},
   "source": [
    "### Processing With Pre-trained ResNet50 with imagenet weight"
   ]
  },
  {
   "cell_type": "code",
   "execution_count": 53,
   "metadata": {},
   "outputs": [],
   "source": [
    "from tensorflow.keras.applications import ResNet50\n",
    "resnet_model = ResNet50(include_top=False, weights=\"imagenet\")"
   ]
  },
  {
   "cell_type": "code",
   "execution_count": 54,
   "metadata": {},
   "outputs": [
    {
     "data": {
      "text/plain": [
       "(2242, 7, 7, 2048)"
      ]
     },
     "execution_count": 54,
     "metadata": {},
     "output_type": "execute_result"
    }
   ],
   "source": [
    "X_train = resnet_model.predict(X_train)\n",
    "X_train.shape"
   ]
  },
  {
   "cell_type": "code",
   "execution_count": 55,
   "metadata": {},
   "outputs": [
    {
     "data": {
      "text/plain": [
       "(920, 7, 7, 2048)"
      ]
     },
     "execution_count": 55,
     "metadata": {},
     "output_type": "execute_result"
    }
   ],
   "source": [
    "X_val = resnet_model.predict(X_val)\n",
    "X_val.shape"
   ]
  },
  {
   "cell_type": "code",
   "execution_count": 56,
   "metadata": {},
   "outputs": [],
   "source": [
    "X_train = X_train.reshape(2242, 7*7*2048)\n",
    "X_val = X_val.reshape(920, 7*7*2048)"
   ]
  },
  {
   "cell_type": "code",
   "execution_count": 57,
   "metadata": {},
   "outputs": [
    {
     "name": "stdout",
     "output_type": "stream",
     "text": [
      "(2242, 100352)\n",
      "(920, 100352)\n"
     ]
    }
   ],
   "source": [
    "max_pixel = X_train.max()\n",
    "X_train = X_train / max_pixel\n",
    "X_val = X_val / max_pixel\n",
    "print(X_train.shape)\n",
    "print(X_val.shape)"
   ]
  },
  {
   "cell_type": "code",
   "execution_count": 58,
   "metadata": {},
   "outputs": [
    {
     "name": "stdout",
     "output_type": "stream",
     "text": [
      "Model: \"sequential\"\n",
      "_________________________________________________________________\n",
      "Layer (type)                 Output Shape              Param #   \n",
      "=================================================================\n",
      "dense (Dense)                (None, 1024)              102761472 \n",
      "_________________________________________________________________\n",
      "dropout (Dropout)            (None, 1024)              0         \n",
      "_________________________________________________________________\n",
      "dense_1 (Dense)              (None, 512)               524800    \n",
      "_________________________________________________________________\n",
      "dropout_1 (Dropout)          (None, 512)               0         \n",
      "_________________________________________________________________\n",
      "dense_2 (Dense)              (None, 256)               131328    \n",
      "_________________________________________________________________\n",
      "dropout_2 (Dropout)          (None, 256)               0         \n",
      "_________________________________________________________________\n",
      "dense_3 (Dense)              (None, 128)               32896     \n",
      "_________________________________________________________________\n",
      "dropout_3 (Dropout)          (None, 128)               0         \n",
      "_________________________________________________________________\n",
      "dense_4 (Dense)              (None, 3)                 387       \n",
      "=================================================================\n",
      "Total params: 103,450,883\n",
      "Trainable params: 103,450,883\n",
      "Non-trainable params: 0\n",
      "_________________________________________________________________\n"
     ]
    }
   ],
   "source": [
    "# The input shape will be 100352\n",
    "model = Sequential()\n",
    "model.add(Dense(1024, activation='relu', input_shape=(100352,)))\n",
    "model.add(Dropout(0.5))\n",
    "model.add(Dense(512, activation='relu'))\n",
    "model.add(Dropout(0.5))\n",
    "model.add(Dense(256, activation='relu'))\n",
    "model.add(Dropout(0.5))\n",
    "model.add(Dense(128, activation='relu'))\n",
    "model.add(Dropout(0.5))\n",
    "model.add(Dense(3, activation='softmax'))\n",
    "model.compile(loss='categorical_crossentropy',optimizer='Adam',metrics=['accuracy'])\n",
    "model.summary()"
   ]
  },
  {
   "cell_type": "code",
   "execution_count": 59,
   "metadata": {},
   "outputs": [],
   "source": [
    "from keras.callbacks import ModelCheckpoint\n",
    "mcp_weight = ModelCheckpoint('weight2.hdf5', save_best_only=True, monitor='val_loss', mode='min')"
   ]
  },
  {
   "cell_type": "code",
   "execution_count": 60,
   "metadata": {
    "scrolled": true
   },
   "outputs": [
    {
     "name": "stdout",
     "output_type": "stream",
     "text": [
      "Epoch 1/50\n",
      "18/18 [==============================] - 24s 1s/step - loss: 1.3042 - accuracy: 0.3381 - val_loss: 1.0919 - val_accuracy: 0.3815\n",
      "Epoch 2/50\n",
      "18/18 [==============================] - 15s 844ms/step - loss: 1.1322 - accuracy: 0.3649 - val_loss: 1.0979 - val_accuracy: 0.3565\n",
      "Epoch 3/50\n",
      "18/18 [==============================] - 12s 686ms/step - loss: 1.1213 - accuracy: 0.3497 - val_loss: 1.0962 - val_accuracy: 0.3609\n",
      "Epoch 4/50\n",
      "18/18 [==============================] - 12s 654ms/step - loss: 1.1057 - accuracy: 0.3533 - val_loss: 1.0949 - val_accuracy: 0.3815\n",
      "Epoch 5/50\n",
      "18/18 [==============================] - 12s 650ms/step - loss: 1.1022 - accuracy: 0.3537 - val_loss: 1.0941 - val_accuracy: 0.3815\n",
      "Epoch 6/50\n",
      "18/18 [==============================] - 12s 639ms/step - loss: 1.0993 - accuracy: 0.3608 - val_loss: 1.0946 - val_accuracy: 0.3815\n",
      "Epoch 7/50\n",
      "18/18 [==============================] - 13s 731ms/step - loss: 1.0958 - accuracy: 0.3657 - val_loss: 1.0933 - val_accuracy: 0.3815\n",
      "Epoch 8/50\n",
      "18/18 [==============================] - 12s 649ms/step - loss: 1.0945 - accuracy: 0.3787 - val_loss: 1.0944 - val_accuracy: 0.3815\n",
      "Epoch 9/50\n",
      "18/18 [==============================] - 12s 654ms/step - loss: 1.0913 - accuracy: 0.3720 - val_loss: 1.0920 - val_accuracy: 0.3815\n",
      "Epoch 10/50\n",
      "18/18 [==============================] - 25s 1s/step - loss: 1.0923 - accuracy: 0.3707 - val_loss: 1.0885 - val_accuracy: 0.3946\n",
      "Epoch 11/50\n",
      "18/18 [==============================] - 24s 1s/step - loss: 1.0920 - accuracy: 0.3796 - val_loss: 1.0831 - val_accuracy: 0.3957\n",
      "Epoch 12/50\n",
      "18/18 [==============================] - 26s 1s/step - loss: 1.0835 - accuracy: 0.3747 - val_loss: 1.0710 - val_accuracy: 0.3935\n",
      "Epoch 13/50\n",
      "18/18 [==============================] - 23s 1s/step - loss: 1.0766 - accuracy: 0.3863 - val_loss: 1.0613 - val_accuracy: 0.4185\n",
      "Epoch 14/50\n",
      "18/18 [==============================] - 24s 1s/step - loss: 1.0692 - accuracy: 0.3970 - val_loss: 1.0516 - val_accuracy: 0.3967\n",
      "Epoch 15/50\n",
      "18/18 [==============================] - 13s 735ms/step - loss: 1.0702 - accuracy: 0.3898 - val_loss: 1.0542 - val_accuracy: 0.4283\n",
      "Epoch 16/50\n",
      "18/18 [==============================] - 25s 1s/step - loss: 1.0642 - accuracy: 0.3992 - val_loss: 1.0390 - val_accuracy: 0.4402\n",
      "Epoch 17/50\n",
      "18/18 [==============================] - 12s 654ms/step - loss: 1.0578 - accuracy: 0.4045 - val_loss: 1.0436 - val_accuracy: 0.4641\n",
      "Epoch 18/50\n",
      "18/18 [==============================] - 24s 1s/step - loss: 1.0534 - accuracy: 0.4077 - val_loss: 1.0323 - val_accuracy: 0.4435\n",
      "Epoch 19/50\n",
      "18/18 [==============================] - 23s 1s/step - loss: 1.0572 - accuracy: 0.4215 - val_loss: 1.0189 - val_accuracy: 0.4761\n",
      "Epoch 20/50\n",
      "18/18 [==============================] - 25s 1s/step - loss: 1.0486 - accuracy: 0.4233 - val_loss: 1.0133 - val_accuracy: 0.4935\n",
      "Epoch 21/50\n",
      "18/18 [==============================] - 23s 1s/step - loss: 1.0329 - accuracy: 0.4353 - val_loss: 0.9958 - val_accuracy: 0.5304\n",
      "Epoch 22/50\n",
      "18/18 [==============================] - 24s 1s/step - loss: 1.0252 - accuracy: 0.4607 - val_loss: 0.9928 - val_accuracy: 0.5196\n",
      "Epoch 23/50\n",
      "18/18 [==============================] - 24s 1s/step - loss: 1.0185 - accuracy: 0.4581 - val_loss: 0.9875 - val_accuracy: 0.5087\n",
      "Epoch 24/50\n",
      "18/18 [==============================] - 24s 1s/step - loss: 1.0356 - accuracy: 0.4264 - val_loss: 0.9830 - val_accuracy: 0.4707\n",
      "Epoch 25/50\n",
      "18/18 [==============================] - 12s 640ms/step - loss: 1.0359 - accuracy: 0.4166 - val_loss: 1.0099 - val_accuracy: 0.5065\n",
      "Epoch 26/50\n",
      "18/18 [==============================] - 13s 735ms/step - loss: 1.0282 - accuracy: 0.4393 - val_loss: 0.9917 - val_accuracy: 0.5196\n",
      "Epoch 27/50\n",
      "18/18 [==============================] - 24s 1s/step - loss: 1.0076 - accuracy: 0.4616 - val_loss: 0.9814 - val_accuracy: 0.5424\n",
      "Epoch 28/50\n",
      "18/18 [==============================] - 12s 639ms/step - loss: 1.0096 - accuracy: 0.4572 - val_loss: 0.9994 - val_accuracy: 0.5217\n",
      "Epoch 29/50\n",
      "18/18 [==============================] - 24s 1s/step - loss: 0.9970 - accuracy: 0.4728 - val_loss: 0.9271 - val_accuracy: 0.5641\n",
      "Epoch 30/50\n",
      "18/18 [==============================] - 15s 811ms/step - loss: 0.9941 - accuracy: 0.4683 - val_loss: 0.9372 - val_accuracy: 0.5815\n",
      "Epoch 31/50\n",
      "18/18 [==============================] - 12s 661ms/step - loss: 0.9899 - accuracy: 0.4732 - val_loss: 0.9387 - val_accuracy: 0.5685\n",
      "Epoch 32/50\n",
      "18/18 [==============================] - 26s 1s/step - loss: 0.9765 - accuracy: 0.4888 - val_loss: 0.9029 - val_accuracy: 0.6076\n",
      "Epoch 33/50\n",
      "18/18 [==============================] - 24s 1s/step - loss: 0.9704 - accuracy: 0.4902 - val_loss: 0.8922 - val_accuracy: 0.6174\n",
      "Epoch 34/50\n",
      "18/18 [==============================] - 13s 714ms/step - loss: 0.9771 - accuracy: 0.4813 - val_loss: 0.9535 - val_accuracy: 0.5554\n",
      "Epoch 35/50\n",
      "18/18 [==============================] - 24s 1s/step - loss: 0.9808 - accuracy: 0.4902 - val_loss: 0.8865 - val_accuracy: 0.6098\n",
      "Epoch 36/50\n",
      "18/18 [==============================] - 13s 698ms/step - loss: 0.9731 - accuracy: 0.4817 - val_loss: 0.8918 - val_accuracy: 0.6370\n",
      "Epoch 37/50\n",
      "18/18 [==============================] - 26s 1s/step - loss: 0.9472 - accuracy: 0.5178 - val_loss: 0.8706 - val_accuracy: 0.6054\n",
      "Epoch 38/50\n",
      "18/18 [==============================] - 12s 671ms/step - loss: 0.9809 - accuracy: 0.4723 - val_loss: 1.0012 - val_accuracy: 0.4978\n",
      "Epoch 39/50\n",
      "18/18 [==============================] - 13s 721ms/step - loss: 1.0069 - accuracy: 0.4585 - val_loss: 0.9551 - val_accuracy: 0.4587\n",
      "Epoch 40/50\n",
      "18/18 [==============================] - 13s 704ms/step - loss: 1.0649 - accuracy: 0.3814 - val_loss: 1.0585 - val_accuracy: 0.4033\n",
      "Epoch 41/50\n",
      "18/18 [==============================] - 13s 706ms/step - loss: 1.0232 - accuracy: 0.4063 - val_loss: 0.9264 - val_accuracy: 0.5989\n",
      "Epoch 42/50\n",
      "18/18 [==============================] - 26s 1s/step - loss: 0.9649 - accuracy: 0.4969 - val_loss: 0.8643 - val_accuracy: 0.6076\n",
      "Epoch 43/50\n",
      "18/18 [==============================] - 13s 708ms/step - loss: 0.9834 - accuracy: 0.4688 - val_loss: 0.9082 - val_accuracy: 0.5326\n",
      "Epoch 44/50\n",
      "18/18 [==============================] - 13s 717ms/step - loss: 0.9778 - accuracy: 0.4813 - val_loss: 0.8655 - val_accuracy: 0.6261\n",
      "Epoch 45/50\n",
      "18/18 [==============================] - 14s 772ms/step - loss: 0.9544 - accuracy: 0.5120 - val_loss: 0.8877 - val_accuracy: 0.6261\n",
      "Epoch 46/50\n",
      "18/18 [==============================] - 13s 710ms/step - loss: 0.9477 - accuracy: 0.5076 - val_loss: 0.9282 - val_accuracy: 0.5489\n",
      "Epoch 47/50\n",
      "18/18 [==============================] - 27s 2s/step - loss: 0.9958 - accuracy: 0.4594 - val_loss: 0.8552 - val_accuracy: 0.6467\n",
      "Epoch 48/50\n",
      "18/18 [==============================] - 11s 635ms/step - loss: 0.9408 - accuracy: 0.5183 - val_loss: 0.8626 - val_accuracy: 0.6380\n",
      "Epoch 49/50\n",
      "18/18 [==============================] - 23s 1s/step - loss: 0.9356 - accuracy: 0.5161 - val_loss: 0.8511 - val_accuracy: 0.6370\n",
      "Epoch 50/50\n",
      "18/18 [==============================] - 23s 1s/step - loss: 0.9470 - accuracy: 0.5058 - val_loss: 0.8479 - val_accuracy: 0.6478\n"
     ]
    }
   ],
   "source": [
    "history=model.fit(X_train, y_train, epochs=50, validation_data=(X_val, y_val), callbacks=[mcp_weight], batch_size=128)"
   ]
  },
  {
   "cell_type": "code",
   "execution_count": 63,
   "metadata": {},
   "outputs": [
    {
     "data": {
      "image/png": "[encoded data removed]",
      "text/plain": [
       "<Figure size 432x288 with 1 Axes>"
      ]
     },
     "metadata": {
      "needs_background": "light"
     },
     "output_type": "display_data"
    }
   ],
   "source": [
    "plt.plot(history.history['accuracy'])\n",
    "plt.plot(history.history['val_accuracy'])\n",
    "plt.title('model accuracy')\n",
    "plt.ylabel('accuracy')\n",
    "plt.xlabel('epoch')\n",
    "plt.legend(['train', 'test'], loc='upper left')\n",
    "plt.show()"
   ]
  },
  {
   "cell_type": "code",
   "execution_count": 64,
   "metadata": {},
   "outputs": [
    {
     "data": {
      "image/png": "[encoded data removed]",
      "text/plain": [
       "<Figure size 432x288 with 1 Axes>"
      ]
     },
     "metadata": {
      "needs_background": "light"
     },
     "output_type": "display_data"
    }
   ],
   "source": [
    "plt.plot(history.history['loss'])\n",
    "plt.plot(history.history['val_loss'])\n",
    "plt.title('model loss')\n",
    "plt.ylabel('loss')\n",
    "plt.xlabel('epoch')\n",
    "plt.legend(['train', 'test'], loc='upper left')\n",
    "plt.show() "
   ]
  },
  {
   "cell_type": "code",
   "execution_count": 65,
   "metadata": {},
   "outputs": [
    {
     "name": "stdout",
     "output_type": "stream",
     "text": [
      "Model: \"sequential\"\n",
      "_________________________________________________________________\n",
      "Layer (type)                 Output Shape              Param #   \n",
      "=================================================================\n",
      "dense (Dense)                (None, 1024)              102761472 \n",
      "_________________________________________________________________\n",
      "dropout (Dropout)            (None, 1024)              0         \n",
      "_________________________________________________________________\n",
      "dense_1 (Dense)              (None, 512)               524800    \n",
      "_________________________________________________________________\n",
      "dropout_1 (Dropout)          (None, 512)               0         \n",
      "_________________________________________________________________\n",
      "dense_2 (Dense)              (None, 256)               131328    \n",
      "_________________________________________________________________\n",
      "dropout_2 (Dropout)          (None, 256)               0         \n",
      "_________________________________________________________________\n",
      "dense_3 (Dense)              (None, 128)               32896     \n",
      "_________________________________________________________________\n",
      "dropout_3 (Dropout)          (None, 128)               0         \n",
      "_________________________________________________________________\n",
      "dense_4 (Dense)              (None, 3)                 387       \n",
      "=================================================================\n",
      "Total params: 103,450,883\n",
      "Trainable params: 103,450,883\n",
      "Non-trainable params: 0\n",
      "_________________________________________________________________\n"
     ]
    }
   ],
   "source": [
    "model.load_weights(\"weight2.hdf5\")\n",
    "model.compile(loss='categorical_crossentropy',optimizer='Adam',metrics=['accuracy'])\n",
    "model.summary()"
   ]
  },
  {
   "cell_type": "markdown",
   "metadata": {},
   "source": [
    "### Applying Built model  on Test data and calculate accuracy with Resnet50"
   ]
  },
  {
   "cell_type": "code",
   "execution_count": 66,
   "metadata": {},
   "outputs": [
    {
     "name": "stderr",
     "output_type": "stream",
     "text": [
      "100%|████████████████████████████████████████████████████████████████████████████████| 123/123 [02:17<00:00,  1.12s/it]\n"
     ]
    }
   ],
   "source": [
    "from scipy import stats as s\n",
    "predict = []\n",
    "actual = []\n",
    "if not os.path.exists(test_frames_path):\n",
    "    os.makedirs(test_frames_path)\n",
    "\n",
    "for i in tqdm(range(test.shape[0])):\n",
    "    video_file = test['Video_url'][i]\n",
    "    action = test['action'][i]\n",
    "    video_name_list = video_file.split('/')[-1].split('.')\n",
    "    video_name_list = video_name_list[:-1]\n",
    "    video_name = \"\"\n",
    "    for n in video_name_list:\n",
    "        video_name += n\n",
    "    # capturing the video from the given path\n",
    "    capture = cv2.VideoCapture(video_file) \n",
    "    #frame rate\n",
    "    frame_rate = capture.get(5)\n",
    "    count = 0\n",
    "    files = glob(test_frames_path + '/*')\n",
    "    #removing all files from folder\n",
    "    for f in files:\n",
    "        os.remove(f)\n",
    "    while(capture.isOpened()):\n",
    "        #current frame number\n",
    "        frame_id = capture.get(1) \n",
    "        read_correctly, frame = capture.read()\n",
    "        if not read_correctly:\n",
    "            break\n",
    "        if (frame_id % math.floor(frame_rate) == 0):\n",
    "            # storing the frames in a new folder named train_1\n",
    "            filename = test_frames_path + \"/\" + video_name + \"_frame{}_\".format(count) + action +\".jpg\"\n",
    "            count += 1\n",
    "            cv2.imwrite(filename, frame)\n",
    "    capture.release()\n",
    "    \n",
    "    # reading all the frames from temp folder\n",
    "    images = glob(test_frames_path + '/*.jpg')\n",
    "    prediction_images = []\n",
    "    for i in range(len(images)):\n",
    "        img = image.load_img(images[i], target_size=(224,224,3))\n",
    "        img = image.img_to_array(img)\n",
    "        img = img / 255\n",
    "        prediction_images.append(img)\n",
    "        \n",
    "    # converting all the frames for a test video into numpy array\n",
    "    prediction_images = np.array(prediction_images)\n",
    "    # extracting features using pre-trained model\n",
    "    prediction_images = resnet_model.predict(prediction_images)\n",
    "    # converting features in one dimensional array\n",
    "    prediction_images = prediction_images.reshape(prediction_images.shape[0], 7*7*2048)\n",
    "    # predicting tags for each array\n",
    "    prediction = np.argmax(model.predict(prediction_images), axis=-1)\n",
    "    # appending the mode of predictions in predict list to assign the tag to the video\n",
    "    predict.append(y_train.columns.values[s.mode(prediction)[0][0]])\n",
    "    # appending the actual tag of the video\n",
    "    actual.append(action)"
   ]
  },
  {
   "cell_type": "code",
   "execution_count": 69,
   "metadata": {},
   "outputs": [
    {
     "data": {
      "text/plain": [
       "60.16260162601627"
      ]
     },
     "execution_count": 69,
     "metadata": {},
     "output_type": "execute_result"
    }
   ],
   "source": [
    "from sklearn.metrics import accuracy_score\n",
    "accuracy_score(predict, actual)*100"
   ]
  },
  {
   "cell_type": "code",
   "execution_count": 70,
   "metadata": {},
   "outputs": [
    {
     "data": {
      "text/plain": [
       "array([0.52173913, 1.        , 0.57894737])"
      ]
     },
     "execution_count": 70,
     "metadata": {},
     "output_type": "execute_result"
    }
   ],
   "source": [
    "from sklearn.metrics import precision_score\n",
    "precision_score(actual, predict, average=None)"
   ]
  },
  {
   "cell_type": "code",
   "execution_count": 71,
   "metadata": {},
   "outputs": [
    {
     "data": {
      "text/plain": [
       "0.6016260162601627"
      ]
     },
     "execution_count": 71,
     "metadata": {},
     "output_type": "execute_result"
    }
   ],
   "source": [
    "precision_score(actual, predict, average='micro')"
   ]
  },
  {
   "cell_type": "code",
   "execution_count": 72,
   "metadata": {},
   "outputs": [
    {
     "data": {
      "text/plain": [
       "array([0.66055046, 0.54237288, 0.56410256])"
      ]
     },
     "execution_count": 72,
     "metadata": {},
     "output_type": "execute_result"
    }
   ],
   "source": [
    "from sklearn.metrics import f1_score\n",
    "f1_score(actual, predict, average=None)"
   ]
  },
  {
   "cell_type": "code",
   "execution_count": 73,
   "metadata": {},
   "outputs": [
    {
     "data": {
      "text/plain": [
       "0.6016260162601627"
      ]
     },
     "execution_count": 73,
     "metadata": {},
     "output_type": "execute_result"
    }
   ],
   "source": [
    "f1_score(actual, predict, average='micro')"
   ]
  },
  {
   "cell_type": "code",
   "execution_count": 74,
   "metadata": {},
   "outputs": [
    {
     "data": {
      "text/plain": [
       "array([0.9       , 0.37209302, 0.55      ])"
      ]
     },
     "execution_count": 74,
     "metadata": {},
     "output_type": "execute_result"
    }
   ],
   "source": [
    "from sklearn.metrics import recall_score\n",
    "recall_score(actual, predict, average=None)"
   ]
  },
  {
   "cell_type": "code",
   "execution_count": 75,
   "metadata": {},
   "outputs": [
    {
     "data": {
      "text/plain": [
       "0.6016260162601627"
      ]
     },
     "execution_count": 75,
     "metadata": {},
     "output_type": "execute_result"
    }
   ],
   "source": [
    "recall_score(actual, predict, average='micro')"
   ]
  },
  {
   "cell_type": "code",
   "execution_count": 76,
   "metadata": {},
   "outputs": [
    {
     "name": "stdout",
     "output_type": "stream",
     "text": [
      "[[[50 33]\n",
      "  [ 4 36]]\n",
      "\n",
      " [[80  0]\n",
      "  [27 16]]\n",
      "\n",
      " [[67 16]\n",
      "  [18 22]]]\n"
     ]
    }
   ],
   "source": [
    "from sklearn.metrics import multilabel_confusion_matrix\n",
    "confusion_matrix = multilabel_confusion_matrix(actual, predict, labels=action_values)\n",
    "print(confusion_matrix)"
   ]
  },
  {
   "cell_type": "code",
   "execution_count": 60,
   "metadata": {},
   "outputs": [],
   "source": [
    "import pandas as pd\n",
    "import matplotlib.pyplot as plt\n",
    "import seaborn as sns\n",
    "\n",
    "confusion_matrix=([[[50 ,33],[ 4 ,36]],[[80 , 0],[27, 16]],[[67 ,16],[18 ,22]]])\n",
    "def print_confusion_matrix(confusion_matrix, axes, class_label, class_names, fontsize=30):\n",
    "\n",
    "    df_cm = pd.DataFrame(\n",
    "        confusion_matrix, index=class_names, columns=class_names,\n",
    "    )\n",
    "\n",
    "    try:\n",
    "        heatmap = sns.heatmap(df_cm, annot=True, fmt=\"d\", cbar=False, ax=axes)\n",
    "    except ValueError:\n",
    "        raise ValueError(\"Confusion matrix values must be integers.\")\n",
    "    heatmap.yaxis.set_ticklabels(heatmap.yaxis.get_ticklabels(), rotation=0, ha='right', fontsize=fontsize)\n",
    "    heatmap.xaxis.set_ticklabels(heatmap.xaxis.get_ticklabels(), rotation=45, ha='right', fontsize=fontsize)\n",
    "    axes.set_ylabel('True label')\n",
    "    axes.set_xlabel('Predicted label')\n",
    "    axes.set_title(\"Confusion Matrix for the class - \" + class_label)"
   ]
  },
  {
   "cell_type": "code",
   "execution_count": 61,
   "metadata": {},
   "outputs": [
    {
     "data": {
      "image/png": "[encoded data removed]",
      "text/plain": [
       "<Figure size 864x720 with 1 Axes>"
      ]
     },
     "metadata": {
      "needs_background": "light"
     },
     "output_type": "display_data"
    }
   ],
   "source": [
    "fig, ax = plt.subplots(1, 1, figsize=(12, 10))\n",
    "plt.rcParams.update({'font.size': 40})\n",
    "print_confusion_matrix(confusion_matrix[0], ax, action_values[0], [\"0\", \"1\"])\n",
    "fig.tight_layout()\n",
    "plt.show()"
   ]
  },
  {
   "cell_type": "code",
   "execution_count": 44,
   "metadata": {},
   "outputs": [
    {
     "data": {
      "image/png": "[encoded data removed]",
      "text/plain": [
       "<Figure size 864x720 with 1 Axes>"
      ]
     },
     "metadata": {
      "needs_background": "light"
     },
     "output_type": "display_data"
    }
   ],
   "source": [
    "fig, ax = plt.subplots(1, 1, figsize=(12, 10))\n",
    "plt.rcParams.update({'font.size': 40})\n",
    "print_confusion_matrix(confusion_matrix[1], ax, action_values[1], [\"0\", \"1\"])\n",
    "fig.tight_layout()\n",
    "plt.show()"
   ]
  },
  {
   "cell_type": "code",
   "execution_count": 45,
   "metadata": {
    "scrolled": true
   },
   "outputs": [
    {
     "data": {
      "image/png": "[encoded data removed]",
      "text/plain": [
       "<Figure size 864x720 with 1 Axes>"
      ]
     },
     "metadata": {
      "needs_background": "light"
     },
     "output_type": "display_data"
    }
   ],
   "source": [
    "fig, ax = plt.subplots(1, 1, figsize=(12, 10))\n",
    "plt.rcParams.update({'font.size': 40})\n",
    "print_confusion_matrix(confusion_matrix[2], ax, action_values[2], [\"0\", \"1\"])\n",
    "fig.tight_layout()\n",
    "plt.show()"
   ]
  },
  {
   "cell_type": "markdown",
   "metadata": {},
   "source": [
    "### Processing With Pre-trained MobileNetV2 with imagenet weight"
   ]
  },
  {
   "cell_type": "code",
   "execution_count": 57,
   "metadata": {},
   "outputs": [
    {
     "name": "stdout",
     "output_type": "stream",
     "text": [
      "WARNING:tensorflow:`input_shape` is undefined or non-square, or `rows` is not in [96, 128, 160, 192, 224]. Weights for input shape (224, 224) will be loaded as the default.\n"
     ]
    }
   ],
   "source": [
    "from tensorflow.keras.applications.mobilenet_v2 import MobileNetV2\n",
    "mobilenet_model = MobileNetV2(include_top = False, weights = 'imagenet')"
   ]
  },
  {
   "cell_type": "code",
   "execution_count": 59,
   "metadata": {},
   "outputs": [
    {
     "data": {
      "text/plain": [
       "(2132, 7, 7, 1280)"
      ]
     },
     "execution_count": 59,
     "metadata": {},
     "output_type": "execute_result"
    }
   ],
   "source": [
    "X_train = mobilenet_model.predict(X_train)\n",
    "X_train.shape"
   ]
  },
  {
   "cell_type": "code",
   "execution_count": 61,
   "metadata": {},
   "outputs": [
    {
     "data": {
      "text/plain": [
       "(939, 7, 7, 1280)"
      ]
     },
     "execution_count": 61,
     "metadata": {},
     "output_type": "execute_result"
    }
   ],
   "source": [
    "X_val = mobilenet_model.predict(X_val)\n",
    "X_val.shape"
   ]
  },
  {
   "cell_type": "code",
   "execution_count": 65,
   "metadata": {},
   "outputs": [],
   "source": [
    "X_train = X_train.reshape(2132, 7*7*1280)\n",
    "X_val = X_val.reshape(939, 7*7*1280)"
   ]
  },
  {
   "cell_type": "code",
   "execution_count": 66,
   "metadata": {},
   "outputs": [
    {
     "name": "stdout",
     "output_type": "stream",
     "text": [
      "(2132, 62720)\n",
      "(939, 62720)\n"
     ]
    }
   ],
   "source": [
    "max_pixel = X_train.max()\n",
    "X_train = X_train / max_pixel\n",
    "X_val = X_val / max_pixel\n",
    "print(X_train.shape)\n",
    "print(X_val.shape)"
   ]
  },
  {
   "cell_type": "code",
   "execution_count": 70,
   "metadata": {},
   "outputs": [
    {
     "name": "stdout",
     "output_type": "stream",
     "text": [
      "Model: \"sequential_1\"\n",
      "_________________________________________________________________\n",
      "Layer (type)                 Output Shape              Param #   \n",
      "=================================================================\n",
      "dense_5 (Dense)              (None, 1024)              64226304  \n",
      "_________________________________________________________________\n",
      "dropout_4 (Dropout)          (None, 1024)              0         \n",
      "_________________________________________________________________\n",
      "dense_6 (Dense)              (None, 512)               524800    \n",
      "_________________________________________________________________\n",
      "dropout_5 (Dropout)          (None, 512)               0         \n",
      "_________________________________________________________________\n",
      "dense_7 (Dense)              (None, 256)               131328    \n",
      "_________________________________________________________________\n",
      "dropout_6 (Dropout)          (None, 256)               0         \n",
      "_________________________________________________________________\n",
      "dense_8 (Dense)              (None, 128)               32896     \n",
      "_________________________________________________________________\n",
      "dropout_7 (Dropout)          (None, 128)               0         \n",
      "_________________________________________________________________\n",
      "dense_9 (Dense)              (None, 3)                 387       \n",
      "=================================================================\n",
      "Total params: 64,915,715\n",
      "Trainable params: 64,915,715\n",
      "Non-trainable params: 0\n",
      "_________________________________________________________________\n"
     ]
    }
   ],
   "source": [
    "# The input shape will be 100352\n",
    "model = Sequential()\n",
    "model.add(Dense(1024, activation='relu', input_shape=(62720,)))\n",
    "model.add(Dropout(0.5))\n",
    "model.add(Dense(512, activation='relu'))\n",
    "model.add(Dropout(0.5))\n",
    "model.add(Dense(256, activation='relu'))\n",
    "model.add(Dropout(0.5))\n",
    "model.add(Dense(128, activation='relu'))\n",
    "model.add(Dropout(0.5))\n",
    "model.add(Dense(3, activation='softmax'))\n",
    "model.compile(loss='categorical_crossentropy',optimizer='Adam',metrics=['accuracy'])\n",
    "model.summary()"
   ]
  },
  {
   "cell_type": "code",
   "execution_count": 71,
   "metadata": {},
   "outputs": [],
   "source": [
    "from keras.callbacks import ModelCheckpoint\n",
    "mcp_weight = ModelCheckpoint('weight05.hdf5', save_best_only=True, monitor='val_loss', mode='min')"
   ]
  },
  {
   "cell_type": "code",
   "execution_count": 72,
   "metadata": {},
   "outputs": [
    {
     "name": "stdout",
     "output_type": "stream",
     "text": [
      "Epoch 1/50\n",
      "17/17 [==============================] - 15s 873ms/step - loss: 2.7877 - accuracy: 0.3776 - val_loss: 0.9840 - val_accuracy: 0.4973\n",
      "Epoch 2/50\n",
      "17/17 [==============================] - 15s 858ms/step - loss: 1.4513 - accuracy: 0.4048 - val_loss: 0.9690 - val_accuracy: 0.5868\n",
      "Epoch 3/50\n",
      "17/17 [==============================] - 15s 896ms/step - loss: 1.0778 - accuracy: 0.4897 - val_loss: 0.8457 - val_accuracy: 0.6390\n",
      "Epoch 4/50\n",
      "17/17 [==============================] - 14s 852ms/step - loss: 0.9556 - accuracy: 0.5206 - val_loss: 0.8067 - val_accuracy: 0.6997\n",
      "Epoch 5/50\n",
      "17/17 [==============================] - 16s 919ms/step - loss: 0.8598 - accuracy: 0.5966 - val_loss: 0.6962 - val_accuracy: 0.7306\n",
      "Epoch 6/50\n",
      "17/17 [==============================] - 15s 862ms/step - loss: 0.7659 - accuracy: 0.6487 - val_loss: 0.5983 - val_accuracy: 0.7827\n",
      "Epoch 7/50\n",
      "17/17 [==============================] - 15s 888ms/step - loss: 0.6152 - accuracy: 0.7303 - val_loss: 0.4546 - val_accuracy: 0.8275\n",
      "Epoch 8/50\n",
      "17/17 [==============================] - 15s 884ms/step - loss: 0.4605 - accuracy: 0.8100 - val_loss: 0.3662 - val_accuracy: 0.8669\n",
      "Epoch 9/50\n",
      "17/17 [==============================] - 15s 862ms/step - loss: 0.3625 - accuracy: 0.8546 - val_loss: 0.3190 - val_accuracy: 0.8839\n",
      "Epoch 10/50\n",
      "17/17 [==============================] - 7s 428ms/step - loss: 0.2996 - accuracy: 0.8893 - val_loss: 0.3292 - val_accuracy: 0.8924\n",
      "Epoch 11/50\n",
      "17/17 [==============================] - 15s 865ms/step - loss: 0.2420 - accuracy: 0.9118 - val_loss: 0.2508 - val_accuracy: 0.9180\n",
      "Epoch 12/50\n",
      "17/17 [==============================] - 7s 436ms/step - loss: 0.1895 - accuracy: 0.9353 - val_loss: 0.3072 - val_accuracy: 0.9148\n",
      "Epoch 13/50\n",
      "17/17 [==============================] - 7s 441ms/step - loss: 0.1159 - accuracy: 0.9601 - val_loss: 0.3566 - val_accuracy: 0.9116\n",
      "Epoch 14/50\n",
      "17/17 [==============================] - 7s 438ms/step - loss: 0.1174 - accuracy: 0.9592 - val_loss: 0.3247 - val_accuracy: 0.9148\n",
      "Epoch 15/50\n",
      "17/17 [==============================] - 7s 426ms/step - loss: 0.1108 - accuracy: 0.9662 - val_loss: 0.2917 - val_accuracy: 0.9159\n",
      "Epoch 16/50\n",
      "17/17 [==============================] - 7s 436ms/step - loss: 0.1024 - accuracy: 0.9672 - val_loss: 0.3115 - val_accuracy: 0.9212\n",
      "Epoch 17/50\n",
      "17/17 [==============================] - 7s 432ms/step - loss: 0.1066 - accuracy: 0.9648 - val_loss: 0.2997 - val_accuracy: 0.9212\n",
      "Epoch 18/50\n",
      "17/17 [==============================] - 7s 436ms/step - loss: 0.0825 - accuracy: 0.9780 - val_loss: 0.3284 - val_accuracy: 0.9105\n",
      "Epoch 19/50\n",
      "17/17 [==============================] - 7s 429ms/step - loss: 0.0558 - accuracy: 0.9794 - val_loss: 0.3621 - val_accuracy: 0.9191\n",
      "Epoch 20/50\n",
      "17/17 [==============================] - 8s 444ms/step - loss: 0.0447 - accuracy: 0.9869 - val_loss: 0.4628 - val_accuracy: 0.9180\n",
      "Epoch 21/50\n",
      "17/17 [==============================] - 8s 442ms/step - loss: 0.0400 - accuracy: 0.9902 - val_loss: 0.4304 - val_accuracy: 0.9265\n",
      "Epoch 22/50\n",
      "17/17 [==============================] - 7s 440ms/step - loss: 0.0595 - accuracy: 0.9855 - val_loss: 0.3771 - val_accuracy: 0.9233\n",
      "Epoch 23/50\n",
      "17/17 [==============================] - 7s 438ms/step - loss: 0.0312 - accuracy: 0.9902 - val_loss: 0.4218 - val_accuracy: 0.9244\n",
      "Epoch 24/50\n",
      "17/17 [==============================] - 8s 443ms/step - loss: 0.0476 - accuracy: 0.9850 - val_loss: 0.5171 - val_accuracy: 0.9169\n",
      "Epoch 25/50\n",
      "17/17 [==============================] - 8s 460ms/step - loss: 0.0442 - accuracy: 0.9845 - val_loss: 0.4564 - val_accuracy: 0.9244\n",
      "Epoch 26/50\n",
      "17/17 [==============================] - 8s 475ms/step - loss: 0.0372 - accuracy: 0.9897 - val_loss: 0.4523 - val_accuracy: 0.9244\n",
      "Epoch 27/50\n",
      "17/17 [==============================] - 9s 510ms/step - loss: 0.0430 - accuracy: 0.9859 - val_loss: 0.4580 - val_accuracy: 0.9212\n",
      "Epoch 28/50\n",
      "17/17 [==============================] - 8s 464ms/step - loss: 0.0290 - accuracy: 0.9897 - val_loss: 0.5096 - val_accuracy: 0.9137\n",
      "Epoch 29/50\n",
      "17/17 [==============================] - 8s 475ms/step - loss: 0.0495 - accuracy: 0.9845 - val_loss: 0.4124 - val_accuracy: 0.9255\n",
      "Epoch 30/50\n",
      "17/17 [==============================] - 9s 506ms/step - loss: 0.0539 - accuracy: 0.9850 - val_loss: 0.3385 - val_accuracy: 0.9255\n",
      "Epoch 31/50\n",
      "17/17 [==============================] - 9s 556ms/step - loss: 0.0420 - accuracy: 0.9892 - val_loss: 0.3843 - val_accuracy: 0.9212\n",
      "Epoch 32/50\n",
      "17/17 [==============================] - 8s 500ms/step - loss: 0.0440 - accuracy: 0.9878 - val_loss: 0.4380 - val_accuracy: 0.9255\n",
      "Epoch 33/50\n",
      "17/17 [==============================] - 9s 519ms/step - loss: 0.0303 - accuracy: 0.9897 - val_loss: 0.3682 - val_accuracy: 0.9276\n",
      "Epoch 34/50\n",
      "17/17 [==============================] - 8s 473ms/step - loss: 0.0500 - accuracy: 0.9855 - val_loss: 0.3877 - val_accuracy: 0.9159\n",
      "Epoch 35/50\n",
      "17/17 [==============================] - 8s 475ms/step - loss: 0.0282 - accuracy: 0.9906 - val_loss: 0.4857 - val_accuracy: 0.9148\n",
      "Epoch 36/50\n",
      "17/17 [==============================] - 8s 481ms/step - loss: 0.0306 - accuracy: 0.9930 - val_loss: 0.4973 - val_accuracy: 0.9159\n",
      "Epoch 37/50\n",
      "17/17 [==============================] - 8s 488ms/step - loss: 0.0330 - accuracy: 0.9906 - val_loss: 0.5051 - val_accuracy: 0.9233\n",
      "Epoch 38/50\n",
      "17/17 [==============================] - 9s 531ms/step - loss: 0.0321 - accuracy: 0.9916 - val_loss: 0.4605 - val_accuracy: 0.9212\n",
      "Epoch 39/50\n",
      "17/17 [==============================] - 8s 482ms/step - loss: 0.0164 - accuracy: 0.9930 - val_loss: 0.5460 - val_accuracy: 0.9297\n",
      "Epoch 40/50\n",
      "17/17 [==============================] - 8s 490ms/step - loss: 0.0612 - accuracy: 0.9897 - val_loss: 0.4050 - val_accuracy: 0.9329\n",
      "Epoch 41/50\n",
      "17/17 [==============================] - 8s 494ms/step - loss: 0.0396 - accuracy: 0.9887 - val_loss: 0.4389 - val_accuracy: 0.9148\n",
      "Epoch 42/50\n",
      "17/17 [==============================] - 7s 441ms/step - loss: 0.0294 - accuracy: 0.9920 - val_loss: 0.4587 - val_accuracy: 0.9276\n",
      "Epoch 43/50\n",
      "17/17 [==============================] - 8s 447ms/step - loss: 0.0451 - accuracy: 0.9878 - val_loss: 0.4168 - val_accuracy: 0.9223\n",
      "Epoch 44/50\n",
      "17/17 [==============================] - 8s 446ms/step - loss: 0.0279 - accuracy: 0.9920 - val_loss: 0.4123 - val_accuracy: 0.9180\n",
      "Epoch 45/50\n",
      "17/17 [==============================] - 8s 460ms/step - loss: 0.0279 - accuracy: 0.9897 - val_loss: 0.4527 - val_accuracy: 0.9244\n",
      "Epoch 46/50\n",
      "17/17 [==============================] - 7s 412ms/step - loss: 0.0135 - accuracy: 0.9958 - val_loss: 0.5111 - val_accuracy: 0.9180\n",
      "Epoch 47/50\n",
      "17/17 [==============================] - 7s 423ms/step - loss: 0.0156 - accuracy: 0.9958 - val_loss: 0.4858 - val_accuracy: 0.9159\n",
      "Epoch 48/50\n",
      "17/17 [==============================] - 7s 431ms/step - loss: 0.0177 - accuracy: 0.9953 - val_loss: 0.4981 - val_accuracy: 0.9201\n",
      "Epoch 49/50\n",
      "17/17 [==============================] - 8s 447ms/step - loss: 0.0227 - accuracy: 0.9944 - val_loss: 0.4690 - val_accuracy: 0.9191\n",
      "Epoch 50/50\n",
      "17/17 [==============================] - 7s 429ms/step - loss: 0.0181 - accuracy: 0.9939 - val_loss: 0.5219 - val_accuracy: 0.9201\n"
     ]
    }
   ],
   "source": [
    "history=model.fit(X_train, y_train, epochs=50, validation_data=(X_val, y_val), callbacks=[mcp_weight], batch_size=128)"
   ]
  },
  {
   "cell_type": "code",
   "execution_count": 73,
   "metadata": {},
   "outputs": [
    {
     "data": {
      "image/png": "[encoded data removed]",
      "text/plain": [
       "<Figure size 432x288 with 1 Axes>"
      ]
     },
     "metadata": {
      "needs_background": "light"
     },
     "output_type": "display_data"
    }
   ],
   "source": [
    "plt.plot(history.history['accuracy'])\n",
    "plt.plot(history.history['val_accuracy'])\n",
    "plt.title('model accuracy')\n",
    "plt.ylabel('accuracy')\n",
    "plt.xlabel('epoch')\n",
    "plt.legend(['train', 'test'], loc='upper left')\n",
    "plt.show()"
   ]
  },
  {
   "cell_type": "code",
   "execution_count": 74,
   "metadata": {},
   "outputs": [
    {
     "data": {
      "image/png": "[encoded data removed]",
      "text/plain": [
       "<Figure size 432x288 with 1 Axes>"
      ]
     },
     "metadata": {
      "needs_background": "light"
     },
     "output_type": "display_data"
    }
   ],
   "source": [
    "plt.plot(history.history['loss'])\n",
    "plt.plot(history.history['val_loss'])\n",
    "plt.title('model loss')\n",
    "plt.ylabel('loss')\n",
    "plt.xlabel('epoch')\n",
    "plt.legend(['train', 'test'], loc='upper left')\n",
    "plt.show() "
   ]
  },
  {
   "cell_type": "code",
   "execution_count": 75,
   "metadata": {},
   "outputs": [
    {
     "name": "stdout",
     "output_type": "stream",
     "text": [
      "Model: \"sequential_1\"\n",
      "_________________________________________________________________\n",
      "Layer (type)                 Output Shape              Param #   \n",
      "=================================================================\n",
      "dense_5 (Dense)              (None, 1024)              64226304  \n",
      "_________________________________________________________________\n",
      "dropout_4 (Dropout)          (None, 1024)              0         \n",
      "_________________________________________________________________\n",
      "dense_6 (Dense)              (None, 512)               524800    \n",
      "_________________________________________________________________\n",
      "dropout_5 (Dropout)          (None, 512)               0         \n",
      "_________________________________________________________________\n",
      "dense_7 (Dense)              (None, 256)               131328    \n",
      "_________________________________________________________________\n",
      "dropout_6 (Dropout)          (None, 256)               0         \n",
      "_________________________________________________________________\n",
      "dense_8 (Dense)              (None, 128)               32896     \n",
      "_________________________________________________________________\n",
      "dropout_7 (Dropout)          (None, 128)               0         \n",
      "_________________________________________________________________\n",
      "dense_9 (Dense)              (None, 3)                 387       \n",
      "=================================================================\n",
      "Total params: 64,915,715\n",
      "Trainable params: 64,915,715\n",
      "Non-trainable params: 0\n",
      "_________________________________________________________________\n"
     ]
    }
   ],
   "source": [
    "model.load_weights(\"weight05.hdf5\")\n",
    "model.compile(loss='categorical_crossentropy',optimizer='Adam',metrics=['accuracy'])\n",
    "model.summary()"
   ]
  },
  {
   "cell_type": "markdown",
   "metadata": {},
   "source": [
    "### Applying Built model  on Test data and calculate accuracy with MobileNetV2"
   ]
  },
  {
   "cell_type": "code",
   "execution_count": 77,
   "metadata": {},
   "outputs": [
    {
     "name": "stderr",
     "output_type": "stream",
     "text": [
      "100%|████████████████████████████████████████████████████████████████████████████████| 123/123 [01:34<00:00,  1.30it/s]\n"
     ]
    }
   ],
   "source": [
    "from scipy import stats as s\n",
    "predict = []\n",
    "actual = []\n",
    "if not os.path.exists(test_frames_path):\n",
    "    os.makedirs(test_frames_path)\n",
    "\n",
    "for i in tqdm(range(test.shape[0])):\n",
    "    video_file = test['Video_url'][i]\n",
    "    action = test['action'][i]\n",
    "    video_name_list = video_file.split('/')[-1].split('.')\n",
    "    video_name_list = video_name_list[:-1]\n",
    "    video_name = \"\"\n",
    "    for n in video_name_list:\n",
    "        video_name += n\n",
    "    # capturing the video from the given path\n",
    "    capture = cv2.VideoCapture(video_file) \n",
    "    #frame rate\n",
    "    frame_rate = capture.get(5)\n",
    "    count = 0\n",
    "    files = glob(test_frames_path + '/*')\n",
    "    #removing all files from folder\n",
    "    for f in files:\n",
    "        os.remove(f)\n",
    "    while(capture.isOpened()):\n",
    "        #current frame number\n",
    "        frame_id = capture.get(1) \n",
    "        read_correctly, frame = capture.read()\n",
    "        if not read_correctly:\n",
    "            break\n",
    "        if (frame_id % math.floor(frame_rate) == 0):\n",
    "            # storing the frames in a new folder named train_1\n",
    "            filename = test_frames_path + \"/\" + video_name + \"_frame{}_\".format(count) + action +\".jpg\"\n",
    "            count += 1\n",
    "            cv2.imwrite(filename, frame)\n",
    "    capture.release()\n",
    "    \n",
    "    # reading all the frames from temp folder\n",
    "    images = glob(test_frames_path + '/*.jpg')\n",
    "    prediction_images = []\n",
    "    for i in range(len(images)):\n",
    "        img = image.load_img(images[i], target_size=(224,224,3))\n",
    "        img = image.img_to_array(img)\n",
    "        img = img / 255\n",
    "        prediction_images.append(img)\n",
    "        \n",
    "    # converting all the frames for a test video into numpy array\n",
    "    prediction_images = np.array(prediction_images)\n",
    "    # extracting features using pre-trained model\n",
    "    prediction_images = mobilenet_model.predict(prediction_images)\n",
    "    # converting features in one dimensional array\n",
    "    prediction_images = prediction_images.reshape(prediction_images.shape[0], 7*7*1280)\n",
    "    # predicting tags for each array\n",
    "    prediction = np.argmax(model.predict(prediction_images), axis=-1)\n",
    "    # appending the mode of predictions in predict list to assign the tag to the video\n",
    "    predict.append(y_train.columns.values[s.mode(prediction)[0][0]])\n",
    "    # appending the actual tag of the video\n",
    "    actual.append(action)"
   ]
  },
  {
   "cell_type": "code",
   "execution_count": 78,
   "metadata": {},
   "outputs": [
    {
     "data": {
      "text/plain": [
       "91.05691056910568"
      ]
     },
     "execution_count": 78,
     "metadata": {},
     "output_type": "execute_result"
    }
   ],
   "source": [
    "from sklearn.metrics import accuracy_score\n",
    "accuracy_score(predict, actual)*100"
   ]
  },
  {
   "cell_type": "code",
   "execution_count": 79,
   "metadata": {},
   "outputs": [
    {
     "data": {
      "text/plain": [
       "array([0.87804878, 0.92307692, 0.93023256])"
      ]
     },
     "execution_count": 79,
     "metadata": {},
     "output_type": "execute_result"
    }
   ],
   "source": [
    "from sklearn.metrics import precision_score\n",
    "precision_score(actual, predict, average=None)"
   ]
  },
  {
   "cell_type": "code",
   "execution_count": 80,
   "metadata": {},
   "outputs": [
    {
     "data": {
      "text/plain": [
       "0.9105691056910569"
      ]
     },
     "execution_count": 80,
     "metadata": {},
     "output_type": "execute_result"
    }
   ],
   "source": [
    "precision_score(actual, predict, average='micro')"
   ]
  },
  {
   "cell_type": "code",
   "execution_count": 81,
   "metadata": {},
   "outputs": [
    {
     "data": {
      "text/plain": [
       "array([0.88888889, 0.87804878, 0.96385542])"
      ]
     },
     "execution_count": 81,
     "metadata": {},
     "output_type": "execute_result"
    }
   ],
   "source": [
    "from sklearn.metrics import f1_score\n",
    "f1_score(actual, predict, average=None)"
   ]
  },
  {
   "cell_type": "code",
   "execution_count": 82,
   "metadata": {},
   "outputs": [
    {
     "data": {
      "text/plain": [
       "0.9105691056910569"
      ]
     },
     "execution_count": 82,
     "metadata": {},
     "output_type": "execute_result"
    }
   ],
   "source": [
    "f1_score(actual, predict, average='micro')"
   ]
  },
  {
   "cell_type": "code",
   "execution_count": 83,
   "metadata": {},
   "outputs": [
    {
     "data": {
      "text/plain": [
       "array([0.9      , 0.8372093, 1.       ])"
      ]
     },
     "execution_count": 83,
     "metadata": {},
     "output_type": "execute_result"
    }
   ],
   "source": [
    "from sklearn.metrics import recall_score\n",
    "recall_score(actual, predict, average=None)"
   ]
  },
  {
   "cell_type": "code",
   "execution_count": 84,
   "metadata": {},
   "outputs": [
    {
     "data": {
      "text/plain": [
       "0.9105691056910569"
      ]
     },
     "execution_count": 84,
     "metadata": {},
     "output_type": "execute_result"
    }
   ],
   "source": [
    "recall_score(actual, predict, average='micro')"
   ]
  },
  {
   "cell_type": "code",
   "execution_count": 85,
   "metadata": {},
   "outputs": [
    {
     "name": "stdout",
     "output_type": "stream",
     "text": [
      "[[[78  5]\n",
      "  [ 4 36]]\n",
      "\n",
      " [[77  3]\n",
      "  [ 7 36]]\n",
      "\n",
      " [[80  3]\n",
      "  [ 0 40]]]\n"
     ]
    }
   ],
   "source": [
    "from sklearn.metrics import multilabel_confusion_matrix\n",
    "confusion_matrix = multilabel_confusion_matrix(actual, predict, labels=action_values)\n",
    "print(confusion_matrix)"
   ]
  },
  {
   "cell_type": "code",
   "execution_count": 62,
   "metadata": {},
   "outputs": [],
   "source": [
    "import pandas as pd\n",
    "import matplotlib.pyplot as plt\n",
    "import seaborn as sns\n",
    "\n",
    "confusion_matrix=([[[78 , 5],[ 4, 36]],[[77,  3],[ 7 ,36]],[[80 , 3],[ 0 ,40]]])\n",
    "def print_confusion_matrix(confusion_matrix, axes, class_label, class_names, fontsize=30):\n",
    "\n",
    "    df_cm = pd.DataFrame(\n",
    "        confusion_matrix, index=class_names, columns=class_names,\n",
    "    )\n",
    "\n",
    "    try:\n",
    "        heatmap = sns.heatmap(df_cm, annot=True, fmt=\"d\", cbar=False, ax=axes)\n",
    "    except ValueError:\n",
    "        raise ValueError(\"Confusion matrix values must be integers.\")\n",
    "    heatmap.yaxis.set_ticklabels(heatmap.yaxis.get_ticklabels(), rotation=0, ha='right', fontsize=fontsize)\n",
    "    heatmap.xaxis.set_ticklabels(heatmap.xaxis.get_ticklabels(), rotation=45, ha='right', fontsize=fontsize)\n",
    "    axes.set_ylabel('True label')\n",
    "    axes.set_xlabel('Predicted label')\n",
    "    axes.set_title(\"Confusion Matrix for the class - \" + class_label)"
   ]
  },
  {
   "cell_type": "code",
   "execution_count": 63,
   "metadata": {},
   "outputs": [
    {
     "data": {
      "image/png": "[encoded data removed]",
      "text/plain": [
       "<Figure size 864x720 with 1 Axes>"
      ]
     },
     "metadata": {
      "needs_background": "light"
     },
     "output_type": "display_data"
    }
   ],
   "source": [
    "fig, ax = plt.subplots(1, 1, figsize=(12, 10))\n",
    "plt.rcParams.update({'font.size': 40})\n",
    "print_confusion_matrix(confusion_matrix[0], ax, action_values[0], [\"0\", \"1\"])\n",
    "fig.tight_layout()\n",
    "plt.show()"
   ]
  },
  {
   "cell_type": "code",
   "execution_count": 40,
   "metadata": {},
   "outputs": [
    {
     "data": {
      "image/png": "[encoded data removed]",
      "text/plain": [
       "<Figure size 864x720 with 1 Axes>"
      ]
     },
     "metadata": {
      "needs_background": "light"
     },
     "output_type": "display_data"
    }
   ],
   "source": [
    "fig, ax = plt.subplots(1, 1, figsize=(12, 10))\n",
    "plt.rcParams.update({'font.size': 40})\n",
    "print_confusion_matrix(confusion_matrix[1], ax, action_values[1], [\"0\", \"1\"])\n",
    "fig.tight_layout()\n",
    "plt.show()"
   ]
  },
  {
   "cell_type": "code",
   "execution_count": 41,
   "metadata": {},
   "outputs": [
    {
     "data": {
      "image/png": "[encoded data removed]",
      "text/plain": [
       "<Figure size 864x720 with 1 Axes>"
      ]
     },
     "metadata": {
      "needs_background": "light"
     },
     "output_type": "display_data"
    }
   ],
   "source": [
    "fig, ax = plt.subplots(1, 1, figsize=(12, 10))\n",
    "plt.rcParams.update({'font.size': 40})\n",
    "print_confusion_matrix(confusion_matrix[2], ax, action_values[2], [\"0\", \"1\"])\n",
    "fig.tight_layout()\n",
    "plt.show()"
   ]
  },
  {
   "cell_type": "markdown",
   "metadata": {},
   "source": [
    "### Processing With Pre-trained Xception with imagenet weight"
   ]
  },
  {
   "cell_type": "code",
   "execution_count": 23,
   "metadata": {},
   "outputs": [],
   "source": [
    "from tensorflow.keras.applications.xception import Xception\n",
    "xception_model = Xception(include_top = False, weights = 'imagenet')"
   ]
  },
  {
   "cell_type": "code",
   "execution_count": 24,
   "metadata": {},
   "outputs": [
    {
     "data": {
      "text/plain": [
       "(401, 7, 7, 2048)"
      ]
     },
     "execution_count": 24,
     "metadata": {},
     "output_type": "execute_result"
    }
   ],
   "source": [
    "X_train = xception_model.predict(X_train)\n",
    "X_train.shape"
   ]
  },
  {
   "cell_type": "code",
   "execution_count": 25,
   "metadata": {},
   "outputs": [
    {
     "data": {
      "text/plain": [
       "(134, 7, 7, 2048)"
      ]
     },
     "execution_count": 25,
     "metadata": {},
     "output_type": "execute_result"
    }
   ],
   "source": [
    "X_val = xception_model.predict(X_val)\n",
    "X_val.shape"
   ]
  },
  {
   "cell_type": "code",
   "execution_count": 26,
   "metadata": {},
   "outputs": [],
   "source": [
    "X_train = X_train.reshape(401, 7*7*2048)\n",
    "X_val = X_val.reshape(134, 7*7*2048)"
   ]
  },
  {
   "cell_type": "code",
   "execution_count": 27,
   "metadata": {},
   "outputs": [
    {
     "name": "stdout",
     "output_type": "stream",
     "text": [
      "(401, 100352)\n",
      "(134, 100352)\n"
     ]
    }
   ],
   "source": [
    "max_pixel = X_train.max()\n",
    "X_train = X_train / max_pixel\n",
    "X_val = X_val / max_pixel\n",
    "print(X_train.shape)\n",
    "print(X_val.shape)"
   ]
  },
  {
   "cell_type": "code",
   "execution_count": null,
   "metadata": {},
   "outputs": [],
   "source": []
  },
  {
   "cell_type": "code",
   "execution_count": 28,
   "metadata": {},
   "outputs": [
    {
     "name": "stdout",
     "output_type": "stream",
     "text": [
      "Model: \"sequential\"\n",
      "_________________________________________________________________\n",
      "Layer (type)                 Output Shape              Param #   \n",
      "=================================================================\n",
      "dense (Dense)                (None, 1024)              102761472 \n",
      "_________________________________________________________________\n",
      "dropout (Dropout)            (None, 1024)              0         \n",
      "_________________________________________________________________\n",
      "dense_1 (Dense)              (None, 512)               524800    \n",
      "_________________________________________________________________\n",
      "dropout_1 (Dropout)          (None, 512)               0         \n",
      "_________________________________________________________________\n",
      "dense_2 (Dense)              (None, 256)               131328    \n",
      "_________________________________________________________________\n",
      "dropout_2 (Dropout)          (None, 256)               0         \n",
      "_________________________________________________________________\n",
      "dense_3 (Dense)              (None, 128)               32896     \n",
      "_________________________________________________________________\n",
      "dropout_3 (Dropout)          (None, 128)               0         \n",
      "_________________________________________________________________\n",
      "dense_4 (Dense)              (None, 2)                 258       \n",
      "=================================================================\n",
      "Total params: 103,450,754\n",
      "Trainable params: 103,450,754\n",
      "Non-trainable params: 0\n",
      "_________________________________________________________________\n"
     ]
    }
   ],
   "source": [
    "# The input shape will be 100352\n",
    "model = Sequential()\n",
    "model.add(Dense(1024, activation='relu', input_shape=(100352,)))\n",
    "model.add(Dropout(0.5))\n",
    "model.add(Dense(512, activation='relu'))\n",
    "model.add(Dropout(0.5))\n",
    "model.add(Dense(256, activation='relu'))\n",
    "model.add(Dropout(0.5))\n",
    "model.add(Dense(128, activation='relu'))\n",
    "model.add(Dropout(0.5))\n",
    "model.add(Dense(2, activation='softmax'))\n",
    "model.compile(loss='categorical_crossentropy',optimizer='Adam',metrics=['accuracy'])\n",
    "model.summary()"
   ]
  },
  {
   "cell_type": "code",
   "execution_count": 31,
   "metadata": {},
   "outputs": [],
   "source": [
    "from keras.callbacks import ModelCheckpoint\n",
    "mcp_weight = ModelCheckpoint('weight_xception.hdf5', save_best_only=True, monitor='val_loss', mode='min')"
   ]
  },
  {
   "cell_type": "code",
   "execution_count": 32,
   "metadata": {},
   "outputs": [
    {
     "name": "stdout",
     "output_type": "stream",
     "text": [
      "Epoch 1/50\n",
      "4/4 [==============================] - 8s 2s/step - loss: 0.1929 - accuracy: 0.9152 - val_loss: 0.5777 - val_accuracy: 0.7537\n",
      "Epoch 2/50\n",
      "4/4 [==============================] - 1s 369ms/step - loss: 0.1461 - accuracy: 0.9576 - val_loss: 0.6019 - val_accuracy: 0.7612\n",
      "Epoch 3/50\n",
      "4/4 [==============================] - 2s 376ms/step - loss: 0.1580 - accuracy: 0.9377 - val_loss: 0.6396 - val_accuracy: 0.7761\n",
      "Epoch 4/50\n",
      "4/4 [==============================] - 1s 364ms/step - loss: 0.1287 - accuracy: 0.9626 - val_loss: 0.6969 - val_accuracy: 0.7687\n",
      "Epoch 5/50\n",
      "4/4 [==============================] - 1s 363ms/step - loss: 0.0884 - accuracy: 0.9626 - val_loss: 0.7950 - val_accuracy: 0.7687\n",
      "Epoch 6/50\n",
      "4/4 [==============================] - 1s 365ms/step - loss: 0.1105 - accuracy: 0.9601 - val_loss: 0.9211 - val_accuracy: 0.7537\n",
      "Epoch 7/50\n",
      "4/4 [==============================] - 1s 359ms/step - loss: 0.1173 - accuracy: 0.9626 - val_loss: 0.9006 - val_accuracy: 0.7687\n",
      "Epoch 8/50\n",
      "4/4 [==============================] - 1s 359ms/step - loss: 0.1001 - accuracy: 0.9751 - val_loss: 0.8101 - val_accuracy: 0.7761\n",
      "Epoch 9/50\n",
      "4/4 [==============================] - 1s 361ms/step - loss: 0.1162 - accuracy: 0.9626 - val_loss: 0.7951 - val_accuracy: 0.7761\n",
      "Epoch 10/50\n",
      "4/4 [==============================] - 1s 364ms/step - loss: 0.1049 - accuracy: 0.9726 - val_loss: 0.7823 - val_accuracy: 0.7761\n",
      "Epoch 11/50\n",
      "4/4 [==============================] - 1s 360ms/step - loss: 0.0533 - accuracy: 0.9825 - val_loss: 0.7807 - val_accuracy: 0.7836\n",
      "Epoch 12/50\n",
      "4/4 [==============================] - 1s 355ms/step - loss: 0.0634 - accuracy: 0.9825 - val_loss: 0.8398 - val_accuracy: 0.7612\n",
      "Epoch 13/50\n",
      "4/4 [==============================] - 1s 356ms/step - loss: 0.0863 - accuracy: 0.9626 - val_loss: 0.9231 - val_accuracy: 0.7687\n",
      "Epoch 14/50\n",
      "4/4 [==============================] - 1s 360ms/step - loss: 0.0270 - accuracy: 0.9950 - val_loss: 1.1025 - val_accuracy: 0.7463\n",
      "Epoch 15/50\n",
      "4/4 [==============================] - 1s 356ms/step - loss: 0.0623 - accuracy: 0.9751 - val_loss: 1.0013 - val_accuracy: 0.7537\n",
      "Epoch 16/50\n",
      "4/4 [==============================] - 1s 355ms/step - loss: 0.0186 - accuracy: 0.9950 - val_loss: 1.0395 - val_accuracy: 0.7612\n",
      "Epoch 17/50\n",
      "4/4 [==============================] - 1s 355ms/step - loss: 0.0198 - accuracy: 0.9925 - val_loss: 1.1320 - val_accuracy: 0.7537\n",
      "Epoch 18/50\n",
      "4/4 [==============================] - 1s 355ms/step - loss: 0.0368 - accuracy: 0.9900 - val_loss: 1.2609 - val_accuracy: 0.7612\n",
      "Epoch 19/50\n",
      "4/4 [==============================] - 1s 355ms/step - loss: 0.0308 - accuracy: 0.9900 - val_loss: 1.3525 - val_accuracy: 0.7537\n",
      "Epoch 20/50\n",
      "4/4 [==============================] - 1s 359ms/step - loss: 0.0196 - accuracy: 0.9925 - val_loss: 1.4274 - val_accuracy: 0.7537\n",
      "Epoch 21/50\n",
      "4/4 [==============================] - 1s 358ms/step - loss: 0.0327 - accuracy: 0.9900 - val_loss: 1.3001 - val_accuracy: 0.7687\n",
      "Epoch 22/50\n",
      "4/4 [==============================] - 1s 358ms/step - loss: 0.0339 - accuracy: 0.9950 - val_loss: 1.2524 - val_accuracy: 0.7761\n",
      "Epoch 23/50\n",
      "4/4 [==============================] - 1s 356ms/step - loss: 0.0111 - accuracy: 0.9975 - val_loss: 1.3180 - val_accuracy: 0.7612\n",
      "Epoch 24/50\n",
      "4/4 [==============================] - 1s 354ms/step - loss: 0.0167 - accuracy: 0.9925 - val_loss: 1.4115 - val_accuracy: 0.7687\n",
      "Epoch 25/50\n",
      "4/4 [==============================] - 1s 354ms/step - loss: 0.0355 - accuracy: 0.9925 - val_loss: 1.3285 - val_accuracy: 0.7836\n",
      "Epoch 26/50\n",
      "4/4 [==============================] - 1s 355ms/step - loss: 0.0249 - accuracy: 0.9950 - val_loss: 1.4150 - val_accuracy: 0.7687\n",
      "Epoch 27/50\n",
      "4/4 [==============================] - 1s 354ms/step - loss: 0.0160 - accuracy: 0.9950 - val_loss: 1.4711 - val_accuracy: 0.7761\n",
      "Epoch 28/50\n",
      "4/4 [==============================] - 1s 357ms/step - loss: 0.0123 - accuracy: 0.9950 - val_loss: 1.4056 - val_accuracy: 0.7836\n",
      "Epoch 29/50\n",
      "4/4 [==============================] - 1s 355ms/step - loss: 0.0179 - accuracy: 0.9975 - val_loss: 1.4082 - val_accuracy: 0.7836\n",
      "Epoch 30/50\n",
      "4/4 [==============================] - 1s 354ms/step - loss: 0.0051 - accuracy: 0.9975 - val_loss: 1.4367 - val_accuracy: 0.7836\n",
      "Epoch 31/50\n",
      "4/4 [==============================] - 1s 355ms/step - loss: 0.0236 - accuracy: 0.9950 - val_loss: 1.2952 - val_accuracy: 0.7985\n",
      "Epoch 32/50\n",
      "4/4 [==============================] - 1s 356ms/step - loss: 0.0090 - accuracy: 0.9975 - val_loss: 1.1446 - val_accuracy: 0.7836\n",
      "Epoch 33/50\n",
      "4/4 [==============================] - 1s 368ms/step - loss: 0.0326 - accuracy: 0.9900 - val_loss: 1.2939 - val_accuracy: 0.7985\n",
      "Epoch 34/50\n",
      "4/4 [==============================] - 1s 368ms/step - loss: 0.0313 - accuracy: 0.9850 - val_loss: 1.9379 - val_accuracy: 0.7388\n",
      "Epoch 35/50\n",
      "4/4 [==============================] - 1s 367ms/step - loss: 0.0502 - accuracy: 0.9825 - val_loss: 1.2279 - val_accuracy: 0.7537\n",
      "Epoch 36/50\n",
      "4/4 [==============================] - 1s 357ms/step - loss: 0.0170 - accuracy: 0.9950 - val_loss: 1.1804 - val_accuracy: 0.7388\n",
      "Epoch 37/50\n",
      "4/4 [==============================] - 1s 354ms/step - loss: 0.0208 - accuracy: 0.9925 - val_loss: 1.3493 - val_accuracy: 0.7388\n",
      "Epoch 38/50\n",
      "4/4 [==============================] - 1s 359ms/step - loss: 0.0362 - accuracy: 0.9925 - val_loss: 1.4616 - val_accuracy: 0.7313\n",
      "Epoch 39/50\n",
      "4/4 [==============================] - 1s 359ms/step - loss: 0.0146 - accuracy: 0.9975 - val_loss: 1.4510 - val_accuracy: 0.7388\n",
      "Epoch 40/50\n",
      "4/4 [==============================] - 1s 371ms/step - loss: 0.0058 - accuracy: 1.0000 - val_loss: 1.4756 - val_accuracy: 0.7388\n",
      "Epoch 41/50\n",
      "4/4 [==============================] - 1s 362ms/step - loss: 0.0022 - accuracy: 1.0000 - val_loss: 1.4799 - val_accuracy: 0.7463\n",
      "Epoch 42/50\n",
      "4/4 [==============================] - 1s 362ms/step - loss: 0.0074 - accuracy: 0.9975 - val_loss: 1.5232 - val_accuracy: 0.7313\n",
      "Epoch 43/50\n",
      "4/4 [==============================] - 1s 348ms/step - loss: 0.0157 - accuracy: 0.9975 - val_loss: 1.4997 - val_accuracy: 0.7313\n",
      "Epoch 44/50\n",
      "4/4 [==============================] - 1s 356ms/step - loss: 0.0262 - accuracy: 0.9950 - val_loss: 1.4133 - val_accuracy: 0.7388\n",
      "Epoch 45/50\n",
      "4/4 [==============================] - 1s 356ms/step - loss: 0.0044 - accuracy: 1.0000 - val_loss: 1.3457 - val_accuracy: 0.7687\n",
      "Epoch 46/50\n",
      "4/4 [==============================] - 1s 354ms/step - loss: 0.0082 - accuracy: 0.9975 - val_loss: 1.4216 - val_accuracy: 0.7612\n",
      "Epoch 47/50\n",
      "4/4 [==============================] - 1s 355ms/step - loss: 0.0213 - accuracy: 0.9950 - val_loss: 1.6870 - val_accuracy: 0.7687\n",
      "Epoch 48/50\n",
      "4/4 [==============================] - 1s 348ms/step - loss: 0.0179 - accuracy: 0.9950 - val_loss: 1.5831 - val_accuracy: 0.7537\n",
      "Epoch 49/50\n",
      "4/4 [==============================] - 1s 346ms/step - loss: 0.0261 - accuracy: 0.9950 - val_loss: 1.4902 - val_accuracy: 0.7388\n",
      "Epoch 50/50\n",
      "4/4 [==============================] - 1s 345ms/step - loss: 0.0034 - accuracy: 1.0000 - val_loss: 1.5398 - val_accuracy: 0.7463\n"
     ]
    }
   ],
   "source": [
    "history=model.fit(X_train, y_train, epochs=50, validation_data=(X_val, y_val), callbacks=[mcp_weight], batch_size=128)"
   ]
  },
  {
   "cell_type": "code",
   "execution_count": 33,
   "metadata": {},
   "outputs": [],
   "source": [
    "model.save_weights(\"xception.h5\")"
   ]
  },
  {
   "cell_type": "code",
   "execution_count": 34,
   "metadata": {},
   "outputs": [
    {
     "data": {
      "image/png": "[encoded data removed]",
      "text/plain": [
       "<Figure size 432x288 with 1 Axes>"
      ]
     },
     "metadata": {
      "needs_background": "light"
     },
     "output_type": "display_data"
    }
   ],
   "source": [
    "plt.plot(history.history['accuracy'])\n",
    "plt.plot(history.history['val_accuracy'])\n",
    "plt.title('model accuracy')\n",
    "plt.ylabel('accuracy')\n",
    "plt.xlabel('epoch')\n",
    "plt.legend(['train', 'test'], loc='upper left')\n",
    "plt.show()"
   ]
  },
  {
   "cell_type": "code",
   "execution_count": 35,
   "metadata": {
    "scrolled": true
   },
   "outputs": [
    {
     "data": {
      "image/png": "[encoded data removed]",
      "text/plain": [
       "<Figure size 432x288 with 1 Axes>"
      ]
     },
     "metadata": {
      "needs_background": "light"
     },
     "output_type": "display_data"
    }
   ],
   "source": [
    "plt.plot(history.history['loss'])\n",
    "plt.plot(history.history['val_loss'])\n",
    "plt.title('model loss')\n",
    "plt.ylabel('loss')\n",
    "plt.xlabel('epoch')\n",
    "plt.legend(['train', 'test'], loc='upper left')\n",
    "plt.show()"
   ]
  },
  {
   "cell_type": "code",
   "execution_count": 36,
   "metadata": {},
   "outputs": [
    {
     "name": "stdout",
     "output_type": "stream",
     "text": [
      "Model: \"sequential\"\n",
      "_________________________________________________________________\n",
      "Layer (type)                 Output Shape              Param #   \n",
      "=================================================================\n",
      "dense (Dense)                (None, 1024)              102761472 \n",
      "_________________________________________________________________\n",
      "dropout (Dropout)            (None, 1024)              0         \n",
      "_________________________________________________________________\n",
      "dense_1 (Dense)              (None, 512)               524800    \n",
      "_________________________________________________________________\n",
      "dropout_1 (Dropout)          (None, 512)               0         \n",
      "_________________________________________________________________\n",
      "dense_2 (Dense)              (None, 256)               131328    \n",
      "_________________________________________________________________\n",
      "dropout_2 (Dropout)          (None, 256)               0         \n",
      "_________________________________________________________________\n",
      "dense_3 (Dense)              (None, 128)               32896     \n",
      "_________________________________________________________________\n",
      "dropout_3 (Dropout)          (None, 128)               0         \n",
      "_________________________________________________________________\n",
      "dense_4 (Dense)              (None, 2)                 258       \n",
      "=================================================================\n",
      "Total params: 103,450,754\n",
      "Trainable params: 103,450,754\n",
      "Non-trainable params: 0\n",
      "_________________________________________________________________\n"
     ]
    }
   ],
   "source": [
    "model.load_weights(\"weight_xception.h5\")\n",
    "model.compile(loss='categorical_crossentropy',optimizer='Adam',metrics=['accuracy'])\n",
    "model.summary()"
   ]
  },
  {
   "cell_type": "markdown",
   "metadata": {},
   "source": [
    "### Applying Built model on Test data and calculate accuracy with Xception"
   ]
  },
  {
   "cell_type": "code",
   "execution_count": 37,
   "metadata": {},
   "outputs": [
    {
     "name": "stderr",
     "output_type": "stream",
     "text": [
      "100%|██████████████████████████████████████████████████████████████████████████████████| 40/40 [00:22<00:00,  1.80it/s]\n"
     ]
    }
   ],
   "source": [
    "from scipy import stats as s\n",
    "predict = []\n",
    "actual = []\n",
    "if not os.path.exists(test_frames_path):\n",
    "    os.makedirs(test_frames_path)\n",
    "\n",
    "for i in tqdm(range(test.shape[0])):\n",
    "    video_file = test['Video_url'][i]\n",
    "    action = test['action'][i]\n",
    "    video_name_list = video_file.split('/')[-1].split('.')\n",
    "    video_name_list = video_name_list[:-1]\n",
    "    video_name = \"\"\n",
    "    for n in video_name_list:\n",
    "        video_name += n\n",
    "    # capturing the video from the given path\n",
    "    capture = cv2.VideoCapture(video_file) \n",
    "    #frame rate\n",
    "    frame_rate = capture.get(5)\n",
    "    count = 0\n",
    "    files = glob(test_frames_path + '/*')\n",
    "    #removing all files from folder\n",
    "    for f in files:\n",
    "        os.remove(f)\n",
    "    while(capture.isOpened()):\n",
    "        #current frame number\n",
    "        frame_id = capture.get(1) \n",
    "        read_correctly, frame = capture.read()\n",
    "        if not read_correctly:\n",
    "            break\n",
    "        if (frame_id % math.floor(frame_rate) == 0):\n",
    "            # storing the frames in a new folder named train_1\n",
    "            filename = test_frames_path + \"/\" + video_name + \"_frame{}_\".format(count) + action +\".jpg\"\n",
    "            count += 1\n",
    "            cv2.imwrite(filename, frame)\n",
    "    capture.release()\n",
    "    \n",
    "    # reading all the frames from temp folder\n",
    "    images = glob(test_frames_path + '/*.jpg')\n",
    "    prediction_images = []\n",
    "    for i in range(len(images)):\n",
    "        img = image.load_img(images[i], target_size=(224,224,3))\n",
    "        img = image.img_to_array(img)\n",
    "        img = img / 255\n",
    "        prediction_images.append(img)\n",
    "        \n",
    "    # converting all the frames for a test video into numpy array\n",
    "    prediction_images = np.array(prediction_images)\n",
    "    # extracting features using pre-trained model\n",
    "    prediction_images = xception_model.predict(prediction_images)\n",
    "    # converting features in one dimensional array\n",
    "    prediction_images = prediction_images.reshape(prediction_images.shape[0], 7*7*2048)\n",
    "    # predicting tags for each array\n",
    "    prediction = np.argmax(model.predict(prediction_images), axis=-1)\n",
    "    # appending the mode of predictions in predict list to assign the tag to the video\n",
    "    predict.append(y_train.columns.values[s.mode(prediction)[0][0]])\n",
    "    # appending the actual tag of the video\n",
    "    actual.append(action)"
   ]
  },
  {
   "cell_type": "code",
   "execution_count": 39,
   "metadata": {},
   "outputs": [
    {
     "data": {
      "text/plain": [
       "70.0"
      ]
     },
     "execution_count": 39,
     "metadata": {},
     "output_type": "execute_result"
    }
   ],
   "source": [
    "from sklearn.metrics import accuracy_score\n",
    "accuracy_score(predict, actual)*100"
   ]
  },
  {
   "cell_type": "code",
   "execution_count": 40,
   "metadata": {},
   "outputs": [
    {
     "data": {
      "text/plain": [
       "array([0.75      , 0.66666667])"
      ]
     },
     "execution_count": 40,
     "metadata": {},
     "output_type": "execute_result"
    }
   ],
   "source": [
    "from sklearn.metrics import precision_score\n",
    "precision_score(actual, predict, average=None)"
   ]
  },
  {
   "cell_type": "code",
   "execution_count": 41,
   "metadata": {},
   "outputs": [
    {
     "data": {
      "text/plain": [
       "0.7"
      ]
     },
     "execution_count": 41,
     "metadata": {},
     "output_type": "execute_result"
    }
   ],
   "source": [
    "precision_score(actual, predict, average='micro')"
   ]
  },
  {
   "cell_type": "code",
   "execution_count": 42,
   "metadata": {},
   "outputs": [
    {
     "data": {
      "text/plain": [
       "array([0.66666667, 0.72727273])"
      ]
     },
     "execution_count": 42,
     "metadata": {},
     "output_type": "execute_result"
    }
   ],
   "source": [
    "from sklearn.metrics import f1_score\n",
    "f1_score(actual, predict, average=None)"
   ]
  },
  {
   "cell_type": "code",
   "execution_count": 43,
   "metadata": {},
   "outputs": [
    {
     "data": {
      "text/plain": [
       "0.7"
      ]
     },
     "execution_count": 43,
     "metadata": {},
     "output_type": "execute_result"
    }
   ],
   "source": [
    "f1_score(actual, predict, average='micro')"
   ]
  },
  {
   "cell_type": "code",
   "execution_count": 44,
   "metadata": {},
   "outputs": [
    {
     "data": {
      "text/plain": [
       "array([0.6, 0.8])"
      ]
     },
     "execution_count": 44,
     "metadata": {},
     "output_type": "execute_result"
    }
   ],
   "source": [
    "from sklearn.metrics import recall_score\n",
    "recall_score(actual, predict, average=None)"
   ]
  },
  {
   "cell_type": "code",
   "execution_count": 45,
   "metadata": {},
   "outputs": [
    {
     "data": {
      "text/plain": [
       "0.7"
      ]
     },
     "execution_count": 45,
     "metadata": {},
     "output_type": "execute_result"
    }
   ],
   "source": [
    "recall_score(actual, predict, average='micro')"
   ]
  },
  {
   "cell_type": "code",
   "execution_count": 48,
   "metadata": {},
   "outputs": [
    {
     "name": "stdout",
     "output_type": "stream",
     "text": [
      "[[[14  6]\n",
      "  [ 3 17]]\n",
      "\n",
      " [[17  3]\n",
      "  [ 6 14]]]\n"
     ]
    }
   ],
   "source": [
    "from sklearn.metrics import multilabel_confusion_matrix\n",
    "confusion_matrix = multilabel_confusion_matrix(actual, predict, labels=action_values)\n",
    "print(confusion_matrix)"
   ]
  },
  {
   "cell_type": "code",
   "execution_count": 39,
   "metadata": {},
   "outputs": [],
   "source": [
    "import pandas as pd\n",
    "import matplotlib.pyplot as plt\n",
    "import seaborn as sns\n",
    "\n",
    "confusion_matrix= ([[[79 ,4],[ 3 ,37]],  [[77 , 3],[ 6 ,37]],  [[80 , 3],[ 1 ,39]]])\n",
    "\n",
    "def print_confusion_matrix(confusion_matrix, axes, class_label, class_names, fontsize=28):\n",
    "\n",
    "    df_cm = pd.DataFrame(\n",
    "        confusion_matrix, index=class_names, columns=class_names,\n",
    "    )\n",
    "\n",
    "    try:\n",
    "        heatmap = sns.heatmap(df_cm, annot=True, fmt=\"d\", cbar=False, ax=axes)\n",
    "    except ValueError:\n",
    "        raise ValueError(\"Confusion matrix values must be integers.\")\n",
    "    heatmap.yaxis.set_ticklabels(heatmap.yaxis.get_ticklabels(), rotation=0, ha='right', fontsize=fontsize)\n",
    "    heatmap.xaxis.set_ticklabels(heatmap.xaxis.get_ticklabels(), rotation=45, ha='right', fontsize=fontsize)\n",
    "    axes.set_ylabel('True label')\n",
    "    axes.set_xlabel('Predicted label')\n",
    "    axes.set_title(\"Confusion Matrix for the class - \" + class_label)"
   ]
  },
  {
   "cell_type": "code",
   "execution_count": 40,
   "metadata": {},
   "outputs": [
    {
     "data": {
      "image/png": "[encoded data removed]",
      "text/plain": [
       "<Figure size 864x720 with 1 Axes>"
      ]
     },
     "metadata": {
      "needs_background": "light"
     },
     "output_type": "display_data"
    }
   ],
   "source": [
    "fig, ax = plt.subplots(1, 1, figsize=(12, 10))\n",
    "plt.rcParams.update({'font.size': 40})\n",
    "print_confusion_matrix(confusion_matrix[0], ax, action_values[0], [\"0\", \"1\"])\n",
    "fig.tight_layout()\n",
    "plt.show()"
   ]
  },
  {
   "cell_type": "code",
   "execution_count": 41,
   "metadata": {},
   "outputs": [
    {
     "data": {
      "image/png": "[encoded data removed]",
      "text/plain": [
       "<Figure size 864x720 with 1 Axes>"
      ]
     },
     "metadata": {
      "needs_background": "light"
     },
     "output_type": "display_data"
    }
   ],
   "source": [
    "fig, ax = plt.subplots(1, 1, figsize=(12, 10))\n",
    "plt.rcParams.update({'font.size': 40})\n",
    "print_confusion_matrix(confusion_matrix[1], ax, action_values[1], [\"0\", \"1\"])\n",
    "fig.tight_layout()\n",
    "plt.show()"
   ]
  },
  {
   "cell_type": "code",
   "execution_count": 42,
   "metadata": {},
   "outputs": [
    {
     "data": {
      "image/png": "[encoded data removed]",
      "text/plain": [
       "<Figure size 864x720 with 1 Axes>"
      ]
     },
     "metadata": {
      "needs_background": "light"
     },
     "output_type": "display_data"
    }
   ],
   "source": [
    "fig, ax = plt.subplots(1, 1, figsize=(12, 10))\n",
    "plt.rcParams.update({'font.size': 40})\n",
    "print_confusion_matrix(confusion_matrix[2], ax, action_values[2], [\"0\", \"1\"])\n",
    "fig.tight_layout()\n",
    "plt.show()"
   ]
  },
  {
   "cell_type": "code",
   "execution_count": null,
   "metadata": {},
   "outputs": [],
   "source": []
  }
 ],
 "metadata": {
  "kernelspec": {
   "display_name": "Python 3",
   "language": "python",
   "name": "python3"
  },
  "language_info": {
   "codemirror_mode": {
    "name": "ipython",
    "version": 3
   },
   "file_extension": ".py",
   "mimetype": "text/x-python",
   "name": "python",
   "nbconvert_exporter": "python",
   "pygments_lexer": "ipython3",
   "version": "3.8.5"
  }
 },
 "nbformat": 4,
 "nbformat_minor": 5
}
