{
 "cells": [
  {
   "cell_type": "code",
   "execution_count": 60,
   "metadata": {},
   "outputs": [],
   "source": [
    "import os\n",
    "import re\n",
    "import math\n",
    "import cv2\n",
    "import pickle\n",
    "import pandas as pd\n",
    "import numpy as np\n",
    "import matplotlib.pyplot as plt\n",
    "import tensorflow as tf\n",
    "\n",
    "from tqdm import tqdm\n",
    "from glob import glob\n",
    "from tools.settings import *\n",
    "from keras.models import Sequential\n",
    "from keras.preprocessing import image\n",
    "from keras.preprocessing.image import ImageDataGenerator\n",
    "from keras.layers import Dense, Dropout\n",
    "from tensorflow.keras.utils import to_categorical\n",
    "from tools.train_val_test_spliter import split\n",
    "import collections"
   ]
  },
  {
   "cell_type": "code",
   "execution_count": 61,
   "metadata": {},
   "outputs": [
    {
     "name": "stdout",
     "output_type": "stream",
     "text": [
      "Splitting the ginen dataset into Train Test=0.2 Validation=0.2\n",
      "Done\n"
     ]
    }
   ],
   "source": [
    "split()"
   ]
  },
  {
   "cell_type": "code",
   "execution_count": 62,
   "metadata": {},
   "outputs": [],
   "source": [
    "train = pd. read_csv(os.path.join(dataset_path, \"train.csv\"))\n",
    "test = pd. read_csv(os.path.join(dataset_path, \"test.csv\"))\n",
    "val = pd. read_csv(os.path.join(dataset_path, \"val.csv\"))"
   ]
  },
  {
   "cell_type": "code",
   "execution_count": 63,
   "metadata": {},
   "outputs": [
    {
     "data": {
      "text/html": [
       "<div>\n",
       "<style scoped>\n",
       "    .dataframe tbody tr th:only-of-type {\n",
       "        vertical-align: middle;\n",
       "    }\n",
       "\n",
       "    .dataframe tbody tr th {\n",
       "        vertical-align: top;\n",
       "    }\n",
       "\n",
       "    .dataframe thead th {\n",
       "        text-align: right;\n",
       "    }\n",
       "</style>\n",
       "<table border=\"1\" class=\"dataframe\">\n",
       "  <thead>\n",
       "    <tr style=\"text-align: right;\">\n",
       "      <th></th>\n",
       "      <th>Video_url</th>\n",
       "      <th>action</th>\n",
       "    </tr>\n",
       "  </thead>\n",
       "  <tbody>\n",
       "    <tr>\n",
       "      <th>0</th>\n",
       "      <td>E:/Project 103/Trimmed Data\\NoAction/NoAction_...</td>\n",
       "      <td>NoAction</td>\n",
       "    </tr>\n",
       "    <tr>\n",
       "      <th>1</th>\n",
       "      <td>E:/Project 103/Trimmed Data\\death/death_48.mp4</td>\n",
       "      <td>death</td>\n",
       "    </tr>\n",
       "    <tr>\n",
       "      <th>2</th>\n",
       "      <td>E:/Project 103/Trimmed Data\\death/death_11.mp4</td>\n",
       "      <td>death</td>\n",
       "    </tr>\n",
       "    <tr>\n",
       "      <th>3</th>\n",
       "      <td>E:/Project 103/Trimmed Data\\kill/Kill_85.mp4</td>\n",
       "      <td>kill</td>\n",
       "    </tr>\n",
       "    <tr>\n",
       "      <th>4</th>\n",
       "      <td>E:/Project 103/Trimmed Data\\NoAction/NoAction_...</td>\n",
       "      <td>NoAction</td>\n",
       "    </tr>\n",
       "  </tbody>\n",
       "</table>\n",
       "</div>"
      ],
      "text/plain": [
       "                                           Video_url    action\n",
       "0  E:/Project 103/Trimmed Data\\NoAction/NoAction_...  NoAction\n",
       "1     E:/Project 103/Trimmed Data\\death/death_48.mp4     death\n",
       "2     E:/Project 103/Trimmed Data\\death/death_11.mp4     death\n",
       "3       E:/Project 103/Trimmed Data\\kill/Kill_85.mp4      kill\n",
       "4  E:/Project 103/Trimmed Data\\NoAction/NoAction_...  NoAction"
      ]
     },
     "execution_count": 63,
     "metadata": {},
     "output_type": "execute_result"
    }
   ],
   "source": [
    "train.head()"
   ]
  },
  {
   "cell_type": "code",
   "execution_count": 64,
   "metadata": {},
   "outputs": [
    {
     "data": {
      "text/html": [
       "<div>\n",
       "<style scoped>\n",
       "    .dataframe tbody tr th:only-of-type {\n",
       "        vertical-align: middle;\n",
       "    }\n",
       "\n",
       "    .dataframe tbody tr th {\n",
       "        vertical-align: top;\n",
       "    }\n",
       "\n",
       "    .dataframe thead th {\n",
       "        text-align: right;\n",
       "    }\n",
       "</style>\n",
       "<table border=\"1\" class=\"dataframe\">\n",
       "  <thead>\n",
       "    <tr style=\"text-align: right;\">\n",
       "      <th></th>\n",
       "      <th>Video_url</th>\n",
       "      <th>action</th>\n",
       "    </tr>\n",
       "  </thead>\n",
       "  <tbody>\n",
       "    <tr>\n",
       "      <th>0</th>\n",
       "      <td>E:/Project 103/Trimmed Data\\NoAction/NoAction_...</td>\n",
       "      <td>NoAction</td>\n",
       "    </tr>\n",
       "    <tr>\n",
       "      <th>1</th>\n",
       "      <td>E:/Project 103/Trimmed Data\\death/death_66.mp4</td>\n",
       "      <td>death</td>\n",
       "    </tr>\n",
       "    <tr>\n",
       "      <th>2</th>\n",
       "      <td>E:/Project 103/Trimmed Data\\kill/Kill_72.mp4</td>\n",
       "      <td>kill</td>\n",
       "    </tr>\n",
       "    <tr>\n",
       "      <th>3</th>\n",
       "      <td>E:/Project 103/Trimmed Data\\death/death_86.mp4</td>\n",
       "      <td>death</td>\n",
       "    </tr>\n",
       "    <tr>\n",
       "      <th>4</th>\n",
       "      <td>E:/Project 103/Trimmed Data\\NoAction/NoAction_...</td>\n",
       "      <td>NoAction</td>\n",
       "    </tr>\n",
       "  </tbody>\n",
       "</table>\n",
       "</div>"
      ],
      "text/plain": [
       "                                           Video_url    action\n",
       "0  E:/Project 103/Trimmed Data\\NoAction/NoAction_...  NoAction\n",
       "1     E:/Project 103/Trimmed Data\\death/death_66.mp4     death\n",
       "2       E:/Project 103/Trimmed Data\\kill/Kill_72.mp4      kill\n",
       "3     E:/Project 103/Trimmed Data\\death/death_86.mp4     death\n",
       "4  E:/Project 103/Trimmed Data\\NoAction/NoAction_...  NoAction"
      ]
     },
     "execution_count": 64,
     "metadata": {},
     "output_type": "execute_result"
    }
   ],
   "source": [
    "test.head()"
   ]
  },
  {
   "cell_type": "code",
   "execution_count": 65,
   "metadata": {},
   "outputs": [
    {
     "data": {
      "text/html": [
       "<div>\n",
       "<style scoped>\n",
       "    .dataframe tbody tr th:only-of-type {\n",
       "        vertical-align: middle;\n",
       "    }\n",
       "\n",
       "    .dataframe tbody tr th {\n",
       "        vertical-align: top;\n",
       "    }\n",
       "\n",
       "    .dataframe thead th {\n",
       "        text-align: right;\n",
       "    }\n",
       "</style>\n",
       "<table border=\"1\" class=\"dataframe\">\n",
       "  <thead>\n",
       "    <tr style=\"text-align: right;\">\n",
       "      <th></th>\n",
       "      <th>Video_url</th>\n",
       "      <th>action</th>\n",
       "    </tr>\n",
       "  </thead>\n",
       "  <tbody>\n",
       "    <tr>\n",
       "      <th>0</th>\n",
       "      <td>E:/Project 103/Trimmed Data\\kill/Kill_49.mp4</td>\n",
       "      <td>kill</td>\n",
       "    </tr>\n",
       "    <tr>\n",
       "      <th>1</th>\n",
       "      <td>E:/Project 103/Trimmed Data\\NoAction/NoAction_...</td>\n",
       "      <td>NoAction</td>\n",
       "    </tr>\n",
       "    <tr>\n",
       "      <th>2</th>\n",
       "      <td>E:/Project 103/Trimmed Data\\death/death_29.mp4</td>\n",
       "      <td>death</td>\n",
       "    </tr>\n",
       "    <tr>\n",
       "      <th>3</th>\n",
       "      <td>E:/Project 103/Trimmed Data\\death/death_28.mp4</td>\n",
       "      <td>death</td>\n",
       "    </tr>\n",
       "    <tr>\n",
       "      <th>4</th>\n",
       "      <td>E:/Project 103/Trimmed Data\\death/death_2.mp4</td>\n",
       "      <td>death</td>\n",
       "    </tr>\n",
       "  </tbody>\n",
       "</table>\n",
       "</div>"
      ],
      "text/plain": [
       "                                           Video_url    action\n",
       "0       E:/Project 103/Trimmed Data\\kill/Kill_49.mp4      kill\n",
       "1  E:/Project 103/Trimmed Data\\NoAction/NoAction_...  NoAction\n",
       "2     E:/Project 103/Trimmed Data\\death/death_29.mp4     death\n",
       "3     E:/Project 103/Trimmed Data\\death/death_28.mp4     death\n",
       "4      E:/Project 103/Trimmed Data\\death/death_2.mp4     death"
      ]
     },
     "execution_count": 65,
     "metadata": {},
     "output_type": "execute_result"
    }
   ],
   "source": [
    "val.head()"
   ]
  },
  {
   "cell_type": "code",
   "execution_count": 66,
   "metadata": {},
   "outputs": [
    {
     "name": "stdout",
     "output_type": "stream",
     "text": [
      "(186, 2)\n",
      "(60, 2)\n",
      "(60, 2)\n"
     ]
    }
   ],
   "source": [
    "print(train.shape)\n",
    "print(test.shape)\n",
    "print(val.shape)"
   ]
  },
  {
   "cell_type": "code",
   "execution_count": 67,
   "metadata": {},
   "outputs": [],
   "source": [
    "def convert_to_frame(data, folder_name):\n",
    "    '''\n",
    "    Generated filenames format dataset_path/folder_name/video_name_frame{number}_action.jpg\n",
    "    '''\n",
    "    directory = os.path.join(dataset_path, folder_name)\n",
    "    if not os.path.exists(directory):\n",
    "        os.makedirs(directory)\n",
    "    for i in tqdm(range(data.shape[0])):\n",
    "        video_file = data['Video_url'][i]\n",
    "        action = data['action'][i]\n",
    "        video_name_list = video_file.split('/')[-1].split('.')\n",
    "        video_name_list = video_name_list[:-1]\n",
    "        video_name = \"\"\n",
    "        for n in video_name_list:\n",
    "            video_name += n\n",
    "        # capturing the video from the given path\n",
    "        capture = cv2.VideoCapture(video_file) \n",
    "        #frame rate\n",
    "        frame_rate = capture.get(5)\n",
    "        count = 0\n",
    "        while(capture.isOpened()):\n",
    "            #current frame number\n",
    "            frame_id = capture.get(1) \n",
    "            read_correctly, frame = capture.read()\n",
    "            if not read_correctly:\n",
    "                break\n",
    "            if (frame_id % math.floor(frame_rate) == 0):\n",
    "                # storing the frames in a new folder named train_1\n",
    "                filename = directory + \"/\" + video_name + \"_frame{}_\".format(count) + action +\".jpg\"\n",
    "                count += 1\n",
    "                cv2.imwrite(filename, frame)\n",
    "        capture.release()\n",
    "    print(\"Successfully Converted\")"
   ]
  },
  {
   "cell_type": "code",
   "execution_count": 68,
   "metadata": {},
   "outputs": [
    {
     "name": "stderr",
     "output_type": "stream",
     "text": [
      "100%|████████████████████████████████████████████████████████████████████████████████| 186/186 [01:23<00:00,  2.23it/s]"
     ]
    },
    {
     "name": "stdout",
     "output_type": "stream",
     "text": [
      "Successfully Converted\n"
     ]
    },
    {
     "name": "stderr",
     "output_type": "stream",
     "text": [
      "\n"
     ]
    }
   ],
   "source": [
    "convert_to_frame(train, train_frames_path_name)"
   ]
  },
  {
   "cell_type": "code",
   "execution_count": 69,
   "metadata": {},
   "outputs": [
    {
     "name": "stderr",
     "output_type": "stream",
     "text": [
      "100%|██████████████████████████████████████████████████████████████████████████████████| 60/60 [00:25<00:00,  2.40it/s]"
     ]
    },
    {
     "name": "stdout",
     "output_type": "stream",
     "text": [
      "Successfully Converted\n"
     ]
    },
    {
     "name": "stderr",
     "output_type": "stream",
     "text": [
      "\n"
     ]
    }
   ],
   "source": [
    "convert_to_frame(val, val_frames_path_name)"
   ]
  },
  {
   "cell_type": "code",
   "execution_count": 70,
   "metadata": {},
   "outputs": [],
   "source": [
    "def create_paths_csv(directory, file_name):\n",
    "    images = os.listdir(directory)\n",
    "    images_path_list = []\n",
    "    images_action_list = [] \n",
    "    for image in images:\n",
    "        images_path_list.append(directory + image)\n",
    "        images_action_list.append(image.split('.')[0].split('_')[-1])\n",
    "    df = pd.DataFrame()\n",
    "    df['image'] = images_path_list\n",
    "    df['action'] = images_action_list\n",
    "    print(os.path.join(dataset_path, file_name+'.csv'))\n",
    "    df.to_csv(os.path.join(dataset_path, file_name+'.csv'), index=False)"
   ]
  },
  {
   "cell_type": "code",
   "execution_count": 71,
   "metadata": {},
   "outputs": [
    {
     "name": "stdout",
     "output_type": "stream",
     "text": [
      "E:/Project 103/Trimmed Data\\train_frames.csv\n"
     ]
    }
   ],
   "source": [
    "create_paths_csv(train_frames_path, train_frames_path_name)"
   ]
  },
  {
   "cell_type": "code",
   "execution_count": 72,
   "metadata": {},
   "outputs": [
    {
     "name": "stdout",
     "output_type": "stream",
     "text": [
      "E:/Project 103/Trimmed Data\\val_frames.csv\n"
     ]
    }
   ],
   "source": [
    "create_paths_csv(val_frames_path, val_frames_path_name)"
   ]
  },
  {
   "cell_type": "code",
   "execution_count": 73,
   "metadata": {},
   "outputs": [
    {
     "data": {
      "text/html": [
       "<div>\n",
       "<style scoped>\n",
       "    .dataframe tbody tr th:only-of-type {\n",
       "        vertical-align: middle;\n",
       "    }\n",
       "\n",
       "    .dataframe tbody tr th {\n",
       "        vertical-align: top;\n",
       "    }\n",
       "\n",
       "    .dataframe thead th {\n",
       "        text-align: right;\n",
       "    }\n",
       "</style>\n",
       "<table border=\"1\" class=\"dataframe\">\n",
       "  <thead>\n",
       "    <tr style=\"text-align: right;\">\n",
       "      <th></th>\n",
       "      <th>image</th>\n",
       "      <th>action</th>\n",
       "    </tr>\n",
       "  </thead>\n",
       "  <tbody>\n",
       "    <tr>\n",
       "      <th>0</th>\n",
       "      <td>E:/Project 103/Trimmed Data\\train_frames\\death...</td>\n",
       "      <td>death</td>\n",
       "    </tr>\n",
       "    <tr>\n",
       "      <th>1</th>\n",
       "      <td>E:/Project 103/Trimmed Data\\train_frames\\death...</td>\n",
       "      <td>death</td>\n",
       "    </tr>\n",
       "    <tr>\n",
       "      <th>2</th>\n",
       "      <td>E:/Project 103/Trimmed Data\\train_frames\\death...</td>\n",
       "      <td>death</td>\n",
       "    </tr>\n",
       "    <tr>\n",
       "      <th>3</th>\n",
       "      <td>E:/Project 103/Trimmed Data\\train_frames\\death...</td>\n",
       "      <td>death</td>\n",
       "    </tr>\n",
       "    <tr>\n",
       "      <th>4</th>\n",
       "      <td>E:/Project 103/Trimmed Data\\train_frames\\death...</td>\n",
       "      <td>death</td>\n",
       "    </tr>\n",
       "    <tr>\n",
       "      <th>...</th>\n",
       "      <td>...</td>\n",
       "      <td>...</td>\n",
       "    </tr>\n",
       "    <tr>\n",
       "      <th>473</th>\n",
       "      <td>E:/Project 103/Trimmed Data\\train_frames\\NoAct...</td>\n",
       "      <td>NoAction</td>\n",
       "    </tr>\n",
       "    <tr>\n",
       "      <th>474</th>\n",
       "      <td>E:/Project 103/Trimmed Data\\train_frames\\NoAct...</td>\n",
       "      <td>NoAction</td>\n",
       "    </tr>\n",
       "    <tr>\n",
       "      <th>475</th>\n",
       "      <td>E:/Project 103/Trimmed Data\\train_frames\\NoAct...</td>\n",
       "      <td>NoAction</td>\n",
       "    </tr>\n",
       "    <tr>\n",
       "      <th>476</th>\n",
       "      <td>E:/Project 103/Trimmed Data\\train_frames\\NoAct...</td>\n",
       "      <td>NoAction</td>\n",
       "    </tr>\n",
       "    <tr>\n",
       "      <th>477</th>\n",
       "      <td>E:/Project 103/Trimmed Data\\train_frames\\NoAct...</td>\n",
       "      <td>NoAction</td>\n",
       "    </tr>\n",
       "  </tbody>\n",
       "</table>\n",
       "<p>478 rows × 2 columns</p>\n",
       "</div>"
      ],
      "text/plain": [
       "                                                 image    action\n",
       "0    E:/Project 103/Trimmed Data\\train_frames\\death...     death\n",
       "1    E:/Project 103/Trimmed Data\\train_frames\\death...     death\n",
       "2    E:/Project 103/Trimmed Data\\train_frames\\death...     death\n",
       "3    E:/Project 103/Trimmed Data\\train_frames\\death...     death\n",
       "4    E:/Project 103/Trimmed Data\\train_frames\\death...     death\n",
       "..                                                 ...       ...\n",
       "473  E:/Project 103/Trimmed Data\\train_frames\\NoAct...  NoAction\n",
       "474  E:/Project 103/Trimmed Data\\train_frames\\NoAct...  NoAction\n",
       "475  E:/Project 103/Trimmed Data\\train_frames\\NoAct...  NoAction\n",
       "476  E:/Project 103/Trimmed Data\\train_frames\\NoAct...  NoAction\n",
       "477  E:/Project 103/Trimmed Data\\train_frames\\NoAct...  NoAction\n",
       "\n",
       "[478 rows x 2 columns]"
      ]
     },
     "execution_count": 73,
     "metadata": {},
     "output_type": "execute_result"
    }
   ],
   "source": [
    "train_image = pd.read_csv(os.path.join(dataset_path, 'train_frames.csv'))\n",
    "train_image"
   ]
  },
  {
   "cell_type": "code",
   "execution_count": 74,
   "metadata": {},
   "outputs": [
    {
     "name": "stdout",
     "output_type": "stream",
     "text": [
      "(478, 2)\n"
     ]
    }
   ],
   "source": [
    "print(train_image.shape)"
   ]
  },
  {
   "cell_type": "code",
   "execution_count": 75,
   "metadata": {},
   "outputs": [
    {
     "data": {
      "text/html": [
       "<div>\n",
       "<style scoped>\n",
       "    .dataframe tbody tr th:only-of-type {\n",
       "        vertical-align: middle;\n",
       "    }\n",
       "\n",
       "    .dataframe tbody tr th {\n",
       "        vertical-align: top;\n",
       "    }\n",
       "\n",
       "    .dataframe thead th {\n",
       "        text-align: right;\n",
       "    }\n",
       "</style>\n",
       "<table border=\"1\" class=\"dataframe\">\n",
       "  <thead>\n",
       "    <tr style=\"text-align: right;\">\n",
       "      <th></th>\n",
       "      <th>image</th>\n",
       "      <th>action</th>\n",
       "    </tr>\n",
       "  </thead>\n",
       "  <tbody>\n",
       "    <tr>\n",
       "      <th>0</th>\n",
       "      <td>E:/Project 103/Trimmed Data\\val_frames\\death_1...</td>\n",
       "      <td>death</td>\n",
       "    </tr>\n",
       "    <tr>\n",
       "      <th>1</th>\n",
       "      <td>E:/Project 103/Trimmed Data\\val_frames\\death_1...</td>\n",
       "      <td>death</td>\n",
       "    </tr>\n",
       "    <tr>\n",
       "      <th>2</th>\n",
       "      <td>E:/Project 103/Trimmed Data\\val_frames\\death_1...</td>\n",
       "      <td>death</td>\n",
       "    </tr>\n",
       "    <tr>\n",
       "      <th>3</th>\n",
       "      <td>E:/Project 103/Trimmed Data\\val_frames\\death_1...</td>\n",
       "      <td>death</td>\n",
       "    </tr>\n",
       "    <tr>\n",
       "      <th>4</th>\n",
       "      <td>E:/Project 103/Trimmed Data\\val_frames\\death_2...</td>\n",
       "      <td>death</td>\n",
       "    </tr>\n",
       "    <tr>\n",
       "      <th>...</th>\n",
       "      <td>...</td>\n",
       "      <td>...</td>\n",
       "    </tr>\n",
       "    <tr>\n",
       "      <th>133</th>\n",
       "      <td>E:/Project 103/Trimmed Data\\val_frames\\NoActio...</td>\n",
       "      <td>NoAction</td>\n",
       "    </tr>\n",
       "    <tr>\n",
       "      <th>134</th>\n",
       "      <td>E:/Project 103/Trimmed Data\\val_frames\\NoActio...</td>\n",
       "      <td>NoAction</td>\n",
       "    </tr>\n",
       "    <tr>\n",
       "      <th>135</th>\n",
       "      <td>E:/Project 103/Trimmed Data\\val_frames\\NoActio...</td>\n",
       "      <td>NoAction</td>\n",
       "    </tr>\n",
       "    <tr>\n",
       "      <th>136</th>\n",
       "      <td>E:/Project 103/Trimmed Data\\val_frames\\NoActio...</td>\n",
       "      <td>NoAction</td>\n",
       "    </tr>\n",
       "    <tr>\n",
       "      <th>137</th>\n",
       "      <td>E:/Project 103/Trimmed Data\\val_frames\\NoActio...</td>\n",
       "      <td>NoAction</td>\n",
       "    </tr>\n",
       "  </tbody>\n",
       "</table>\n",
       "<p>138 rows × 2 columns</p>\n",
       "</div>"
      ],
      "text/plain": [
       "                                                 image    action\n",
       "0    E:/Project 103/Trimmed Data\\val_frames\\death_1...     death\n",
       "1    E:/Project 103/Trimmed Data\\val_frames\\death_1...     death\n",
       "2    E:/Project 103/Trimmed Data\\val_frames\\death_1...     death\n",
       "3    E:/Project 103/Trimmed Data\\val_frames\\death_1...     death\n",
       "4    E:/Project 103/Trimmed Data\\val_frames\\death_2...     death\n",
       "..                                                 ...       ...\n",
       "133  E:/Project 103/Trimmed Data\\val_frames\\NoActio...  NoAction\n",
       "134  E:/Project 103/Trimmed Data\\val_frames\\NoActio...  NoAction\n",
       "135  E:/Project 103/Trimmed Data\\val_frames\\NoActio...  NoAction\n",
       "136  E:/Project 103/Trimmed Data\\val_frames\\NoActio...  NoAction\n",
       "137  E:/Project 103/Trimmed Data\\val_frames\\NoActio...  NoAction\n",
       "\n",
       "[138 rows x 2 columns]"
      ]
     },
     "execution_count": 75,
     "metadata": {},
     "output_type": "execute_result"
    }
   ],
   "source": [
    "val_image = pd.read_csv(os.path.join(dataset_path, 'val_frames.csv'))\n",
    "val_image"
   ]
  },
  {
   "cell_type": "code",
   "execution_count": 76,
   "metadata": {},
   "outputs": [
    {
     "name": "stdout",
     "output_type": "stream",
     "text": [
      "(138, 2)\n"
     ]
    }
   ],
   "source": [
    "print(val_image.shape)"
   ]
  },
  {
   "cell_type": "code",
   "execution_count": 77,
   "metadata": {},
   "outputs": [
    {
     "data": {
      "text/plain": [
       "['death', 'kill', 'NoAction']"
      ]
     },
     "execution_count": 77,
     "metadata": {},
     "output_type": "execute_result"
    }
   ],
   "source": [
    "action_values = list(train_image['action'].unique())\n",
    "action_values"
   ]
  },
  {
   "cell_type": "code",
   "execution_count": 78,
   "metadata": {},
   "outputs": [],
   "source": [
    "def create_class_columns(df):\n",
    "    for value in action_values:\n",
    "        df[value] = np.where(df['action'].str.contains(value), 1, 0)\n",
    "    df.drop('action', axis='columns', inplace=True)"
   ]
  },
  {
   "cell_type": "code",
   "execution_count": 79,
   "metadata": {},
   "outputs": [
    {
     "data": {
      "text/html": [
       "<div>\n",
       "<style scoped>\n",
       "    .dataframe tbody tr th:only-of-type {\n",
       "        vertical-align: middle;\n",
       "    }\n",
       "\n",
       "    .dataframe tbody tr th {\n",
       "        vertical-align: top;\n",
       "    }\n",
       "\n",
       "    .dataframe thead th {\n",
       "        text-align: right;\n",
       "    }\n",
       "</style>\n",
       "<table border=\"1\" class=\"dataframe\">\n",
       "  <thead>\n",
       "    <tr style=\"text-align: right;\">\n",
       "      <th></th>\n",
       "      <th>image</th>\n",
       "      <th>death</th>\n",
       "      <th>kill</th>\n",
       "      <th>NoAction</th>\n",
       "    </tr>\n",
       "  </thead>\n",
       "  <tbody>\n",
       "    <tr>\n",
       "      <th>0</th>\n",
       "      <td>E:/Project 103/Trimmed Data\\train_frames\\death...</td>\n",
       "      <td>1</td>\n",
       "      <td>0</td>\n",
       "      <td>0</td>\n",
       "    </tr>\n",
       "    <tr>\n",
       "      <th>1</th>\n",
       "      <td>E:/Project 103/Trimmed Data\\train_frames\\death...</td>\n",
       "      <td>1</td>\n",
       "      <td>0</td>\n",
       "      <td>0</td>\n",
       "    </tr>\n",
       "    <tr>\n",
       "      <th>2</th>\n",
       "      <td>E:/Project 103/Trimmed Data\\train_frames\\death...</td>\n",
       "      <td>1</td>\n",
       "      <td>0</td>\n",
       "      <td>0</td>\n",
       "    </tr>\n",
       "    <tr>\n",
       "      <th>3</th>\n",
       "      <td>E:/Project 103/Trimmed Data\\train_frames\\death...</td>\n",
       "      <td>1</td>\n",
       "      <td>0</td>\n",
       "      <td>0</td>\n",
       "    </tr>\n",
       "    <tr>\n",
       "      <th>4</th>\n",
       "      <td>E:/Project 103/Trimmed Data\\train_frames\\death...</td>\n",
       "      <td>1</td>\n",
       "      <td>0</td>\n",
       "      <td>0</td>\n",
       "    </tr>\n",
       "  </tbody>\n",
       "</table>\n",
       "</div>"
      ],
      "text/plain": [
       "                                               image  death  kill  NoAction\n",
       "0  E:/Project 103/Trimmed Data\\train_frames\\death...      1     0         0\n",
       "1  E:/Project 103/Trimmed Data\\train_frames\\death...      1     0         0\n",
       "2  E:/Project 103/Trimmed Data\\train_frames\\death...      1     0         0\n",
       "3  E:/Project 103/Trimmed Data\\train_frames\\death...      1     0         0\n",
       "4  E:/Project 103/Trimmed Data\\train_frames\\death...      1     0         0"
      ]
     },
     "execution_count": 79,
     "metadata": {},
     "output_type": "execute_result"
    }
   ],
   "source": [
    "create_class_columns(train_image)\n",
    "train_image.head()"
   ]
  },
  {
   "cell_type": "code",
   "execution_count": 80,
   "metadata": {},
   "outputs": [
    {
     "data": {
      "text/html": [
       "<div>\n",
       "<style scoped>\n",
       "    .dataframe tbody tr th:only-of-type {\n",
       "        vertical-align: middle;\n",
       "    }\n",
       "\n",
       "    .dataframe tbody tr th {\n",
       "        vertical-align: top;\n",
       "    }\n",
       "\n",
       "    .dataframe thead th {\n",
       "        text-align: right;\n",
       "    }\n",
       "</style>\n",
       "<table border=\"1\" class=\"dataframe\">\n",
       "  <thead>\n",
       "    <tr style=\"text-align: right;\">\n",
       "      <th></th>\n",
       "      <th>image</th>\n",
       "      <th>death</th>\n",
       "      <th>kill</th>\n",
       "      <th>NoAction</th>\n",
       "    </tr>\n",
       "  </thead>\n",
       "  <tbody>\n",
       "    <tr>\n",
       "      <th>0</th>\n",
       "      <td>E:/Project 103/Trimmed Data\\val_frames\\death_1...</td>\n",
       "      <td>1</td>\n",
       "      <td>0</td>\n",
       "      <td>0</td>\n",
       "    </tr>\n",
       "    <tr>\n",
       "      <th>1</th>\n",
       "      <td>E:/Project 103/Trimmed Data\\val_frames\\death_1...</td>\n",
       "      <td>1</td>\n",
       "      <td>0</td>\n",
       "      <td>0</td>\n",
       "    </tr>\n",
       "    <tr>\n",
       "      <th>2</th>\n",
       "      <td>E:/Project 103/Trimmed Data\\val_frames\\death_1...</td>\n",
       "      <td>1</td>\n",
       "      <td>0</td>\n",
       "      <td>0</td>\n",
       "    </tr>\n",
       "    <tr>\n",
       "      <th>3</th>\n",
       "      <td>E:/Project 103/Trimmed Data\\val_frames\\death_1...</td>\n",
       "      <td>1</td>\n",
       "      <td>0</td>\n",
       "      <td>0</td>\n",
       "    </tr>\n",
       "    <tr>\n",
       "      <th>4</th>\n",
       "      <td>E:/Project 103/Trimmed Data\\val_frames\\death_2...</td>\n",
       "      <td>1</td>\n",
       "      <td>0</td>\n",
       "      <td>0</td>\n",
       "    </tr>\n",
       "  </tbody>\n",
       "</table>\n",
       "</div>"
      ],
      "text/plain": [
       "                                               image  death  kill  NoAction\n",
       "0  E:/Project 103/Trimmed Data\\val_frames\\death_1...      1     0         0\n",
       "1  E:/Project 103/Trimmed Data\\val_frames\\death_1...      1     0         0\n",
       "2  E:/Project 103/Trimmed Data\\val_frames\\death_1...      1     0         0\n",
       "3  E:/Project 103/Trimmed Data\\val_frames\\death_1...      1     0         0\n",
       "4  E:/Project 103/Trimmed Data\\val_frames\\death_2...      1     0         0"
      ]
     },
     "execution_count": 80,
     "metadata": {},
     "output_type": "execute_result"
    }
   ],
   "source": [
    "create_class_columns(val_image)\n",
    "val_image.head()"
   ]
  },
  {
   "cell_type": "code",
   "execution_count": 81,
   "metadata": {},
   "outputs": [],
   "source": [
    "def convert_to_array_and_split(image_data):\n",
    "    image_value = []\n",
    "    for i in tqdm(range(image_data.shape[0])):\n",
    "        img = image.load_img(image_data['image'][i], target_size=(224,224,3))\n",
    "        img = image.img_to_array(img)\n",
    "        # normalizing the pixel value\n",
    "        img = img / 255\n",
    "        image_value.append(img)\n",
    "\n",
    "    X = np.array(image_value)\n",
    "    y = image_data\n",
    "    y.drop('image', axis='columns', inplace=True)\n",
    "    return X, y"
   ]
  },
  {
   "cell_type": "code",
   "execution_count": 82,
   "metadata": {},
   "outputs": [
    {
     "name": "stderr",
     "output_type": "stream",
     "text": [
      "100%|████████████████████████████████████████████████████████████████████████████████| 478/478 [00:11<00:00, 40.50it/s]\n"
     ]
    },
    {
     "name": "stdout",
     "output_type": "stream",
     "text": [
      "(478, 224, 224, 3)\n"
     ]
    }
   ],
   "source": [
    "X_train, y_train = convert_to_array_and_split(train_image)\n",
    "print(X_train.shape)"
   ]
  },
  {
   "cell_type": "code",
   "execution_count": 83,
   "metadata": {},
   "outputs": [
    {
     "name": "stderr",
     "output_type": "stream",
     "text": [
      "100%|████████████████████████████████████████████████████████████████████████████████| 138/138 [00:03<00:00, 43.02it/s]\n"
     ]
    },
    {
     "name": "stdout",
     "output_type": "stream",
     "text": [
      "(138, 224, 224, 3)\n"
     ]
    }
   ],
   "source": [
    "X_val, y_val = convert_to_array_and_split(val_image)\n",
    "print(X_val.shape)"
   ]
  },
  {
   "cell_type": "code",
   "execution_count": 84,
   "metadata": {},
   "outputs": [],
   "source": [
    "#'warning'\n",
    "X_train_set_copy = X_train\n",
    "X_val_set_copy = X_val"
   ]
  },
  {
   "cell_type": "code",
   "execution_count": 38,
   "metadata": {},
   "outputs": [],
   "source": [
    "X_train = X_train_set_copy\n",
    "X_val = X_val_set_copy"
   ]
  },
  {
   "cell_type": "code",
   "execution_count": 35,
   "metadata": {},
   "outputs": [
    {
     "data": {
      "text/html": [
       "<div>\n",
       "<style scoped>\n",
       "    .dataframe tbody tr th:only-of-type {\n",
       "        vertical-align: middle;\n",
       "    }\n",
       "\n",
       "    .dataframe tbody tr th {\n",
       "        vertical-align: top;\n",
       "    }\n",
       "\n",
       "    .dataframe thead th {\n",
       "        text-align: right;\n",
       "    }\n",
       "</style>\n",
       "<table border=\"1\" class=\"dataframe\">\n",
       "  <thead>\n",
       "    <tr style=\"text-align: right;\">\n",
       "      <th></th>\n",
       "      <th>death</th>\n",
       "      <th>kill</th>\n",
       "      <th>NoAction</th>\n",
       "    </tr>\n",
       "  </thead>\n",
       "  <tbody>\n",
       "    <tr>\n",
       "      <th>0</th>\n",
       "      <td>1</td>\n",
       "      <td>0</td>\n",
       "      <td>0</td>\n",
       "    </tr>\n",
       "    <tr>\n",
       "      <th>1</th>\n",
       "      <td>1</td>\n",
       "      <td>0</td>\n",
       "      <td>0</td>\n",
       "    </tr>\n",
       "    <tr>\n",
       "      <th>2</th>\n",
       "      <td>1</td>\n",
       "      <td>0</td>\n",
       "      <td>0</td>\n",
       "    </tr>\n",
       "    <tr>\n",
       "      <th>3</th>\n",
       "      <td>1</td>\n",
       "      <td>0</td>\n",
       "      <td>0</td>\n",
       "    </tr>\n",
       "    <tr>\n",
       "      <th>4</th>\n",
       "      <td>1</td>\n",
       "      <td>0</td>\n",
       "      <td>0</td>\n",
       "    </tr>\n",
       "  </tbody>\n",
       "</table>\n",
       "</div>"
      ],
      "text/plain": [
       "   death  kill  NoAction\n",
       "0      1     0         0\n",
       "1      1     0         0\n",
       "2      1     0         0\n",
       "3      1     0         0\n",
       "4      1     0         0"
      ]
     },
     "execution_count": 35,
     "metadata": {},
     "output_type": "execute_result"
    }
   ],
   "source": [
    "y_train.head()"
   ]
  },
  {
   "cell_type": "code",
   "execution_count": 85,
   "metadata": {},
   "outputs": [],
   "source": [
    "from tensorflow.keras.applications.vgg16 import VGG16\n",
    "'''This model was trained on a dataset that has 1,000 classes. \n",
    "include_top = False will remove the last layer of this model so that we can tune it as per our need.\n",
    "'''\n",
    "base_model = VGG16(weights='imagenet', include_top=False)"
   ]
  },
  {
   "cell_type": "code",
   "execution_count": 86,
   "metadata": {},
   "outputs": [
    {
     "data": {
      "text/plain": [
       "(478, 7, 7, 512)"
      ]
     },
     "execution_count": 86,
     "metadata": {},
     "output_type": "execute_result"
    }
   ],
   "source": [
    "X_train = base_model.predict(X_train)\n",
    "X_train.shape"
   ]
  },
  {
   "cell_type": "code",
   "execution_count": 87,
   "metadata": {},
   "outputs": [
    {
     "data": {
      "text/plain": [
       "(138, 7, 7, 512)"
      ]
     },
     "execution_count": 87,
     "metadata": {},
     "output_type": "execute_result"
    }
   ],
   "source": [
    "X_val = base_model.predict(X_val)\n",
    "X_val.shape"
   ]
  },
  {
   "cell_type": "code",
   "execution_count": 88,
   "metadata": {},
   "outputs": [],
   "source": [
    "#'warning'\n",
    "X_train_copy = X_train\n",
    "X_val_copy = X_val"
   ]
  },
  {
   "cell_type": "code",
   "execution_count": 44,
   "metadata": {},
   "outputs": [],
   "source": [
    "X_train = X_train_copy\n",
    "X_val = X_val_copy"
   ]
  },
  {
   "cell_type": "code",
   "execution_count": 89,
   "metadata": {},
   "outputs": [],
   "source": [
    "X_train = X_train.reshape(X_train.shape[0], 7*7*512)\n",
    "X_val = X_val.reshape(X_val.shape[0], 7*7*512)"
   ]
  },
  {
   "cell_type": "code",
   "execution_count": 90,
   "metadata": {},
   "outputs": [
    {
     "name": "stdout",
     "output_type": "stream",
     "text": [
      "(478, 25088)\n",
      "(138, 25088)\n"
     ]
    }
   ],
   "source": [
    "max_pixel = X_train.max()\n",
    "X_train = X_train / max_pixel\n",
    "X_val = X_val / max_pixel\n",
    "print(X_train.shape)\n",
    "print(X_val.shape)"
   ]
  },
  {
   "cell_type": "code",
   "execution_count": 91,
   "metadata": {},
   "outputs": [
    {
     "name": "stdout",
     "output_type": "stream",
     "text": [
      "Model: \"sequential_1\"\n",
      "_________________________________________________________________\n",
      "Layer (type)                 Output Shape              Param #   \n",
      "=================================================================\n",
      "dense_5 (Dense)              (None, 1024)              25691136  \n",
      "_________________________________________________________________\n",
      "dropout_4 (Dropout)          (None, 1024)              0         \n",
      "_________________________________________________________________\n",
      "dense_6 (Dense)              (None, 512)               524800    \n",
      "_________________________________________________________________\n",
      "dropout_5 (Dropout)          (None, 512)               0         \n",
      "_________________________________________________________________\n",
      "dense_7 (Dense)              (None, 256)               131328    \n",
      "_________________________________________________________________\n",
      "dropout_6 (Dropout)          (None, 256)               0         \n",
      "_________________________________________________________________\n",
      "dense_8 (Dense)              (None, 128)               32896     \n",
      "_________________________________________________________________\n",
      "dropout_7 (Dropout)          (None, 128)               0         \n",
      "_________________________________________________________________\n",
      "dense_9 (Dense)              (None, 3)                 387       \n",
      "=================================================================\n",
      "Total params: 26,380,547\n",
      "Trainable params: 26,380,547\n",
      "Non-trainable params: 0\n",
      "_________________________________________________________________\n"
     ]
    }
   ],
   "source": [
    "model = Sequential()\n",
    "model.add(Dense(1024, activation='relu', input_shape=(25088,)))\n",
    "model.add(Dropout(0.5))\n",
    "model.add(Dense(512, activation='relu'))\n",
    "model.add(Dropout(0.5))\n",
    "model.add(Dense(256, activation='relu'))\n",
    "model.add(Dropout(0.5))\n",
    "model.add(Dense(128, activation='relu'))\n",
    "model.add(Dropout(0.5))\n",
    "model.add(Dense(3, activation='softmax'))\n",
    "model.compile(loss='categorical_crossentropy',optimizer='Adam',metrics=['accuracy'])\n",
    "model.summary()"
   ]
  },
  {
   "cell_type": "code",
   "execution_count": 92,
   "metadata": {},
   "outputs": [],
   "source": [
    "from keras.callbacks import ModelCheckpoint\n",
    "mcp_weight = ModelCheckpoint('weight_vgg16_final2.hdf5', save_best_only=True, monitor='val_loss', mode='min')"
   ]
  },
  {
   "cell_type": "code",
   "execution_count": 93,
   "metadata": {},
   "outputs": [
    {
     "name": "stdout",
     "output_type": "stream",
     "text": [
      "Epoch 1/30\n",
      "4/4 [==============================] - 3s 491ms/step - loss: 1.1261 - accuracy: 0.3676 - val_loss: 1.0475 - val_accuracy: 0.4565\n",
      "Epoch 2/30\n",
      "4/4 [==============================] - 1s 312ms/step - loss: 1.1630 - accuracy: 0.3946 - val_loss: 1.0215 - val_accuracy: 0.5290\n",
      "Epoch 3/30\n",
      "4/4 [==============================] - 1s 290ms/step - loss: 1.1358 - accuracy: 0.4449 - val_loss: 0.9886 - val_accuracy: 0.5507\n",
      "Epoch 4/30\n",
      "4/4 [==============================] - 1s 267ms/step - loss: 1.0793 - accuracy: 0.4682 - val_loss: 1.0052 - val_accuracy: 0.6957\n",
      "Epoch 5/30\n",
      "4/4 [==============================] - 1s 264ms/step - loss: 1.0525 - accuracy: 0.4846 - val_loss: 0.9542 - val_accuracy: 0.6522\n",
      "Epoch 6/30\n",
      "4/4 [==============================] - 1s 268ms/step - loss: 1.0013 - accuracy: 0.5151 - val_loss: 0.8845 - val_accuracy: 0.6667\n",
      "Epoch 7/30\n",
      "4/4 [==============================] - 1s 269ms/step - loss: 1.0025 - accuracy: 0.5358 - val_loss: 0.8016 - val_accuracy: 0.6957\n",
      "Epoch 8/30\n",
      "4/4 [==============================] - 1s 273ms/step - loss: 0.8978 - accuracy: 0.6003 - val_loss: 0.6990 - val_accuracy: 0.7681\n",
      "Epoch 9/30\n",
      "4/4 [==============================] - 1s 273ms/step - loss: 0.7985 - accuracy: 0.6400 - val_loss: 0.5979 - val_accuracy: 0.7754\n",
      "Epoch 10/30\n",
      "4/4 [==============================] - 1s 268ms/step - loss: 0.6915 - accuracy: 0.7042 - val_loss: 0.5877 - val_accuracy: 0.7391\n",
      "Epoch 11/30\n",
      "4/4 [==============================] - 1s 271ms/step - loss: 0.6608 - accuracy: 0.7324 - val_loss: 0.4762 - val_accuracy: 0.8333\n",
      "Epoch 12/30\n",
      "4/4 [==============================] - 1s 268ms/step - loss: 0.5495 - accuracy: 0.7624 - val_loss: 0.4898 - val_accuracy: 0.8116\n",
      "Epoch 13/30\n",
      "4/4 [==============================] - 1s 265ms/step - loss: 0.4982 - accuracy: 0.8000 - val_loss: 0.4469 - val_accuracy: 0.8478\n",
      "Epoch 14/30\n",
      "4/4 [==============================] - 1s 269ms/step - loss: 0.4432 - accuracy: 0.8358 - val_loss: 0.4224 - val_accuracy: 0.8406\n",
      "Epoch 15/30\n",
      "4/4 [==============================] - 1s 271ms/step - loss: 0.3548 - accuracy: 0.8782 - val_loss: 0.4578 - val_accuracy: 0.7754\n",
      "Epoch 16/30\n",
      "4/4 [==============================] - 1s 270ms/step - loss: 0.3578 - accuracy: 0.8684 - val_loss: 0.4348 - val_accuracy: 0.8116\n",
      "Epoch 17/30\n",
      "4/4 [==============================] - 1s 265ms/step - loss: 0.3042 - accuracy: 0.8764 - val_loss: 0.6871 - val_accuracy: 0.7319\n",
      "Epoch 18/30\n",
      "4/4 [==============================] - 1s 266ms/step - loss: 0.2873 - accuracy: 0.8765 - val_loss: 0.5631 - val_accuracy: 0.8261\n",
      "Epoch 19/30\n",
      "4/4 [==============================] - 1s 266ms/step - loss: 0.2716 - accuracy: 0.9157 - val_loss: 0.8477 - val_accuracy: 0.6812\n",
      "Epoch 20/30\n",
      "4/4 [==============================] - 1s 264ms/step - loss: 0.2314 - accuracy: 0.9294 - val_loss: 0.3702 - val_accuracy: 0.8986\n",
      "Epoch 21/30\n",
      "4/4 [==============================] - 1s 272ms/step - loss: 0.1895 - accuracy: 0.9347 - val_loss: 0.4170 - val_accuracy: 0.8406\n",
      "Epoch 22/30\n",
      "4/4 [==============================] - 1s 265ms/step - loss: 0.1380 - accuracy: 0.9570 - val_loss: 0.4165 - val_accuracy: 0.8406\n",
      "Epoch 23/30\n",
      "4/4 [==============================] - 1s 263ms/step - loss: 0.1082 - accuracy: 0.9666 - val_loss: 0.4398 - val_accuracy: 0.8841\n",
      "Epoch 24/30\n",
      "4/4 [==============================] - 1s 263ms/step - loss: 0.1292 - accuracy: 0.9601 - val_loss: 0.4789 - val_accuracy: 0.8188\n",
      "Epoch 25/30\n",
      "4/4 [==============================] - 1s 264ms/step - loss: 0.0941 - accuracy: 0.9747 - val_loss: 0.4089 - val_accuracy: 0.8696\n",
      "Epoch 26/30\n",
      "4/4 [==============================] - 1s 264ms/step - loss: 0.0576 - accuracy: 0.9884 - val_loss: 0.4420 - val_accuracy: 0.8551\n",
      "Epoch 27/30\n",
      "4/4 [==============================] - 1s 264ms/step - loss: 0.0392 - accuracy: 0.9899 - val_loss: 0.5157 - val_accuracy: 0.8551\n",
      "Epoch 28/30\n",
      "4/4 [==============================] - 1s 265ms/step - loss: 0.0271 - accuracy: 0.9935 - val_loss: 0.5268 - val_accuracy: 0.8623\n",
      "Epoch 29/30\n",
      "4/4 [==============================] - 1s 264ms/step - loss: 0.0216 - accuracy: 0.9951 - val_loss: 0.5524 - val_accuracy: 0.8551\n",
      "Epoch 30/30\n",
      "4/4 [==============================] - 1s 266ms/step - loss: 0.0325 - accuracy: 0.9932 - val_loss: 0.5873 - val_accuracy: 0.8623\n"
     ]
    }
   ],
   "source": [
    "history=model.fit(X_train, y_train, epochs=30, validation_data=(X_val, y_val), callbacks=[mcp_weight], batch_size=128)"
   ]
  },
  {
   "cell_type": "code",
   "execution_count": 94,
   "metadata": {},
   "outputs": [
    {
     "name": "stderr",
     "output_type": "stream",
     "text": [
      "100%|██████████████████████████████████████████████████████████████████████████████████| 60/60 [01:25<00:00,  1.42s/it]\n"
     ]
    }
   ],
   "source": [
    "from scipy import stats as s\n",
    "predict = []\n",
    "actual = []\n",
    "if not os.path.exists(test_frames_path):\n",
    "    os.makedirs(test_frames_path)\n",
    "\n",
    "for i in tqdm(range(test.shape[0])):\n",
    "    video_file = test['Video_url'][i]\n",
    "    action = test['action'][i]\n",
    "    video_name_list = video_file.split('/')[-1].split('.')\n",
    "    video_name_list = video_name_list[:-1]\n",
    "    video_name = \"\"\n",
    "    for n in video_name_list:\n",
    "        video_name += n\n",
    "    # capturing the video from the given path\n",
    "    capture = cv2.VideoCapture(video_file) \n",
    "    #frame rate\n",
    "    frame_rate = capture.get(5)\n",
    "    count = 0\n",
    "    files = glob(test_frames_path + '/*')\n",
    "    #removing all files from folder\n",
    "    for f in files:\n",
    "        os.remove(f)\n",
    "    while(capture.isOpened()):\n",
    "        #current frame number\n",
    "        frame_id = capture.get(1) \n",
    "        read_correctly, frame = capture.read()\n",
    "        if not read_correctly:\n",
    "            break\n",
    "        if (frame_id % math.floor(frame_rate) == 0):\n",
    "            # storing the frames in a new folder named train_1\n",
    "            filename = test_frames_path + \"/\" + video_name + \"_frame{}_\".format(count) + action +\".jpg\"\n",
    "            count += 1\n",
    "            cv2.imwrite(filename, frame)\n",
    "    capture.release()\n",
    "    \n",
    "    # reading all the frames from temp folder\n",
    "    images = glob(test_frames_path + '/*.jpg')\n",
    "    prediction_images = []\n",
    "    for i in range(len(images)):\n",
    "        img = image.load_img(images[i], target_size=(224,224,3))\n",
    "        img = image.img_to_array(img)\n",
    "        img = img / 255\n",
    "        prediction_images.append(img)\n",
    "        \n",
    "    # converting all the frames for a test video into numpy array\n",
    "    prediction_images = np.array(prediction_images)\n",
    "    #prediction_images = prediction_images / max_pixel\n",
    "    # extracting features using pre-trained model\n",
    "    prediction_images = base_model.predict(prediction_images)\n",
    "    # converting features in one dimensional array\n",
    "    prediction_images = prediction_images.reshape(prediction_images.shape[0], 7*7*512)\n",
    "    # predicting tags for each array\n",
    "    prediction = np.argmax(model.predict(prediction_images), axis=-1)\n",
    "    # appending the mode of predictions in predict list to assign the tag to the video\n",
    "    predict.append(y_train.columns.values[s.mode(prediction)[0][0]])\n",
    "    # appending the actual tag of the video\n",
    "    actual.append(action)"
   ]
  },
  {
   "cell_type": "code",
   "execution_count": 152,
   "metadata": {},
   "outputs": [],
   "source": [
    "def frame_no(video_name):\n",
    "    cap= cv2.VideoCapture(video_name)\n",
    "    i=0\n",
    "    while(cap.isOpened()):\n",
    "        ret, frame = cap.read()\n",
    "        if ret == False:\n",
    "            break\n",
    "    \n",
    "        frameId = cap.get(1)\n",
    "    \n",
    "    #cap.release()\n",
    "    #cv2.destroyAllWindows()\n",
    "    return frameId\n",
    "\n",
    "filepath = 'E:\\Project 103\\prediction_count'\n",
    "j=0\n",
    "video_name = 'kill_69.mp4'\n",
    "frame_needed = 30\n",
    "cap= cv2.VideoCapture(video_name)\n",
    "#frameRate = cap.get(5)\n",
    "tot_frame = frame_no(video_name)\n",
    "while(cap.isOpened()):\n",
    "    ret, frame = cap.read()\n",
    "    if ret == False:\n",
    "        break\n",
    "    frameId = cap.get(1)\n",
    "\n",
    "    a = np.linspace(0, tot_frame, frame_needed)\n",
    "\n",
    "    for i in range(len(a)):\n",
    "        if (frameId == math.floor(a[i])):\n",
    "            final_filepath = os.path.join(filepath, 'predict_frame'+str(j)+'.jpg')\n",
    "            cv2.imwrite(final_filepath,frame)\n",
    "            j+=1\n",
    "\n",
    "cap.release()\n",
    "cv2.destroyAllWindows()"
   ]
  },
  {
   "cell_type": "code",
   "execution_count": 116,
   "metadata": {},
   "outputs": [
    {
     "name": "stdout",
     "output_type": "stream",
     "text": [
      "Moviepy - Running:\n",
      ">>> \"+ \" \".join(cmd)\n",
      "Moviepy - Command successful\n"
     ]
    }
   ],
   "source": [
    "from moviepy.video.io.ffmpeg_tools import ffmpeg_extract_subclip\n",
    "from moviepy.editor import VideoFileClip\n",
    "\n",
    "end_time = 150\n",
    "start_time = 90\n",
    "clip = VideoFileClip(\"z3.mp4\")\n",
    "dur_int = int(clip.duration)\n",
    "ffmpeg_extract_subclip(\"z3.mp4\", start_time, end_time, targetname=\"z3short2.mp4\")"
   ]
  },
  {
   "cell_type": "code",
   "execution_count": 117,
   "metadata": {},
   "outputs": [
    {
     "name": "stdout",
     "output_type": "stream",
     "text": [
      "[2 2 2 0 0 0 0 0 0 0 0 0 0 2 0 0 0 0 0 0 0 0 0 0 2 0 2 2 2 2 2 2 2 2 2 2 2\n",
      " 2 2 2 2 2 2 2 2 2 2 2 2 2 2 2 2 2 2 2 2 2 2 2 2 2 2 2 2 2 2 2 2 2 2 2 2 0\n",
      " 0 1 1 2 0 0 0 1 1 1 1 1 1 1 2 1 1 1 1 1 0 0 0 0 0 2 0 0 0 0 0 0 0 0 0 0 2\n",
      " 0 0 0 0 0 0 0 0 0 0]\n"
     ]
    }
   ],
   "source": [
    "def frame_no(video_name):\n",
    "    cap= cv2.VideoCapture(video_name)\n",
    "    i=0\n",
    "    while(cap.isOpened()):\n",
    "        ret, frame = cap.read()\n",
    "        if ret == False:\n",
    "            break\n",
    "    \n",
    "        frameId = cap.get(1)\n",
    "    \n",
    "    #cap.release()\n",
    "    #cv2.destroyAllWindows()\n",
    "    return frameId\n",
    "\n",
    "filepath = 'E:\\Project 103\\prediction_count'\n",
    "images = glob(filepath + '/*.jpg')\n",
    "\n",
    "for f in images:\n",
    "    os.remove(f)\n",
    "\n",
    "filepath = 'E:\\Project 103\\prediction_count'\n",
    "j=0\n",
    "video_name = 'z3short2.mp4'\n",
    "\n",
    "cap= cv2.VideoCapture(video_name)\n",
    "fps = cap.get(cv2.CAP_PROP_FPS)     \n",
    "frame_count = int(cap.get(cv2.CAP_PROP_FRAME_COUNT))\n",
    "duration = int(frame_count/fps)\n",
    "\n",
    "frame_needed = duration*2\n",
    "\n",
    "tot_frame = frame_no(video_name)\n",
    "while(cap.isOpened()):\n",
    "    ret, frame = cap.read()\n",
    "    if ret == False:\n",
    "        break\n",
    "    frameId = cap.get(1)\n",
    "\n",
    "    a = np.linspace(0, tot_frame, frame_needed)\n",
    "\n",
    "    for i in range(len(a)):\n",
    "        if (frameId == math.floor(a[i])):\n",
    "            final_filepath = os.path.join(filepath, 'predict_frame'+str(j)+'.jpg')\n",
    "            cv2.imwrite(final_filepath,frame)\n",
    "            j+=1\n",
    "\n",
    "cap.release()\n",
    "cv2.destroyAllWindows()\n",
    "\n",
    "images = glob(filepath + '/*.jpg')\n",
    "\n",
    "prediction_images = []\n",
    "predict = []\n",
    "predict2 = []\n",
    "for i in range(len(images)):\n",
    "    img = image.load_img(images[i], target_size=(224,224,3))\n",
    "    img = image.img_to_array(img)\n",
    "    img = img / 255\n",
    "    prediction_images.append(img)\n",
    "\n",
    "prediction_images = np.array(prediction_images)\n",
    "prediction_images = base_model.predict(prediction_images)\n",
    "prediction_images = prediction_images.reshape(prediction_images.shape[0], 7*7*512)\n",
    "predict = model.predict(prediction_images)\n",
    "a = np.argmax(predict)\n",
    "#print(predict)\n",
    "def maxfunction(x):\n",
    "        return np.argmax(x)\n",
    "\n",
    "prediction = np.apply_along_axis( maxfunction, axis=1, arr=predict )\n",
    "\n",
    "print(prediction)\n",
    "\n",
    "filepath = 'E:\\Project 103\\prediction_count'\n",
    "images = glob(filepath + '/*.jpg')\n",
    "\n",
    "for f in images:\n",
    "    os.remove(f)"
   ]
  },
  {
   "cell_type": "code",
   "execution_count": 119,
   "metadata": {},
   "outputs": [
    {
     "name": "stdout",
     "output_type": "stream",
     "text": [
      "Kill:  1\n",
      "Death:  6\n"
     ]
    }
   ],
   "source": [
    "z=0\n",
    "kill_count=0\n",
    "death_count=0\n",
    "threshold=7\n",
    "range_=10\n",
    "\n",
    "for i in prediction:\n",
    "    if z>=len(prediction):\n",
    "        break\n",
    "    \n",
    "    elif prediction[z]==1:\n",
    "            prove = prediction[z:(z+range_)]\n",
    "            #print(z,':for 1')\n",
    "            counter=collections.Counter(prove)\n",
    "            dictionary = dict(counter)\n",
    "            try:\n",
    "                if dictionary[1]>=threshold:\n",
    "                    #print('kill!')\n",
    "                    kill_count+=1\n",
    "                    \n",
    "                    z=z+threshold-1\n",
    "                   \n",
    "            except:\n",
    "                #print('oops')\n",
    "                pass\n",
    "            \n",
    "    elif prediction[z]==0:\n",
    "            prove = prediction[z:(z+range_)]\n",
    "            counter=collections.Counter(prove)\n",
    "            dictionary = dict(counter)\n",
    "            #print(z, ':for 2')\n",
    "            try:\n",
    "                if dictionary[0]>=threshold:\n",
    "                    #print('death!')\n",
    "                    \n",
    "                    death_count+=1\n",
    "                    z=z+threshold-1\n",
    "            except:\n",
    "                #print('oops')\n",
    "                pass\n",
    "            \n",
    "    else:\n",
    "        pass\n",
    "    #print(prove)\n",
    "    \n",
    "    z+=1\n",
    "    #print(z)\n",
    "print('Kill: ',kill_count)\n",
    "print('Death: ',death_count)\n",
    "\n"
   ]
  },
  {
   "cell_type": "code",
   "execution_count": 59,
   "metadata": {},
   "outputs": [],
   "source": [
    "filepath = 'E:\\Project 103\\prediction_count'\n",
    "images = glob(filepath + '/*.jpg')\n",
    "\n",
    "for f in images:\n",
    "    os.remove(f)"
   ]
  },
  {
   "cell_type": "code",
   "execution_count": 342,
   "metadata": {},
   "outputs": [
    {
     "name": "stdout",
     "output_type": "stream",
     "text": [
      "[2 2 2 2 2 2 2 2 2 2 2 2 2 2 2 2 0 0 2 2 2 2 2 2 2 0 2 2 2 2 2 2 2 2 2 2 2\n",
      " 2 2 2 2 2 2 2 2 2 2 2 2 2 2 2 2 2 2 2 2 0 2 2 2 2 2 2 0 2 2 2 2 2 2 2 0 0\n",
      " 0 0 0 2 0 0 0 2 2 2 2 2 2 2 2 2 2 2 2 2 2 2 2 2 2 2 2 2 2 2 2 2 2 2 2 2 2\n",
      " 2 0 2 2 0 2 2 2 2 2]\n"
     ]
    }
   ],
   "source": [
    "def frame_no(video_name):\n",
    "    cap= cv2.VideoCapture(video_name)\n",
    "    i=0\n",
    "    while(cap.isOpened()):\n",
    "        ret, frame = cap.read()\n",
    "        if ret == False:\n",
    "            break\n",
    "    \n",
    "        frameId = cap.get(1)\n",
    "    \n",
    "    #cap.release()\n",
    "    #cv2.destroyAllWindows()\n",
    "    return frameId\n",
    "\n",
    "filepath = 'E:\\Project 103\\prediction_count'\n",
    "j=0\n",
    "video_name = 'z1short.mp4'\n",
    "\n",
    "cap= cv2.VideoCapture(video_name)\n",
    "fps = cap.get(cv2.CAP_PROP_FPS)     \n",
    "frame_count = int(cap.get(cv2.CAP_PROP_FRAME_COUNT))\n",
    "duration = int(frame_count/fps)\n",
    "\n",
    "frame_needed = duration*2\n",
    "\n",
    "tot_frame = frame_no(video_name)\n",
    "while(cap.isOpened()):\n",
    "    ret, frame = cap.read()\n",
    "    if ret == False:\n",
    "        break\n",
    "    frameId = cap.get(1)\n",
    "\n",
    "    a = np.linspace(0, tot_frame, frame_needed)\n",
    "\n",
    "    for i in range(len(a)):\n",
    "        if (frameId == math.floor(a[i])):\n",
    "            final_filepath = os.path.join(filepath, 'predict_frame'+str(j)+'.jpg')\n",
    "            cv2.imwrite(final_filepath,frame)\n",
    "            j+=1\n",
    "\n",
    "cap.release()\n",
    "cv2.destroyAllWindows()\n",
    "\n",
    "images = glob(filepath + '/*.jpg')\n",
    "\n",
    "prediction_images = []\n",
    "predict = []\n",
    "predict2 = []\n",
    "for i in range(len(images)):\n",
    "    img = image.load_img(images[i], target_size=(224,224,3))\n",
    "    img = image.img_to_array(img)\n",
    "    img = img / 255\n",
    "    prediction_images.append(img)\n",
    "\n",
    "prediction_images = np.array(prediction_images)\n",
    "prediction_images = base_model.predict(prediction_images)\n",
    "prediction_images = prediction_images.reshape(prediction_images.shape[0], 7*7*512)\n",
    "predict = model.predict(prediction_images)\n",
    "a = np.argmax(predict)\n",
    "#print(predict)\n",
    "def maxfunction(x):\n",
    "        return np.argmax(x)\n",
    "\n",
    "prediction2 = np.apply_along_axis( maxfunction, axis=1, arr=predict )\n",
    "\n",
    "print(prediction2)"
   ]
  },
  {
   "cell_type": "code",
   "execution_count": 343,
   "metadata": {},
   "outputs": [
    {
     "name": "stdout",
     "output_type": "stream",
     "text": [
      "Kill:  0\n",
      "Death:  1\n"
     ]
    }
   ],
   "source": [
    "z=0\n",
    "kill_count=0\n",
    "death_count=0\n",
    "threshold=7\n",
    "range_=10\n",
    "\n",
    "for i in prediction2:\n",
    "    if z>=len(prediction2):\n",
    "        break\n",
    "    \n",
    "    elif prediction2[z]==1:\n",
    "            prove = prediction2[z:(z+range_)]\n",
    "            #print(z,':for 1')\n",
    "            counter=collections.Counter(prove)\n",
    "            dictionary = dict(counter)\n",
    "            try:\n",
    "                if dictionary[1]>=threshold:\n",
    "                    #print('kill!')\n",
    "                    kill_count+=1\n",
    "                    \n",
    "                    z=z+threshold-1\n",
    "                   \n",
    "            except:\n",
    "                #print('oops')\n",
    "                pass\n",
    "    elif prediction2[z]==0:\n",
    "            prove = prediction2[z:(z+range_)]\n",
    "            counter=collections.Counter(prove)\n",
    "            dictionary = dict(counter)\n",
    "            #print(z, ':for 2')\n",
    "            try:\n",
    "                if dictionary[0]>=threshold:\n",
    "                    #print('death!')\n",
    "                    \n",
    "                    death_count+=1\n",
    "                    z=z+threshold-1\n",
    "            except:\n",
    "                #print('oops')\n",
    "                pass\n",
    "    else:\n",
    "        pass\n",
    "    #print(prove)\n",
    "    \n",
    "    z+=1\n",
    "    #print(z)\n",
    "print('Kill: ',kill_count)\n",
    "print('Death: ',death_count)"
   ]
  },
  {
   "cell_type": "code",
   "execution_count": 324,
   "metadata": {},
   "outputs": [
    {
     "data": {
      "text/plain": [
       "[4, 5]"
      ]
     },
     "execution_count": 324,
     "metadata": {},
     "output_type": "execute_result"
    }
   ],
   "source": [
    "a=[1,2,3,4,5]\n",
    "a[3:5]"
   ]
  },
  {
   "cell_type": "code",
   "execution_count": 288,
   "metadata": {},
   "outputs": [
    {
     "data": {
      "text/plain": [
       "61"
      ]
     },
     "execution_count": 288,
     "metadata": {},
     "output_type": "execute_result"
    }
   ],
   "source": []
  },
  {
   "cell_type": "code",
   "execution_count": 289,
   "metadata": {},
   "outputs": [
    {
     "name": "stdout",
     "output_type": "stream",
     "text": [
      "Kill:  0\n",
      "Death:  1\n"
     ]
    }
   ],
   "source": []
  },
  {
   "cell_type": "code",
   "execution_count": null,
   "metadata": {},
   "outputs": [],
   "source": [
    "cap = cv2.VideoCapture(\"z1short.mp4\")\n",
    "fps = cap.get(cv2.CAP_PROP_FPS)     \n",
    "frame_count = int(cap.get(cv2.CAP_PROP_FRAME_COUNT))\n",
    "duration = int(frame_count/fps)\n",
    "duration"
   ]
  },
  {
   "cell_type": "code",
   "execution_count": 248,
   "metadata": {},
   "outputs": [
    {
     "data": {
      "text/plain": [
       "7"
      ]
     },
     "execution_count": 248,
     "metadata": {},
     "output_type": "execute_result"
    }
   ],
   "source": [
    "a = prediction[101:108]\n",
    "len(a)"
   ]
  },
  {
   "cell_type": "code",
   "execution_count": 136,
   "metadata": {},
   "outputs": [
    {
     "data": {
      "text/plain": [
       "array(['death', 'kill', 'NoAction'], dtype=object)"
      ]
     },
     "execution_count": 136,
     "metadata": {},
     "output_type": "execute_result"
    }
   ],
   "source": [
    "y_train.columns.values"
   ]
  },
  {
   "cell_type": "code",
   "execution_count": 117,
   "metadata": {},
   "outputs": [
    {
     "data": {
      "text/plain": [
       "(5,)"
      ]
     },
     "execution_count": 117,
     "metadata": {},
     "output_type": "execute_result"
    }
   ],
   "source": [
    "prediction.shape"
   ]
  },
  {
   "cell_type": "code",
   "execution_count": 113,
   "metadata": {},
   "outputs": [
    {
     "name": "stdout",
     "output_type": "stream",
     "text": [
      "E:\\Project 103\\prediction_count\\predict_frame0.jpg\n",
      "E:\\Project 103\\prediction_count\\predict_frame1.jpg\n",
      "E:\\Project 103\\prediction_count\\predict_frame2.jpg\n",
      "E:\\Project 103\\prediction_count\\predict_frame3.jpg\n",
      "E:\\Project 103\\prediction_count\\predict_frame4.jpg\n"
     ]
    }
   ],
   "source": [
    "for i in images:\n",
    "    print(i)"
   ]
  },
  {
   "cell_type": "code",
   "execution_count": 95,
   "metadata": {},
   "outputs": [
    {
     "data": {
      "text/plain": [
       "78.33333333333333"
      ]
     },
     "execution_count": 95,
     "metadata": {},
     "output_type": "execute_result"
    }
   ],
   "source": [
    "from sklearn.metrics import accuracy_score\n",
    "accuracy_score(predict, actual)*100"
   ]
  },
  {
   "cell_type": "code",
   "execution_count": 72,
   "metadata": {},
   "outputs": [
    {
     "data": {
      "text/plain": [
       "['kill',\n",
       " 'NoAction',\n",
       " 'NoAction',\n",
       " 'kill',\n",
       " 'NoAction',\n",
       " 'kill',\n",
       " 'NoAction',\n",
       " 'death',\n",
       " 'death',\n",
       " 'death',\n",
       " 'kill',\n",
       " 'NoAction',\n",
       " 'death',\n",
       " 'kill',\n",
       " 'death',\n",
       " 'death',\n",
       " 'kill',\n",
       " 'death',\n",
       " 'death',\n",
       " 'death',\n",
       " 'kill',\n",
       " 'kill',\n",
       " 'NoAction',\n",
       " 'death',\n",
       " 'kill',\n",
       " 'NoAction',\n",
       " 'death',\n",
       " 'NoAction',\n",
       " 'NoAction',\n",
       " 'NoAction',\n",
       " 'kill',\n",
       " 'NoAction',\n",
       " 'death',\n",
       " 'kill',\n",
       " 'death',\n",
       " 'kill',\n",
       " 'kill',\n",
       " 'death',\n",
       " 'NoAction',\n",
       " 'NoAction',\n",
       " 'kill',\n",
       " 'NoAction',\n",
       " 'NoAction',\n",
       " 'kill',\n",
       " 'death',\n",
       " 'death',\n",
       " 'NoAction',\n",
       " 'death',\n",
       " 'death',\n",
       " 'death',\n",
       " 'kill',\n",
       " 'kill',\n",
       " 'NoAction',\n",
       " 'death',\n",
       " 'NoAction',\n",
       " 'kill',\n",
       " 'kill',\n",
       " 'NoAction',\n",
       " 'death',\n",
       " 'NoAction']"
      ]
     },
     "execution_count": 72,
     "metadata": {},
     "output_type": "execute_result"
    }
   ],
   "source": [
    "predict"
   ]
  },
  {
   "cell_type": "code",
   "execution_count": null,
   "metadata": {},
   "outputs": [],
   "source": []
  },
  {
   "cell_type": "code",
   "execution_count": 81,
   "metadata": {},
   "outputs": [
    {
     "name": "stdout",
     "output_type": "stream",
     "text": [
      "Counter({'death': 21, 'NoAction': 20, 'kill': 19})\n"
     ]
    }
   ],
   "source": [
    "import collections\n",
    "counter=collections.Counter(predict)\n",
    "print(counter)"
   ]
  },
  {
   "cell_type": "code",
   "execution_count": 82,
   "metadata": {},
   "outputs": [
    {
     "name": "stdout",
     "output_type": "stream",
     "text": [
      "Counter({'death': 20, 'NoAction': 20, 'kill': 20})\n"
     ]
    }
   ],
   "source": [
    "counter=collections.Counter(actual)\n",
    "print(counter)"
   ]
  },
  {
   "cell_type": "code",
   "execution_count": 5,
   "metadata": {},
   "outputs": [
    {
     "name": "stdout",
     "output_type": "stream",
     "text": [
      "Model: \"sequential\"\n",
      "_________________________________________________________________\n",
      "Layer (type)                 Output Shape              Param #   \n",
      "=================================================================\n",
      "dense (Dense)                (None, 1024)              25691136  \n",
      "_________________________________________________________________\n",
      "dropout (Dropout)            (None, 1024)              0         \n",
      "_________________________________________________________________\n",
      "dense_1 (Dense)              (None, 512)               524800    \n",
      "_________________________________________________________________\n",
      "dropout_1 (Dropout)          (None, 512)               0         \n",
      "_________________________________________________________________\n",
      "dense_2 (Dense)              (None, 256)               131328    \n",
      "_________________________________________________________________\n",
      "dropout_2 (Dropout)          (None, 256)               0         \n",
      "_________________________________________________________________\n",
      "dense_3 (Dense)              (None, 128)               32896     \n",
      "_________________________________________________________________\n",
      "dropout_3 (Dropout)          (None, 128)               0         \n",
      "_________________________________________________________________\n",
      "dense_4 (Dense)              (None, 3)                 387       \n",
      "=================================================================\n",
      "Total params: 26,380,547\n",
      "Trainable params: 26,380,547\n",
      "Non-trainable params: 0\n",
      "_________________________________________________________________\n"
     ]
    }
   ],
   "source": [
    "model.load_weights(\"weight_vgg16_final1.hdf5\")\n",
    "model.compile(loss='categorical_crossentropy',optimizer='Adam',metrics=['accuracy'])\n",
    "model.summary()"
   ]
  },
  {
   "cell_type": "code",
   "execution_count": 36,
   "metadata": {},
   "outputs": [
    {
     "name": "stderr",
     "output_type": "stream",
     "text": [
      "100%|██████████████████████████████████████████████████████████████████████████████████| 60/60 [01:23<00:00,  1.38s/it]\n"
     ]
    }
   ],
   "source": [
    "from scipy import stats as s\n",
    "predict = []\n",
    "actual = []\n",
    "if not os.path.exists(test_frames_path):\n",
    "    os.makedirs(test_frames_path)\n",
    "\n",
    "for i in tqdm(range(test.shape[0])):\n",
    "    video_file = test['Video_url'][i]\n",
    "    action = test['action'][i]\n",
    "    video_name_list = video_file.split('/')[-1].split('.')\n",
    "    video_name_list = video_name_list[:-1]\n",
    "    video_name = \"\"\n",
    "    for n in video_name_list:\n",
    "        video_name += n\n",
    "    # capturing the video from the given path\n",
    "    capture = cv2.VideoCapture(video_file) \n",
    "    #frame rate\n",
    "    frame_rate = capture.get(5)\n",
    "    count = 0\n",
    "    files = glob(test_frames_path + '/*')\n",
    "    #removing all files from folder\n",
    "    for f in files:\n",
    "        os.remove(f)\n",
    "    while(capture.isOpened()):\n",
    "        #current frame number\n",
    "        frame_id = capture.get(1) \n",
    "        read_correctly, frame = capture.read()\n",
    "        if not read_correctly:\n",
    "            break\n",
    "        if (frame_id % math.floor(frame_rate) == 0):\n",
    "            # storing the frames in a new folder named train_1\n",
    "            filename = test_frames_path + \"/\" + video_name + \"_frame{}_\".format(count) + action +\".jpg\"\n",
    "            count += 1\n",
    "            cv2.imwrite(filename, frame)\n",
    "    capture.release()\n",
    "    \n",
    "    # reading all the frames from temp folder\n",
    "    images = glob(test_frames_path + '/*.jpg')\n",
    "    prediction_images = []\n",
    "    for i in range(len(images)):\n",
    "        img = image.load_img(images[i], target_size=(224,224,3))\n",
    "        img = image.img_to_array(img)\n",
    "        img = img / 255\n",
    "        prediction_images.append(img)\n",
    "        \n",
    "    # converting all the frames for a test video into numpy array\n",
    "    prediction_images = np.array(prediction_images)\n",
    "    #prediction_images = prediction_images / max_pixel\n",
    "    # extracting features using pre-trained model\n",
    "    prediction_images = base_model.predict(prediction_images)\n",
    "    # converting features in one dimensional array\n",
    "    prediction_images = prediction_images.reshape(prediction_images.shape[0], 7*7*512)\n",
    "    # predicting tags for each array\n",
    "    prediction = np.argmax(model.predict(prediction_images), axis=-1)\n",
    "    # appending the mode of predictions in predict list to assign the tag to the video\n",
    "    predict.append(y_train.columns.values[s.mode(prediction)[0][0]])\n",
    "    # appending the actual tag of the video\n",
    "    actual.append(action)"
   ]
  },
  {
   "cell_type": "code",
   "execution_count": 37,
   "metadata": {},
   "outputs": [
    {
     "data": {
      "text/plain": [
       "90.0"
      ]
     },
     "execution_count": 37,
     "metadata": {},
     "output_type": "execute_result"
    }
   ],
   "source": [
    "from sklearn.metrics import accuracy_score\n",
    "accuracy_score(predict, actual)*100"
   ]
  },
  {
   "cell_type": "code",
   "execution_count": 39,
   "metadata": {},
   "outputs": [],
   "source": [
    "X_best_train = X_train\n",
    "y_best_train = y_train\n",
    "\n",
    "X_best_val = X_val\n",
    "y_best_val = y_val\n",
    "\n",
    "test_best = test"
   ]
  },
  {
   "cell_type": "code",
   "execution_count": 40,
   "metadata": {},
   "outputs": [
    {
     "data": {
      "text/plain": [
       "(60, 2)"
      ]
     },
     "execution_count": 40,
     "metadata": {},
     "output_type": "execute_result"
    }
   ],
   "source": [
    "test.shape"
   ]
  },
  {
   "cell_type": "code",
   "execution_count": 41,
   "metadata": {},
   "outputs": [
    {
     "data": {
      "text/plain": [
       "(60, 2)"
      ]
     },
     "execution_count": 41,
     "metadata": {},
     "output_type": "execute_result"
    }
   ],
   "source": [
    "test_best.shape"
   ]
  },
  {
   "cell_type": "code",
   "execution_count": null,
   "metadata": {},
   "outputs": [],
   "source": []
  }
 ],
 "metadata": {
  "kernelspec": {
   "display_name": "Python 3",
   "language": "python",
   "name": "python3"
  },
  "language_info": {
   "codemirror_mode": {
    "name": "ipython",
    "version": 3
   },
   "file_extension": ".py",
   "mimetype": "text/x-python",
   "name": "python",
   "nbconvert_exporter": "python",
   "pygments_lexer": "ipython3",
   "version": "3.8.5"
  }
 },
 "nbformat": 4,
 "nbformat_minor": 4
}
