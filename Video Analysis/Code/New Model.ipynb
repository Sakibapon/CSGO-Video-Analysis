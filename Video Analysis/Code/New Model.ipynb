{
 "cells": [
  {
   "cell_type": "code",
   "execution_count": 73,
   "id": "c02578a9",
   "metadata": {},
   "outputs": [],
   "source": [
    "import os\n",
    "import re\n",
    "import math\n",
    "import cv2\n",
    "import pickle\n",
    "import pandas as pd\n",
    "import numpy as np\n",
    "import matplotlib.pyplot as plt\n",
    "import tensorflow as tf\n",
    "\n",
    "from tqdm import tqdm\n",
    "from glob import glob\n",
    "from tools.settings import *\n",
    "from keras.optimizers import Adam\n",
    "from keras.models import Sequential\n",
    "from keras.preprocessing import image\n",
    "from keras.preprocessing.image import ImageDataGenerator\n",
    "from keras.layers import Dense, Dropout\n",
    "from keras.layers import Conv2D, MaxPooling2D, MaxPool2D, Flatten, Activation, GlobalAveragePooling2D\n",
    "from tensorflow.keras.utils import to_categorical\n",
    "from tools.train_val_test_spliter import split\n",
    "import collections\n",
    "from collections import Counter"
   ]
  },
  {
   "cell_type": "code",
   "execution_count": null,
   "id": "a05b34f2",
   "metadata": {},
   "outputs": [],
   "source": [
    "split()"
   ]
  },
  {
   "cell_type": "code",
   "execution_count": 2,
   "id": "fd708cb9",
   "metadata": {},
   "outputs": [
    {
     "name": "stdout",
     "output_type": "stream",
     "text": [
      "(343, 2)\n",
      "(113, 2)\n",
      "(113, 2)\n"
     ]
    }
   ],
   "source": [
    "train = pd. read_csv(os.path.join(dataset_path, \"train.csv\"))\n",
    "test = pd. read_csv(os.path.join(dataset_path, \"test.csv\"))\n",
    "val = pd. read_csv(os.path.join(dataset_path, \"val.csv\"))\n",
    "print(train.shape)\n",
    "print(test.shape)\n",
    "print(val.shape)"
   ]
  },
  {
   "cell_type": "code",
   "execution_count": null,
   "id": "d72d4c08",
   "metadata": {},
   "outputs": [],
   "source": [
    "def convert_to_frame(data, folder_name):\n",
    "    '''\n",
    "    Generated filenames format dataset_path/folder_name/video_name_frame{number}_action.jpg\n",
    "    '''\n",
    "    directory = os.path.join(dataset_path, folder_name)\n",
    "    if not os.path.exists(directory):\n",
    "        os.makedirs(directory)\n",
    "    for i in tqdm(range(data.shape[0])):\n",
    "        video_file = data['Video_url'][i]\n",
    "        action = data['action'][i]\n",
    "        video_name_list = video_file.split('/')[-1].split('.')\n",
    "        video_name_list = video_name_list[:-1]\n",
    "        video_name = \"\"\n",
    "        for n in video_name_list:\n",
    "            video_name += n\n",
    "        # capturing the video from the given path\n",
    "        capture = cv2.VideoCapture(video_file) \n",
    "        #frame rate\n",
    "        frame_rate = capture.get(5)\n",
    "        count = 0\n",
    "        while(capture.isOpened()):\n",
    "            #current frame number\n",
    "            frame_id = capture.get(1) \n",
    "            read_correctly, frame = capture.read()\n",
    "            if not read_correctly:\n",
    "                break\n",
    "            if (frame_id % math.floor(frame_rate) == 0):\n",
    "                # storing the frames in a new folder named train_1\n",
    "                filename = directory + \"/\" + video_name + \"_frame{}_\".format(count) + action +\".jpg\"\n",
    "                count += 1\n",
    "                cv2.imwrite(filename, frame)\n",
    "        capture.release()\n",
    "    print(\"Successfully Converted\")"
   ]
  },
  {
   "cell_type": "code",
   "execution_count": null,
   "id": "95c92a6f",
   "metadata": {},
   "outputs": [],
   "source": [
    "convert_to_frame(train, train_frames_path_name)"
   ]
  },
  {
   "cell_type": "code",
   "execution_count": null,
   "id": "f67db74e",
   "metadata": {},
   "outputs": [],
   "source": [
    "convert_to_frame(val, val_frames_path_name)"
   ]
  },
  {
   "cell_type": "code",
   "execution_count": null,
   "id": "dd03ce7f",
   "metadata": {},
   "outputs": [],
   "source": [
    "def create_paths_csv(directory, file_name):\n",
    "    images = os.listdir(directory)\n",
    "    images_path_list = []\n",
    "    images_action_list = [] \n",
    "    for image in images:\n",
    "        images_path_list.append(directory + image)\n",
    "        images_action_list.append(image.split('.')[0].split('_')[-1])\n",
    "    df = pd.DataFrame()\n",
    "    df['image'] = images_path_list\n",
    "    df['action'] = images_action_list\n",
    "    print(os.path.join(dataset_path, file_name+'.csv'))\n",
    "    df.to_csv(os.path.join(dataset_path, file_name+'.csv'), index=False)"
   ]
  },
  {
   "cell_type": "code",
   "execution_count": null,
   "id": "cc7619f9",
   "metadata": {},
   "outputs": [],
   "source": [
    "create_paths_csv(train_frames_path, train_frames_path_name)"
   ]
  },
  {
   "cell_type": "code",
   "execution_count": null,
   "id": "795203d5",
   "metadata": {},
   "outputs": [],
   "source": [
    "create_paths_csv(val_frames_path, val_frames_path_name)"
   ]
  },
  {
   "cell_type": "code",
   "execution_count": 3,
   "id": "f1ee021c",
   "metadata": {},
   "outputs": [
    {
     "data": {
      "text/html": [
       "<div>\n",
       "<style scoped>\n",
       "    .dataframe tbody tr th:only-of-type {\n",
       "        vertical-align: middle;\n",
       "    }\n",
       "\n",
       "    .dataframe tbody tr th {\n",
       "        vertical-align: top;\n",
       "    }\n",
       "\n",
       "    .dataframe thead th {\n",
       "        text-align: right;\n",
       "    }\n",
       "</style>\n",
       "<table border=\"1\" class=\"dataframe\">\n",
       "  <thead>\n",
       "    <tr style=\"text-align: right;\">\n",
       "      <th></th>\n",
       "      <th>image</th>\n",
       "      <th>action</th>\n",
       "    </tr>\n",
       "  </thead>\n",
       "  <tbody>\n",
       "    <tr>\n",
       "      <th>0</th>\n",
       "      <td>F:/Personal/CSGO-Video-Analysis/Video Analysis...</td>\n",
       "      <td>death</td>\n",
       "    </tr>\n",
       "    <tr>\n",
       "      <th>1</th>\n",
       "      <td>F:/Personal/CSGO-Video-Analysis/Video Analysis...</td>\n",
       "      <td>death</td>\n",
       "    </tr>\n",
       "    <tr>\n",
       "      <th>2</th>\n",
       "      <td>F:/Personal/CSGO-Video-Analysis/Video Analysis...</td>\n",
       "      <td>death</td>\n",
       "    </tr>\n",
       "    <tr>\n",
       "      <th>3</th>\n",
       "      <td>F:/Personal/CSGO-Video-Analysis/Video Analysis...</td>\n",
       "      <td>death</td>\n",
       "    </tr>\n",
       "    <tr>\n",
       "      <th>4</th>\n",
       "      <td>F:/Personal/CSGO-Video-Analysis/Video Analysis...</td>\n",
       "      <td>death</td>\n",
       "    </tr>\n",
       "    <tr>\n",
       "      <th>...</th>\n",
       "      <td>...</td>\n",
       "      <td>...</td>\n",
       "    </tr>\n",
       "    <tr>\n",
       "      <th>1264</th>\n",
       "      <td>F:/Personal/CSGO-Video-Analysis/Video Analysis...</td>\n",
       "      <td>NoAction</td>\n",
       "    </tr>\n",
       "    <tr>\n",
       "      <th>1265</th>\n",
       "      <td>F:/Personal/CSGO-Video-Analysis/Video Analysis...</td>\n",
       "      <td>NoAction</td>\n",
       "    </tr>\n",
       "    <tr>\n",
       "      <th>1266</th>\n",
       "      <td>F:/Personal/CSGO-Video-Analysis/Video Analysis...</td>\n",
       "      <td>NoAction</td>\n",
       "    </tr>\n",
       "    <tr>\n",
       "      <th>1267</th>\n",
       "      <td>F:/Personal/CSGO-Video-Analysis/Video Analysis...</td>\n",
       "      <td>NoAction</td>\n",
       "    </tr>\n",
       "    <tr>\n",
       "      <th>1268</th>\n",
       "      <td>F:/Personal/CSGO-Video-Analysis/Video Analysis...</td>\n",
       "      <td>NoAction</td>\n",
       "    </tr>\n",
       "  </tbody>\n",
       "</table>\n",
       "<p>1269 rows × 2 columns</p>\n",
       "</div>"
      ],
      "text/plain": [
       "                                                  image    action\n",
       "0     F:/Personal/CSGO-Video-Analysis/Video Analysis...     death\n",
       "1     F:/Personal/CSGO-Video-Analysis/Video Analysis...     death\n",
       "2     F:/Personal/CSGO-Video-Analysis/Video Analysis...     death\n",
       "3     F:/Personal/CSGO-Video-Analysis/Video Analysis...     death\n",
       "4     F:/Personal/CSGO-Video-Analysis/Video Analysis...     death\n",
       "...                                                 ...       ...\n",
       "1264  F:/Personal/CSGO-Video-Analysis/Video Analysis...  NoAction\n",
       "1265  F:/Personal/CSGO-Video-Analysis/Video Analysis...  NoAction\n",
       "1266  F:/Personal/CSGO-Video-Analysis/Video Analysis...  NoAction\n",
       "1267  F:/Personal/CSGO-Video-Analysis/Video Analysis...  NoAction\n",
       "1268  F:/Personal/CSGO-Video-Analysis/Video Analysis...  NoAction\n",
       "\n",
       "[1269 rows x 2 columns]"
      ]
     },
     "execution_count": 3,
     "metadata": {},
     "output_type": "execute_result"
    }
   ],
   "source": [
    "train_image = pd.read_csv(os.path.join(dataset_path, 'train_frames.csv'))\n",
    "train_image"
   ]
  },
  {
   "cell_type": "code",
   "execution_count": 4,
   "id": "ed51a1a2",
   "metadata": {},
   "outputs": [
    {
     "data": {
      "text/html": [
       "<div>\n",
       "<style scoped>\n",
       "    .dataframe tbody tr th:only-of-type {\n",
       "        vertical-align: middle;\n",
       "    }\n",
       "\n",
       "    .dataframe tbody tr th {\n",
       "        vertical-align: top;\n",
       "    }\n",
       "\n",
       "    .dataframe thead th {\n",
       "        text-align: right;\n",
       "    }\n",
       "</style>\n",
       "<table border=\"1\" class=\"dataframe\">\n",
       "  <thead>\n",
       "    <tr style=\"text-align: right;\">\n",
       "      <th></th>\n",
       "      <th>image</th>\n",
       "      <th>action</th>\n",
       "    </tr>\n",
       "  </thead>\n",
       "  <tbody>\n",
       "    <tr>\n",
       "      <th>0</th>\n",
       "      <td>F:/Personal/CSGO-Video-Analysis/Video Analysis...</td>\n",
       "      <td>death</td>\n",
       "    </tr>\n",
       "    <tr>\n",
       "      <th>1</th>\n",
       "      <td>F:/Personal/CSGO-Video-Analysis/Video Analysis...</td>\n",
       "      <td>death</td>\n",
       "    </tr>\n",
       "    <tr>\n",
       "      <th>2</th>\n",
       "      <td>F:/Personal/CSGO-Video-Analysis/Video Analysis...</td>\n",
       "      <td>death</td>\n",
       "    </tr>\n",
       "    <tr>\n",
       "      <th>3</th>\n",
       "      <td>F:/Personal/CSGO-Video-Analysis/Video Analysis...</td>\n",
       "      <td>death</td>\n",
       "    </tr>\n",
       "    <tr>\n",
       "      <th>4</th>\n",
       "      <td>F:/Personal/CSGO-Video-Analysis/Video Analysis...</td>\n",
       "      <td>death</td>\n",
       "    </tr>\n",
       "    <tr>\n",
       "      <th>...</th>\n",
       "      <td>...</td>\n",
       "      <td>...</td>\n",
       "    </tr>\n",
       "    <tr>\n",
       "      <th>421</th>\n",
       "      <td>F:/Personal/CSGO-Video-Analysis/Video Analysis...</td>\n",
       "      <td>NoAction</td>\n",
       "    </tr>\n",
       "    <tr>\n",
       "      <th>422</th>\n",
       "      <td>F:/Personal/CSGO-Video-Analysis/Video Analysis...</td>\n",
       "      <td>NoAction</td>\n",
       "    </tr>\n",
       "    <tr>\n",
       "      <th>423</th>\n",
       "      <td>F:/Personal/CSGO-Video-Analysis/Video Analysis...</td>\n",
       "      <td>NoAction</td>\n",
       "    </tr>\n",
       "    <tr>\n",
       "      <th>424</th>\n",
       "      <td>F:/Personal/CSGO-Video-Analysis/Video Analysis...</td>\n",
       "      <td>NoAction</td>\n",
       "    </tr>\n",
       "    <tr>\n",
       "      <th>425</th>\n",
       "      <td>F:/Personal/CSGO-Video-Analysis/Video Analysis...</td>\n",
       "      <td>NoAction</td>\n",
       "    </tr>\n",
       "  </tbody>\n",
       "</table>\n",
       "<p>426 rows × 2 columns</p>\n",
       "</div>"
      ],
      "text/plain": [
       "                                                 image    action\n",
       "0    F:/Personal/CSGO-Video-Analysis/Video Analysis...     death\n",
       "1    F:/Personal/CSGO-Video-Analysis/Video Analysis...     death\n",
       "2    F:/Personal/CSGO-Video-Analysis/Video Analysis...     death\n",
       "3    F:/Personal/CSGO-Video-Analysis/Video Analysis...     death\n",
       "4    F:/Personal/CSGO-Video-Analysis/Video Analysis...     death\n",
       "..                                                 ...       ...\n",
       "421  F:/Personal/CSGO-Video-Analysis/Video Analysis...  NoAction\n",
       "422  F:/Personal/CSGO-Video-Analysis/Video Analysis...  NoAction\n",
       "423  F:/Personal/CSGO-Video-Analysis/Video Analysis...  NoAction\n",
       "424  F:/Personal/CSGO-Video-Analysis/Video Analysis...  NoAction\n",
       "425  F:/Personal/CSGO-Video-Analysis/Video Analysis...  NoAction\n",
       "\n",
       "[426 rows x 2 columns]"
      ]
     },
     "execution_count": 4,
     "metadata": {},
     "output_type": "execute_result"
    }
   ],
   "source": [
    "val_image = pd.read_csv(os.path.join(dataset_path, 'val_frames.csv'))\n",
    "val_image"
   ]
  },
  {
   "cell_type": "code",
   "execution_count": 5,
   "id": "b444eb3c",
   "metadata": {},
   "outputs": [
    {
     "data": {
      "text/plain": [
       "['death', 'kill', 'NoAction', 'smoke']"
      ]
     },
     "execution_count": 5,
     "metadata": {},
     "output_type": "execute_result"
    }
   ],
   "source": [
    "action_values = list(train_image['action'].unique())\n",
    "action_values"
   ]
  },
  {
   "cell_type": "code",
   "execution_count": 6,
   "id": "2ff718e8",
   "metadata": {},
   "outputs": [],
   "source": [
    "def create_class_columns(df):\n",
    "    for value in action_values:\n",
    "        df[value] = np.where(df['action'].str.contains(value), 1, 0)\n",
    "    df.drop('action', axis='columns', inplace=True)"
   ]
  },
  {
   "cell_type": "code",
   "execution_count": 7,
   "id": "5ae63370",
   "metadata": {},
   "outputs": [
    {
     "data": {
      "text/html": [
       "<div>\n",
       "<style scoped>\n",
       "    .dataframe tbody tr th:only-of-type {\n",
       "        vertical-align: middle;\n",
       "    }\n",
       "\n",
       "    .dataframe tbody tr th {\n",
       "        vertical-align: top;\n",
       "    }\n",
       "\n",
       "    .dataframe thead th {\n",
       "        text-align: right;\n",
       "    }\n",
       "</style>\n",
       "<table border=\"1\" class=\"dataframe\">\n",
       "  <thead>\n",
       "    <tr style=\"text-align: right;\">\n",
       "      <th></th>\n",
       "      <th>image</th>\n",
       "      <th>death</th>\n",
       "      <th>kill</th>\n",
       "      <th>NoAction</th>\n",
       "      <th>smoke</th>\n",
       "    </tr>\n",
       "  </thead>\n",
       "  <tbody>\n",
       "    <tr>\n",
       "      <th>0</th>\n",
       "      <td>F:/Personal/CSGO-Video-Analysis/Video Analysis...</td>\n",
       "      <td>1</td>\n",
       "      <td>0</td>\n",
       "      <td>0</td>\n",
       "      <td>0</td>\n",
       "    </tr>\n",
       "    <tr>\n",
       "      <th>1</th>\n",
       "      <td>F:/Personal/CSGO-Video-Analysis/Video Analysis...</td>\n",
       "      <td>1</td>\n",
       "      <td>0</td>\n",
       "      <td>0</td>\n",
       "      <td>0</td>\n",
       "    </tr>\n",
       "    <tr>\n",
       "      <th>2</th>\n",
       "      <td>F:/Personal/CSGO-Video-Analysis/Video Analysis...</td>\n",
       "      <td>1</td>\n",
       "      <td>0</td>\n",
       "      <td>0</td>\n",
       "      <td>0</td>\n",
       "    </tr>\n",
       "    <tr>\n",
       "      <th>3</th>\n",
       "      <td>F:/Personal/CSGO-Video-Analysis/Video Analysis...</td>\n",
       "      <td>1</td>\n",
       "      <td>0</td>\n",
       "      <td>0</td>\n",
       "      <td>0</td>\n",
       "    </tr>\n",
       "    <tr>\n",
       "      <th>4</th>\n",
       "      <td>F:/Personal/CSGO-Video-Analysis/Video Analysis...</td>\n",
       "      <td>1</td>\n",
       "      <td>0</td>\n",
       "      <td>0</td>\n",
       "      <td>0</td>\n",
       "    </tr>\n",
       "  </tbody>\n",
       "</table>\n",
       "</div>"
      ],
      "text/plain": [
       "                                               image  death  kill  NoAction  \\\n",
       "0  F:/Personal/CSGO-Video-Analysis/Video Analysis...      1     0         0   \n",
       "1  F:/Personal/CSGO-Video-Analysis/Video Analysis...      1     0         0   \n",
       "2  F:/Personal/CSGO-Video-Analysis/Video Analysis...      1     0         0   \n",
       "3  F:/Personal/CSGO-Video-Analysis/Video Analysis...      1     0         0   \n",
       "4  F:/Personal/CSGO-Video-Analysis/Video Analysis...      1     0         0   \n",
       "\n",
       "   smoke  \n",
       "0      0  \n",
       "1      0  \n",
       "2      0  \n",
       "3      0  \n",
       "4      0  "
      ]
     },
     "execution_count": 7,
     "metadata": {},
     "output_type": "execute_result"
    }
   ],
   "source": [
    "create_class_columns(train_image)\n",
    "train_image.head()"
   ]
  },
  {
   "cell_type": "code",
   "execution_count": 8,
   "id": "b73c201d",
   "metadata": {},
   "outputs": [
    {
     "data": {
      "text/html": [
       "<div>\n",
       "<style scoped>\n",
       "    .dataframe tbody tr th:only-of-type {\n",
       "        vertical-align: middle;\n",
       "    }\n",
       "\n",
       "    .dataframe tbody tr th {\n",
       "        vertical-align: top;\n",
       "    }\n",
       "\n",
       "    .dataframe thead th {\n",
       "        text-align: right;\n",
       "    }\n",
       "</style>\n",
       "<table border=\"1\" class=\"dataframe\">\n",
       "  <thead>\n",
       "    <tr style=\"text-align: right;\">\n",
       "      <th></th>\n",
       "      <th>image</th>\n",
       "      <th>death</th>\n",
       "      <th>kill</th>\n",
       "      <th>NoAction</th>\n",
       "      <th>smoke</th>\n",
       "    </tr>\n",
       "  </thead>\n",
       "  <tbody>\n",
       "    <tr>\n",
       "      <th>0</th>\n",
       "      <td>F:/Personal/CSGO-Video-Analysis/Video Analysis...</td>\n",
       "      <td>1</td>\n",
       "      <td>0</td>\n",
       "      <td>0</td>\n",
       "      <td>0</td>\n",
       "    </tr>\n",
       "    <tr>\n",
       "      <th>1</th>\n",
       "      <td>F:/Personal/CSGO-Video-Analysis/Video Analysis...</td>\n",
       "      <td>1</td>\n",
       "      <td>0</td>\n",
       "      <td>0</td>\n",
       "      <td>0</td>\n",
       "    </tr>\n",
       "    <tr>\n",
       "      <th>2</th>\n",
       "      <td>F:/Personal/CSGO-Video-Analysis/Video Analysis...</td>\n",
       "      <td>1</td>\n",
       "      <td>0</td>\n",
       "      <td>0</td>\n",
       "      <td>0</td>\n",
       "    </tr>\n",
       "    <tr>\n",
       "      <th>3</th>\n",
       "      <td>F:/Personal/CSGO-Video-Analysis/Video Analysis...</td>\n",
       "      <td>1</td>\n",
       "      <td>0</td>\n",
       "      <td>0</td>\n",
       "      <td>0</td>\n",
       "    </tr>\n",
       "    <tr>\n",
       "      <th>4</th>\n",
       "      <td>F:/Personal/CSGO-Video-Analysis/Video Analysis...</td>\n",
       "      <td>1</td>\n",
       "      <td>0</td>\n",
       "      <td>0</td>\n",
       "      <td>0</td>\n",
       "    </tr>\n",
       "  </tbody>\n",
       "</table>\n",
       "</div>"
      ],
      "text/plain": [
       "                                               image  death  kill  NoAction  \\\n",
       "0  F:/Personal/CSGO-Video-Analysis/Video Analysis...      1     0         0   \n",
       "1  F:/Personal/CSGO-Video-Analysis/Video Analysis...      1     0         0   \n",
       "2  F:/Personal/CSGO-Video-Analysis/Video Analysis...      1     0         0   \n",
       "3  F:/Personal/CSGO-Video-Analysis/Video Analysis...      1     0         0   \n",
       "4  F:/Personal/CSGO-Video-Analysis/Video Analysis...      1     0         0   \n",
       "\n",
       "   smoke  \n",
       "0      0  \n",
       "1      0  \n",
       "2      0  \n",
       "3      0  \n",
       "4      0  "
      ]
     },
     "execution_count": 8,
     "metadata": {},
     "output_type": "execute_result"
    }
   ],
   "source": [
    "create_class_columns(val_image)\n",
    "val_image.head()"
   ]
  },
  {
   "cell_type": "code",
   "execution_count": 9,
   "id": "2892613f",
   "metadata": {},
   "outputs": [],
   "source": [
    "def convert_to_array_and_split(image_data):\n",
    "    image_value = []\n",
    "    for i in tqdm(range(image_data.shape[0])):\n",
    "        img = image.load_img(image_data['image'][i], target_size=(227,227,3))\n",
    "        img = image.img_to_array(img)\n",
    "        # normalizing the pixel value\n",
    "        img = img / 255\n",
    "        image_value.append(img)\n",
    "\n",
    "    X = np.array(image_value)\n",
    "    y = image_data\n",
    "    y.drop('image', axis='columns', inplace=True)\n",
    "    return X, y"
   ]
  },
  {
   "cell_type": "code",
   "execution_count": 10,
   "id": "04779f85",
   "metadata": {},
   "outputs": [
    {
     "name": "stderr",
     "output_type": "stream",
     "text": [
      "100%|█████████████████████████████████████████████████████████████████████████████| 1269/1269 [00:07<00:00, 166.22it/s]\n"
     ]
    },
    {
     "name": "stdout",
     "output_type": "stream",
     "text": [
      "(1269, 227, 227, 3)\n"
     ]
    }
   ],
   "source": [
    "X_train, y_train = convert_to_array_and_split(train_image)\n",
    "print(X_train.shape)"
   ]
  },
  {
   "cell_type": "code",
   "execution_count": 11,
   "id": "11c7dac0",
   "metadata": {},
   "outputs": [
    {
     "name": "stderr",
     "output_type": "stream",
     "text": [
      "100%|███████████████████████████████████████████████████████████████████████████████| 426/426 [00:02<00:00, 159.41it/s]"
     ]
    },
    {
     "name": "stdout",
     "output_type": "stream",
     "text": [
      "(426, 227, 227, 3)\n"
     ]
    },
    {
     "name": "stderr",
     "output_type": "stream",
     "text": [
      "\n"
     ]
    }
   ],
   "source": [
    "X_val, y_val = convert_to_array_and_split(val_image)\n",
    "print(X_val.shape)"
   ]
  },
  {
   "cell_type": "code",
   "execution_count": 12,
   "id": "9437ad98",
   "metadata": {},
   "outputs": [],
   "source": [
    "X_train_copy, y_train_copy=X_train,y_train\n",
    "X_val_copy, y_val_copy=X_val,y_val"
   ]
  },
  {
   "cell_type": "code",
   "execution_count": 123,
   "id": "7bcd77e3",
   "metadata": {},
   "outputs": [
    {
     "name": "stdout",
     "output_type": "stream",
     "text": [
      "Model: \"sequential_25\"\n",
      "_________________________________________________________________\n",
      "Layer (type)                 Output Shape              Param #   \n",
      "=================================================================\n",
      "conv2d_75 (Conv2D)           (None, 112, 112, 64)      4864      \n",
      "_________________________________________________________________\n",
      "max_pooling2d_125 (MaxPoolin (None, 55, 55, 64)        0         \n",
      "_________________________________________________________________\n",
      "conv2d_76 (Conv2D)           (None, 55, 55, 64)        4160      \n",
      "_________________________________________________________________\n",
      "conv2d_77 (Conv2D)           (None, 55, 55, 128)       73856     \n",
      "_________________________________________________________________\n",
      "max_pooling2d_126 (MaxPoolin (None, 27, 27, 128)       0         \n",
      "_________________________________________________________________\n",
      "dropout_22 (Dropout)         (None, 27, 27, 128)       0         \n",
      "_________________________________________________________________\n",
      "max_pooling2d_127 (MaxPoolin (None, 13, 13, 128)       0         \n",
      "_________________________________________________________________\n",
      "max_pooling2d_128 (MaxPoolin (None, 6, 6, 128)         0         \n",
      "_________________________________________________________________\n",
      "max_pooling2d_129 (MaxPoolin (None, 2, 2, 128)         0         \n",
      "_________________________________________________________________\n",
      "flatten_16 (Flatten)         (None, 512)               0         \n",
      "_________________________________________________________________\n",
      "dense_51 (Dense)             (None, 512)               262656    \n",
      "_________________________________________________________________\n",
      "dropout_23 (Dropout)         (None, 512)               0         \n",
      "_________________________________________________________________\n",
      "dense_52 (Dense)             (None, 4)                 2052      \n",
      "=================================================================\n",
      "Total params: 347,588\n",
      "Trainable params: 347,588\n",
      "Non-trainable params: 0\n",
      "_________________________________________________________________\n"
     ]
    }
   ],
   "source": [
    "model = Sequential()\n",
    "\n",
    "# 1st Convolutional Layer\n",
    "model.add(Conv2D(64, (5,5), input_shape=(227,227,3), strides=(2,2), padding=\"valid\", activation = \"relu\"))\n",
    "# Max Pooling 1\n",
    "model.add(MaxPool2D(pool_size=(3,3), strides=(2,2), padding=\"valid\"))\n",
    "\n",
    "# 2nd Convolutional Layer\n",
    "model.add(Conv2D(64, (1,1), strides=(1,1), padding=\"same\", activation = \"relu\"))\n",
    "\n",
    "# 3rd Convolutional Layer\n",
    "model.add(Conv2D(128, (3,3), strides=(1,1), padding=\"same\", activation = \"relu\"))\n",
    "# Max Pooling 2\n",
    "model.add(MaxPool2D(pool_size=(3,3), strides=(2,2), padding=\"valid\"))\n",
    "\n",
    "#NOT NEEDED\n",
    "model.add(Dropout(0.5))\n",
    "#Parallel convolution 1\n",
    "\n",
    "\n",
    "# Max Pooling 3\n",
    "model.add(MaxPool2D(pool_size=(3,3), strides=(2,2), padding=\"valid\"))\n",
    "\n",
    "#Parallel convolution 2\n",
    "\n",
    "#Parallel convolution 3\n",
    "\n",
    "# Max Pooling 4\n",
    "model.add(MaxPool2D(pool_size=(3,3), strides=(2,2), padding=\"valid\"))\n",
    "\n",
    "#Parallel convolution 4\n",
    "\n",
    "# Max Pooling 5\n",
    "model.add(MaxPool2D(pool_size=(3,3), strides=(2,2), padding=\"valid\"))\n",
    "\n",
    "#NOT NEEDED\n",
    "model.add(Flatten())\n",
    "\n",
    "# 1st Fully Connected Layer\n",
    "model.add(Dense(512, activation = \"relu\"))\n",
    "\n",
    "#NOT NEEDED\n",
    "model.add(Dropout(0.5))\n",
    "\n",
    "# 2nd Fully Connected Layer\n",
    "model.add(Dense(4, activation = \"softmax\"))\n",
    "model.summary()\n",
    "\n",
    "model.compile(loss='categorical_crossentropy',optimizer=Adam(0.0001),metrics=['accuracy'])\n",
    "\n",
    "from keras.callbacks import ModelCheckpoint\n",
    "mcp_weight = ModelCheckpoint('CYNNET.hdf5', save_best_only=True, monitor='val_loss', mode='min')"
   ]
  },
  {
   "cell_type": "code",
   "execution_count": 124,
   "id": "a90b1736",
   "metadata": {
    "scrolled": true
   },
   "outputs": [
    {
     "name": "stdout",
     "output_type": "stream",
     "text": [
      "Epoch 1/60\n",
      "80/80 [==============================] - 3s 33ms/step - loss: 1.3669 - accuracy: 0.3010 - val_loss: 1.3480 - val_accuracy: 0.3662\n",
      "Epoch 2/60\n",
      "80/80 [==============================] - 3s 31ms/step - loss: 1.3049 - accuracy: 0.3680 - val_loss: 1.3082 - val_accuracy: 0.3357\n",
      "Epoch 3/60\n",
      "80/80 [==============================] - 2s 30ms/step - loss: 1.2660 - accuracy: 0.4082 - val_loss: 1.2718 - val_accuracy: 0.4695\n",
      "Epoch 4/60\n",
      "80/80 [==============================] - 2s 29ms/step - loss: 1.1853 - accuracy: 0.5051 - val_loss: 1.2306 - val_accuracy: 0.5681\n",
      "Epoch 5/60\n",
      "80/80 [==============================] - 3s 32ms/step - loss: 1.1364 - accuracy: 0.5209 - val_loss: 1.1645 - val_accuracy: 0.6315\n",
      "Epoch 6/60\n",
      "80/80 [==============================] - 3s 32ms/step - loss: 1.0442 - accuracy: 0.5863 - val_loss: 1.1178 - val_accuracy: 0.6573\n",
      "Epoch 7/60\n",
      "80/80 [==============================] - 3s 33ms/step - loss: 0.9829 - accuracy: 0.6107 - val_loss: 1.0650 - val_accuracy: 0.6667\n",
      "Epoch 8/60\n",
      "80/80 [==============================] - 2s 30ms/step - loss: 0.9208 - accuracy: 0.6462 - val_loss: 1.0418 - val_accuracy: 0.6362\n",
      "Epoch 9/60\n",
      "80/80 [==============================] - 3s 31ms/step - loss: 0.9041 - accuracy: 0.6344 - val_loss: 1.0396 - val_accuracy: 0.6150\n",
      "Epoch 10/60\n",
      "80/80 [==============================] - 2s 30ms/step - loss: 0.8659 - accuracy: 0.6572 - val_loss: 0.9848 - val_accuracy: 0.6502\n",
      "Epoch 11/60\n",
      "80/80 [==============================] - 2s 29ms/step - loss: 0.8291 - accuracy: 0.6848 - val_loss: 0.9640 - val_accuracy: 0.6737\n",
      "Epoch 12/60\n",
      "80/80 [==============================] - 2s 29ms/step - loss: 0.8048 - accuracy: 0.6958 - val_loss: 0.9655 - val_accuracy: 0.6385\n",
      "Epoch 13/60\n",
      "80/80 [==============================] - 3s 31ms/step - loss: 0.7731 - accuracy: 0.7061 - val_loss: 0.9510 - val_accuracy: 0.6714\n",
      "Epoch 14/60\n",
      "80/80 [==============================] - 2s 28ms/step - loss: 0.7306 - accuracy: 0.7392 - val_loss: 0.9153 - val_accuracy: 0.6761\n",
      "Epoch 15/60\n",
      "80/80 [==============================] - 2s 28ms/step - loss: 0.7203 - accuracy: 0.7171 - val_loss: 0.9183 - val_accuracy: 0.6667\n",
      "Epoch 16/60\n",
      "80/80 [==============================] - 2s 28ms/step - loss: 0.6899 - accuracy: 0.7407 - val_loss: 0.9402 - val_accuracy: 0.6432\n",
      "Epoch 17/60\n",
      "80/80 [==============================] - 2s 29ms/step - loss: 0.6889 - accuracy: 0.7526 - val_loss: 0.9003 - val_accuracy: 0.6620\n",
      "Epoch 18/60\n",
      "80/80 [==============================] - 2s 28ms/step - loss: 0.6562 - accuracy: 0.7660 - val_loss: 0.8935 - val_accuracy: 0.6784\n",
      "Epoch 19/60\n",
      "80/80 [==============================] - 2s 29ms/step - loss: 0.6410 - accuracy: 0.7628 - val_loss: 0.8751 - val_accuracy: 0.6854\n",
      "Epoch 20/60\n",
      "80/80 [==============================] - 2s 29ms/step - loss: 0.6250 - accuracy: 0.7699 - val_loss: 0.8730 - val_accuracy: 0.6737\n",
      "Epoch 21/60\n",
      "80/80 [==============================] - 2s 30ms/step - loss: 0.5925 - accuracy: 0.7912 - val_loss: 0.8672 - val_accuracy: 0.6948\n",
      "Epoch 22/60\n",
      "80/80 [==============================] - 2s 30ms/step - loss: 0.5707 - accuracy: 0.8109 - val_loss: 0.8577 - val_accuracy: 0.6878\n",
      "Epoch 23/60\n",
      "80/80 [==============================] - 2s 31ms/step - loss: 0.5737 - accuracy: 0.7880 - val_loss: 0.8560 - val_accuracy: 0.6831\n",
      "Epoch 24/60\n",
      "80/80 [==============================] - 2s 30ms/step - loss: 0.5538 - accuracy: 0.7967 - val_loss: 0.8544 - val_accuracy: 0.6808\n",
      "Epoch 25/60\n",
      "80/80 [==============================] - 2s 29ms/step - loss: 0.5160 - accuracy: 0.8180 - val_loss: 0.8329 - val_accuracy: 0.7113\n",
      "Epoch 26/60\n",
      "80/80 [==============================] - 2s 29ms/step - loss: 0.4967 - accuracy: 0.8235 - val_loss: 0.8273 - val_accuracy: 0.7066\n",
      "Epoch 27/60\n",
      "80/80 [==============================] - 2s 30ms/step - loss: 0.5214 - accuracy: 0.8069 - val_loss: 0.8446 - val_accuracy: 0.6854\n",
      "Epoch 28/60\n",
      "80/80 [==============================] - 2s 30ms/step - loss: 0.4986 - accuracy: 0.8211 - val_loss: 0.8199 - val_accuracy: 0.7136\n",
      "Epoch 29/60\n",
      "80/80 [==============================] - 2s 30ms/step - loss: 0.4590 - accuracy: 0.8455 - val_loss: 0.8221 - val_accuracy: 0.6948\n",
      "Epoch 30/60\n",
      "80/80 [==============================] - 2s 29ms/step - loss: 0.4382 - accuracy: 0.8542 - val_loss: 0.8140 - val_accuracy: 0.7042\n",
      "Epoch 31/60\n",
      "80/80 [==============================] - 2s 29ms/step - loss: 0.4502 - accuracy: 0.8385 - val_loss: 0.8236 - val_accuracy: 0.6831\n",
      "Epoch 32/60\n",
      "80/80 [==============================] - 2s 29ms/step - loss: 0.4023 - accuracy: 0.8589 - val_loss: 0.8147 - val_accuracy: 0.6761\n",
      "Epoch 33/60\n",
      "80/80 [==============================] - 2s 29ms/step - loss: 0.3989 - accuracy: 0.8558 - val_loss: 0.8267 - val_accuracy: 0.6784\n",
      "Epoch 34/60\n",
      "80/80 [==============================] - 2s 30ms/step - loss: 0.4101 - accuracy: 0.8471 - val_loss: 0.8079 - val_accuracy: 0.6925\n",
      "Epoch 35/60\n",
      "80/80 [==============================] - 2s 30ms/step - loss: 0.3738 - accuracy: 0.8684 - val_loss: 0.7892 - val_accuracy: 0.6995\n",
      "Epoch 36/60\n",
      "80/80 [==============================] - 2s 29ms/step - loss: 0.3497 - accuracy: 0.8865 - val_loss: 0.7815 - val_accuracy: 0.6925\n",
      "Epoch 37/60\n",
      "80/80 [==============================] - 3s 31ms/step - loss: 0.3602 - accuracy: 0.8747 - val_loss: 0.7831 - val_accuracy: 0.7042\n",
      "Epoch 38/60\n",
      "80/80 [==============================] - 3s 31ms/step - loss: 0.3612 - accuracy: 0.8731 - val_loss: 0.7864 - val_accuracy: 0.6901\n",
      "Epoch 39/60\n",
      "80/80 [==============================] - 2s 30ms/step - loss: 0.3295 - accuracy: 0.8873 - val_loss: 0.7623 - val_accuracy: 0.7113\n",
      "Epoch 40/60\n",
      "80/80 [==============================] - 2s 30ms/step - loss: 0.3384 - accuracy: 0.8755 - val_loss: 0.7657 - val_accuracy: 0.7113\n",
      "Epoch 41/60\n",
      "80/80 [==============================] - 2s 31ms/step - loss: 0.3068 - accuracy: 0.8991 - val_loss: 0.7987 - val_accuracy: 0.6690\n",
      "Epoch 42/60\n",
      "80/80 [==============================] - 2s 29ms/step - loss: 0.2811 - accuracy: 0.9102 - val_loss: 0.8150 - val_accuracy: 0.6620\n",
      "Epoch 43/60\n",
      "80/80 [==============================] - 2s 29ms/step - loss: 0.3279 - accuracy: 0.8834 - val_loss: 0.7705 - val_accuracy: 0.7019\n",
      "Epoch 44/60\n",
      "80/80 [==============================] - 2s 29ms/step - loss: 0.2891 - accuracy: 0.9102 - val_loss: 0.7657 - val_accuracy: 0.7089\n",
      "Epoch 45/60\n",
      "80/80 [==============================] - 2s 31ms/step - loss: 0.2874 - accuracy: 0.9078 - val_loss: 0.7600 - val_accuracy: 0.7066\n",
      "Epoch 46/60\n",
      "80/80 [==============================] - 2s 31ms/step - loss: 0.2665 - accuracy: 0.9173 - val_loss: 0.7622 - val_accuracy: 0.7113\n",
      "Epoch 47/60\n",
      "80/80 [==============================] - 2s 30ms/step - loss: 0.2478 - accuracy: 0.9188 - val_loss: 0.7757 - val_accuracy: 0.6925\n",
      "Epoch 48/60\n",
      "80/80 [==============================] - 3s 32ms/step - loss: 0.2513 - accuracy: 0.9188 - val_loss: 0.7605 - val_accuracy: 0.6854\n",
      "Epoch 49/60\n",
      "80/80 [==============================] - 2s 30ms/step - loss: 0.2223 - accuracy: 0.9322 - val_loss: 0.7601 - val_accuracy: 0.7019\n",
      "Epoch 50/60\n",
      "80/80 [==============================] - 2s 29ms/step - loss: 0.2216 - accuracy: 0.9259 - val_loss: 0.7554 - val_accuracy: 0.7183\n",
      "Epoch 51/60\n",
      "80/80 [==============================] - 2s 29ms/step - loss: 0.2307 - accuracy: 0.9157 - val_loss: 0.7628 - val_accuracy: 0.6925\n",
      "Epoch 52/60\n",
      "80/80 [==============================] - 2s 29ms/step - loss: 0.2207 - accuracy: 0.9228 - val_loss: 0.7709 - val_accuracy: 0.7066\n",
      "Epoch 53/60\n",
      "80/80 [==============================] - 2s 31ms/step - loss: 0.2115 - accuracy: 0.9299 - val_loss: 0.7564 - val_accuracy: 0.7019\n",
      "Epoch 54/60\n",
      "80/80 [==============================] - 2s 30ms/step - loss: 0.1855 - accuracy: 0.9401 - val_loss: 0.7602 - val_accuracy: 0.6854\n",
      "Epoch 55/60\n",
      "80/80 [==============================] - 2s 30ms/step - loss: 0.1904 - accuracy: 0.9401 - val_loss: 0.7583 - val_accuracy: 0.7066\n",
      "Epoch 56/60\n",
      "80/80 [==============================] - 2s 30ms/step - loss: 0.1921 - accuracy: 0.9377 - val_loss: 0.7434 - val_accuracy: 0.7183\n",
      "Epoch 57/60\n",
      "80/80 [==============================] - 2s 29ms/step - loss: 0.1904 - accuracy: 0.9354 - val_loss: 0.7723 - val_accuracy: 0.7207\n",
      "Epoch 58/60\n",
      "80/80 [==============================] - 2s 30ms/step - loss: 0.1889 - accuracy: 0.9385 - val_loss: 0.7728 - val_accuracy: 0.6948\n"
     ]
    },
    {
     "name": "stdout",
     "output_type": "stream",
     "text": [
      "Epoch 59/60\n",
      "80/80 [==============================] - 2s 30ms/step - loss: 0.1701 - accuracy: 0.9496 - val_loss: 0.7994 - val_accuracy: 0.7042\n",
      "Epoch 60/60\n",
      "80/80 [==============================] - 2s 29ms/step - loss: 0.1590 - accuracy: 0.9535 - val_loss: 0.7679 - val_accuracy: 0.7042\n"
     ]
    }
   ],
   "source": [
    "history=model.fit(X_train, y_train, epochs=60, validation_data=(X_val, y_val), callbacks=[mcp_weight], batch_size=16)"
   ]
  },
  {
   "cell_type": "code",
   "execution_count": 125,
   "id": "48ebaef0",
   "metadata": {},
   "outputs": [
    {
     "name": "stdout",
     "output_type": "stream",
     "text": [
      "Model: \"sequential_25\"\n",
      "_________________________________________________________________\n",
      "Layer (type)                 Output Shape              Param #   \n",
      "=================================================================\n",
      "conv2d_75 (Conv2D)           (None, 112, 112, 64)      4864      \n",
      "_________________________________________________________________\n",
      "max_pooling2d_125 (MaxPoolin (None, 55, 55, 64)        0         \n",
      "_________________________________________________________________\n",
      "conv2d_76 (Conv2D)           (None, 55, 55, 64)        4160      \n",
      "_________________________________________________________________\n",
      "conv2d_77 (Conv2D)           (None, 55, 55, 128)       73856     \n",
      "_________________________________________________________________\n",
      "max_pooling2d_126 (MaxPoolin (None, 27, 27, 128)       0         \n",
      "_________________________________________________________________\n",
      "dropout_22 (Dropout)         (None, 27, 27, 128)       0         \n",
      "_________________________________________________________________\n",
      "max_pooling2d_127 (MaxPoolin (None, 13, 13, 128)       0         \n",
      "_________________________________________________________________\n",
      "max_pooling2d_128 (MaxPoolin (None, 6, 6, 128)         0         \n",
      "_________________________________________________________________\n",
      "max_pooling2d_129 (MaxPoolin (None, 2, 2, 128)         0         \n",
      "_________________________________________________________________\n",
      "flatten_16 (Flatten)         (None, 512)               0         \n",
      "_________________________________________________________________\n",
      "dense_51 (Dense)             (None, 512)               262656    \n",
      "_________________________________________________________________\n",
      "dropout_23 (Dropout)         (None, 512)               0         \n",
      "_________________________________________________________________\n",
      "dense_52 (Dense)             (None, 4)                 2052      \n",
      "=================================================================\n",
      "Total params: 347,588\n",
      "Trainable params: 347,588\n",
      "Non-trainable params: 0\n",
      "_________________________________________________________________\n"
     ]
    }
   ],
   "source": [
    "model.load_weights(\"CYNNET.hdf5\")\n",
    "model.compile(loss='categorical_crossentropy',optimizer='Adam',metrics=['accuracy'])\n",
    "model.summary()"
   ]
  },
  {
   "cell_type": "code",
   "execution_count": 126,
   "id": "29f3a199",
   "metadata": {},
   "outputs": [
    {
     "name": "stderr",
     "output_type": "stream",
     "text": [
      "100%|████████████████████████████████████████████████████████████████████████████████| 113/113 [00:54<00:00,  2.07it/s]\n"
     ]
    }
   ],
   "source": [
    "from scipy import stats as s\n",
    "predict_vgg16 = []\n",
    "actual = []\n",
    "dict_vgg16 = {}\n",
    "\n",
    "if not os.path.exists(test_frames_path):\n",
    "    os.makedirs(test_frames_path)\n",
    "\n",
    "for i in tqdm(range(test.shape[0])):\n",
    "    video_file = test['Video_url'][i]\n",
    "    action = test['action'][i]\n",
    "    video_name_list = video_file.split('/')[-1].split('.')\n",
    "    video_name_list = video_name_list[:-1]\n",
    "    video_name = \"\"\n",
    "    for n in video_name_list:\n",
    "        video_name += n\n",
    "    # capturing the video from the given path\n",
    "    capture = cv2.VideoCapture(video_file) \n",
    "    #frame rate\n",
    "    frame_rate = capture.get(5)\n",
    "    count = 0\n",
    "    files = glob(test_frames_path + '/*')\n",
    "    #removing all files from folder\n",
    "    for f in files:\n",
    "        os.remove(f)\n",
    "    while(capture.isOpened()):\n",
    "        #current frame number\n",
    "        frame_id = capture.get(1) \n",
    "        read_correctly, frame = capture.read()\n",
    "        if not read_correctly:\n",
    "            break\n",
    "        if (frame_id % math.floor(frame_rate) == 0):\n",
    "            # storing the frames in a new folder named train_1\n",
    "            filename = test_frames_path + \"/\" + video_name + \"_frame{}_\".format(count) + action +\".jpg\"\n",
    "            count += 1\n",
    "            cv2.imwrite(filename, frame)\n",
    "    capture.release()\n",
    "    \n",
    "    # reading all the frames from temp folder\n",
    "    images = glob(test_frames_path + '/*.jpg')\n",
    "    prediction_images = []\n",
    "    for i in range(len(images)):\n",
    "        img = image.load_img(images[i], target_size=(227,227,3))\n",
    "        img = image.img_to_array(img)\n",
    "        img = img / 255\n",
    "        prediction_images.append(img)\n",
    "        \n",
    "    # converting all the frames for a test video into numpy array\n",
    "    prediction_images = np.array(prediction_images)\n",
    "    prediction_images_copy = prediction_images\n",
    "    #prediction_images = prediction_images / max_pixel\n",
    "    # extracting features using pre-trained model\n",
    "    #prediction_images = base_model_vgg16.predict(prediction_images)\n",
    "    # converting features in one dimensional array\n",
    "    #prediction_images = prediction_images.reshape(prediction_images.shape[0], 7*7*512)\n",
    "    # predicting tags for each array\n",
    "    prediction = np.argmax(model.predict(prediction_images), axis=-1)\n",
    "    \n",
    "    prediction_test = y_train.columns.values[s.mode(prediction)[0][0]]\n",
    "    if prediction_test != action:\n",
    "        dict_vgg16[video_name] = prediction_test\n",
    "        #print(prediction_test)\n",
    "        #print(action)\n",
    "        #print(video_name)\n",
    "    \n",
    "    # appending the mode of predictions in predict list to assign the tag to the video\n",
    "    predict_vgg16.append(y_train.columns.values[s.mode(prediction)[0][0]])\n",
    "    # appending the actual tag of the video\n",
    "    actual.append(action)"
   ]
  },
  {
   "cell_type": "code",
   "execution_count": 127,
   "id": "22eb2e8f",
   "metadata": {},
   "outputs": [
    {
     "data": {
      "text/plain": [
       "76.10619469026548"
      ]
     },
     "execution_count": 127,
     "metadata": {},
     "output_type": "execute_result"
    }
   ],
   "source": [
    "from sklearn.metrics import accuracy_score\n",
    "accuracy_score(predict_vgg16, actual)*100"
   ]
  },
  {
   "cell_type": "code",
   "execution_count": 128,
   "id": "b3d145fb",
   "metadata": {},
   "outputs": [
    {
     "name": "stdout",
     "output_type": "stream",
     "text": [
      "Accuracy:  76.10619469026548\n",
      "Precision:  [0.80555556 0.85714286 0.69230769 0.75      ]\n",
      "F1_score:  [0.80555556 0.6        0.7826087  0.8       ]\n",
      "Recall:  [0.80555556 0.46153846 0.9        0.85714286]\n"
     ]
    }
   ],
   "source": [
    "from sklearn.metrics import accuracy_score, precision_score, f1_score, recall_score\n",
    "\n",
    "accuracy = accuracy_score(predict_vgg16, actual)*100\n",
    "precision = precision_score(actual, predict_vgg16, average=None)\n",
    "f1_score = f1_score(actual, predict_vgg16, average=None)\n",
    "recall = recall_score(actual, predict_vgg16, average=None)\n",
    "\n",
    "print('Accuracy: ', accuracy)\n",
    "print('Precision: ', precision)\n",
    "print('F1_score: ', f1_score)\n",
    "print('Recall: ', recall)"
   ]
  },
  {
   "cell_type": "code",
   "execution_count": 129,
   "id": "6a1a8e1b",
   "metadata": {},
   "outputs": [
    {
     "data": {
      "image/png": "[encoded data removed]",
      "text/plain": [
       "<Figure size 640x480 with 1 Axes>"
      ]
     },
     "metadata": {},
     "output_type": "display_data"
    }
   ],
   "source": [
    "plt.plot(history.history['accuracy'])\n",
    "plt.plot(history.history['val_accuracy'])\n",
    "plt.title('model accuracy')\n",
    "plt.ylabel('accuracy')\n",
    "plt.xlabel('epoch')\n",
    "plt.legend(['train', 'test'], loc='upper left')\n",
    "plt.show()"
   ]
  },
  {
   "cell_type": "code",
   "execution_count": 130,
   "id": "16c01291",
   "metadata": {},
   "outputs": [
    {
     "data": {
      "image/png": "[encoded data removed]",
      "text/plain": [
       "<Figure size 640x480 with 1 Axes>"
      ]
     },
     "metadata": {},
     "output_type": "display_data"
    }
   ],
   "source": [
    "plt.plot(history.history['loss'])\n",
    "plt.plot(history.history['val_loss'])\n",
    "plt.title('model loss')\n",
    "plt.ylabel('loss')\n",
    "plt.xlabel('epoch')\n",
    "plt.legend(['train', 'test'], loc='upper left')\n",
    "plt.show()"
   ]
  },
  {
   "cell_type": "markdown",
   "id": "6275e92a",
   "metadata": {},
   "source": [
    "## 2nd Model"
   ]
  },
  {
   "cell_type": "code",
   "execution_count": null,
   "id": "616d269d",
   "metadata": {},
   "outputs": [],
   "source": []
  },
  {
   "cell_type": "code",
   "execution_count": 24,
   "id": "a007f778",
   "metadata": {},
   "outputs": [
    {
     "name": "stdout",
     "output_type": "stream",
     "text": [
      "Model: \"sequential_5\"\n",
      "_________________________________________________________________\n",
      "Layer (type)                 Output Shape              Param #   \n",
      "=================================================================\n",
      "conv2d_14 (Conv2D)           (None, 54, 54, 96)        34944     \n",
      "_________________________________________________________________\n",
      "max_pooling2d_16 (MaxPooling (None, 26, 26, 96)        0         \n",
      "_________________________________________________________________\n",
      "conv2d_15 (Conv2D)           (None, 26, 26, 256)       614656    \n",
      "_________________________________________________________________\n",
      "max_pooling2d_17 (MaxPooling (None, 12, 12, 256)       0         \n",
      "_________________________________________________________________\n",
      "conv2d_16 (Conv2D)           (None, 12, 12, 96)        221280    \n",
      "_________________________________________________________________\n",
      "dropout_6 (Dropout)          (None, 12, 12, 96)        0         \n",
      "_________________________________________________________________\n",
      "conv2d_17 (Conv2D)           (None, 12, 12, 96)        83040     \n",
      "_________________________________________________________________\n",
      "max_pooling2d_18 (MaxPooling (None, 5, 5, 96)          0         \n",
      "_________________________________________________________________\n",
      "flatten_2 (Flatten)          (None, 2400)              0         \n",
      "_________________________________________________________________\n",
      "dense_12 (Dense)             (None, 1024)              2458624   \n",
      "_________________________________________________________________\n",
      "dense_13 (Dense)             (None, 512)               524800    \n",
      "_________________________________________________________________\n",
      "dropout_7 (Dropout)          (None, 512)               0         \n",
      "_________________________________________________________________\n",
      "dense_14 (Dense)             (None, 512)               262656    \n",
      "_________________________________________________________________\n",
      "dropout_8 (Dropout)          (None, 512)               0         \n",
      "_________________________________________________________________\n",
      "dense_15 (Dense)             (None, 4)                 2052      \n",
      "=================================================================\n",
      "Total params: 4,202,052\n",
      "Trainable params: 4,202,052\n",
      "Non-trainable params: 0\n",
      "_________________________________________________________________\n"
     ]
    }
   ],
   "source": [
    "model = Sequential()\n",
    "# 1st Convolutional Layer\n",
    "model.add(Conv2D(filters=96, input_shape=(224,224,3), kernel_size=(11,11), strides=(4,4), padding=\"valid\", activation = \"relu\"))\n",
    "# Max Pooling\n",
    "model.add(MaxPool2D(pool_size=(3,3), strides=(2,2), padding=\"valid\"))\n",
    "# 2nd Convolutional Layer\n",
    "model.add(Conv2D(filters=256, kernel_size=(5,5), strides=(1,1), padding=\"same\", activation = \"relu\"))\n",
    "# Max Pooling\n",
    "model.add(MaxPool2D(pool_size=(3,3), strides=(2,2), padding=\"valid\"))\n",
    "# 3rd Convolutional Layer\n",
    "model.add(Conv2D(filters=96, kernel_size=(3,3), strides=(1,1), padding=\"same\", activation = \"relu\"))\n",
    "model.add(Dropout(0.5))\n",
    "# 4th Convolutional Layer\n",
    "model.add(Conv2D(filters=96, kernel_size=(3,3), strides=(1,1), padding=\"same\", activation = \"relu\"))\n",
    "'''\n",
    "# 5th Convolutional Layer\n",
    "model.add(Conv2D(filters=512, kernel_size=(3,3), strides=(1,1), padding=\"same\", activation = \"relu\"))\n",
    "# 6th Convolutional Layer\n",
    "model.add(Conv2D(filters=256, kernel_size=(3,3), strides=(1,1), padding=\"same\", activation = \"relu\"))\n",
    "# 7th Convolutional Layer\n",
    "model.add(Conv2D(filters=128, kernel_size=(3,3), strides=(1,1), padding=\"same\", activation = \"relu\"))\n",
    "'''\n",
    "# Max Pooling\n",
    "model.add(MaxPool2D(pool_size=(3,3), strides=(2,2), padding=\"valid\"))\n",
    "# Passing it to a Fully Connected layer\n",
    "model.add(Flatten())\n",
    "# 1st Fully Connected Layer\n",
    "model.add(Dense(units = 1024, activation = \"relu\"))\n",
    "# 2nd Fully Connected Layer\n",
    "model.add(Dense(units = 512, activation = \"relu\"))\n",
    "model.add(Dropout(0.5))\n",
    "# 3rd Fully Connected Layer\n",
    "model.add(Dense(512, activation = \"relu\"))\n",
    "model.add(Dropout(0.5))\n",
    "\n",
    "# Output Layer\n",
    "model.add(Dense(4, activation = \"softmax\")) #As we have two classes\n",
    "model.summary()\n",
    "model.compile(loss='categorical_crossentropy',optimizer='Adam',metrics=['accuracy'])"
   ]
  },
  {
   "cell_type": "code",
   "execution_count": 41,
   "id": "b541e849",
   "metadata": {},
   "outputs": [],
   "source": [
    "from keras.callbacks import ModelCheckpoint\n",
    "mcp_weight = ModelCheckpoint('New_Network.hdf5', save_best_only=True, monitor='val_loss', mode='min')"
   ]
  },
  {
   "cell_type": "code",
   "execution_count": 42,
   "id": "248efb70",
   "metadata": {},
   "outputs": [
    {
     "name": "stdout",
     "output_type": "stream",
     "text": [
      "Epoch 1/40\n",
      "9/9 [==============================] - 2s 185ms/step - loss: 1.4701 - accuracy: 0.2632 - val_loss: 1.3807 - val_accuracy: 0.2535\n",
      "Epoch 2/40\n",
      "9/9 [==============================] - 1s 161ms/step - loss: 1.3777 - accuracy: 0.3089 - val_loss: 1.3774 - val_accuracy: 0.3263\n",
      "Epoch 3/40\n",
      "9/9 [==============================] - 1s 157ms/step - loss: 1.3651 - accuracy: 0.3396 - val_loss: 1.3757 - val_accuracy: 0.3263\n",
      "Epoch 4/40\n",
      "9/9 [==============================] - 1s 161ms/step - loss: 1.3688 - accuracy: 0.3388 - val_loss: 1.3719 - val_accuracy: 0.3263\n",
      "Epoch 5/40\n",
      "9/9 [==============================] - 1s 157ms/step - loss: 1.3626 - accuracy: 0.3381 - val_loss: 1.3744 - val_accuracy: 0.3263\n",
      "Epoch 6/40\n",
      "9/9 [==============================] - 1s 159ms/step - loss: 1.3588 - accuracy: 0.3215 - val_loss: 1.3718 - val_accuracy: 0.3263\n",
      "Epoch 7/40\n",
      "9/9 [==============================] - 1s 157ms/step - loss: 1.3378 - accuracy: 0.3357 - val_loss: 1.3439 - val_accuracy: 0.3263\n",
      "Epoch 8/40\n",
      "9/9 [==============================] - 1s 161ms/step - loss: 1.2988 - accuracy: 0.3381 - val_loss: 1.3048 - val_accuracy: 0.3263\n",
      "Epoch 9/40\n",
      "9/9 [==============================] - 1s 157ms/step - loss: 1.2755 - accuracy: 0.3893 - val_loss: 1.3526 - val_accuracy: 0.3474\n",
      "Epoch 10/40\n",
      "9/9 [==============================] - 1s 156ms/step - loss: 1.2644 - accuracy: 0.4318 - val_loss: 1.2703 - val_accuracy: 0.4249\n",
      "Epoch 11/40\n",
      "9/9 [==============================] - 1s 158ms/step - loss: 1.2031 - accuracy: 0.4468 - val_loss: 1.1588 - val_accuracy: 0.5235\n",
      "Epoch 12/40\n",
      "9/9 [==============================] - 1s 156ms/step - loss: 1.1272 - accuracy: 0.4697 - val_loss: 1.1570 - val_accuracy: 0.4671\n",
      "Epoch 13/40\n",
      "9/9 [==============================] - 1s 155ms/step - loss: 1.1088 - accuracy: 0.4846 - val_loss: 1.0549 - val_accuracy: 0.5751\n",
      "Epoch 14/40\n",
      "9/9 [==============================] - 1s 157ms/step - loss: 1.0758 - accuracy: 0.5130 - val_loss: 1.1227 - val_accuracy: 0.5047\n",
      "Epoch 15/40\n",
      "9/9 [==============================] - 1s 158ms/step - loss: 1.0182 - accuracy: 0.5366 - val_loss: 1.1351 - val_accuracy: 0.5094\n",
      "Epoch 16/40\n",
      "9/9 [==============================] - 1s 157ms/step - loss: 1.0011 - accuracy: 0.5658 - val_loss: 1.2438 - val_accuracy: 0.4906\n",
      "Epoch 17/40\n",
      "9/9 [==============================] - 1s 157ms/step - loss: 0.9538 - accuracy: 0.5879 - val_loss: 1.1919 - val_accuracy: 0.4930\n",
      "Epoch 18/40\n",
      "9/9 [==============================] - 1s 154ms/step - loss: 0.8696 - accuracy: 0.6430 - val_loss: 1.2308 - val_accuracy: 0.5141\n",
      "Epoch 19/40\n",
      "9/9 [==============================] - 1s 156ms/step - loss: 0.8091 - accuracy: 0.6919 - val_loss: 1.0649 - val_accuracy: 0.6150\n",
      "Epoch 20/40\n",
      "9/9 [==============================] - 1s 160ms/step - loss: 0.7675 - accuracy: 0.7053 - val_loss: 1.1699 - val_accuracy: 0.5610\n",
      "Epoch 21/40\n",
      "9/9 [==============================] - 1s 156ms/step - loss: 0.7238 - accuracy: 0.7360 - val_loss: 1.0066 - val_accuracy: 0.6150\n",
      "Epoch 22/40\n",
      "9/9 [==============================] - 1s 156ms/step - loss: 0.6579 - accuracy: 0.7549 - val_loss: 1.2458 - val_accuracy: 0.5798\n",
      "Epoch 23/40\n",
      "9/9 [==============================] - 1s 154ms/step - loss: 0.6099 - accuracy: 0.7730 - val_loss: 1.1565 - val_accuracy: 0.5939\n",
      "Epoch 24/40\n",
      "9/9 [==============================] - 1s 156ms/step - loss: 0.5635 - accuracy: 0.7975 - val_loss: 1.2281 - val_accuracy: 0.5822\n",
      "Epoch 25/40\n",
      "9/9 [==============================] - 1s 154ms/step - loss: 0.4824 - accuracy: 0.8258 - val_loss: 1.1778 - val_accuracy: 0.5869\n",
      "Epoch 26/40\n",
      "9/9 [==============================] - 1s 157ms/step - loss: 0.4685 - accuracy: 0.8322 - val_loss: 1.1932 - val_accuracy: 0.6174\n",
      "Epoch 27/40\n",
      "9/9 [==============================] - 1s 158ms/step - loss: 0.3856 - accuracy: 0.8684 - val_loss: 1.1079 - val_accuracy: 0.6291\n",
      "Epoch 28/40\n",
      "9/9 [==============================] - 1s 157ms/step - loss: 0.3649 - accuracy: 0.8739 - val_loss: 1.1892 - val_accuracy: 0.6197\n",
      "Epoch 29/40\n",
      "9/9 [==============================] - 1s 155ms/step - loss: 0.3670 - accuracy: 0.8755 - val_loss: 1.2553 - val_accuracy: 0.5681\n",
      "Epoch 30/40\n",
      "9/9 [==============================] - 1s 156ms/step - loss: 0.3217 - accuracy: 0.8842 - val_loss: 1.2447 - val_accuracy: 0.6291\n",
      "Epoch 31/40\n",
      "9/9 [==============================] - 1s 155ms/step - loss: 0.2883 - accuracy: 0.8913 - val_loss: 1.5737 - val_accuracy: 0.5751\n",
      "Epoch 32/40\n",
      "9/9 [==============================] - 1s 160ms/step - loss: 0.2473 - accuracy: 0.9173 - val_loss: 1.4330 - val_accuracy: 0.5869\n",
      "Epoch 33/40\n",
      "9/9 [==============================] - 1s 155ms/step - loss: 0.2302 - accuracy: 0.9259 - val_loss: 1.6441 - val_accuracy: 0.6009\n",
      "Epoch 34/40\n",
      "9/9 [==============================] - 1s 158ms/step - loss: 0.2123 - accuracy: 0.9346 - val_loss: 1.7230 - val_accuracy: 0.6268\n",
      "Epoch 35/40\n",
      "9/9 [==============================] - 1s 158ms/step - loss: 0.2339 - accuracy: 0.9212 - val_loss: 1.9133 - val_accuracy: 0.6174\n",
      "Epoch 36/40\n",
      "9/9 [==============================] - 1s 162ms/step - loss: 0.2626 - accuracy: 0.9070 - val_loss: 1.2509 - val_accuracy: 0.6362\n",
      "Epoch 37/40\n",
      "9/9 [==============================] - 1s 165ms/step - loss: 0.1916 - accuracy: 0.9291 - val_loss: 1.5072 - val_accuracy: 0.6291\n",
      "Epoch 38/40\n",
      "9/9 [==============================] - 1s 157ms/step - loss: 0.1679 - accuracy: 0.9425 - val_loss: 1.6847 - val_accuracy: 0.6080\n",
      "Epoch 39/40\n",
      "9/9 [==============================] - 1s 155ms/step - loss: 0.1910 - accuracy: 0.9401 - val_loss: 1.6742 - val_accuracy: 0.5845\n",
      "Epoch 40/40\n",
      "9/9 [==============================] - 1s 149ms/step - loss: 0.1767 - accuracy: 0.9425 - val_loss: 1.8815 - val_accuracy: 0.6408\n"
     ]
    }
   ],
   "source": [
    "history=model.fit(X_train, y_train, epochs=40, validation_data=(X_val, y_val), callbacks=[mcp_weight], batch_size=150)"
   ]
  },
  {
   "cell_type": "code",
   "execution_count": 43,
   "id": "4c4e1d3e",
   "metadata": {},
   "outputs": [
    {
     "name": "stdout",
     "output_type": "stream",
     "text": [
      "Model: \"sequential_6\"\n",
      "_________________________________________________________________\n",
      "Layer (type)                 Output Shape              Param #   \n",
      "=================================================================\n",
      "conv2d_24 (Conv2D)           (None, 54, 54, 96)        34944     \n",
      "_________________________________________________________________\n",
      "max_pooling2d_18 (MaxPooling (None, 26, 26, 96)        0         \n",
      "_________________________________________________________________\n",
      "conv2d_25 (Conv2D)           (None, 26, 26, 256)       614656    \n",
      "_________________________________________________________________\n",
      "max_pooling2d_19 (MaxPooling (None, 12, 12, 256)       0         \n",
      "_________________________________________________________________\n",
      "conv2d_26 (Conv2D)           (None, 12, 12, 96)        221280    \n",
      "_________________________________________________________________\n",
      "dropout_3 (Dropout)          (None, 12, 12, 96)        0         \n",
      "_________________________________________________________________\n",
      "conv2d_27 (Conv2D)           (None, 12, 12, 96)        83040     \n",
      "_________________________________________________________________\n",
      "max_pooling2d_20 (MaxPooling (None, 5, 5, 96)          0         \n",
      "_________________________________________________________________\n",
      "flatten_6 (Flatten)          (None, 2400)              0         \n",
      "_________________________________________________________________\n",
      "dense_22 (Dense)             (None, 1024)              2458624   \n",
      "_________________________________________________________________\n",
      "dense_23 (Dense)             (None, 512)               524800    \n",
      "_________________________________________________________________\n",
      "dropout_4 (Dropout)          (None, 512)               0         \n",
      "_________________________________________________________________\n",
      "dense_24 (Dense)             (None, 512)               262656    \n",
      "_________________________________________________________________\n",
      "dropout_5 (Dropout)          (None, 512)               0         \n",
      "_________________________________________________________________\n",
      "dense_25 (Dense)             (None, 4)                 2052      \n",
      "=================================================================\n",
      "Total params: 4,202,052\n",
      "Trainable params: 4,202,052\n",
      "Non-trainable params: 0\n",
      "_________________________________________________________________\n"
     ]
    }
   ],
   "source": [
    "model.load_weights(\"New_Network.hdf5\")\n",
    "model.compile(loss='categorical_crossentropy',optimizer='Adam',metrics=['accuracy'])\n",
    "model.summary()"
   ]
  },
  {
   "cell_type": "code",
   "execution_count": 44,
   "id": "07830bca",
   "metadata": {},
   "outputs": [
    {
     "name": "stderr",
     "output_type": "stream",
     "text": [
      "100%|████████████████████████████████████████████████████████████████████████████████| 113/113 [00:57<00:00,  1.95it/s]\n"
     ]
    }
   ],
   "source": [
    "from scipy import stats as s\n",
    "predict_vgg16 = []\n",
    "actual = []\n",
    "dict_vgg16 = {}\n",
    "\n",
    "if not os.path.exists(test_frames_path):\n",
    "    os.makedirs(test_frames_path)\n",
    "\n",
    "for i in tqdm(range(test.shape[0])):\n",
    "    video_file = test['Video_url'][i]\n",
    "    action = test['action'][i]\n",
    "    video_name_list = video_file.split('/')[-1].split('.')\n",
    "    video_name_list = video_name_list[:-1]\n",
    "    video_name = \"\"\n",
    "    for n in video_name_list:\n",
    "        video_name += n\n",
    "    # capturing the video from the given path\n",
    "    capture = cv2.VideoCapture(video_file) \n",
    "    #frame rate\n",
    "    frame_rate = capture.get(5)\n",
    "    count = 0\n",
    "    files = glob(test_frames_path + '/*')\n",
    "    #removing all files from folder\n",
    "    for f in files:\n",
    "        os.remove(f)\n",
    "    while(capture.isOpened()):\n",
    "        #current frame number\n",
    "        frame_id = capture.get(1) \n",
    "        read_correctly, frame = capture.read()\n",
    "        if not read_correctly:\n",
    "            break\n",
    "        if (frame_id % math.floor(frame_rate) == 0):\n",
    "            # storing the frames in a new folder named train_1\n",
    "            filename = test_frames_path + \"/\" + video_name + \"_frame{}_\".format(count) + action +\".jpg\"\n",
    "            count += 1\n",
    "            cv2.imwrite(filename, frame)\n",
    "    capture.release()\n",
    "    \n",
    "    # reading all the frames from temp folder\n",
    "    images = glob(test_frames_path + '/*.jpg')\n",
    "    prediction_images = []\n",
    "    for i in range(len(images)):\n",
    "        img = image.load_img(images[i], target_size=(224,224,3))\n",
    "        img = image.img_to_array(img)\n",
    "        img = img / 255\n",
    "        prediction_images.append(img)\n",
    "        \n",
    "    # converting all the frames for a test video into numpy array\n",
    "    prediction_images = np.array(prediction_images)\n",
    "    prediction_images_copy = prediction_images\n",
    "    #prediction_images = prediction_images / max_pixel\n",
    "    # extracting features using pre-trained model\n",
    "    #prediction_images = base_model_vgg16.predict(prediction_images)\n",
    "    # converting features in one dimensional array\n",
    "    #prediction_images = prediction_images.reshape(prediction_images.shape[0], 7*7*512)\n",
    "    # predicting tags for each array\n",
    "    prediction = np.argmax(model.predict(prediction_images), axis=-1)\n",
    "    \n",
    "    prediction_test = y_train.columns.values[s.mode(prediction)[0][0]]\n",
    "    if prediction_test != action:\n",
    "        dict_vgg16[video_name] = prediction_test\n",
    "        #print(prediction_test)\n",
    "        #print(action)\n",
    "        #print(video_name)\n",
    "    \n",
    "    # appending the mode of predictions in predict list to assign the tag to the video\n",
    "    predict_vgg16.append(y_train.columns.values[s.mode(prediction)[0][0]])\n",
    "    # appending the actual tag of the video\n",
    "    actual.append(action)"
   ]
  },
  {
   "cell_type": "code",
   "execution_count": 71,
   "id": "4e6ecd38",
   "metadata": {},
   "outputs": [
    {
     "name": "stdout",
     "output_type": "stream",
     "text": [
      "{'smoke_86 ': 'NoAction', 'NoAction_73 ': 'kill', 'NoAction_2 ': 'kill', 'death_50 ': 'kill', 'kill_51 ': 'NoAction', 'NoAction_83 ': 'smoke', 'death_48 ': 'NoAction', 'death_41 ': 'NoAction', 'NoAction_128 ': 'kill', 'kill_35 ': 'NoAction', 'death_99 ': 'kill', 'death_106 ': 'kill', 'weapon_p2000_02': 'kill', 'death_123 ': 'kill', 'kill_79 ': 'NoAction', 'kill_103 ': 'NoAction', 'death_128 ': 'kill', 'death_4 ': 'smoke', 'death_53 ': 'kill', 'death_20 ': 'smoke', 'death_47 ': 'NoAction', 'NoAction_79 ': 'kill', 'death_116 ': 'kill', 'NoAction_92 ': 'smoke', 'death_36 ': 'NoAction', 'death_75 ': 'kill', 'kill_40 ': 'NoAction', 'NoAction_87 ': 'kill', 'kill_123 ': 'NoAction', 'smoke_97 ': 'kill', 'kill_87 ': 'NoAction', 'kill_59 ': 'NoAction', 'NoAction_77 ': 'smoke', 'smoke_39 ': 'kill', 'death_87 ': 'kill', 'smoke_8 ': 'kill', 'death_115 ': 'kill', 'NoAction_75 ': 'kill', 'kill_113 ': 'NoAction', 'death_24 ': 'kill', 'death_54 ': 'NoAction', 'NoAction_84 ': 'kill', 'kill_46 ': 'NoAction', 'death_70 ': 'kill', 'death_66 ': 'NoAction', 'kill_81 ': 'smoke', 'death_19 ': 'kill', 'death_26 ': 'kill', 'smoke_87 ': 'NoAction', 'death_91 ': 'kill', 'death_104 ': 'kill', 'smoke_11 ': 'NoAction', 'death_29 ': 'NoAction', 'kill_58 ': 'NoAction', 'death_16 ': 'smoke'}\n"
     ]
    }
   ],
   "source": [
    "print(dict_vgg16)"
   ]
  },
  {
   "cell_type": "code",
   "execution_count": 45,
   "id": "3daedd57",
   "metadata": {},
   "outputs": [
    {
     "data": {
      "text/plain": [
       "73.45132743362832"
      ]
     },
     "execution_count": 45,
     "metadata": {},
     "output_type": "execute_result"
    }
   ],
   "source": [
    "from sklearn.metrics import accuracy_score\n",
    "accuracy_score(predict_vgg16, actual)*100"
   ]
  },
  {
   "cell_type": "code",
   "execution_count": 46,
   "id": "701c2f41",
   "metadata": {},
   "outputs": [
    {
     "name": "stdout",
     "output_type": "stream",
     "text": [
      "Accuracy:  73.45132743362832\n",
      "Precision:  [0.73684211 0.67857143 0.94444444 0.65517241]\n",
      "F1_score:  [0.75675676 0.7037037  0.70833333 0.76      ]\n",
      "Recall:  [0.77777778 0.73076923 0.56666667 0.9047619 ]\n"
     ]
    }
   ],
   "source": [
    "from sklearn.metrics import accuracy_score, precision_score, f1_score, recall_score\n",
    "\n",
    "accuracy = accuracy_score(predict_vgg16, actual)*100\n",
    "precision = precision_score(actual, predict_vgg16, average=None)\n",
    "f1_score = f1_score(actual, predict_vgg16, average=None)\n",
    "recall = recall_score(actual, predict_vgg16, average=None)\n",
    "\n",
    "print('Accuracy: ', accuracy)\n",
    "print('Precision: ', precision)\n",
    "print('F1_score: ', f1_score)\n",
    "print('Recall: ', recall)"
   ]
  },
  {
   "cell_type": "code",
   "execution_count": 47,
   "id": "6b059c40",
   "metadata": {},
   "outputs": [
    {
     "data": {
      "image/png": "[encoded data removed]",
      "text/plain": [
       "<Figure size 640x480 with 1 Axes>"
      ]
     },
     "metadata": {},
     "output_type": "display_data"
    }
   ],
   "source": [
    "plt.plot(history.history['accuracy'])\n",
    "plt.plot(history.history['val_accuracy'])\n",
    "plt.title('model accuracy')\n",
    "plt.ylabel('accuracy')\n",
    "plt.xlabel('epoch')\n",
    "plt.legend(['train', 'test'], loc='upper left')\n",
    "plt.show()"
   ]
  },
  {
   "cell_type": "code",
   "execution_count": 48,
   "id": "145743d5",
   "metadata": {
    "scrolled": true
   },
   "outputs": [
    {
     "data": {
      "image/png": "[encoded data removed]",
      "text/plain": [
       "<Figure size 640x480 with 1 Axes>"
      ]
     },
     "metadata": {},
     "output_type": "display_data"
    }
   ],
   "source": [
    "plt.plot(history.history['loss'])\n",
    "plt.plot(history.history['val_loss'])\n",
    "plt.title('model loss')\n",
    "plt.ylabel('loss')\n",
    "plt.xlabel('epoch')\n",
    "plt.legend(['train', 'test'], loc='upper left')\n",
    "plt.show()"
   ]
  },
  {
   "cell_type": "code",
   "execution_count": null,
   "id": "61509a36",
   "metadata": {},
   "outputs": [],
   "source": [
    "model = Sequential()\n",
    "    \n",
    "model.add(Conv2D(96, (3, 3), activation='relu', padding = 'same', input_shape=(224,224,3)))    \n",
    "model.add(Dropout(0.2))\n",
    "    \n",
    "model.add(Conv2D(96, (3, 3), activation='relu', padding = 'same'))  \n",
    "model.add(Conv2D(96, (3, 3), activation='relu', padding = 'same', strides = 2))    \n",
    "model.add(Dropout(0.5))\n",
    "    \n",
    "model.add(Conv2D(192, (3, 3), activation='relu', padding = 'same'))    \n",
    "model.add(Conv2D(192, (3, 3), activation='relu', padding = 'same'))\n",
    "model.add(Conv2D(192, (3, 3), activation='relu', padding = 'same', strides = 2))    \n",
    "model.add(Dropout(0.5))    \n",
    "    \n",
    "model.add(Conv2D(192, (3, 3), padding = 'same'))\n",
    "model.add(Activation('relu'))\n",
    "model.add(Conv2D(192, (1, 1),padding='valid'))\n",
    "model.add(Activation('relu'))\n",
    "model.add(Conv2D(10, (1, 1), padding='valid'))\n",
    "\n",
    "# Output Layer\n",
    "model.add(Dense(4, activation = \"softmax\")) \n",
    "model.compile(loss='categorical_crossentropy',optimizer='Adam',metrics=['accuracy'])\n",
    "model.summary()"
   ]
  },
  {
   "cell_type": "code",
   "execution_count": null,
   "id": "63fc0a04",
   "metadata": {},
   "outputs": [],
   "source": []
  }
 ],
 "metadata": {
  "kernelspec": {
   "display_name": "Python 3",
   "language": "python",
   "name": "python3"
  },
  "language_info": {
   "codemirror_mode": {
    "name": "ipython",
    "version": 3
   },
   "file_extension": ".py",
   "mimetype": "text/x-python",
   "name": "python",
   "nbconvert_exporter": "python",
   "pygments_lexer": "ipython3",
   "version": "3.9.6"
  }
 },
 "nbformat": 4,
 "nbformat_minor": 5
}
