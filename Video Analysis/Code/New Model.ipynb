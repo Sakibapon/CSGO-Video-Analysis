{
 "cells": [
  {
   "cell_type": "code",
   "execution_count": 1,
   "id": "c02578a9",
   "metadata": {},
   "outputs": [],
   "source": [
    "import os\n",
    "import re\n",
    "import math\n",
    "import cv2\n",
    "import pickle\n",
    "import pandas as pd\n",
    "import numpy as np\n",
    "import matplotlib.pyplot as plt\n",
    "import tensorflow as tf\n",
    "\n",
    "from tqdm import tqdm\n",
    "from glob import glob\n",
    "from tools.settings import *\n",
    "from keras.models import Sequential\n",
    "from keras.preprocessing import image\n",
    "from keras.preprocessing.image import ImageDataGenerator\n",
    "from keras.layers import Dense, Dropout\n",
    "from keras.layers import Conv2D, MaxPooling2D, MaxPool2D, Flatten\n",
    "from tensorflow.keras.utils import to_categorical\n",
    "from tools.train_val_test_spliter import split\n",
    "import collections\n",
    "from collections import Counter"
   ]
  },
  {
   "cell_type": "code",
   "execution_count": null,
   "id": "a05b34f2",
   "metadata": {},
   "outputs": [],
   "source": [
    "split()"
   ]
  },
  {
   "cell_type": "code",
   "execution_count": 3,
   "id": "fd708cb9",
   "metadata": {},
   "outputs": [
    {
     "name": "stdout",
     "output_type": "stream",
     "text": [
      "(334, 2)\n",
      "(110, 2)\n",
      "(110, 2)\n"
     ]
    }
   ],
   "source": [
    "train = pd. read_csv(os.path.join(dataset_path, \"train.csv\"))\n",
    "test = pd. read_csv(os.path.join(dataset_path, \"test.csv\"))\n",
    "val = pd. read_csv(os.path.join(dataset_path, \"val.csv\"))\n",
    "print(train.shape)\n",
    "print(test.shape)\n",
    "print(val.shape)"
   ]
  },
  {
   "cell_type": "code",
   "execution_count": 5,
   "id": "d72d4c08",
   "metadata": {},
   "outputs": [],
   "source": [
    "def convert_to_frame(data, folder_name):\n",
    "    '''\n",
    "    Generated filenames format dataset_path/folder_name/video_name_frame{number}_action.jpg\n",
    "    '''\n",
    "    directory = os.path.join(dataset_path, folder_name)\n",
    "    if not os.path.exists(directory):\n",
    "        os.makedirs(directory)\n",
    "    for i in tqdm(range(data.shape[0])):\n",
    "        video_file = data['Video_url'][i]\n",
    "        action = data['action'][i]\n",
    "        video_name_list = video_file.split('/')[-1].split('.')\n",
    "        video_name_list = video_name_list[:-1]\n",
    "        video_name = \"\"\n",
    "        for n in video_name_list:\n",
    "            video_name += n\n",
    "        # capturing the video from the given path\n",
    "        capture = cv2.VideoCapture(video_file) \n",
    "        #frame rate\n",
    "        frame_rate = capture.get(5)\n",
    "        count = 0\n",
    "        while(capture.isOpened()):\n",
    "            #current frame number\n",
    "            frame_id = capture.get(1) \n",
    "            read_correctly, frame = capture.read()\n",
    "            if not read_correctly:\n",
    "                break\n",
    "            if (frame_id % math.floor(frame_rate) == 0):\n",
    "                # storing the frames in a new folder named train_1\n",
    "                filename = directory + \"/\" + video_name + \"_frame{}_\".format(count) + action +\".jpg\"\n",
    "                count += 1\n",
    "                cv2.imwrite(filename, frame)\n",
    "        capture.release()\n",
    "    print(\"Successfully Converted\")"
   ]
  },
  {
   "cell_type": "code",
   "execution_count": null,
   "id": "95c92a6f",
   "metadata": {},
   "outputs": [],
   "source": [
    "convert_to_frame(train, train_frames_path_name)"
   ]
  },
  {
   "cell_type": "code",
   "execution_count": null,
   "id": "f67db74e",
   "metadata": {},
   "outputs": [],
   "source": [
    "convert_to_frame(val, val_frames_path_name)"
   ]
  },
  {
   "cell_type": "code",
   "execution_count": 4,
   "id": "dd03ce7f",
   "metadata": {},
   "outputs": [],
   "source": [
    "def create_paths_csv(directory, file_name):\n",
    "    images = os.listdir(directory)\n",
    "    images_path_list = []\n",
    "    images_action_list = [] \n",
    "    for image in images:\n",
    "        images_path_list.append(directory + image)\n",
    "        images_action_list.append(image.split('.')[0].split('_')[-1])\n",
    "    df = pd.DataFrame()\n",
    "    df['image'] = images_path_list\n",
    "    df['action'] = images_action_list\n",
    "    print(os.path.join(dataset_path, file_name+'.csv'))\n",
    "    df.to_csv(os.path.join(dataset_path, file_name+'.csv'), index=False)"
   ]
  },
  {
   "cell_type": "code",
   "execution_count": 6,
   "id": "cc7619f9",
   "metadata": {},
   "outputs": [
    {
     "name": "stdout",
     "output_type": "stream",
     "text": [
      "G:/CSGO Video Analyis/Data\\train_frames.csv\n"
     ]
    }
   ],
   "source": [
    "create_paths_csv(train_frames_path, train_frames_path_name)"
   ]
  },
  {
   "cell_type": "code",
   "execution_count": 7,
   "id": "795203d5",
   "metadata": {},
   "outputs": [
    {
     "name": "stdout",
     "output_type": "stream",
     "text": [
      "G:/CSGO Video Analyis/Data\\val_frames.csv\n"
     ]
    }
   ],
   "source": [
    "create_paths_csv(val_frames_path, val_frames_path_name)"
   ]
  },
  {
   "cell_type": "code",
   "execution_count": 8,
   "id": "f1ee021c",
   "metadata": {},
   "outputs": [
    {
     "data": {
      "text/html": [
       "<div>\n",
       "<style scoped>\n",
       "    .dataframe tbody tr th:only-of-type {\n",
       "        vertical-align: middle;\n",
       "    }\n",
       "\n",
       "    .dataframe tbody tr th {\n",
       "        vertical-align: top;\n",
       "    }\n",
       "\n",
       "    .dataframe thead th {\n",
       "        text-align: right;\n",
       "    }\n",
       "</style>\n",
       "<table border=\"1\" class=\"dataframe\">\n",
       "  <thead>\n",
       "    <tr style=\"text-align: right;\">\n",
       "      <th></th>\n",
       "      <th>image</th>\n",
       "      <th>action</th>\n",
       "    </tr>\n",
       "  </thead>\n",
       "  <tbody>\n",
       "    <tr>\n",
       "      <th>0</th>\n",
       "      <td>G:/CSGO Video Analyis/Data\\train_frames\\death_...</td>\n",
       "      <td>death</td>\n",
       "    </tr>\n",
       "    <tr>\n",
       "      <th>1</th>\n",
       "      <td>G:/CSGO Video Analyis/Data\\train_frames\\death_...</td>\n",
       "      <td>death</td>\n",
       "    </tr>\n",
       "    <tr>\n",
       "      <th>2</th>\n",
       "      <td>G:/CSGO Video Analyis/Data\\train_frames\\death_...</td>\n",
       "      <td>death</td>\n",
       "    </tr>\n",
       "    <tr>\n",
       "      <th>3</th>\n",
       "      <td>G:/CSGO Video Analyis/Data\\train_frames\\death_...</td>\n",
       "      <td>death</td>\n",
       "    </tr>\n",
       "    <tr>\n",
       "      <th>4</th>\n",
       "      <td>G:/CSGO Video Analyis/Data\\train_frames\\death_...</td>\n",
       "      <td>death</td>\n",
       "    </tr>\n",
       "    <tr>\n",
       "      <th>...</th>\n",
       "      <td>...</td>\n",
       "      <td>...</td>\n",
       "    </tr>\n",
       "    <tr>\n",
       "      <th>1206</th>\n",
       "      <td>G:/CSGO Video Analyis/Data\\train_frames\\weapon...</td>\n",
       "      <td>NoAction</td>\n",
       "    </tr>\n",
       "    <tr>\n",
       "      <th>1207</th>\n",
       "      <td>G:/CSGO Video Analyis/Data\\train_frames\\weapon...</td>\n",
       "      <td>NoAction</td>\n",
       "    </tr>\n",
       "    <tr>\n",
       "      <th>1208</th>\n",
       "      <td>G:/CSGO Video Analyis/Data\\train_frames\\weapon...</td>\n",
       "      <td>NoAction</td>\n",
       "    </tr>\n",
       "    <tr>\n",
       "      <th>1209</th>\n",
       "      <td>G:/CSGO Video Analyis/Data\\train_frames\\weapon...</td>\n",
       "      <td>NoAction</td>\n",
       "    </tr>\n",
       "    <tr>\n",
       "      <th>1210</th>\n",
       "      <td>G:/CSGO Video Analyis/Data\\train_frames\\weapon...</td>\n",
       "      <td>NoAction</td>\n",
       "    </tr>\n",
       "  </tbody>\n",
       "</table>\n",
       "<p>1211 rows × 2 columns</p>\n",
       "</div>"
      ],
      "text/plain": [
       "                                                  image    action\n",
       "0     G:/CSGO Video Analyis/Data\\train_frames\\death_...     death\n",
       "1     G:/CSGO Video Analyis/Data\\train_frames\\death_...     death\n",
       "2     G:/CSGO Video Analyis/Data\\train_frames\\death_...     death\n",
       "3     G:/CSGO Video Analyis/Data\\train_frames\\death_...     death\n",
       "4     G:/CSGO Video Analyis/Data\\train_frames\\death_...     death\n",
       "...                                                 ...       ...\n",
       "1206  G:/CSGO Video Analyis/Data\\train_frames\\weapon...  NoAction\n",
       "1207  G:/CSGO Video Analyis/Data\\train_frames\\weapon...  NoAction\n",
       "1208  G:/CSGO Video Analyis/Data\\train_frames\\weapon...  NoAction\n",
       "1209  G:/CSGO Video Analyis/Data\\train_frames\\weapon...  NoAction\n",
       "1210  G:/CSGO Video Analyis/Data\\train_frames\\weapon...  NoAction\n",
       "\n",
       "[1211 rows x 2 columns]"
      ]
     },
     "execution_count": 8,
     "metadata": {},
     "output_type": "execute_result"
    }
   ],
   "source": [
    "train_image = pd.read_csv(os.path.join(dataset_path, 'train_frames.csv'))\n",
    "train_image"
   ]
  },
  {
   "cell_type": "code",
   "execution_count": 9,
   "id": "ed51a1a2",
   "metadata": {},
   "outputs": [
    {
     "data": {
      "text/html": [
       "<div>\n",
       "<style scoped>\n",
       "    .dataframe tbody tr th:only-of-type {\n",
       "        vertical-align: middle;\n",
       "    }\n",
       "\n",
       "    .dataframe tbody tr th {\n",
       "        vertical-align: top;\n",
       "    }\n",
       "\n",
       "    .dataframe thead th {\n",
       "        text-align: right;\n",
       "    }\n",
       "</style>\n",
       "<table border=\"1\" class=\"dataframe\">\n",
       "  <thead>\n",
       "    <tr style=\"text-align: right;\">\n",
       "      <th></th>\n",
       "      <th>image</th>\n",
       "      <th>action</th>\n",
       "    </tr>\n",
       "  </thead>\n",
       "  <tbody>\n",
       "    <tr>\n",
       "      <th>0</th>\n",
       "      <td>G:/CSGO Video Analyis/Data\\val_frames\\death_10...</td>\n",
       "      <td>death</td>\n",
       "    </tr>\n",
       "    <tr>\n",
       "      <th>1</th>\n",
       "      <td>G:/CSGO Video Analyis/Data\\val_frames\\death_10...</td>\n",
       "      <td>death</td>\n",
       "    </tr>\n",
       "    <tr>\n",
       "      <th>2</th>\n",
       "      <td>G:/CSGO Video Analyis/Data\\val_frames\\death_10...</td>\n",
       "      <td>death</td>\n",
       "    </tr>\n",
       "    <tr>\n",
       "      <th>3</th>\n",
       "      <td>G:/CSGO Video Analyis/Data\\val_frames\\death_10...</td>\n",
       "      <td>death</td>\n",
       "    </tr>\n",
       "    <tr>\n",
       "      <th>4</th>\n",
       "      <td>G:/CSGO Video Analyis/Data\\val_frames\\death_10...</td>\n",
       "      <td>death</td>\n",
       "    </tr>\n",
       "    <tr>\n",
       "      <th>...</th>\n",
       "      <td>...</td>\n",
       "      <td>...</td>\n",
       "    </tr>\n",
       "    <tr>\n",
       "      <th>419</th>\n",
       "      <td>G:/CSGO Video Analyis/Data\\val_frames\\weaponr8...</td>\n",
       "      <td>NoAction</td>\n",
       "    </tr>\n",
       "    <tr>\n",
       "      <th>420</th>\n",
       "      <td>G:/CSGO Video Analyis/Data\\val_frames\\weaponsc...</td>\n",
       "      <td>NoAction</td>\n",
       "    </tr>\n",
       "    <tr>\n",
       "      <th>421</th>\n",
       "      <td>G:/CSGO Video Analyis/Data\\val_frames\\weaponsc...</td>\n",
       "      <td>NoAction</td>\n",
       "    </tr>\n",
       "    <tr>\n",
       "      <th>422</th>\n",
       "      <td>G:/CSGO Video Analyis/Data\\val_frames\\weaponsc...</td>\n",
       "      <td>NoAction</td>\n",
       "    </tr>\n",
       "    <tr>\n",
       "      <th>423</th>\n",
       "      <td>G:/CSGO Video Analyis/Data\\val_frames\\weaponsc...</td>\n",
       "      <td>NoAction</td>\n",
       "    </tr>\n",
       "  </tbody>\n",
       "</table>\n",
       "<p>424 rows × 2 columns</p>\n",
       "</div>"
      ],
      "text/plain": [
       "                                                 image    action\n",
       "0    G:/CSGO Video Analyis/Data\\val_frames\\death_10...     death\n",
       "1    G:/CSGO Video Analyis/Data\\val_frames\\death_10...     death\n",
       "2    G:/CSGO Video Analyis/Data\\val_frames\\death_10...     death\n",
       "3    G:/CSGO Video Analyis/Data\\val_frames\\death_10...     death\n",
       "4    G:/CSGO Video Analyis/Data\\val_frames\\death_10...     death\n",
       "..                                                 ...       ...\n",
       "419  G:/CSGO Video Analyis/Data\\val_frames\\weaponr8...  NoAction\n",
       "420  G:/CSGO Video Analyis/Data\\val_frames\\weaponsc...  NoAction\n",
       "421  G:/CSGO Video Analyis/Data\\val_frames\\weaponsc...  NoAction\n",
       "422  G:/CSGO Video Analyis/Data\\val_frames\\weaponsc...  NoAction\n",
       "423  G:/CSGO Video Analyis/Data\\val_frames\\weaponsc...  NoAction\n",
       "\n",
       "[424 rows x 2 columns]"
      ]
     },
     "execution_count": 9,
     "metadata": {},
     "output_type": "execute_result"
    }
   ],
   "source": [
    "val_image = pd.read_csv(os.path.join(dataset_path, 'val_frames.csv'))\n",
    "val_image"
   ]
  },
  {
   "cell_type": "code",
   "execution_count": 10,
   "id": "b444eb3c",
   "metadata": {},
   "outputs": [
    {
     "data": {
      "text/plain": [
       "['death', 'kill', 'NoAction', 'smoke']"
      ]
     },
     "execution_count": 10,
     "metadata": {},
     "output_type": "execute_result"
    }
   ],
   "source": [
    "action_values = list(train_image['action'].unique())\n",
    "action_values"
   ]
  },
  {
   "cell_type": "code",
   "execution_count": 11,
   "id": "2ff718e8",
   "metadata": {},
   "outputs": [],
   "source": [
    "def create_class_columns(df):\n",
    "    for value in action_values:\n",
    "        df[value] = np.where(df['action'].str.contains(value), 1, 0)\n",
    "    df.drop('action', axis='columns', inplace=True)"
   ]
  },
  {
   "cell_type": "code",
   "execution_count": 12,
   "id": "5ae63370",
   "metadata": {},
   "outputs": [
    {
     "data": {
      "text/html": [
       "<div>\n",
       "<style scoped>\n",
       "    .dataframe tbody tr th:only-of-type {\n",
       "        vertical-align: middle;\n",
       "    }\n",
       "\n",
       "    .dataframe tbody tr th {\n",
       "        vertical-align: top;\n",
       "    }\n",
       "\n",
       "    .dataframe thead th {\n",
       "        text-align: right;\n",
       "    }\n",
       "</style>\n",
       "<table border=\"1\" class=\"dataframe\">\n",
       "  <thead>\n",
       "    <tr style=\"text-align: right;\">\n",
       "      <th></th>\n",
       "      <th>image</th>\n",
       "      <th>death</th>\n",
       "      <th>kill</th>\n",
       "      <th>NoAction</th>\n",
       "      <th>smoke</th>\n",
       "    </tr>\n",
       "  </thead>\n",
       "  <tbody>\n",
       "    <tr>\n",
       "      <th>0</th>\n",
       "      <td>G:/CSGO Video Analyis/Data\\train_frames\\death_...</td>\n",
       "      <td>1</td>\n",
       "      <td>0</td>\n",
       "      <td>0</td>\n",
       "      <td>0</td>\n",
       "    </tr>\n",
       "    <tr>\n",
       "      <th>1</th>\n",
       "      <td>G:/CSGO Video Analyis/Data\\train_frames\\death_...</td>\n",
       "      <td>1</td>\n",
       "      <td>0</td>\n",
       "      <td>0</td>\n",
       "      <td>0</td>\n",
       "    </tr>\n",
       "    <tr>\n",
       "      <th>2</th>\n",
       "      <td>G:/CSGO Video Analyis/Data\\train_frames\\death_...</td>\n",
       "      <td>1</td>\n",
       "      <td>0</td>\n",
       "      <td>0</td>\n",
       "      <td>0</td>\n",
       "    </tr>\n",
       "    <tr>\n",
       "      <th>3</th>\n",
       "      <td>G:/CSGO Video Analyis/Data\\train_frames\\death_...</td>\n",
       "      <td>1</td>\n",
       "      <td>0</td>\n",
       "      <td>0</td>\n",
       "      <td>0</td>\n",
       "    </tr>\n",
       "    <tr>\n",
       "      <th>4</th>\n",
       "      <td>G:/CSGO Video Analyis/Data\\train_frames\\death_...</td>\n",
       "      <td>1</td>\n",
       "      <td>0</td>\n",
       "      <td>0</td>\n",
       "      <td>0</td>\n",
       "    </tr>\n",
       "  </tbody>\n",
       "</table>\n",
       "</div>"
      ],
      "text/plain": [
       "                                               image  death  kill  NoAction  \\\n",
       "0  G:/CSGO Video Analyis/Data\\train_frames\\death_...      1     0         0   \n",
       "1  G:/CSGO Video Analyis/Data\\train_frames\\death_...      1     0         0   \n",
       "2  G:/CSGO Video Analyis/Data\\train_frames\\death_...      1     0         0   \n",
       "3  G:/CSGO Video Analyis/Data\\train_frames\\death_...      1     0         0   \n",
       "4  G:/CSGO Video Analyis/Data\\train_frames\\death_...      1     0         0   \n",
       "\n",
       "   smoke  \n",
       "0      0  \n",
       "1      0  \n",
       "2      0  \n",
       "3      0  \n",
       "4      0  "
      ]
     },
     "execution_count": 12,
     "metadata": {},
     "output_type": "execute_result"
    }
   ],
   "source": [
    "create_class_columns(train_image)\n",
    "train_image.head()"
   ]
  },
  {
   "cell_type": "code",
   "execution_count": 13,
   "id": "b73c201d",
   "metadata": {},
   "outputs": [
    {
     "data": {
      "text/html": [
       "<div>\n",
       "<style scoped>\n",
       "    .dataframe tbody tr th:only-of-type {\n",
       "        vertical-align: middle;\n",
       "    }\n",
       "\n",
       "    .dataframe tbody tr th {\n",
       "        vertical-align: top;\n",
       "    }\n",
       "\n",
       "    .dataframe thead th {\n",
       "        text-align: right;\n",
       "    }\n",
       "</style>\n",
       "<table border=\"1\" class=\"dataframe\">\n",
       "  <thead>\n",
       "    <tr style=\"text-align: right;\">\n",
       "      <th></th>\n",
       "      <th>image</th>\n",
       "      <th>death</th>\n",
       "      <th>kill</th>\n",
       "      <th>NoAction</th>\n",
       "      <th>smoke</th>\n",
       "    </tr>\n",
       "  </thead>\n",
       "  <tbody>\n",
       "    <tr>\n",
       "      <th>0</th>\n",
       "      <td>G:/CSGO Video Analyis/Data\\val_frames\\death_10...</td>\n",
       "      <td>1</td>\n",
       "      <td>0</td>\n",
       "      <td>0</td>\n",
       "      <td>0</td>\n",
       "    </tr>\n",
       "    <tr>\n",
       "      <th>1</th>\n",
       "      <td>G:/CSGO Video Analyis/Data\\val_frames\\death_10...</td>\n",
       "      <td>1</td>\n",
       "      <td>0</td>\n",
       "      <td>0</td>\n",
       "      <td>0</td>\n",
       "    </tr>\n",
       "    <tr>\n",
       "      <th>2</th>\n",
       "      <td>G:/CSGO Video Analyis/Data\\val_frames\\death_10...</td>\n",
       "      <td>1</td>\n",
       "      <td>0</td>\n",
       "      <td>0</td>\n",
       "      <td>0</td>\n",
       "    </tr>\n",
       "    <tr>\n",
       "      <th>3</th>\n",
       "      <td>G:/CSGO Video Analyis/Data\\val_frames\\death_10...</td>\n",
       "      <td>1</td>\n",
       "      <td>0</td>\n",
       "      <td>0</td>\n",
       "      <td>0</td>\n",
       "    </tr>\n",
       "    <tr>\n",
       "      <th>4</th>\n",
       "      <td>G:/CSGO Video Analyis/Data\\val_frames\\death_10...</td>\n",
       "      <td>1</td>\n",
       "      <td>0</td>\n",
       "      <td>0</td>\n",
       "      <td>0</td>\n",
       "    </tr>\n",
       "  </tbody>\n",
       "</table>\n",
       "</div>"
      ],
      "text/plain": [
       "                                               image  death  kill  NoAction  \\\n",
       "0  G:/CSGO Video Analyis/Data\\val_frames\\death_10...      1     0         0   \n",
       "1  G:/CSGO Video Analyis/Data\\val_frames\\death_10...      1     0         0   \n",
       "2  G:/CSGO Video Analyis/Data\\val_frames\\death_10...      1     0         0   \n",
       "3  G:/CSGO Video Analyis/Data\\val_frames\\death_10...      1     0         0   \n",
       "4  G:/CSGO Video Analyis/Data\\val_frames\\death_10...      1     0         0   \n",
       "\n",
       "   smoke  \n",
       "0      0  \n",
       "1      0  \n",
       "2      0  \n",
       "3      0  \n",
       "4      0  "
      ]
     },
     "execution_count": 13,
     "metadata": {},
     "output_type": "execute_result"
    }
   ],
   "source": [
    "create_class_columns(val_image)\n",
    "val_image.head()"
   ]
  },
  {
   "cell_type": "code",
   "execution_count": 14,
   "id": "2892613f",
   "metadata": {},
   "outputs": [],
   "source": [
    "def convert_to_array_and_split(image_data):\n",
    "    image_value = []\n",
    "    for i in tqdm(range(image_data.shape[0])):\n",
    "        img = image.load_img(image_data['image'][i], target_size=(224,224,3))\n",
    "        img = image.img_to_array(img)\n",
    "        # normalizing the pixel value\n",
    "        img = img / 255\n",
    "        image_value.append(img)\n",
    "\n",
    "    X = np.array(image_value)\n",
    "    y = image_data\n",
    "    y.drop('image', axis='columns', inplace=True)\n",
    "    return X, y"
   ]
  },
  {
   "cell_type": "code",
   "execution_count": 15,
   "id": "04779f85",
   "metadata": {},
   "outputs": [
    {
     "name": "stderr",
     "output_type": "stream",
     "text": [
      "100%|██████████████████████████████████████████████████████████████████████████████| 1211/1211 [00:27<00:00, 43.55it/s]\n"
     ]
    },
    {
     "name": "stdout",
     "output_type": "stream",
     "text": [
      "(1211, 224, 224, 3)\n"
     ]
    }
   ],
   "source": [
    "X_train, y_train = convert_to_array_and_split(train_image)\n",
    "print(X_train.shape)"
   ]
  },
  {
   "cell_type": "code",
   "execution_count": 16,
   "id": "11c7dac0",
   "metadata": {},
   "outputs": [
    {
     "name": "stderr",
     "output_type": "stream",
     "text": [
      "100%|████████████████████████████████████████████████████████████████████████████████| 424/424 [00:08<00:00, 52.66it/s]\n"
     ]
    },
    {
     "name": "stdout",
     "output_type": "stream",
     "text": [
      "(424, 224, 224, 3)\n"
     ]
    }
   ],
   "source": [
    "X_val, y_val = convert_to_array_and_split(val_image)\n",
    "print(X_val.shape)"
   ]
  },
  {
   "cell_type": "code",
   "execution_count": 20,
   "id": "a007f778",
   "metadata": {},
   "outputs": [
    {
     "name": "stdout",
     "output_type": "stream",
     "text": [
      "Model: \"sequential_1\"\n",
      "_________________________________________________________________\n",
      "Layer (type)                 Output Shape              Param #   \n",
      "=================================================================\n",
      "conv2d_7 (Conv2D)            (None, 54, 54, 96)        34944     \n",
      "_________________________________________________________________\n",
      "max_pooling2d_3 (MaxPooling2 (None, 26, 26, 96)        0         \n",
      "_________________________________________________________________\n",
      "conv2d_8 (Conv2D)            (None, 26, 26, 256)       614656    \n",
      "_________________________________________________________________\n",
      "max_pooling2d_4 (MaxPooling2 (None, 12, 12, 256)       0         \n",
      "_________________________________________________________________\n",
      "conv2d_9 (Conv2D)            (None, 12, 12, 384)       885120    \n",
      "_________________________________________________________________\n",
      "conv2d_10 (Conv2D)           (None, 12, 12, 384)       1327488   \n",
      "_________________________________________________________________\n",
      "max_pooling2d_5 (MaxPooling2 (None, 5, 5, 384)         0         \n",
      "_________________________________________________________________\n",
      "flatten_1 (Flatten)          (None, 9600)              0         \n",
      "_________________________________________________________________\n",
      "dense_4 (Dense)              (None, 9216)              88482816  \n",
      "_________________________________________________________________\n",
      "dense_5 (Dense)              (None, 4096)              37752832  \n",
      "_________________________________________________________________\n",
      "dense_6 (Dense)              (None, 4096)              16781312  \n",
      "_________________________________________________________________\n",
      "dense_7 (Dense)              (None, 4)                 16388     \n",
      "=================================================================\n",
      "Total params: 145,895,556\n",
      "Trainable params: 145,895,556\n",
      "Non-trainable params: 0\n",
      "_________________________________________________________________\n"
     ]
    }
   ],
   "source": [
    "model = Sequential()\n",
    "# 1st Convolutional Layer\n",
    "model.add(Conv2D(filters=96, input_shape=(224,224,3), kernel_size=(11,11), strides=(4,4), padding=\"valid\", activation = \"relu\"))\n",
    "# Max Pooling\n",
    "model.add(MaxPool2D(pool_size=(3,3), strides=(2,2), padding=\"valid\"))\n",
    "# 2nd Convolutional Layer\n",
    "model.add(Conv2D(filters=256, kernel_size=(5,5), strides=(1,1), padding=\"same\", activation = \"relu\"))\n",
    "# Max Pooling\n",
    "model.add(MaxPool2D(pool_size=(3,3), strides=(2,2), padding=\"valid\"))\n",
    "# 3rd Convolutional Layer\n",
    "model.add(Conv2D(filters=384, kernel_size=(3,3), strides=(1,1), padding=\"same\", activation = \"relu\"))\n",
    "# 4th Convolutional Layer\n",
    "model.add(Conv2D(filters=384, kernel_size=(3,3), strides=(1,1), padding=\"same\", activation = \"relu\"))\n",
    "'''\n",
    "# 5th Convolutional Layer\n",
    "model.add(Conv2D(filters=512, kernel_size=(3,3), strides=(1,1), padding=\"same\", activation = \"relu\"))\n",
    "# 6th Convolutional Layer\n",
    "model.add(Conv2D(filters=256, kernel_size=(3,3), strides=(1,1), padding=\"same\", activation = \"relu\"))\n",
    "# 7th Convolutional Layer\n",
    "model.add(Conv2D(filters=128, kernel_size=(3,3), strides=(1,1), padding=\"same\", activation = \"relu\"))\n",
    "'''\n",
    "# Max Pooling\n",
    "model.add(MaxPool2D(pool_size=(3,3), strides=(2,2), padding=\"valid\"))\n",
    "# Passing it to a Fully Connected layer\n",
    "model.add(Flatten())\n",
    "# 1st Fully Connected Layer\n",
    "model.add(Dense(units = 9216, activation = \"relu\"))\n",
    "# 2nd Fully Connected Layer\n",
    "model.add(Dense(units = 4096, activation = \"relu\"))\n",
    "# 3rd Fully Connected Layer\n",
    "model.add(Dense(4096, activation = \"relu\"))\n",
    "\n",
    "# Output Layer\n",
    "model.add(Dense(4, activation = \"softmax\")) #As we have two classes\n",
    "model.summary()\n",
    "model.compile(loss='categorical_crossentropy',optimizer='Adam',metrics=['accuracy'])"
   ]
  },
  {
   "cell_type": "code",
   "execution_count": 21,
   "id": "b541e849",
   "metadata": {},
   "outputs": [],
   "source": [
    "from keras.callbacks import ModelCheckpoint\n",
    "mcp_weight = ModelCheckpoint('New_Network.hdf5', save_best_only=True, monitor='val_loss', mode='min')"
   ]
  },
  {
   "cell_type": "code",
   "execution_count": 22,
   "id": "248efb70",
   "metadata": {},
   "outputs": [
    {
     "name": "stdout",
     "output_type": "stream",
     "text": [
      "Epoch 1/30\n",
      "10/10 [==============================] - 4s 262ms/step - loss: 15.7789 - accuracy: 0.2738 - val_loss: 1.3797 - val_accuracy: 0.2547\n",
      "Epoch 2/30\n",
      "10/10 [==============================] - 2s 220ms/step - loss: 1.3733 - accuracy: 0.2735 - val_loss: 1.6637 - val_accuracy: 0.2571\n",
      "Epoch 3/30\n",
      "10/10 [==============================] - 2s 219ms/step - loss: 1.4651 - accuracy: 0.2785 - val_loss: 1.3769 - val_accuracy: 0.3090\n",
      "Epoch 4/30\n",
      "10/10 [==============================] - 2s 215ms/step - loss: 1.3742 - accuracy: 0.3159 - val_loss: 1.3771 - val_accuracy: 0.3090\n",
      "Epoch 5/30\n",
      "10/10 [==============================] - 2s 215ms/step - loss: 1.3653 - accuracy: 0.3259 - val_loss: 1.3759 - val_accuracy: 0.3090\n",
      "Epoch 6/30\n",
      "10/10 [==============================] - 2s 221ms/step - loss: 1.3715 - accuracy: 0.3191 - val_loss: 1.3745 - val_accuracy: 0.3090\n",
      "Epoch 7/30\n",
      "10/10 [==============================] - 2s 221ms/step - loss: 1.3732 - accuracy: 0.3097 - val_loss: 1.3782 - val_accuracy: 0.3090\n",
      "Epoch 8/30\n",
      "10/10 [==============================] - 2s 226ms/step - loss: 1.3643 - accuracy: 0.3313 - val_loss: 1.3481 - val_accuracy: 0.3349\n",
      "Epoch 9/30\n",
      "10/10 [==============================] - 2s 222ms/step - loss: 1.3376 - accuracy: 0.3358 - val_loss: 1.2854 - val_accuracy: 0.4057\n",
      "Epoch 10/30\n",
      "10/10 [==============================] - 2s 239ms/step - loss: 1.2622 - accuracy: 0.4339 - val_loss: 1.2666 - val_accuracy: 0.4575\n",
      "Epoch 11/30\n",
      "10/10 [==============================] - 2s 218ms/step - loss: 1.2293 - accuracy: 0.4595 - val_loss: 1.1754 - val_accuracy: 0.4646\n",
      "Epoch 12/30\n",
      "10/10 [==============================] - 2s 229ms/step - loss: 1.0993 - accuracy: 0.5265 - val_loss: 1.1263 - val_accuracy: 0.5920\n",
      "Epoch 13/30\n",
      "10/10 [==============================] - 2s 220ms/step - loss: 1.0083 - accuracy: 0.6147 - val_loss: 1.1253 - val_accuracy: 0.5519\n",
      "Epoch 14/30\n",
      "10/10 [==============================] - 2s 222ms/step - loss: 0.9801 - accuracy: 0.6031 - val_loss: 1.0823 - val_accuracy: 0.5825\n",
      "Epoch 15/30\n",
      "10/10 [==============================] - 2s 239ms/step - loss: 0.8878 - accuracy: 0.6420 - val_loss: 1.1387 - val_accuracy: 0.6203\n",
      "Epoch 16/30\n",
      "10/10 [==============================] - 2s 217ms/step - loss: 0.7665 - accuracy: 0.7174 - val_loss: 0.9670 - val_accuracy: 0.6557\n",
      "Epoch 17/30\n",
      "10/10 [==============================] - 2s 219ms/step - loss: 0.6793 - accuracy: 0.7557 - val_loss: 0.9873 - val_accuracy: 0.6840\n",
      "Epoch 18/30\n",
      "10/10 [==============================] - 2s 223ms/step - loss: 0.6131 - accuracy: 0.7648 - val_loss: 1.2330 - val_accuracy: 0.6698\n",
      "Epoch 19/30\n",
      "10/10 [==============================] - 2s 228ms/step - loss: 0.5479 - accuracy: 0.7920 - val_loss: 1.6006 - val_accuracy: 0.6368\n",
      "Epoch 20/30\n",
      "10/10 [==============================] - 2s 222ms/step - loss: 0.4674 - accuracy: 0.8304 - val_loss: 1.2547 - val_accuracy: 0.6627\n",
      "Epoch 21/30\n",
      "10/10 [==============================] - 2s 219ms/step - loss: 0.4525 - accuracy: 0.8336 - val_loss: 1.6293 - val_accuracy: 0.6509\n",
      "Epoch 22/30\n",
      "10/10 [==============================] - 2s 217ms/step - loss: 0.3386 - accuracy: 0.8791 - val_loss: 1.6960 - val_accuracy: 0.6604\n",
      "Epoch 23/30\n",
      "10/10 [==============================] - 2s 219ms/step - loss: 0.2739 - accuracy: 0.8972 - val_loss: 2.1667 - val_accuracy: 0.6557\n",
      "Epoch 24/30\n",
      "10/10 [==============================] - 2s 219ms/step - loss: 0.3081 - accuracy: 0.8975 - val_loss: 1.4217 - val_accuracy: 0.6604\n",
      "Epoch 25/30\n",
      "10/10 [==============================] - 2s 222ms/step - loss: 0.2676 - accuracy: 0.9018 - val_loss: 2.1325 - val_accuracy: 0.6297\n",
      "Epoch 26/30\n",
      "10/10 [==============================] - 2s 223ms/step - loss: 0.2581 - accuracy: 0.8961 - val_loss: 2.3153 - val_accuracy: 0.6392\n",
      "Epoch 27/30\n",
      "10/10 [==============================] - 2s 241ms/step - loss: 0.1746 - accuracy: 0.9433 - val_loss: 2.4307 - val_accuracy: 0.6769\n",
      "Epoch 28/30\n",
      "10/10 [==============================] - 2s 226ms/step - loss: 0.1205 - accuracy: 0.9603 - val_loss: 3.2964 - val_accuracy: 0.6486\n",
      "Epoch 29/30\n",
      "10/10 [==============================] - 2s 223ms/step - loss: 0.1881 - accuracy: 0.9380 - val_loss: 2.2489 - val_accuracy: 0.6226\n",
      "Epoch 30/30\n",
      "10/10 [==============================] - 2s 216ms/step - loss: 0.2015 - accuracy: 0.9230 - val_loss: 2.1033 - val_accuracy: 0.6509\n"
     ]
    }
   ],
   "source": [
    "history=model.fit(X_train, y_train, epochs=30, validation_data=(X_val, y_val), callbacks=[mcp_weight], batch_size=128)"
   ]
  },
  {
   "cell_type": "code",
   "execution_count": 23,
   "id": "4c4e1d3e",
   "metadata": {},
   "outputs": [
    {
     "name": "stdout",
     "output_type": "stream",
     "text": [
      "Model: \"sequential_1\"\n",
      "_________________________________________________________________\n",
      "Layer (type)                 Output Shape              Param #   \n",
      "=================================================================\n",
      "conv2d_7 (Conv2D)            (None, 54, 54, 96)        34944     \n",
      "_________________________________________________________________\n",
      "max_pooling2d_3 (MaxPooling2 (None, 26, 26, 96)        0         \n",
      "_________________________________________________________________\n",
      "conv2d_8 (Conv2D)            (None, 26, 26, 256)       614656    \n",
      "_________________________________________________________________\n",
      "max_pooling2d_4 (MaxPooling2 (None, 12, 12, 256)       0         \n",
      "_________________________________________________________________\n",
      "conv2d_9 (Conv2D)            (None, 12, 12, 384)       885120    \n",
      "_________________________________________________________________\n",
      "conv2d_10 (Conv2D)           (None, 12, 12, 384)       1327488   \n",
      "_________________________________________________________________\n",
      "max_pooling2d_5 (MaxPooling2 (None, 5, 5, 384)         0         \n",
      "_________________________________________________________________\n",
      "flatten_1 (Flatten)          (None, 9600)              0         \n",
      "_________________________________________________________________\n",
      "dense_4 (Dense)              (None, 9216)              88482816  \n",
      "_________________________________________________________________\n",
      "dense_5 (Dense)              (None, 4096)              37752832  \n",
      "_________________________________________________________________\n",
      "dense_6 (Dense)              (None, 4096)              16781312  \n",
      "_________________________________________________________________\n",
      "dense_7 (Dense)              (None, 4)                 16388     \n",
      "=================================================================\n",
      "Total params: 145,895,556\n",
      "Trainable params: 145,895,556\n",
      "Non-trainable params: 0\n",
      "_________________________________________________________________\n"
     ]
    }
   ],
   "source": [
    "model.load_weights(\"New_Network.hdf5\")\n",
    "model.compile(loss='categorical_crossentropy',optimizer='Adam',metrics=['accuracy'])\n",
    "model.summary()"
   ]
  },
  {
   "cell_type": "code",
   "execution_count": 24,
   "id": "07830bca",
   "metadata": {},
   "outputs": [
    {
     "name": "stderr",
     "output_type": "stream",
     "text": [
      "100%|████████████████████████████████████████████████████████████████████████████████| 110/110 [03:08<00:00,  1.71s/it]\n"
     ]
    }
   ],
   "source": [
    "from scipy import stats as s\n",
    "predict_vgg16 = []\n",
    "actual = []\n",
    "dict_vgg16 = {}\n",
    "\n",
    "if not os.path.exists(test_frames_path):\n",
    "    os.makedirs(test_frames_path)\n",
    "\n",
    "for i in tqdm(range(test.shape[0])):\n",
    "    video_file = test['Video_url'][i]\n",
    "    action = test['action'][i]\n",
    "    video_name_list = video_file.split('/')[-1].split('.')\n",
    "    video_name_list = video_name_list[:-1]\n",
    "    video_name = \"\"\n",
    "    for n in video_name_list:\n",
    "        video_name += n\n",
    "    # capturing the video from the given path\n",
    "    capture = cv2.VideoCapture(video_file) \n",
    "    #frame rate\n",
    "    frame_rate = capture.get(5)\n",
    "    count = 0\n",
    "    files = glob(test_frames_path + '/*')\n",
    "    #removing all files from folder\n",
    "    for f in files:\n",
    "        os.remove(f)\n",
    "    while(capture.isOpened()):\n",
    "        #current frame number\n",
    "        frame_id = capture.get(1) \n",
    "        read_correctly, frame = capture.read()\n",
    "        if not read_correctly:\n",
    "            break\n",
    "        if (frame_id % math.floor(frame_rate) == 0):\n",
    "            # storing the frames in a new folder named train_1\n",
    "            filename = test_frames_path + \"/\" + video_name + \"_frame{}_\".format(count) + action +\".jpg\"\n",
    "            count += 1\n",
    "            cv2.imwrite(filename, frame)\n",
    "    capture.release()\n",
    "    \n",
    "    # reading all the frames from temp folder\n",
    "    images = glob(test_frames_path + '/*.jpg')\n",
    "    prediction_images = []\n",
    "    for i in range(len(images)):\n",
    "        img = image.load_img(images[i], target_size=(224,224,3))\n",
    "        img = image.img_to_array(img)\n",
    "        img = img / 255\n",
    "        prediction_images.append(img)\n",
    "        \n",
    "    # converting all the frames for a test video into numpy array\n",
    "    prediction_images = np.array(prediction_images)\n",
    "    prediction_images_copy = prediction_images\n",
    "    #prediction_images = prediction_images / max_pixel\n",
    "    # extracting features using pre-trained model\n",
    "    #prediction_images = base_model_vgg16.predict(prediction_images)\n",
    "    # converting features in one dimensional array\n",
    "    #prediction_images = prediction_images.reshape(prediction_images.shape[0], 7*7*512)\n",
    "    # predicting tags for each array\n",
    "    prediction = np.argmax(model.predict(prediction_images), axis=-1)\n",
    "    \n",
    "    prediction_test = y_train.columns.values[s.mode(prediction)[0][0]]\n",
    "    if prediction_test != action:\n",
    "        dict_vgg16[video_name] = prediction_test\n",
    "        #print(prediction_test)\n",
    "        #print(action)\n",
    "        #print(video_name)\n",
    "    \n",
    "    # appending the mode of predictions in predict list to assign the tag to the video\n",
    "    predict_vgg16.append(y_train.columns.values[s.mode(prediction)[0][0]])\n",
    "    # appending the actual tag of the video\n",
    "    actual.append(action)"
   ]
  },
  {
   "cell_type": "code",
   "execution_count": 25,
   "id": "4e6ecd38",
   "metadata": {},
   "outputs": [
    {
     "name": "stdout",
     "output_type": "stream",
     "text": [
      "{'smoke_40 ': 'death', 'weaponm4_06': 'smoke', 'kill_50 ': 'NoAction', 'death_63 ': 'kill', 'smoke_21 ': 'NoAction', 'NoAction_89 ': 'death', 'NoAction_20 ': 'kill', 'weaponmp7_100 (2)': 'smoke', 'death_4 ': 'NoAction', 'death_40 ': 'NoAction', 'smoke_22 ': 'kill', 'smoke_33 ': 'NoAction', 'smoke_17 ': 'NoAction', 'NoAction_77 ': 'smoke', 'NoAction_6 ': 'kill', 'death_64 ': 'kill', 'death_129 ': 'NoAction', 'weaponp90_01': 'smoke', 'kill_47 ': 'death', 'NoAction_44 ': 'smoke', 'kill_1 ': 'NoAction', 'kill_70 ': 'smoke', 'death_66 ': 'NoAction', 'kill_29 ': 'death', 'death_36 ': 'NoAction', 'death_27 ': 'NoAction', 'death_11 ': 'NoAction', 'death_37 ': 'NoAction', 'death_53 ': 'kill', 'death_12 ': 'smoke', 'smoke_36 ': 'NoAction', 'kill_97 ': 'NoAction', 'smoke_9 ': 'kill', 'kill_40 ': 'NoAction', 'kill_39 ': 'NoAction', 'death_82 ': 'NoAction', 'kill_71 ': 'NoAction', 'NoAction_88 ': 'smoke', 'death_60 ': 'kill'}\n"
     ]
    }
   ],
   "source": [
    "print(dict_vgg16)"
   ]
  },
  {
   "cell_type": "code",
   "execution_count": 26,
   "id": "3daedd57",
   "metadata": {},
   "outputs": [
    {
     "data": {
      "text/plain": [
       "64.54545454545455"
      ]
     },
     "execution_count": 26,
     "metadata": {},
     "output_type": "execute_result"
    }
   ],
   "source": [
    "from sklearn.metrics import accuracy_score\n",
    "accuracy_score(predict_vgg16, actual)*100"
   ]
  },
  {
   "cell_type": "code",
   "execution_count": 27,
   "id": "701c2f41",
   "metadata": {},
   "outputs": [
    {
     "name": "stdout",
     "output_type": "stream",
     "text": [
      "Accuracy:  64.54545454545455\n",
      "Precision:  [0.55813953 0.75       0.72413793 0.63636364]\n",
      "F1_score:  [0.63157895 0.57142857 0.71186441 0.65116279]\n",
      "Recall:  [0.72727273 0.46153846 0.7        0.66666667]\n"
     ]
    }
   ],
   "source": [
    "from sklearn.metrics import accuracy_score, precision_score, f1_score, recall_score\n",
    "\n",
    "accuracy = accuracy_score(predict_vgg16, actual)*100\n",
    "precision = precision_score(actual, predict_vgg16, average=None)\n",
    "f1_score = f1_score(actual, predict_vgg16, average=None)\n",
    "recall = recall_score(actual, predict_vgg16, average=None)\n",
    "\n",
    "print('Accuracy: ', accuracy)\n",
    "print('Precision: ', precision)\n",
    "print('F1_score: ', f1_score)\n",
    "print('Recall: ', recall)"
   ]
  },
  {
   "cell_type": "code",
   "execution_count": 28,
   "id": "6b059c40",
   "metadata": {},
   "outputs": [
    {
     "data": {
      "image/png": "[encoded data removed]",
      "text/plain": [
       "<Figure size 432x288 with 1 Axes>"
      ]
     },
     "metadata": {
      "needs_background": "light"
     },
     "output_type": "display_data"
    }
   ],
   "source": [
    "plt.plot(history.history['accuracy'])\n",
    "plt.plot(history.history['val_accuracy'])\n",
    "plt.title('model accuracy')\n",
    "plt.ylabel('accuracy')\n",
    "plt.xlabel('epoch')\n",
    "plt.legend(['train', 'test'], loc='upper left')\n",
    "plt.show()"
   ]
  },
  {
   "cell_type": "code",
   "execution_count": 29,
   "id": "145743d5",
   "metadata": {},
   "outputs": [
    {
     "data": {
      "image/png": "[encoded data removed]",
      "text/plain": [
       "<Figure size 432x288 with 1 Axes>"
      ]
     },
     "metadata": {
      "needs_background": "light"
     },
     "output_type": "display_data"
    }
   ],
   "source": [
    "plt.plot(history.history['loss'])\n",
    "plt.plot(history.history['val_loss'])\n",
    "plt.title('model loss')\n",
    "plt.ylabel('loss')\n",
    "plt.xlabel('epoch')\n",
    "plt.legend(['train', 'test'], loc='upper left')\n",
    "plt.show()"
   ]
  },
  {
   "cell_type": "code",
   "execution_count": null,
   "id": "61509a36",
   "metadata": {},
   "outputs": [],
   "source": []
  }
 ],
 "metadata": {
  "kernelspec": {
   "display_name": "Python 3",
   "language": "python",
   "name": "python3"
  },
  "language_info": {
   "codemirror_mode": {
    "name": "ipython",
    "version": 3
   },
   "file_extension": ".py",
   "mimetype": "text/x-python",
   "name": "python",
   "nbconvert_exporter": "python",
   "pygments_lexer": "ipython3",
   "version": "3.9.6"
  }
 },
 "nbformat": 4,
 "nbformat_minor": 5
}
