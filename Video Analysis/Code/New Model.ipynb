{
 "cells": [
  {
   "cell_type": "code",
   "execution_count": 160,
   "id": "c02578a9",
   "metadata": {},
   "outputs": [],
   "source": [
    "import os\n",
    "import re\n",
    "import math\n",
    "import cv2\n",
    "import pickle\n",
    "import pandas as pd\n",
    "import numpy as np\n",
    "import matplotlib.pyplot as plt\n",
    "import tensorflow as tf\n",
    "\n",
    "from tqdm import tqdm\n",
    "from glob import glob\n",
    "from tools.settings import *\n",
    "from keras.callbacks import ModelCheckpoint, EarlyStopping, ReduceLROnPlateau\n",
    "from keras.optimizers import Adam\n",
    "from keras.models import Sequential\n",
    "from keras.preprocessing import image\n",
    "from keras.layers.normalization import BatchNormalization\n",
    "from keras.preprocessing.image import ImageDataGenerator\n",
    "from keras.layers import Dense, Dropout\n",
    "from keras.layers import Conv2D, MaxPooling2D, MaxPool2D, Flatten, Activation, GlobalAveragePooling2D\n",
    "from tensorflow.keras.utils import to_categorical\n",
    "from tools.train_val_test_spliter import split\n",
    "import collections\n",
    "from collections import Counter"
   ]
  },
  {
   "cell_type": "code",
   "execution_count": null,
   "id": "a05b34f2",
   "metadata": {},
   "outputs": [],
   "source": [
    "split()"
   ]
  },
  {
   "cell_type": "code",
   "execution_count": 2,
   "id": "fd708cb9",
   "metadata": {},
   "outputs": [
    {
     "name": "stdout",
     "output_type": "stream",
     "text": [
      "(343, 2)\n",
      "(113, 2)\n",
      "(113, 2)\n"
     ]
    }
   ],
   "source": [
    "train = pd. read_csv(os.path.join(dataset_path, \"train.csv\"))\n",
    "test = pd. read_csv(os.path.join(dataset_path, \"test.csv\"))\n",
    "val = pd. read_csv(os.path.join(dataset_path, \"val.csv\"))\n",
    "print(train.shape)\n",
    "print(test.shape)\n",
    "print(val.shape)"
   ]
  },
  {
   "cell_type": "code",
   "execution_count": null,
   "id": "d72d4c08",
   "metadata": {},
   "outputs": [],
   "source": [
    "def convert_to_frame(data, folder_name):\n",
    "    '''\n",
    "    Generated filenames format dataset_path/folder_name/video_name_frame{number}_action.jpg\n",
    "    '''\n",
    "    directory = os.path.join(dataset_path, folder_name)\n",
    "    if not os.path.exists(directory):\n",
    "        os.makedirs(directory)\n",
    "    for i in tqdm(range(data.shape[0])):\n",
    "        video_file = data['Video_url'][i]\n",
    "        action = data['action'][i]\n",
    "        video_name_list = video_file.split('/')[-1].split('.')\n",
    "        video_name_list = video_name_list[:-1]\n",
    "        video_name = \"\"\n",
    "        for n in video_name_list:\n",
    "            video_name += n\n",
    "        # capturing the video from the given path\n",
    "        capture = cv2.VideoCapture(video_file) \n",
    "        #frame rate\n",
    "        frame_rate = capture.get(5)\n",
    "        count = 0\n",
    "        while(capture.isOpened()):\n",
    "            #current frame number\n",
    "            frame_id = capture.get(1) \n",
    "            read_correctly, frame = capture.read()\n",
    "            if not read_correctly:\n",
    "                break\n",
    "            if (frame_id % math.floor(frame_rate) == 0):\n",
    "                # storing the frames in a new folder named train_1\n",
    "                filename = directory + \"/\" + video_name + \"_frame{}_\".format(count) + action +\".jpg\"\n",
    "                count += 1\n",
    "                cv2.imwrite(filename, frame)\n",
    "        capture.release()\n",
    "    print(\"Successfully Converted\")"
   ]
  },
  {
   "cell_type": "code",
   "execution_count": null,
   "id": "95c92a6f",
   "metadata": {},
   "outputs": [],
   "source": [
    "convert_to_frame(train, train_frames_path_name)"
   ]
  },
  {
   "cell_type": "code",
   "execution_count": null,
   "id": "f67db74e",
   "metadata": {},
   "outputs": [],
   "source": [
    "convert_to_frame(val, val_frames_path_name)"
   ]
  },
  {
   "cell_type": "code",
   "execution_count": null,
   "id": "dd03ce7f",
   "metadata": {},
   "outputs": [],
   "source": [
    "def create_paths_csv(directory, file_name):\n",
    "    images = os.listdir(directory)\n",
    "    images_path_list = []\n",
    "    images_action_list = [] \n",
    "    for image in images:\n",
    "        images_path_list.append(directory + image)\n",
    "        images_action_list.append(image.split('.')[0].split('_')[-1])\n",
    "    df = pd.DataFrame()\n",
    "    df['image'] = images_path_list\n",
    "    df['action'] = images_action_list\n",
    "    print(os.path.join(dataset_path, file_name+'.csv'))\n",
    "    df.to_csv(os.path.join(dataset_path, file_name+'.csv'), index=False)"
   ]
  },
  {
   "cell_type": "code",
   "execution_count": null,
   "id": "cc7619f9",
   "metadata": {},
   "outputs": [],
   "source": [
    "create_paths_csv(train_frames_path, train_frames_path_name)"
   ]
  },
  {
   "cell_type": "code",
   "execution_count": null,
   "id": "795203d5",
   "metadata": {},
   "outputs": [],
   "source": [
    "create_paths_csv(val_frames_path, val_frames_path_name)"
   ]
  },
  {
   "cell_type": "code",
   "execution_count": 3,
   "id": "f1ee021c",
   "metadata": {},
   "outputs": [
    {
     "data": {
      "text/html": [
       "<div>\n",
       "<style scoped>\n",
       "    .dataframe tbody tr th:only-of-type {\n",
       "        vertical-align: middle;\n",
       "    }\n",
       "\n",
       "    .dataframe tbody tr th {\n",
       "        vertical-align: top;\n",
       "    }\n",
       "\n",
       "    .dataframe thead th {\n",
       "        text-align: right;\n",
       "    }\n",
       "</style>\n",
       "<table border=\"1\" class=\"dataframe\">\n",
       "  <thead>\n",
       "    <tr style=\"text-align: right;\">\n",
       "      <th></th>\n",
       "      <th>image</th>\n",
       "      <th>action</th>\n",
       "    </tr>\n",
       "  </thead>\n",
       "  <tbody>\n",
       "    <tr>\n",
       "      <th>0</th>\n",
       "      <td>F:/Personal/CSGO-Video-Analysis/Video Analysis...</td>\n",
       "      <td>death</td>\n",
       "    </tr>\n",
       "    <tr>\n",
       "      <th>1</th>\n",
       "      <td>F:/Personal/CSGO-Video-Analysis/Video Analysis...</td>\n",
       "      <td>death</td>\n",
       "    </tr>\n",
       "    <tr>\n",
       "      <th>2</th>\n",
       "      <td>F:/Personal/CSGO-Video-Analysis/Video Analysis...</td>\n",
       "      <td>death</td>\n",
       "    </tr>\n",
       "    <tr>\n",
       "      <th>3</th>\n",
       "      <td>F:/Personal/CSGO-Video-Analysis/Video Analysis...</td>\n",
       "      <td>death</td>\n",
       "    </tr>\n",
       "    <tr>\n",
       "      <th>4</th>\n",
       "      <td>F:/Personal/CSGO-Video-Analysis/Video Analysis...</td>\n",
       "      <td>death</td>\n",
       "    </tr>\n",
       "    <tr>\n",
       "      <th>...</th>\n",
       "      <td>...</td>\n",
       "      <td>...</td>\n",
       "    </tr>\n",
       "    <tr>\n",
       "      <th>1264</th>\n",
       "      <td>F:/Personal/CSGO-Video-Analysis/Video Analysis...</td>\n",
       "      <td>NoAction</td>\n",
       "    </tr>\n",
       "    <tr>\n",
       "      <th>1265</th>\n",
       "      <td>F:/Personal/CSGO-Video-Analysis/Video Analysis...</td>\n",
       "      <td>NoAction</td>\n",
       "    </tr>\n",
       "    <tr>\n",
       "      <th>1266</th>\n",
       "      <td>F:/Personal/CSGO-Video-Analysis/Video Analysis...</td>\n",
       "      <td>NoAction</td>\n",
       "    </tr>\n",
       "    <tr>\n",
       "      <th>1267</th>\n",
       "      <td>F:/Personal/CSGO-Video-Analysis/Video Analysis...</td>\n",
       "      <td>NoAction</td>\n",
       "    </tr>\n",
       "    <tr>\n",
       "      <th>1268</th>\n",
       "      <td>F:/Personal/CSGO-Video-Analysis/Video Analysis...</td>\n",
       "      <td>NoAction</td>\n",
       "    </tr>\n",
       "  </tbody>\n",
       "</table>\n",
       "<p>1269 rows × 2 columns</p>\n",
       "</div>"
      ],
      "text/plain": [
       "                                                  image    action\n",
       "0     F:/Personal/CSGO-Video-Analysis/Video Analysis...     death\n",
       "1     F:/Personal/CSGO-Video-Analysis/Video Analysis...     death\n",
       "2     F:/Personal/CSGO-Video-Analysis/Video Analysis...     death\n",
       "3     F:/Personal/CSGO-Video-Analysis/Video Analysis...     death\n",
       "4     F:/Personal/CSGO-Video-Analysis/Video Analysis...     death\n",
       "...                                                 ...       ...\n",
       "1264  F:/Personal/CSGO-Video-Analysis/Video Analysis...  NoAction\n",
       "1265  F:/Personal/CSGO-Video-Analysis/Video Analysis...  NoAction\n",
       "1266  F:/Personal/CSGO-Video-Analysis/Video Analysis...  NoAction\n",
       "1267  F:/Personal/CSGO-Video-Analysis/Video Analysis...  NoAction\n",
       "1268  F:/Personal/CSGO-Video-Analysis/Video Analysis...  NoAction\n",
       "\n",
       "[1269 rows x 2 columns]"
      ]
     },
     "execution_count": 3,
     "metadata": {},
     "output_type": "execute_result"
    }
   ],
   "source": [
    "train_image = pd.read_csv(os.path.join(dataset_path, 'train_frames.csv'))\n",
    "train_image"
   ]
  },
  {
   "cell_type": "code",
   "execution_count": 4,
   "id": "ed51a1a2",
   "metadata": {},
   "outputs": [
    {
     "data": {
      "text/html": [
       "<div>\n",
       "<style scoped>\n",
       "    .dataframe tbody tr th:only-of-type {\n",
       "        vertical-align: middle;\n",
       "    }\n",
       "\n",
       "    .dataframe tbody tr th {\n",
       "        vertical-align: top;\n",
       "    }\n",
       "\n",
       "    .dataframe thead th {\n",
       "        text-align: right;\n",
       "    }\n",
       "</style>\n",
       "<table border=\"1\" class=\"dataframe\">\n",
       "  <thead>\n",
       "    <tr style=\"text-align: right;\">\n",
       "      <th></th>\n",
       "      <th>image</th>\n",
       "      <th>action</th>\n",
       "    </tr>\n",
       "  </thead>\n",
       "  <tbody>\n",
       "    <tr>\n",
       "      <th>0</th>\n",
       "      <td>F:/Personal/CSGO-Video-Analysis/Video Analysis...</td>\n",
       "      <td>death</td>\n",
       "    </tr>\n",
       "    <tr>\n",
       "      <th>1</th>\n",
       "      <td>F:/Personal/CSGO-Video-Analysis/Video Analysis...</td>\n",
       "      <td>death</td>\n",
       "    </tr>\n",
       "    <tr>\n",
       "      <th>2</th>\n",
       "      <td>F:/Personal/CSGO-Video-Analysis/Video Analysis...</td>\n",
       "      <td>death</td>\n",
       "    </tr>\n",
       "    <tr>\n",
       "      <th>3</th>\n",
       "      <td>F:/Personal/CSGO-Video-Analysis/Video Analysis...</td>\n",
       "      <td>death</td>\n",
       "    </tr>\n",
       "    <tr>\n",
       "      <th>4</th>\n",
       "      <td>F:/Personal/CSGO-Video-Analysis/Video Analysis...</td>\n",
       "      <td>death</td>\n",
       "    </tr>\n",
       "    <tr>\n",
       "      <th>...</th>\n",
       "      <td>...</td>\n",
       "      <td>...</td>\n",
       "    </tr>\n",
       "    <tr>\n",
       "      <th>421</th>\n",
       "      <td>F:/Personal/CSGO-Video-Analysis/Video Analysis...</td>\n",
       "      <td>NoAction</td>\n",
       "    </tr>\n",
       "    <tr>\n",
       "      <th>422</th>\n",
       "      <td>F:/Personal/CSGO-Video-Analysis/Video Analysis...</td>\n",
       "      <td>NoAction</td>\n",
       "    </tr>\n",
       "    <tr>\n",
       "      <th>423</th>\n",
       "      <td>F:/Personal/CSGO-Video-Analysis/Video Analysis...</td>\n",
       "      <td>NoAction</td>\n",
       "    </tr>\n",
       "    <tr>\n",
       "      <th>424</th>\n",
       "      <td>F:/Personal/CSGO-Video-Analysis/Video Analysis...</td>\n",
       "      <td>NoAction</td>\n",
       "    </tr>\n",
       "    <tr>\n",
       "      <th>425</th>\n",
       "      <td>F:/Personal/CSGO-Video-Analysis/Video Analysis...</td>\n",
       "      <td>NoAction</td>\n",
       "    </tr>\n",
       "  </tbody>\n",
       "</table>\n",
       "<p>426 rows × 2 columns</p>\n",
       "</div>"
      ],
      "text/plain": [
       "                                                 image    action\n",
       "0    F:/Personal/CSGO-Video-Analysis/Video Analysis...     death\n",
       "1    F:/Personal/CSGO-Video-Analysis/Video Analysis...     death\n",
       "2    F:/Personal/CSGO-Video-Analysis/Video Analysis...     death\n",
       "3    F:/Personal/CSGO-Video-Analysis/Video Analysis...     death\n",
       "4    F:/Personal/CSGO-Video-Analysis/Video Analysis...     death\n",
       "..                                                 ...       ...\n",
       "421  F:/Personal/CSGO-Video-Analysis/Video Analysis...  NoAction\n",
       "422  F:/Personal/CSGO-Video-Analysis/Video Analysis...  NoAction\n",
       "423  F:/Personal/CSGO-Video-Analysis/Video Analysis...  NoAction\n",
       "424  F:/Personal/CSGO-Video-Analysis/Video Analysis...  NoAction\n",
       "425  F:/Personal/CSGO-Video-Analysis/Video Analysis...  NoAction\n",
       "\n",
       "[426 rows x 2 columns]"
      ]
     },
     "execution_count": 4,
     "metadata": {},
     "output_type": "execute_result"
    }
   ],
   "source": [
    "val_image = pd.read_csv(os.path.join(dataset_path, 'val_frames.csv'))\n",
    "val_image"
   ]
  },
  {
   "cell_type": "code",
   "execution_count": 5,
   "id": "b444eb3c",
   "metadata": {},
   "outputs": [
    {
     "data": {
      "text/plain": [
       "['death', 'kill', 'NoAction', 'smoke']"
      ]
     },
     "execution_count": 5,
     "metadata": {},
     "output_type": "execute_result"
    }
   ],
   "source": [
    "action_values = list(train_image['action'].unique())\n",
    "action_values"
   ]
  },
  {
   "cell_type": "code",
   "execution_count": 6,
   "id": "2ff718e8",
   "metadata": {},
   "outputs": [],
   "source": [
    "def create_class_columns(df):\n",
    "    for value in action_values:\n",
    "        df[value] = np.where(df['action'].str.contains(value), 1, 0)\n",
    "    df.drop('action', axis='columns', inplace=True)"
   ]
  },
  {
   "cell_type": "code",
   "execution_count": 7,
   "id": "5ae63370",
   "metadata": {},
   "outputs": [
    {
     "data": {
      "text/html": [
       "<div>\n",
       "<style scoped>\n",
       "    .dataframe tbody tr th:only-of-type {\n",
       "        vertical-align: middle;\n",
       "    }\n",
       "\n",
       "    .dataframe tbody tr th {\n",
       "        vertical-align: top;\n",
       "    }\n",
       "\n",
       "    .dataframe thead th {\n",
       "        text-align: right;\n",
       "    }\n",
       "</style>\n",
       "<table border=\"1\" class=\"dataframe\">\n",
       "  <thead>\n",
       "    <tr style=\"text-align: right;\">\n",
       "      <th></th>\n",
       "      <th>image</th>\n",
       "      <th>death</th>\n",
       "      <th>kill</th>\n",
       "      <th>NoAction</th>\n",
       "      <th>smoke</th>\n",
       "    </tr>\n",
       "  </thead>\n",
       "  <tbody>\n",
       "    <tr>\n",
       "      <th>0</th>\n",
       "      <td>F:/Personal/CSGO-Video-Analysis/Video Analysis...</td>\n",
       "      <td>1</td>\n",
       "      <td>0</td>\n",
       "      <td>0</td>\n",
       "      <td>0</td>\n",
       "    </tr>\n",
       "    <tr>\n",
       "      <th>1</th>\n",
       "      <td>F:/Personal/CSGO-Video-Analysis/Video Analysis...</td>\n",
       "      <td>1</td>\n",
       "      <td>0</td>\n",
       "      <td>0</td>\n",
       "      <td>0</td>\n",
       "    </tr>\n",
       "    <tr>\n",
       "      <th>2</th>\n",
       "      <td>F:/Personal/CSGO-Video-Analysis/Video Analysis...</td>\n",
       "      <td>1</td>\n",
       "      <td>0</td>\n",
       "      <td>0</td>\n",
       "      <td>0</td>\n",
       "    </tr>\n",
       "    <tr>\n",
       "      <th>3</th>\n",
       "      <td>F:/Personal/CSGO-Video-Analysis/Video Analysis...</td>\n",
       "      <td>1</td>\n",
       "      <td>0</td>\n",
       "      <td>0</td>\n",
       "      <td>0</td>\n",
       "    </tr>\n",
       "    <tr>\n",
       "      <th>4</th>\n",
       "      <td>F:/Personal/CSGO-Video-Analysis/Video Analysis...</td>\n",
       "      <td>1</td>\n",
       "      <td>0</td>\n",
       "      <td>0</td>\n",
       "      <td>0</td>\n",
       "    </tr>\n",
       "  </tbody>\n",
       "</table>\n",
       "</div>"
      ],
      "text/plain": [
       "                                               image  death  kill  NoAction  \\\n",
       "0  F:/Personal/CSGO-Video-Analysis/Video Analysis...      1     0         0   \n",
       "1  F:/Personal/CSGO-Video-Analysis/Video Analysis...      1     0         0   \n",
       "2  F:/Personal/CSGO-Video-Analysis/Video Analysis...      1     0         0   \n",
       "3  F:/Personal/CSGO-Video-Analysis/Video Analysis...      1     0         0   \n",
       "4  F:/Personal/CSGO-Video-Analysis/Video Analysis...      1     0         0   \n",
       "\n",
       "   smoke  \n",
       "0      0  \n",
       "1      0  \n",
       "2      0  \n",
       "3      0  \n",
       "4      0  "
      ]
     },
     "execution_count": 7,
     "metadata": {},
     "output_type": "execute_result"
    }
   ],
   "source": [
    "create_class_columns(train_image)\n",
    "train_image.head()"
   ]
  },
  {
   "cell_type": "code",
   "execution_count": 8,
   "id": "b73c201d",
   "metadata": {},
   "outputs": [
    {
     "data": {
      "text/html": [
       "<div>\n",
       "<style scoped>\n",
       "    .dataframe tbody tr th:only-of-type {\n",
       "        vertical-align: middle;\n",
       "    }\n",
       "\n",
       "    .dataframe tbody tr th {\n",
       "        vertical-align: top;\n",
       "    }\n",
       "\n",
       "    .dataframe thead th {\n",
       "        text-align: right;\n",
       "    }\n",
       "</style>\n",
       "<table border=\"1\" class=\"dataframe\">\n",
       "  <thead>\n",
       "    <tr style=\"text-align: right;\">\n",
       "      <th></th>\n",
       "      <th>image</th>\n",
       "      <th>death</th>\n",
       "      <th>kill</th>\n",
       "      <th>NoAction</th>\n",
       "      <th>smoke</th>\n",
       "    </tr>\n",
       "  </thead>\n",
       "  <tbody>\n",
       "    <tr>\n",
       "      <th>0</th>\n",
       "      <td>F:/Personal/CSGO-Video-Analysis/Video Analysis...</td>\n",
       "      <td>1</td>\n",
       "      <td>0</td>\n",
       "      <td>0</td>\n",
       "      <td>0</td>\n",
       "    </tr>\n",
       "    <tr>\n",
       "      <th>1</th>\n",
       "      <td>F:/Personal/CSGO-Video-Analysis/Video Analysis...</td>\n",
       "      <td>1</td>\n",
       "      <td>0</td>\n",
       "      <td>0</td>\n",
       "      <td>0</td>\n",
       "    </tr>\n",
       "    <tr>\n",
       "      <th>2</th>\n",
       "      <td>F:/Personal/CSGO-Video-Analysis/Video Analysis...</td>\n",
       "      <td>1</td>\n",
       "      <td>0</td>\n",
       "      <td>0</td>\n",
       "      <td>0</td>\n",
       "    </tr>\n",
       "    <tr>\n",
       "      <th>3</th>\n",
       "      <td>F:/Personal/CSGO-Video-Analysis/Video Analysis...</td>\n",
       "      <td>1</td>\n",
       "      <td>0</td>\n",
       "      <td>0</td>\n",
       "      <td>0</td>\n",
       "    </tr>\n",
       "    <tr>\n",
       "      <th>4</th>\n",
       "      <td>F:/Personal/CSGO-Video-Analysis/Video Analysis...</td>\n",
       "      <td>1</td>\n",
       "      <td>0</td>\n",
       "      <td>0</td>\n",
       "      <td>0</td>\n",
       "    </tr>\n",
       "  </tbody>\n",
       "</table>\n",
       "</div>"
      ],
      "text/plain": [
       "                                               image  death  kill  NoAction  \\\n",
       "0  F:/Personal/CSGO-Video-Analysis/Video Analysis...      1     0         0   \n",
       "1  F:/Personal/CSGO-Video-Analysis/Video Analysis...      1     0         0   \n",
       "2  F:/Personal/CSGO-Video-Analysis/Video Analysis...      1     0         0   \n",
       "3  F:/Personal/CSGO-Video-Analysis/Video Analysis...      1     0         0   \n",
       "4  F:/Personal/CSGO-Video-Analysis/Video Analysis...      1     0         0   \n",
       "\n",
       "   smoke  \n",
       "0      0  \n",
       "1      0  \n",
       "2      0  \n",
       "3      0  \n",
       "4      0  "
      ]
     },
     "execution_count": 8,
     "metadata": {},
     "output_type": "execute_result"
    }
   ],
   "source": [
    "create_class_columns(val_image)\n",
    "val_image.head()"
   ]
  },
  {
   "cell_type": "code",
   "execution_count": 9,
   "id": "2892613f",
   "metadata": {},
   "outputs": [],
   "source": [
    "def convert_to_array_and_split(image_data):\n",
    "    image_value = []\n",
    "    for i in tqdm(range(image_data.shape[0])):\n",
    "        img = image.load_img(image_data['image'][i], target_size=(227,227,3))\n",
    "        img = image.img_to_array(img)\n",
    "        # normalizing the pixel value\n",
    "        img = img / 255\n",
    "        image_value.append(img)\n",
    "\n",
    "    X = np.array(image_value)\n",
    "    y = image_data\n",
    "    y.drop('image', axis='columns', inplace=True)\n",
    "    return X, y"
   ]
  },
  {
   "cell_type": "code",
   "execution_count": 10,
   "id": "04779f85",
   "metadata": {},
   "outputs": [
    {
     "name": "stderr",
     "output_type": "stream",
     "text": [
      "100%|██████████████████████████████████████████████████████████████████████████████| 1269/1269 [00:36<00:00, 34.35it/s]\n"
     ]
    },
    {
     "name": "stdout",
     "output_type": "stream",
     "text": [
      "(1269, 227, 227, 3)\n"
     ]
    }
   ],
   "source": [
    "X_train, y_train = convert_to_array_and_split(train_image)\n",
    "print(X_train.shape)"
   ]
  },
  {
   "cell_type": "code",
   "execution_count": 11,
   "id": "11c7dac0",
   "metadata": {},
   "outputs": [
    {
     "name": "stderr",
     "output_type": "stream",
     "text": [
      "100%|████████████████████████████████████████████████████████████████████████████████| 426/426 [00:08<00:00, 48.18it/s]"
     ]
    },
    {
     "name": "stdout",
     "output_type": "stream",
     "text": [
      "(426, 227, 227, 3)\n"
     ]
    },
    {
     "name": "stderr",
     "output_type": "stream",
     "text": [
      "\n"
     ]
    }
   ],
   "source": [
    "X_val, y_val = convert_to_array_and_split(val_image)\n",
    "print(X_val.shape)"
   ]
  },
  {
   "cell_type": "code",
   "execution_count": 12,
   "id": "9437ad98",
   "metadata": {},
   "outputs": [],
   "source": [
    "X_train_copy, y_train_copy=X_train,y_train\n",
    "X_val_copy, y_val_copy=X_val,y_val"
   ]
  },
  {
   "cell_type": "code",
   "execution_count": 172,
   "id": "7bcd77e3",
   "metadata": {},
   "outputs": [
    {
     "name": "stdout",
     "output_type": "stream",
     "text": [
      "Model: \"sequential_19\"\n",
      "_________________________________________________________________\n",
      "Layer (type)                 Output Shape              Param #   \n",
      "=================================================================\n",
      "conv2d_54 (Conv2D)           (None, 112, 112, 64)      4864      \n",
      "_________________________________________________________________\n",
      "max_pooling2d_54 (MaxPooling (None, 55, 55, 64)        0         \n",
      "_________________________________________________________________\n",
      "conv2d_55 (Conv2D)           (None, 55, 55, 64)        4160      \n",
      "_________________________________________________________________\n",
      "conv2d_56 (Conv2D)           (None, 55, 55, 128)       73856     \n",
      "_________________________________________________________________\n",
      "max_pooling2d_55 (MaxPooling (None, 27, 27, 128)       0         \n",
      "_________________________________________________________________\n",
      "dropout_41 (Dropout)         (None, 27, 27, 128)       0         \n",
      "_________________________________________________________________\n",
      "max_pooling2d_56 (MaxPooling (None, 13, 13, 128)       0         \n",
      "_________________________________________________________________\n",
      "dense_42 (Dense)             (None, 13, 13, 512)       66048     \n",
      "_________________________________________________________________\n",
      "dropout_42 (Dropout)         (None, 13, 13, 512)       0         \n",
      "_________________________________________________________________\n",
      "flatten_17 (Flatten)         (None, 86528)             0         \n",
      "_________________________________________________________________\n",
      "dense_43 (Dense)             (None, 4)                 346116    \n",
      "=================================================================\n",
      "Total params: 495,044\n",
      "Trainable params: 495,044\n",
      "Non-trainable params: 0\n",
      "_________________________________________________________________\n"
     ]
    }
   ],
   "source": [
    "model = Sequential()\n",
    "\n",
    "# 1st Convolutional Layer\n",
    "model.add(Conv2D(64, (5,5), input_shape=(227,227,3), strides=(2,2), padding=\"valid\", activation = \"relu\"))\n",
    "# Max Pooling 1\n",
    "model.add(MaxPool2D(pool_size=(3,3), strides=(2,2), padding=\"valid\"))\n",
    "\n",
    "# 2nd Convolutional Layer\n",
    "model.add(Conv2D(64, (1,1), strides=(1,1), padding=\"same\", activation = \"relu\"))\n",
    "\n",
    "# 3rd Convolutional Layer\n",
    "model.add(Conv2D(128, (3,3), strides=(1,1), padding=\"same\", activation = \"relu\"))\n",
    "# Max Pooling 2\n",
    "model.add(MaxPool2D(pool_size=(3,3), strides=(2,2), padding=\"valid\"))\n",
    "\n",
    "#NOT NEEDED\n",
    "model.add(Dropout(0.5))\n",
    "#Parallel convolution 1\n",
    "\n",
    "\n",
    "# Max Pooling 3\n",
    "#model.add(MaxPool2D(pool_size=(3,3), strides=(2,2), padding=\"valid\"))\n",
    "\n",
    "#Parallel convolution 2\n",
    "\n",
    "#Parallel convolution 3\n",
    "\n",
    "# Max Pooling 4\n",
    "#model.add(MaxPool2D(pool_size=(3,3), strides=(2,2), padding=\"valid\"))\n",
    "\n",
    "#Parallel convolution 4\n",
    "\n",
    "# Max Pooling 5\n",
    "model.add(MaxPool2D(pool_size=(3,3), strides=(2,2), padding=\"valid\"))\n",
    "\n",
    "\n",
    "# 1st Fully Connected Layer\n",
    "model.add(Dense(512, activation = \"relu\"))\n",
    "\n",
    "#NOT NEEDED\n",
    "model.add(Dropout(0.5))\n",
    "\n",
    "#NOT NEEDED\n",
    "model.add(Flatten())\n",
    "\n",
    "# 2nd Fully Connected Layer\n",
    "model.add(Dense(4, activation = \"softmax\"))\n",
    "model.summary()\n",
    "\n",
    "\n",
    "#Model Compiling\n",
    "earlystop = EarlyStopping(monitor='val_loss', min_delta=0, patience=10, verbose=1, restore_best_weights=True)\n",
    "\n",
    "learning_rate_reduction = ReduceLROnPlateau(monitor='val_acc', patience=5, verbose=1, factor=0.2, min_lr=0.0001)\n",
    "\n",
    "callbacks = [earlystop, learning_rate_reduction, mcp_weight]\n",
    "\n",
    "from keras.callbacks import ModelCheckpoint\n",
    "mcp_weight = ModelCheckpoint('CYNNET.hdf5', save_best_only=True, monitor='val_loss', mode='min')\n",
    "\n",
    "model.compile(loss='categorical_crossentropy',optimizer='adam',metrics=['accuracy'])"
   ]
  },
  {
   "cell_type": "code",
   "execution_count": 173,
   "id": "a90b1736",
   "metadata": {
    "scrolled": true
   },
   "outputs": [
    {
     "name": "stdout",
     "output_type": "stream",
     "text": [
      "Epoch 1/50\n",
      "80/80 [==============================] - 4s 39ms/step - loss: 1.2358 - accuracy: 0.4342 - val_loss: 0.9417 - val_accuracy: 0.6502\n",
      "WARNING:tensorflow:Learning rate reduction is conditioned on metric `val_acc` which is not available. Available metrics are: loss,accuracy,val_loss,val_accuracy,lr\n",
      "Epoch 2/50\n",
      "80/80 [==============================] - 3s 33ms/step - loss: 0.9065 - accuracy: 0.6501 - val_loss: 0.9067 - val_accuracy: 0.6620\n",
      "WARNING:tensorflow:Learning rate reduction is conditioned on metric `val_acc` which is not available. Available metrics are: loss,accuracy,val_loss,val_accuracy,lr\n",
      "Epoch 3/50\n",
      "80/80 [==============================] - 3s 36ms/step - loss: 0.7296 - accuracy: 0.7305 - val_loss: 0.8776 - val_accuracy: 0.6690\n",
      "WARNING:tensorflow:Learning rate reduction is conditioned on metric `val_acc` which is not available. Available metrics are: loss,accuracy,val_loss,val_accuracy,lr\n",
      "Epoch 4/50\n",
      "80/80 [==============================] - 3s 36ms/step - loss: 0.6102 - accuracy: 0.7675 - val_loss: 0.8269 - val_accuracy: 0.7113\n",
      "WARNING:tensorflow:Learning rate reduction is conditioned on metric `val_acc` which is not available. Available metrics are: loss,accuracy,val_loss,val_accuracy,lr\n",
      "Epoch 5/50\n",
      "80/80 [==============================] - 3s 33ms/step - loss: 0.5401 - accuracy: 0.8069 - val_loss: 0.7066 - val_accuracy: 0.7512\n",
      "WARNING:tensorflow:Learning rate reduction is conditioned on metric `val_acc` which is not available. Available metrics are: loss,accuracy,val_loss,val_accuracy,lr\n",
      "Epoch 6/50\n",
      "80/80 [==============================] - 3s 35ms/step - loss: 0.4090 - accuracy: 0.8440 - val_loss: 0.8856 - val_accuracy: 0.6596\n",
      "WARNING:tensorflow:Learning rate reduction is conditioned on metric `val_acc` which is not available. Available metrics are: loss,accuracy,val_loss,val_accuracy,lr\n",
      "Epoch 7/50\n",
      "80/80 [==============================] - 3s 34ms/step - loss: 0.3221 - accuracy: 0.8928 - val_loss: 0.8010 - val_accuracy: 0.7488\n",
      "WARNING:tensorflow:Learning rate reduction is conditioned on metric `val_acc` which is not available. Available metrics are: loss,accuracy,val_loss,val_accuracy,lr\n",
      "Epoch 8/50\n",
      "80/80 [==============================] - 3s 35ms/step - loss: 0.2915 - accuracy: 0.8928 - val_loss: 0.7598 - val_accuracy: 0.6972\n",
      "WARNING:tensorflow:Learning rate reduction is conditioned on metric `val_acc` which is not available. Available metrics are: loss,accuracy,val_loss,val_accuracy,lr\n",
      "Epoch 9/50\n",
      "80/80 [==============================] - 3s 33ms/step - loss: 0.2381 - accuracy: 0.9078 - val_loss: 0.8311 - val_accuracy: 0.7300\n",
      "WARNING:tensorflow:Learning rate reduction is conditioned on metric `val_acc` which is not available. Available metrics are: loss,accuracy,val_loss,val_accuracy,lr\n",
      "Epoch 10/50\n",
      "80/80 [==============================] - 3s 32ms/step - loss: 0.1880 - accuracy: 0.9433 - val_loss: 0.9156 - val_accuracy: 0.7019\n",
      "WARNING:tensorflow:Learning rate reduction is conditioned on metric `val_acc` which is not available. Available metrics are: loss,accuracy,val_loss,val_accuracy,lr\n",
      "Epoch 11/50\n",
      "80/80 [==============================] - 3s 32ms/step - loss: 0.1826 - accuracy: 0.9448 - val_loss: 0.8628 - val_accuracy: 0.6925\n",
      "WARNING:tensorflow:Learning rate reduction is conditioned on metric `val_acc` which is not available. Available metrics are: loss,accuracy,val_loss,val_accuracy,lr\n",
      "Epoch 12/50\n",
      "80/80 [==============================] - 3s 32ms/step - loss: 0.1448 - accuracy: 0.9417 - val_loss: 0.9865 - val_accuracy: 0.7207\n",
      "WARNING:tensorflow:Learning rate reduction is conditioned on metric `val_acc` which is not available. Available metrics are: loss,accuracy,val_loss,val_accuracy,lr\n",
      "Epoch 13/50\n",
      "80/80 [==============================] - 3s 33ms/step - loss: 0.1345 - accuracy: 0.9519 - val_loss: 1.1122 - val_accuracy: 0.6878\n",
      "WARNING:tensorflow:Learning rate reduction is conditioned on metric `val_acc` which is not available. Available metrics are: loss,accuracy,val_loss,val_accuracy,lr\n",
      "Epoch 14/50\n",
      "80/80 [==============================] - 3s 35ms/step - loss: 0.0991 - accuracy: 0.9669 - val_loss: 0.9058 - val_accuracy: 0.7254\n",
      "WARNING:tensorflow:Learning rate reduction is conditioned on metric `val_acc` which is not available. Available metrics are: loss,accuracy,val_loss,val_accuracy,lr\n",
      "Epoch 15/50\n",
      "80/80 [==============================] - 3s 35ms/step - loss: 0.0905 - accuracy: 0.9701 - val_loss: 1.0356 - val_accuracy: 0.6972\n",
      "Restoring model weights from the end of the best epoch.\n",
      "WARNING:tensorflow:Learning rate reduction is conditioned on metric `val_acc` which is not available. Available metrics are: loss,accuracy,val_loss,val_accuracy,lr\n",
      "Epoch 00015: early stopping\n"
     ]
    }
   ],
   "source": [
    "history=model.fit(X_train, y_train, epochs=50, validation_data=(X_val, y_val), \n",
    "                  batch_size=16, callbacks=callbacks)"
   ]
  },
  {
   "cell_type": "code",
   "execution_count": 174,
   "id": "48ebaef0",
   "metadata": {},
   "outputs": [
    {
     "name": "stdout",
     "output_type": "stream",
     "text": [
      "Model: \"sequential_19\"\n",
      "_________________________________________________________________\n",
      "Layer (type)                 Output Shape              Param #   \n",
      "=================================================================\n",
      "conv2d_54 (Conv2D)           (None, 112, 112, 64)      4864      \n",
      "_________________________________________________________________\n",
      "max_pooling2d_54 (MaxPooling (None, 55, 55, 64)        0         \n",
      "_________________________________________________________________\n",
      "conv2d_55 (Conv2D)           (None, 55, 55, 64)        4160      \n",
      "_________________________________________________________________\n",
      "conv2d_56 (Conv2D)           (None, 55, 55, 128)       73856     \n",
      "_________________________________________________________________\n",
      "max_pooling2d_55 (MaxPooling (None, 27, 27, 128)       0         \n",
      "_________________________________________________________________\n",
      "dropout_41 (Dropout)         (None, 27, 27, 128)       0         \n",
      "_________________________________________________________________\n",
      "max_pooling2d_56 (MaxPooling (None, 13, 13, 128)       0         \n",
      "_________________________________________________________________\n",
      "dense_42 (Dense)             (None, 13, 13, 512)       66048     \n",
      "_________________________________________________________________\n",
      "dropout_42 (Dropout)         (None, 13, 13, 512)       0         \n",
      "_________________________________________________________________\n",
      "flatten_17 (Flatten)         (None, 86528)             0         \n",
      "_________________________________________________________________\n",
      "dense_43 (Dense)             (None, 4)                 346116    \n",
      "=================================================================\n",
      "Total params: 495,044\n",
      "Trainable params: 495,044\n",
      "Non-trainable params: 0\n",
      "_________________________________________________________________\n"
     ]
    }
   ],
   "source": [
    "model.load_weights(\"CYNNET.hdf5\")\n",
    "model.compile(loss='categorical_crossentropy',optimizer='Adam',metrics=['accuracy'])\n",
    "model.summary()"
   ]
  },
  {
   "cell_type": "code",
   "execution_count": null,
   "id": "29f3a199",
   "metadata": {},
   "outputs": [
    {
     "name": "stderr",
     "output_type": "stream",
     "text": [
      " 61%|█████████████████████████████████████████████████▍                               | 69/113 [00:38<00:33,  1.32it/s]"
     ]
    }
   ],
   "source": [
    "from scipy import stats as s\n",
    "predict_vgg16 = []\n",
    "actual = []\n",
    "dict_vgg16 = {}\n",
    "\n",
    "if not os.path.exists(test_frames_path):\n",
    "    os.makedirs(test_frames_path)\n",
    "\n",
    "for i in tqdm(range(test.shape[0])):\n",
    "    video_file = test['Video_url'][i]\n",
    "    action = test['action'][i]\n",
    "    video_name_list = video_file.split('/')[-1].split('.')\n",
    "    video_name_list = video_name_list[:-1]\n",
    "    video_name = \"\"\n",
    "    for n in video_name_list:\n",
    "        video_name += n\n",
    "    # capturing the video from the given path\n",
    "    capture = cv2.VideoCapture(video_file) \n",
    "    #frame rate\n",
    "    frame_rate = capture.get(5)\n",
    "    count = 0\n",
    "    files = glob(test_frames_path + '/*')\n",
    "    #removing all files from folder\n",
    "    for f in files:\n",
    "        os.remove(f)\n",
    "    while(capture.isOpened()):\n",
    "        #current frame number\n",
    "        frame_id = capture.get(1) \n",
    "        read_correctly, frame = capture.read()\n",
    "        if not read_correctly:\n",
    "            break\n",
    "        if (frame_id % math.floor(frame_rate) == 0):\n",
    "            # storing the frames in a new folder named train_1\n",
    "            filename = test_frames_path + \"/\" + video_name + \"_frame{}_\".format(count) + action +\".jpg\"\n",
    "            count += 1\n",
    "            cv2.imwrite(filename, frame)\n",
    "    capture.release()\n",
    "    \n",
    "    # reading all the frames from temp folder\n",
    "    images = glob(test_frames_path + '/*.jpg')\n",
    "    prediction_images = []\n",
    "    for i in range(len(images)):\n",
    "        img = image.load_img(images[i], target_size=(227,227,3))\n",
    "        img = image.img_to_array(img)\n",
    "        img = img / 255\n",
    "        prediction_images.append(img)\n",
    "        \n",
    "    # converting all the frames for a test video into numpy array\n",
    "    prediction_images = np.array(prediction_images)\n",
    "    prediction_images_copy = prediction_images\n",
    "    #prediction_images = prediction_images / max_pixel\n",
    "    # extracting features using pre-trained model\n",
    "    #prediction_images = base_model_vgg16.predict(prediction_images)\n",
    "    # converting features in one dimensional array\n",
    "    #prediction_images = prediction_images.reshape(prediction_images.shape[0], 7*7*512)\n",
    "    # predicting tags for each array\n",
    "    prediction = np.argmax(model.predict(prediction_images), axis=-1)\n",
    "    \n",
    "    prediction_test = y_train.columns.values[s.mode(prediction)[0][0]]\n",
    "    if prediction_test != action:\n",
    "        dict_vgg16[video_name] = prediction_test\n",
    "        #print(prediction_test)\n",
    "        #print(action)\n",
    "        #print(video_name)\n",
    "    \n",
    "    # appending the mode of predictions in predict list to assign the tag to the video\n",
    "    predict_vgg16.append(y_train.columns.values[s.mode(prediction)[0][0]])\n",
    "    # appending the actual tag of the video\n",
    "    actual.append(action)"
   ]
  },
  {
   "cell_type": "code",
   "execution_count": 168,
   "id": "22eb2e8f",
   "metadata": {},
   "outputs": [
    {
     "data": {
      "text/plain": [
       "76.10619469026548"
      ]
     },
     "execution_count": 168,
     "metadata": {},
     "output_type": "execute_result"
    }
   ],
   "source": [
    "from sklearn.metrics import accuracy_score\n",
    "accuracy_score(predict_vgg16, actual)*100"
   ]
  },
  {
   "cell_type": "code",
   "execution_count": 169,
   "id": "b3d145fb",
   "metadata": {},
   "outputs": [
    {
     "name": "stdout",
     "output_type": "stream",
     "text": [
      "Accuracy:  76.10619469026548\n",
      "Precision:  [0.84375    0.7        0.67741935 0.85      ]\n",
      "F1_score:  [0.79411765 0.75       0.68852459 0.82926829]\n",
      "Recall:  [0.75       0.80769231 0.7        0.80952381]\n"
     ]
    }
   ],
   "source": [
    "from sklearn.metrics import accuracy_score, precision_score, f1_score, recall_score\n",
    "\n",
    "accuracy = accuracy_score(predict_vgg16, actual)*100\n",
    "precision = precision_score(actual, predict_vgg16, average=None)\n",
    "f1_score = f1_score(actual, predict_vgg16, average=None)\n",
    "recall = recall_score(actual, predict_vgg16, average=None)\n",
    "\n",
    "print('Accuracy: ', accuracy)\n",
    "print('Precision: ', precision)\n",
    "print('F1_score: ', f1_score)\n",
    "print('Recall: ', recall)"
   ]
  },
  {
   "cell_type": "code",
   "execution_count": 170,
   "id": "6a1a8e1b",
   "metadata": {},
   "outputs": [
    {
     "data": {
      "image/png": "[encoded data removed]",
      "text/plain": [
       "<Figure size 640x480 with 1 Axes>"
      ]
     },
     "metadata": {},
     "output_type": "display_data"
    }
   ],
   "source": [
    "plt.plot(history.history['accuracy'])\n",
    "plt.plot(history.history['val_accuracy'])\n",
    "plt.title('model accuracy')\n",
    "plt.ylabel('accuracy')\n",
    "plt.xlabel('epoch')\n",
    "plt.legend(['train', 'test'], loc='upper left')\n",
    "plt.show()"
   ]
  },
  {
   "cell_type": "code",
   "execution_count": 171,
   "id": "16c01291",
   "metadata": {},
   "outputs": [
    {
     "data": {
      "image/png": "[encoded data removed]",
      "text/plain": [
       "<Figure size 640x480 with 1 Axes>"
      ]
     },
     "metadata": {},
     "output_type": "display_data"
    }
   ],
   "source": [
    "plt.plot(history.history['loss'])\n",
    "plt.plot(history.history['val_loss'])\n",
    "plt.title('model loss')\n",
    "plt.ylabel('loss')\n",
    "plt.xlabel('epoch')\n",
    "plt.legend(['train', 'test'], loc='upper left')\n",
    "plt.show()"
   ]
  },
  {
   "cell_type": "markdown",
   "id": "6275e92a",
   "metadata": {},
   "source": [
    "## 2nd Model"
   ]
  },
  {
   "cell_type": "code",
   "execution_count": null,
   "id": "616d269d",
   "metadata": {},
   "outputs": [],
   "source": []
  },
  {
   "cell_type": "code",
   "execution_count": 24,
   "id": "a007f778",
   "metadata": {},
   "outputs": [
    {
     "name": "stdout",
     "output_type": "stream",
     "text": [
      "Model: \"sequential_5\"\n",
      "_________________________________________________________________\n",
      "Layer (type)                 Output Shape              Param #   \n",
      "=================================================================\n",
      "conv2d_14 (Conv2D)           (None, 54, 54, 96)        34944     \n",
      "_________________________________________________________________\n",
      "max_pooling2d_16 (MaxPooling (None, 26, 26, 96)        0         \n",
      "_________________________________________________________________\n",
      "conv2d_15 (Conv2D)           (None, 26, 26, 256)       614656    \n",
      "_________________________________________________________________\n",
      "max_pooling2d_17 (MaxPooling (None, 12, 12, 256)       0         \n",
      "_________________________________________________________________\n",
      "conv2d_16 (Conv2D)           (None, 12, 12, 96)        221280    \n",
      "_________________________________________________________________\n",
      "dropout_6 (Dropout)          (None, 12, 12, 96)        0         \n",
      "_________________________________________________________________\n",
      "conv2d_17 (Conv2D)           (None, 12, 12, 96)        83040     \n",
      "_________________________________________________________________\n",
      "max_pooling2d_18 (MaxPooling (None, 5, 5, 96)          0         \n",
      "_________________________________________________________________\n",
      "flatten_2 (Flatten)          (None, 2400)              0         \n",
      "_________________________________________________________________\n",
      "dense_12 (Dense)             (None, 1024)              2458624   \n",
      "_________________________________________________________________\n",
      "dense_13 (Dense)             (None, 512)               524800    \n",
      "_________________________________________________________________\n",
      "dropout_7 (Dropout)          (None, 512)               0         \n",
      "_________________________________________________________________\n",
      "dense_14 (Dense)             (None, 512)               262656    \n",
      "_________________________________________________________________\n",
      "dropout_8 (Dropout)          (None, 512)               0         \n",
      "_________________________________________________________________\n",
      "dense_15 (Dense)             (None, 4)                 2052      \n",
      "=================================================================\n",
      "Total params: 4,202,052\n",
      "Trainable params: 4,202,052\n",
      "Non-trainable params: 0\n",
      "_________________________________________________________________\n"
     ]
    }
   ],
   "source": [
    "model = Sequential()\n",
    "# 1st Convolutional Layer\n",
    "model.add(Conv2D(filters=96, input_shape=(224,224,3), kernel_size=(11,11), strides=(4,4), padding=\"valid\", activation = \"relu\"))\n",
    "# Max Pooling\n",
    "model.add(MaxPool2D(pool_size=(3,3), strides=(2,2), padding=\"valid\"))\n",
    "# 2nd Convolutional Layer\n",
    "model.add(Conv2D(filters=256, kernel_size=(5,5), strides=(1,1), padding=\"same\", activation = \"relu\"))\n",
    "# Max Pooling\n",
    "model.add(MaxPool2D(pool_size=(3,3), strides=(2,2), padding=\"valid\"))\n",
    "# 3rd Convolutional Layer\n",
    "model.add(Conv2D(filters=96, kernel_size=(3,3), strides=(1,1), padding=\"same\", activation = \"relu\"))\n",
    "model.add(Dropout(0.5))\n",
    "# 4th Convolutional Layer\n",
    "model.add(Conv2D(filters=96, kernel_size=(3,3), strides=(1,1), padding=\"same\", activation = \"relu\"))\n",
    "'''\n",
    "# 5th Convolutional Layer\n",
    "model.add(Conv2D(filters=512, kernel_size=(3,3), strides=(1,1), padding=\"same\", activation = \"relu\"))\n",
    "# 6th Convolutional Layer\n",
    "model.add(Conv2D(filters=256, kernel_size=(3,3), strides=(1,1), padding=\"same\", activation = \"relu\"))\n",
    "# 7th Convolutional Layer\n",
    "model.add(Conv2D(filters=128, kernel_size=(3,3), strides=(1,1), padding=\"same\", activation = \"relu\"))\n",
    "'''\n",
    "# Max Pooling\n",
    "model.add(MaxPool2D(pool_size=(3,3), strides=(2,2), padding=\"valid\"))\n",
    "# Passing it to a Fully Connected layer\n",
    "model.add(Flatten())\n",
    "# 1st Fully Connected Layer\n",
    "model.add(Dense(units = 1024, activation = \"relu\"))\n",
    "# 2nd Fully Connected Layer\n",
    "model.add(Dense(units = 512, activation = \"relu\"))\n",
    "model.add(Dropout(0.5))\n",
    "# 3rd Fully Connected Layer\n",
    "model.add(Dense(512, activation = \"relu\"))\n",
    "model.add(Dropout(0.5))\n",
    "\n",
    "# Output Layer\n",
    "model.add(Dense(4, activation = \"softmax\")) #As we have two classes\n",
    "model.summary()\n",
    "model.compile(loss='categorical_crossentropy',optimizer='Adam',metrics=['accuracy'])"
   ]
  },
  {
   "cell_type": "code",
   "execution_count": 41,
   "id": "b541e849",
   "metadata": {},
   "outputs": [],
   "source": [
    "from keras.callbacks import ModelCheckpoint\n",
    "mcp_weight = ModelCheckpoint('New_Network.hdf5', save_best_only=True, monitor='val_loss', mode='min')"
   ]
  },
  {
   "cell_type": "code",
   "execution_count": 42,
   "id": "248efb70",
   "metadata": {},
   "outputs": [
    {
     "name": "stdout",
     "output_type": "stream",
     "text": [
      "Epoch 1/40\n",
      "9/9 [==============================] - 2s 185ms/step - loss: 1.4701 - accuracy: 0.2632 - val_loss: 1.3807 - val_accuracy: 0.2535\n",
      "Epoch 2/40\n",
      "9/9 [==============================] - 1s 161ms/step - loss: 1.3777 - accuracy: 0.3089 - val_loss: 1.3774 - val_accuracy: 0.3263\n",
      "Epoch 3/40\n",
      "9/9 [==============================] - 1s 157ms/step - loss: 1.3651 - accuracy: 0.3396 - val_loss: 1.3757 - val_accuracy: 0.3263\n",
      "Epoch 4/40\n",
      "9/9 [==============================] - 1s 161ms/step - loss: 1.3688 - accuracy: 0.3388 - val_loss: 1.3719 - val_accuracy: 0.3263\n",
      "Epoch 5/40\n",
      "9/9 [==============================] - 1s 157ms/step - loss: 1.3626 - accuracy: 0.3381 - val_loss: 1.3744 - val_accuracy: 0.3263\n",
      "Epoch 6/40\n",
      "9/9 [==============================] - 1s 159ms/step - loss: 1.3588 - accuracy: 0.3215 - val_loss: 1.3718 - val_accuracy: 0.3263\n",
      "Epoch 7/40\n",
      "9/9 [==============================] - 1s 157ms/step - loss: 1.3378 - accuracy: 0.3357 - val_loss: 1.3439 - val_accuracy: 0.3263\n",
      "Epoch 8/40\n",
      "9/9 [==============================] - 1s 161ms/step - loss: 1.2988 - accuracy: 0.3381 - val_loss: 1.3048 - val_accuracy: 0.3263\n",
      "Epoch 9/40\n",
      "9/9 [==============================] - 1s 157ms/step - loss: 1.2755 - accuracy: 0.3893 - val_loss: 1.3526 - val_accuracy: 0.3474\n",
      "Epoch 10/40\n",
      "9/9 [==============================] - 1s 156ms/step - loss: 1.2644 - accuracy: 0.4318 - val_loss: 1.2703 - val_accuracy: 0.4249\n",
      "Epoch 11/40\n",
      "9/9 [==============================] - 1s 158ms/step - loss: 1.2031 - accuracy: 0.4468 - val_loss: 1.1588 - val_accuracy: 0.5235\n",
      "Epoch 12/40\n",
      "9/9 [==============================] - 1s 156ms/step - loss: 1.1272 - accuracy: 0.4697 - val_loss: 1.1570 - val_accuracy: 0.4671\n",
      "Epoch 13/40\n",
      "9/9 [==============================] - 1s 155ms/step - loss: 1.1088 - accuracy: 0.4846 - val_loss: 1.0549 - val_accuracy: 0.5751\n",
      "Epoch 14/40\n",
      "9/9 [==============================] - 1s 157ms/step - loss: 1.0758 - accuracy: 0.5130 - val_loss: 1.1227 - val_accuracy: 0.5047\n",
      "Epoch 15/40\n",
      "9/9 [==============================] - 1s 158ms/step - loss: 1.0182 - accuracy: 0.5366 - val_loss: 1.1351 - val_accuracy: 0.5094\n",
      "Epoch 16/40\n",
      "9/9 [==============================] - 1s 157ms/step - loss: 1.0011 - accuracy: 0.5658 - val_loss: 1.2438 - val_accuracy: 0.4906\n",
      "Epoch 17/40\n",
      "9/9 [==============================] - 1s 157ms/step - loss: 0.9538 - accuracy: 0.5879 - val_loss: 1.1919 - val_accuracy: 0.4930\n",
      "Epoch 18/40\n",
      "9/9 [==============================] - 1s 154ms/step - loss: 0.8696 - accuracy: 0.6430 - val_loss: 1.2308 - val_accuracy: 0.5141\n",
      "Epoch 19/40\n",
      "9/9 [==============================] - 1s 156ms/step - loss: 0.8091 - accuracy: 0.6919 - val_loss: 1.0649 - val_accuracy: 0.6150\n",
      "Epoch 20/40\n",
      "9/9 [==============================] - 1s 160ms/step - loss: 0.7675 - accuracy: 0.7053 - val_loss: 1.1699 - val_accuracy: 0.5610\n",
      "Epoch 21/40\n",
      "9/9 [==============================] - 1s 156ms/step - loss: 0.7238 - accuracy: 0.7360 - val_loss: 1.0066 - val_accuracy: 0.6150\n",
      "Epoch 22/40\n",
      "9/9 [==============================] - 1s 156ms/step - loss: 0.6579 - accuracy: 0.7549 - val_loss: 1.2458 - val_accuracy: 0.5798\n",
      "Epoch 23/40\n",
      "9/9 [==============================] - 1s 154ms/step - loss: 0.6099 - accuracy: 0.7730 - val_loss: 1.1565 - val_accuracy: 0.5939\n",
      "Epoch 24/40\n",
      "9/9 [==============================] - 1s 156ms/step - loss: 0.5635 - accuracy: 0.7975 - val_loss: 1.2281 - val_accuracy: 0.5822\n",
      "Epoch 25/40\n",
      "9/9 [==============================] - 1s 154ms/step - loss: 0.4824 - accuracy: 0.8258 - val_loss: 1.1778 - val_accuracy: 0.5869\n",
      "Epoch 26/40\n",
      "9/9 [==============================] - 1s 157ms/step - loss: 0.4685 - accuracy: 0.8322 - val_loss: 1.1932 - val_accuracy: 0.6174\n",
      "Epoch 27/40\n",
      "9/9 [==============================] - 1s 158ms/step - loss: 0.3856 - accuracy: 0.8684 - val_loss: 1.1079 - val_accuracy: 0.6291\n",
      "Epoch 28/40\n",
      "9/9 [==============================] - 1s 157ms/step - loss: 0.3649 - accuracy: 0.8739 - val_loss: 1.1892 - val_accuracy: 0.6197\n",
      "Epoch 29/40\n",
      "9/9 [==============================] - 1s 155ms/step - loss: 0.3670 - accuracy: 0.8755 - val_loss: 1.2553 - val_accuracy: 0.5681\n",
      "Epoch 30/40\n",
      "9/9 [==============================] - 1s 156ms/step - loss: 0.3217 - accuracy: 0.8842 - val_loss: 1.2447 - val_accuracy: 0.6291\n",
      "Epoch 31/40\n",
      "9/9 [==============================] - 1s 155ms/step - loss: 0.2883 - accuracy: 0.8913 - val_loss: 1.5737 - val_accuracy: 0.5751\n",
      "Epoch 32/40\n",
      "9/9 [==============================] - 1s 160ms/step - loss: 0.2473 - accuracy: 0.9173 - val_loss: 1.4330 - val_accuracy: 0.5869\n",
      "Epoch 33/40\n",
      "9/9 [==============================] - 1s 155ms/step - loss: 0.2302 - accuracy: 0.9259 - val_loss: 1.6441 - val_accuracy: 0.6009\n",
      "Epoch 34/40\n",
      "9/9 [==============================] - 1s 158ms/step - loss: 0.2123 - accuracy: 0.9346 - val_loss: 1.7230 - val_accuracy: 0.6268\n",
      "Epoch 35/40\n",
      "9/9 [==============================] - 1s 158ms/step - loss: 0.2339 - accuracy: 0.9212 - val_loss: 1.9133 - val_accuracy: 0.6174\n",
      "Epoch 36/40\n",
      "9/9 [==============================] - 1s 162ms/step - loss: 0.2626 - accuracy: 0.9070 - val_loss: 1.2509 - val_accuracy: 0.6362\n",
      "Epoch 37/40\n",
      "9/9 [==============================] - 1s 165ms/step - loss: 0.1916 - accuracy: 0.9291 - val_loss: 1.5072 - val_accuracy: 0.6291\n",
      "Epoch 38/40\n",
      "9/9 [==============================] - 1s 157ms/step - loss: 0.1679 - accuracy: 0.9425 - val_loss: 1.6847 - val_accuracy: 0.6080\n",
      "Epoch 39/40\n",
      "9/9 [==============================] - 1s 155ms/step - loss: 0.1910 - accuracy: 0.9401 - val_loss: 1.6742 - val_accuracy: 0.5845\n",
      "Epoch 40/40\n",
      "9/9 [==============================] - 1s 149ms/step - loss: 0.1767 - accuracy: 0.9425 - val_loss: 1.8815 - val_accuracy: 0.6408\n"
     ]
    }
   ],
   "source": [
    "history=model.fit(X_train, y_train, epochs=40, validation_data=(X_val, y_val), callbacks=[mcp_weight], batch_size=150)"
   ]
  },
  {
   "cell_type": "code",
   "execution_count": 43,
   "id": "4c4e1d3e",
   "metadata": {},
   "outputs": [
    {
     "name": "stdout",
     "output_type": "stream",
     "text": [
      "Model: \"sequential_6\"\n",
      "_________________________________________________________________\n",
      "Layer (type)                 Output Shape              Param #   \n",
      "=================================================================\n",
      "conv2d_24 (Conv2D)           (None, 54, 54, 96)        34944     \n",
      "_________________________________________________________________\n",
      "max_pooling2d_18 (MaxPooling (None, 26, 26, 96)        0         \n",
      "_________________________________________________________________\n",
      "conv2d_25 (Conv2D)           (None, 26, 26, 256)       614656    \n",
      "_________________________________________________________________\n",
      "max_pooling2d_19 (MaxPooling (None, 12, 12, 256)       0         \n",
      "_________________________________________________________________\n",
      "conv2d_26 (Conv2D)           (None, 12, 12, 96)        221280    \n",
      "_________________________________________________________________\n",
      "dropout_3 (Dropout)          (None, 12, 12, 96)        0         \n",
      "_________________________________________________________________\n",
      "conv2d_27 (Conv2D)           (None, 12, 12, 96)        83040     \n",
      "_________________________________________________________________\n",
      "max_pooling2d_20 (MaxPooling (None, 5, 5, 96)          0         \n",
      "_________________________________________________________________\n",
      "flatten_6 (Flatten)          (None, 2400)              0         \n",
      "_________________________________________________________________\n",
      "dense_22 (Dense)             (None, 1024)              2458624   \n",
      "_________________________________________________________________\n",
      "dense_23 (Dense)             (None, 512)               524800    \n",
      "_________________________________________________________________\n",
      "dropout_4 (Dropout)          (None, 512)               0         \n",
      "_________________________________________________________________\n",
      "dense_24 (Dense)             (None, 512)               262656    \n",
      "_________________________________________________________________\n",
      "dropout_5 (Dropout)          (None, 512)               0         \n",
      "_________________________________________________________________\n",
      "dense_25 (Dense)             (None, 4)                 2052      \n",
      "=================================================================\n",
      "Total params: 4,202,052\n",
      "Trainable params: 4,202,052\n",
      "Non-trainable params: 0\n",
      "_________________________________________________________________\n"
     ]
    }
   ],
   "source": [
    "model.load_weights(\"New_Network.hdf5\")\n",
    "model.compile(loss='categorical_crossentropy',optimizer='Adam',metrics=['accuracy'])\n",
    "model.summary()"
   ]
  },
  {
   "cell_type": "code",
   "execution_count": 44,
   "id": "07830bca",
   "metadata": {},
   "outputs": [
    {
     "name": "stderr",
     "output_type": "stream",
     "text": [
      "100%|████████████████████████████████████████████████████████████████████████████████| 113/113 [00:57<00:00,  1.95it/s]\n"
     ]
    }
   ],
   "source": [
    "from scipy import stats as s\n",
    "predict_vgg16 = []\n",
    "actual = []\n",
    "dict_vgg16 = {}\n",
    "\n",
    "if not os.path.exists(test_frames_path):\n",
    "    os.makedirs(test_frames_path)\n",
    "\n",
    "for i in tqdm(range(test.shape[0])):\n",
    "    video_file = test['Video_url'][i]\n",
    "    action = test['action'][i]\n",
    "    video_name_list = video_file.split('/')[-1].split('.')\n",
    "    video_name_list = video_name_list[:-1]\n",
    "    video_name = \"\"\n",
    "    for n in video_name_list:\n",
    "        video_name += n\n",
    "    # capturing the video from the given path\n",
    "    capture = cv2.VideoCapture(video_file) \n",
    "    #frame rate\n",
    "    frame_rate = capture.get(5)\n",
    "    count = 0\n",
    "    files = glob(test_frames_path + '/*')\n",
    "    #removing all files from folder\n",
    "    for f in files:\n",
    "        os.remove(f)\n",
    "    while(capture.isOpened()):\n",
    "        #current frame number\n",
    "        frame_id = capture.get(1) \n",
    "        read_correctly, frame = capture.read()\n",
    "        if not read_correctly:\n",
    "            break\n",
    "        if (frame_id % math.floor(frame_rate) == 0):\n",
    "            # storing the frames in a new folder named train_1\n",
    "            filename = test_frames_path + \"/\" + video_name + \"_frame{}_\".format(count) + action +\".jpg\"\n",
    "            count += 1\n",
    "            cv2.imwrite(filename, frame)\n",
    "    capture.release()\n",
    "    \n",
    "    # reading all the frames from temp folder\n",
    "    images = glob(test_frames_path + '/*.jpg')\n",
    "    prediction_images = []\n",
    "    for i in range(len(images)):\n",
    "        img = image.load_img(images[i], target_size=(224,224,3))\n",
    "        img = image.img_to_array(img)\n",
    "        img = img / 255\n",
    "        prediction_images.append(img)\n",
    "        \n",
    "    # converting all the frames for a test video into numpy array\n",
    "    prediction_images = np.array(prediction_images)\n",
    "    prediction_images_copy = prediction_images\n",
    "    #prediction_images = prediction_images / max_pixel\n",
    "    # extracting features using pre-trained model\n",
    "    #prediction_images = base_model_vgg16.predict(prediction_images)\n",
    "    # converting features in one dimensional array\n",
    "    #prediction_images = prediction_images.reshape(prediction_images.shape[0], 7*7*512)\n",
    "    # predicting tags for each array\n",
    "    prediction = np.argmax(model.predict(prediction_images), axis=-1)\n",
    "    \n",
    "    prediction_test = y_train.columns.values[s.mode(prediction)[0][0]]\n",
    "    if prediction_test != action:\n",
    "        dict_vgg16[video_name] = prediction_test\n",
    "        #print(prediction_test)\n",
    "        #print(action)\n",
    "        #print(video_name)\n",
    "    \n",
    "    # appending the mode of predictions in predict list to assign the tag to the video\n",
    "    predict_vgg16.append(y_train.columns.values[s.mode(prediction)[0][0]])\n",
    "    # appending the actual tag of the video\n",
    "    actual.append(action)"
   ]
  },
  {
   "cell_type": "code",
   "execution_count": 71,
   "id": "4e6ecd38",
   "metadata": {},
   "outputs": [
    {
     "name": "stdout",
     "output_type": "stream",
     "text": [
      "{'smoke_86 ': 'NoAction', 'NoAction_73 ': 'kill', 'NoAction_2 ': 'kill', 'death_50 ': 'kill', 'kill_51 ': 'NoAction', 'NoAction_83 ': 'smoke', 'death_48 ': 'NoAction', 'death_41 ': 'NoAction', 'NoAction_128 ': 'kill', 'kill_35 ': 'NoAction', 'death_99 ': 'kill', 'death_106 ': 'kill', 'weapon_p2000_02': 'kill', 'death_123 ': 'kill', 'kill_79 ': 'NoAction', 'kill_103 ': 'NoAction', 'death_128 ': 'kill', 'death_4 ': 'smoke', 'death_53 ': 'kill', 'death_20 ': 'smoke', 'death_47 ': 'NoAction', 'NoAction_79 ': 'kill', 'death_116 ': 'kill', 'NoAction_92 ': 'smoke', 'death_36 ': 'NoAction', 'death_75 ': 'kill', 'kill_40 ': 'NoAction', 'NoAction_87 ': 'kill', 'kill_123 ': 'NoAction', 'smoke_97 ': 'kill', 'kill_87 ': 'NoAction', 'kill_59 ': 'NoAction', 'NoAction_77 ': 'smoke', 'smoke_39 ': 'kill', 'death_87 ': 'kill', 'smoke_8 ': 'kill', 'death_115 ': 'kill', 'NoAction_75 ': 'kill', 'kill_113 ': 'NoAction', 'death_24 ': 'kill', 'death_54 ': 'NoAction', 'NoAction_84 ': 'kill', 'kill_46 ': 'NoAction', 'death_70 ': 'kill', 'death_66 ': 'NoAction', 'kill_81 ': 'smoke', 'death_19 ': 'kill', 'death_26 ': 'kill', 'smoke_87 ': 'NoAction', 'death_91 ': 'kill', 'death_104 ': 'kill', 'smoke_11 ': 'NoAction', 'death_29 ': 'NoAction', 'kill_58 ': 'NoAction', 'death_16 ': 'smoke'}\n"
     ]
    }
   ],
   "source": [
    "print(dict_vgg16)"
   ]
  },
  {
   "cell_type": "code",
   "execution_count": 45,
   "id": "3daedd57",
   "metadata": {},
   "outputs": [
    {
     "data": {
      "text/plain": [
       "73.45132743362832"
      ]
     },
     "execution_count": 45,
     "metadata": {},
     "output_type": "execute_result"
    }
   ],
   "source": [
    "from sklearn.metrics import accuracy_score\n",
    "accuracy_score(predict_vgg16, actual)*100"
   ]
  },
  {
   "cell_type": "code",
   "execution_count": 46,
   "id": "701c2f41",
   "metadata": {},
   "outputs": [
    {
     "name": "stdout",
     "output_type": "stream",
     "text": [
      "Accuracy:  73.45132743362832\n",
      "Precision:  [0.73684211 0.67857143 0.94444444 0.65517241]\n",
      "F1_score:  [0.75675676 0.7037037  0.70833333 0.76      ]\n",
      "Recall:  [0.77777778 0.73076923 0.56666667 0.9047619 ]\n"
     ]
    }
   ],
   "source": [
    "from sklearn.metrics import accuracy_score, precision_score, f1_score, recall_score\n",
    "\n",
    "accuracy = accuracy_score(predict_vgg16, actual)*100\n",
    "precision = precision_score(actual, predict_vgg16, average=None)\n",
    "f1_score = f1_score(actual, predict_vgg16, average=None)\n",
    "recall = recall_score(actual, predict_vgg16, average=None)\n",
    "\n",
    "print('Accuracy: ', accuracy)\n",
    "print('Precision: ', precision)\n",
    "print('F1_score: ', f1_score)\n",
    "print('Recall: ', recall)"
   ]
  },
  {
   "cell_type": "code",
   "execution_count": 47,
   "id": "6b059c40",
   "metadata": {},
   "outputs": [
    {
     "data": {
      "image/png": "[encoded data removed]",
      "text/plain": [
       "<Figure size 640x480 with 1 Axes>"
      ]
     },
     "metadata": {},
     "output_type": "display_data"
    }
   ],
   "source": [
    "plt.plot(history.history['accuracy'])\n",
    "plt.plot(history.history['val_accuracy'])\n",
    "plt.title('model accuracy')\n",
    "plt.ylabel('accuracy')\n",
    "plt.xlabel('epoch')\n",
    "plt.legend(['train', 'test'], loc='upper left')\n",
    "plt.show()"
   ]
  },
  {
   "cell_type": "code",
   "execution_count": 48,
   "id": "145743d5",
   "metadata": {
    "scrolled": true
   },
   "outputs": [
    {
     "data": {
      "image/png": "[encoded data removed]",
      "text/plain": [
       "<Figure size 640x480 with 1 Axes>"
      ]
     },
     "metadata": {},
     "output_type": "display_data"
    }
   ],
   "source": [
    "plt.plot(history.history['loss'])\n",
    "plt.plot(history.history['val_loss'])\n",
    "plt.title('model loss')\n",
    "plt.ylabel('loss')\n",
    "plt.xlabel('epoch')\n",
    "plt.legend(['train', 'test'], loc='upper left')\n",
    "plt.show()"
   ]
  },
  {
   "cell_type": "code",
   "execution_count": null,
   "id": "61509a36",
   "metadata": {},
   "outputs": [],
   "source": [
    "model = Sequential()\n",
    "    \n",
    "model.add(Conv2D(96, (3, 3), activation='relu', padding = 'same', input_shape=(224,224,3)))    \n",
    "model.add(Dropout(0.2))\n",
    "    \n",
    "model.add(Conv2D(96, (3, 3), activation='relu', padding = 'same'))  \n",
    "model.add(Conv2D(96, (3, 3), activation='relu', padding = 'same', strides = 2))    \n",
    "model.add(Dropout(0.5))\n",
    "    \n",
    "model.add(Conv2D(192, (3, 3), activation='relu', padding = 'same'))    \n",
    "model.add(Conv2D(192, (3, 3), activation='relu', padding = 'same'))\n",
    "model.add(Conv2D(192, (3, 3), activation='relu', padding = 'same', strides = 2))    \n",
    "model.add(Dropout(0.5))    \n",
    "    \n",
    "model.add(Conv2D(192, (3, 3), padding = 'same'))\n",
    "model.add(Activation('relu'))\n",
    "model.add(Conv2D(192, (1, 1),padding='valid'))\n",
    "model.add(Activation('relu'))\n",
    "model.add(Conv2D(10, (1, 1), padding='valid'))\n",
    "\n",
    "# Output Layer\n",
    "model.add(Dense(4, activation = \"softmax\")) \n",
    "model.compile(loss='categorical_crossentropy',optimizer='Adam',metrics=['accuracy'])\n",
    "model.summary()"
   ]
  },
  {
   "cell_type": "markdown",
   "id": "2cfcb67a",
   "metadata": {},
   "source": [
    "# Tuner"
   ]
  },
  {
   "cell_type": "code",
   "execution_count": 88,
   "id": "63fc0a04",
   "metadata": {},
   "outputs": [],
   "source": [
    "from tensorflow import keras\n",
    "from tensorflow.keras import layers\n",
    "from kerastuner.tuners import RandomSearch\n",
    "def build_model(hp):\n",
    "    model = keras.Sequential()\n",
    "    for i in range(hp.Int('num_layers', 2, 20)):\n",
    "        model.add(layers.Dense(units=hp.Int('units_' + str(i),\n",
    "                                            min_value=32,\n",
    "                                            max_value=512,\n",
    "                                            step=32),\n",
    "                               activation='relu'))\n",
    "    model.add(layers.Dense(1, activation='linear'))\n",
    "    model.compile(\n",
    "        optimizer=keras.optimizers.Adam(\n",
    "            hp.Choice('learning_rate', [1e-2, 1e-3, 1e-4])),\n",
    "        loss='mean_absolute_error',\n",
    "        metrics=['mean_absolute_error'])\n",
    "    return model\n",
    "tuner = RandomSearch(\n",
    "    build_model,\n",
    "    objective='val_mean_absolute_error',\n",
    "    max_trials=5,\n",
    "    executions_per_trial=3,\n",
    "    directory='project',\n",
    "    project_name='Air Quality Index')"
   ]
  },
  {
   "cell_type": "code",
   "execution_count": 89,
   "id": "a9d42f6c",
   "metadata": {},
   "outputs": [
    {
     "name": "stdout",
     "output_type": "stream",
     "text": [
      "Search space summary\n",
      "Default search space size: 4\n",
      "num_layers (Int)\n",
      "{'default': None, 'conditions': [], 'min_value': 2, 'max_value': 20, 'step': 1, 'sampling': None}\n",
      "units_0 (Int)\n",
      "{'default': None, 'conditions': [], 'min_value': 32, 'max_value': 512, 'step': 32, 'sampling': None}\n",
      "units_1 (Int)\n",
      "{'default': None, 'conditions': [], 'min_value': 32, 'max_value': 512, 'step': 32, 'sampling': None}\n",
      "learning_rate (Choice)\n",
      "{'default': 0.01, 'conditions': [], 'values': [0.01, 0.001, 0.0001], 'ordered': True}\n"
     ]
    }
   ],
   "source": [
    "tuner.search_space_summary()"
   ]
  },
  {
   "cell_type": "code",
   "execution_count": 90,
   "id": "b087887c",
   "metadata": {},
   "outputs": [
    {
     "name": "stdout",
     "output_type": "stream",
     "text": [
      "\n",
      "Search: Running Trial #1\n",
      "\n",
      "Hyperparameter    |Value             |Best Value So Far \n",
      "num_layers        |6                 |?                 \n",
      "units_0           |192               |?                 \n",
      "units_1           |480               |?                 \n",
      "learning_rate     |0.0001            |?                 \n",
      "\n",
      "Epoch 1/5\n"
     ]
    },
    {
     "ename": "ResourceExhaustedError",
     "evalue": " OOM when allocating tensor with shape[1648928,480] and type float on /job:localhost/replica:0/task:0/device:GPU:0 by allocator GPU_0_bfc\n\t [[node sequential/dense_1/Tensordot/MatMul (defined at E:\\Anconda\\envs\\tf-gpu\\lib\\site-packages\\keras_tuner\\engine\\tuner.py:147) ]]\nHint: If you want to see a list of allocated tensors when OOM happens, add report_tensor_allocations_upon_oom to RunOptions for current allocation info.\n [Op:__inference_train_function_259833]\n\nFunction call stack:\ntrain_function\n",
     "output_type": "error",
     "traceback": [
      "\u001b[1;31m---------------------------------------------------------------------------\u001b[0m",
      "\u001b[1;31mResourceExhaustedError\u001b[0m                    Traceback (most recent call last)",
      "\u001b[1;32m<ipython-input-90-196c8cc6c69f>\u001b[0m in \u001b[0;36m<module>\u001b[1;34m\u001b[0m\n\u001b[1;32m----> 1\u001b[1;33m tuner.search(X_train, y_train,\n\u001b[0m\u001b[0;32m      2\u001b[0m              \u001b[0mepochs\u001b[0m\u001b[1;33m=\u001b[0m\u001b[1;36m5\u001b[0m\u001b[1;33m,\u001b[0m\u001b[1;33m\u001b[0m\u001b[1;33m\u001b[0m\u001b[0m\n\u001b[0;32m      3\u001b[0m              validation_data=(X_val, y_val))\n",
      "\u001b[1;32mE:\\Anconda\\envs\\tf-gpu\\lib\\site-packages\\keras_tuner\\engine\\base_tuner.py\u001b[0m in \u001b[0;36msearch\u001b[1;34m(self, *fit_args, **fit_kwargs)\u001b[0m\n\u001b[0;32m    142\u001b[0m \u001b[1;33m\u001b[0m\u001b[0m\n\u001b[0;32m    143\u001b[0m             \u001b[0mself\u001b[0m\u001b[1;33m.\u001b[0m\u001b[0mon_trial_begin\u001b[0m\u001b[1;33m(\u001b[0m\u001b[0mtrial\u001b[0m\u001b[1;33m)\u001b[0m\u001b[1;33m\u001b[0m\u001b[1;33m\u001b[0m\u001b[0m\n\u001b[1;32m--> 144\u001b[1;33m             \u001b[0mself\u001b[0m\u001b[1;33m.\u001b[0m\u001b[0mrun_trial\u001b[0m\u001b[1;33m(\u001b[0m\u001b[0mtrial\u001b[0m\u001b[1;33m,\u001b[0m \u001b[1;33m*\u001b[0m\u001b[0mfit_args\u001b[0m\u001b[1;33m,\u001b[0m \u001b[1;33m**\u001b[0m\u001b[0mfit_kwargs\u001b[0m\u001b[1;33m)\u001b[0m\u001b[1;33m\u001b[0m\u001b[1;33m\u001b[0m\u001b[0m\n\u001b[0m\u001b[0;32m    145\u001b[0m             \u001b[0mself\u001b[0m\u001b[1;33m.\u001b[0m\u001b[0mon_trial_end\u001b[0m\u001b[1;33m(\u001b[0m\u001b[0mtrial\u001b[0m\u001b[1;33m)\u001b[0m\u001b[1;33m\u001b[0m\u001b[1;33m\u001b[0m\u001b[0m\n\u001b[0;32m    146\u001b[0m         \u001b[0mself\u001b[0m\u001b[1;33m.\u001b[0m\u001b[0mon_search_end\u001b[0m\u001b[1;33m(\u001b[0m\u001b[1;33m)\u001b[0m\u001b[1;33m\u001b[0m\u001b[1;33m\u001b[0m\u001b[0m\n",
      "\u001b[1;32mE:\\Anconda\\envs\\tf-gpu\\lib\\site-packages\\keras_tuner\\engine\\multi_execution_tuner.py\u001b[0m in \u001b[0;36mrun_trial\u001b[1;34m(self, trial, *fit_args, **fit_kwargs)\u001b[0m\n\u001b[0;32m     88\u001b[0m             \u001b[0mcopied_fit_kwargs\u001b[0m\u001b[1;33m[\u001b[0m\u001b[1;34m\"callbacks\"\u001b[0m\u001b[1;33m]\u001b[0m \u001b[1;33m=\u001b[0m \u001b[0mcallbacks\u001b[0m\u001b[1;33m\u001b[0m\u001b[1;33m\u001b[0m\u001b[0m\n\u001b[0;32m     89\u001b[0m \u001b[1;33m\u001b[0m\u001b[0m\n\u001b[1;32m---> 90\u001b[1;33m             \u001b[0mhistory\u001b[0m \u001b[1;33m=\u001b[0m \u001b[0mself\u001b[0m\u001b[1;33m.\u001b[0m\u001b[0m_build_and_fit_model\u001b[0m\u001b[1;33m(\u001b[0m\u001b[0mtrial\u001b[0m\u001b[1;33m,\u001b[0m \u001b[0mfit_args\u001b[0m\u001b[1;33m,\u001b[0m \u001b[0mcopied_fit_kwargs\u001b[0m\u001b[1;33m)\u001b[0m\u001b[1;33m\u001b[0m\u001b[1;33m\u001b[0m\u001b[0m\n\u001b[0m\u001b[0;32m     91\u001b[0m             \u001b[1;32mfor\u001b[0m \u001b[0mmetric\u001b[0m\u001b[1;33m,\u001b[0m \u001b[0mepoch_values\u001b[0m \u001b[1;32min\u001b[0m \u001b[0mhistory\u001b[0m\u001b[1;33m.\u001b[0m\u001b[0mhistory\u001b[0m\u001b[1;33m.\u001b[0m\u001b[0mitems\u001b[0m\u001b[1;33m(\u001b[0m\u001b[1;33m)\u001b[0m\u001b[1;33m:\u001b[0m\u001b[1;33m\u001b[0m\u001b[1;33m\u001b[0m\u001b[0m\n\u001b[0;32m     92\u001b[0m                 \u001b[1;32mif\u001b[0m \u001b[0mself\u001b[0m\u001b[1;33m.\u001b[0m\u001b[0moracle\u001b[0m\u001b[1;33m.\u001b[0m\u001b[0mobjective\u001b[0m\u001b[1;33m.\u001b[0m\u001b[0mdirection\u001b[0m \u001b[1;33m==\u001b[0m \u001b[1;34m\"min\"\u001b[0m\u001b[1;33m:\u001b[0m\u001b[1;33m\u001b[0m\u001b[1;33m\u001b[0m\u001b[0m\n",
      "\u001b[1;32mE:\\Anconda\\envs\\tf-gpu\\lib\\site-packages\\keras_tuner\\engine\\tuner.py\u001b[0m in \u001b[0;36m_build_and_fit_model\u001b[1;34m(self, trial, fit_args, fit_kwargs)\u001b[0m\n\u001b[0;32m    145\u001b[0m         \"\"\"\n\u001b[0;32m    146\u001b[0m         \u001b[0mmodel\u001b[0m \u001b[1;33m=\u001b[0m \u001b[0mself\u001b[0m\u001b[1;33m.\u001b[0m\u001b[0mhypermodel\u001b[0m\u001b[1;33m.\u001b[0m\u001b[0mbuild\u001b[0m\u001b[1;33m(\u001b[0m\u001b[0mtrial\u001b[0m\u001b[1;33m.\u001b[0m\u001b[0mhyperparameters\u001b[0m\u001b[1;33m)\u001b[0m\u001b[1;33m\u001b[0m\u001b[1;33m\u001b[0m\u001b[0m\n\u001b[1;32m--> 147\u001b[1;33m         \u001b[1;32mreturn\u001b[0m \u001b[0mmodel\u001b[0m\u001b[1;33m.\u001b[0m\u001b[0mfit\u001b[0m\u001b[1;33m(\u001b[0m\u001b[1;33m*\u001b[0m\u001b[0mfit_args\u001b[0m\u001b[1;33m,\u001b[0m \u001b[1;33m**\u001b[0m\u001b[0mfit_kwargs\u001b[0m\u001b[1;33m)\u001b[0m\u001b[1;33m\u001b[0m\u001b[1;33m\u001b[0m\u001b[0m\n\u001b[0m\u001b[0;32m    148\u001b[0m \u001b[1;33m\u001b[0m\u001b[0m\n\u001b[0;32m    149\u001b[0m     \u001b[1;32mdef\u001b[0m \u001b[0mrun_trial\u001b[0m\u001b[1;33m(\u001b[0m\u001b[0mself\u001b[0m\u001b[1;33m,\u001b[0m \u001b[0mtrial\u001b[0m\u001b[1;33m,\u001b[0m \u001b[1;33m*\u001b[0m\u001b[0mfit_args\u001b[0m\u001b[1;33m,\u001b[0m \u001b[1;33m**\u001b[0m\u001b[0mfit_kwargs\u001b[0m\u001b[1;33m)\u001b[0m\u001b[1;33m:\u001b[0m\u001b[1;33m\u001b[0m\u001b[1;33m\u001b[0m\u001b[0m\n",
      "\u001b[1;32mE:\\Anconda\\envs\\tf-gpu\\lib\\site-packages\\tensorflow\\python\\keras\\engine\\training.py\u001b[0m in \u001b[0;36mfit\u001b[1;34m(self, x, y, batch_size, epochs, verbose, callbacks, validation_split, validation_data, shuffle, class_weight, sample_weight, initial_epoch, steps_per_epoch, validation_steps, validation_batch_size, validation_freq, max_queue_size, workers, use_multiprocessing)\u001b[0m\n\u001b[0;32m   1181\u001b[0m                 _r=1):\n\u001b[0;32m   1182\u001b[0m               \u001b[0mcallbacks\u001b[0m\u001b[1;33m.\u001b[0m\u001b[0mon_train_batch_begin\u001b[0m\u001b[1;33m(\u001b[0m\u001b[0mstep\u001b[0m\u001b[1;33m)\u001b[0m\u001b[1;33m\u001b[0m\u001b[1;33m\u001b[0m\u001b[0m\n\u001b[1;32m-> 1183\u001b[1;33m               \u001b[0mtmp_logs\u001b[0m \u001b[1;33m=\u001b[0m \u001b[0mself\u001b[0m\u001b[1;33m.\u001b[0m\u001b[0mtrain_function\u001b[0m\u001b[1;33m(\u001b[0m\u001b[0miterator\u001b[0m\u001b[1;33m)\u001b[0m\u001b[1;33m\u001b[0m\u001b[1;33m\u001b[0m\u001b[0m\n\u001b[0m\u001b[0;32m   1184\u001b[0m               \u001b[1;32mif\u001b[0m \u001b[0mdata_handler\u001b[0m\u001b[1;33m.\u001b[0m\u001b[0mshould_sync\u001b[0m\u001b[1;33m:\u001b[0m\u001b[1;33m\u001b[0m\u001b[1;33m\u001b[0m\u001b[0m\n\u001b[0;32m   1185\u001b[0m                 \u001b[0mcontext\u001b[0m\u001b[1;33m.\u001b[0m\u001b[0masync_wait\u001b[0m\u001b[1;33m(\u001b[0m\u001b[1;33m)\u001b[0m\u001b[1;33m\u001b[0m\u001b[1;33m\u001b[0m\u001b[0m\n",
      "\u001b[1;32mE:\\Anconda\\envs\\tf-gpu\\lib\\site-packages\\tensorflow\\python\\eager\\def_function.py\u001b[0m in \u001b[0;36m__call__\u001b[1;34m(self, *args, **kwds)\u001b[0m\n\u001b[0;32m    887\u001b[0m \u001b[1;33m\u001b[0m\u001b[0m\n\u001b[0;32m    888\u001b[0m       \u001b[1;32mwith\u001b[0m \u001b[0mOptionalXlaContext\u001b[0m\u001b[1;33m(\u001b[0m\u001b[0mself\u001b[0m\u001b[1;33m.\u001b[0m\u001b[0m_jit_compile\u001b[0m\u001b[1;33m)\u001b[0m\u001b[1;33m:\u001b[0m\u001b[1;33m\u001b[0m\u001b[1;33m\u001b[0m\u001b[0m\n\u001b[1;32m--> 889\u001b[1;33m         \u001b[0mresult\u001b[0m \u001b[1;33m=\u001b[0m \u001b[0mself\u001b[0m\u001b[1;33m.\u001b[0m\u001b[0m_call\u001b[0m\u001b[1;33m(\u001b[0m\u001b[1;33m*\u001b[0m\u001b[0margs\u001b[0m\u001b[1;33m,\u001b[0m \u001b[1;33m**\u001b[0m\u001b[0mkwds\u001b[0m\u001b[1;33m)\u001b[0m\u001b[1;33m\u001b[0m\u001b[1;33m\u001b[0m\u001b[0m\n\u001b[0m\u001b[0;32m    890\u001b[0m \u001b[1;33m\u001b[0m\u001b[0m\n\u001b[0;32m    891\u001b[0m       \u001b[0mnew_tracing_count\u001b[0m \u001b[1;33m=\u001b[0m \u001b[0mself\u001b[0m\u001b[1;33m.\u001b[0m\u001b[0mexperimental_get_tracing_count\u001b[0m\u001b[1;33m(\u001b[0m\u001b[1;33m)\u001b[0m\u001b[1;33m\u001b[0m\u001b[1;33m\u001b[0m\u001b[0m\n",
      "\u001b[1;32mE:\\Anconda\\envs\\tf-gpu\\lib\\site-packages\\tensorflow\\python\\eager\\def_function.py\u001b[0m in \u001b[0;36m_call\u001b[1;34m(self, *args, **kwds)\u001b[0m\n\u001b[0;32m    948\u001b[0m         \u001b[1;31m# Lifting succeeded, so variables are initialized and we can run the\u001b[0m\u001b[1;33m\u001b[0m\u001b[1;33m\u001b[0m\u001b[1;33m\u001b[0m\u001b[0m\n\u001b[0;32m    949\u001b[0m         \u001b[1;31m# stateless function.\u001b[0m\u001b[1;33m\u001b[0m\u001b[1;33m\u001b[0m\u001b[1;33m\u001b[0m\u001b[0m\n\u001b[1;32m--> 950\u001b[1;33m         \u001b[1;32mreturn\u001b[0m \u001b[0mself\u001b[0m\u001b[1;33m.\u001b[0m\u001b[0m_stateless_fn\u001b[0m\u001b[1;33m(\u001b[0m\u001b[1;33m*\u001b[0m\u001b[0margs\u001b[0m\u001b[1;33m,\u001b[0m \u001b[1;33m**\u001b[0m\u001b[0mkwds\u001b[0m\u001b[1;33m)\u001b[0m\u001b[1;33m\u001b[0m\u001b[1;33m\u001b[0m\u001b[0m\n\u001b[0m\u001b[0;32m    951\u001b[0m     \u001b[1;32melse\u001b[0m\u001b[1;33m:\u001b[0m\u001b[1;33m\u001b[0m\u001b[1;33m\u001b[0m\u001b[0m\n\u001b[0;32m    952\u001b[0m       \u001b[0m_\u001b[0m\u001b[1;33m,\u001b[0m \u001b[0m_\u001b[0m\u001b[1;33m,\u001b[0m \u001b[0m_\u001b[0m\u001b[1;33m,\u001b[0m \u001b[0mfiltered_flat_args\u001b[0m \u001b[1;33m=\u001b[0m\u001b[0;31m \u001b[0m\u001b[0;31m\\\u001b[0m\u001b[1;33m\u001b[0m\u001b[1;33m\u001b[0m\u001b[0m\n",
      "\u001b[1;32mE:\\Anconda\\envs\\tf-gpu\\lib\\site-packages\\tensorflow\\python\\eager\\function.py\u001b[0m in \u001b[0;36m__call__\u001b[1;34m(self, *args, **kwargs)\u001b[0m\n\u001b[0;32m   3021\u001b[0m       (graph_function,\n\u001b[0;32m   3022\u001b[0m        filtered_flat_args) = self._maybe_define_function(args, kwargs)\n\u001b[1;32m-> 3023\u001b[1;33m     return graph_function._call_flat(\n\u001b[0m\u001b[0;32m   3024\u001b[0m         filtered_flat_args, captured_inputs=graph_function.captured_inputs)  # pylint: disable=protected-access\n\u001b[0;32m   3025\u001b[0m \u001b[1;33m\u001b[0m\u001b[0m\n",
      "\u001b[1;32mE:\\Anconda\\envs\\tf-gpu\\lib\\site-packages\\tensorflow\\python\\eager\\function.py\u001b[0m in \u001b[0;36m_call_flat\u001b[1;34m(self, args, captured_inputs, cancellation_manager)\u001b[0m\n\u001b[0;32m   1958\u001b[0m         and executing_eagerly):\n\u001b[0;32m   1959\u001b[0m       \u001b[1;31m# No tape is watching; skip to running the function.\u001b[0m\u001b[1;33m\u001b[0m\u001b[1;33m\u001b[0m\u001b[1;33m\u001b[0m\u001b[0m\n\u001b[1;32m-> 1960\u001b[1;33m       return self._build_call_outputs(self._inference_function.call(\n\u001b[0m\u001b[0;32m   1961\u001b[0m           ctx, args, cancellation_manager=cancellation_manager))\n\u001b[0;32m   1962\u001b[0m     forward_backward = self._select_forward_and_backward_functions(\n",
      "\u001b[1;32mE:\\Anconda\\envs\\tf-gpu\\lib\\site-packages\\tensorflow\\python\\eager\\function.py\u001b[0m in \u001b[0;36mcall\u001b[1;34m(self, ctx, args, cancellation_manager)\u001b[0m\n\u001b[0;32m    589\u001b[0m       \u001b[1;32mwith\u001b[0m \u001b[0m_InterpolateFunctionError\u001b[0m\u001b[1;33m(\u001b[0m\u001b[0mself\u001b[0m\u001b[1;33m)\u001b[0m\u001b[1;33m:\u001b[0m\u001b[1;33m\u001b[0m\u001b[1;33m\u001b[0m\u001b[0m\n\u001b[0;32m    590\u001b[0m         \u001b[1;32mif\u001b[0m \u001b[0mcancellation_manager\u001b[0m \u001b[1;32mis\u001b[0m \u001b[1;32mNone\u001b[0m\u001b[1;33m:\u001b[0m\u001b[1;33m\u001b[0m\u001b[1;33m\u001b[0m\u001b[0m\n\u001b[1;32m--> 591\u001b[1;33m           outputs = execute.execute(\n\u001b[0m\u001b[0;32m    592\u001b[0m               \u001b[0mstr\u001b[0m\u001b[1;33m(\u001b[0m\u001b[0mself\u001b[0m\u001b[1;33m.\u001b[0m\u001b[0msignature\u001b[0m\u001b[1;33m.\u001b[0m\u001b[0mname\u001b[0m\u001b[1;33m)\u001b[0m\u001b[1;33m,\u001b[0m\u001b[1;33m\u001b[0m\u001b[1;33m\u001b[0m\u001b[0m\n\u001b[0;32m    593\u001b[0m               \u001b[0mnum_outputs\u001b[0m\u001b[1;33m=\u001b[0m\u001b[0mself\u001b[0m\u001b[1;33m.\u001b[0m\u001b[0m_num_outputs\u001b[0m\u001b[1;33m,\u001b[0m\u001b[1;33m\u001b[0m\u001b[1;33m\u001b[0m\u001b[0m\n",
      "\u001b[1;32mE:\\Anconda\\envs\\tf-gpu\\lib\\site-packages\\tensorflow\\python\\eager\\execute.py\u001b[0m in \u001b[0;36mquick_execute\u001b[1;34m(op_name, num_outputs, inputs, attrs, ctx, name)\u001b[0m\n\u001b[0;32m     57\u001b[0m   \u001b[1;32mtry\u001b[0m\u001b[1;33m:\u001b[0m\u001b[1;33m\u001b[0m\u001b[1;33m\u001b[0m\u001b[0m\n\u001b[0;32m     58\u001b[0m     \u001b[0mctx\u001b[0m\u001b[1;33m.\u001b[0m\u001b[0mensure_initialized\u001b[0m\u001b[1;33m(\u001b[0m\u001b[1;33m)\u001b[0m\u001b[1;33m\u001b[0m\u001b[1;33m\u001b[0m\u001b[0m\n\u001b[1;32m---> 59\u001b[1;33m     tensors = pywrap_tfe.TFE_Py_Execute(ctx._handle, device_name, op_name,\n\u001b[0m\u001b[0;32m     60\u001b[0m                                         inputs, attrs, num_outputs)\n\u001b[0;32m     61\u001b[0m   \u001b[1;32mexcept\u001b[0m \u001b[0mcore\u001b[0m\u001b[1;33m.\u001b[0m\u001b[0m_NotOkStatusException\u001b[0m \u001b[1;32mas\u001b[0m \u001b[0me\u001b[0m\u001b[1;33m:\u001b[0m\u001b[1;33m\u001b[0m\u001b[1;33m\u001b[0m\u001b[0m\n",
      "\u001b[1;31mResourceExhaustedError\u001b[0m:  OOM when allocating tensor with shape[1648928,480] and type float on /job:localhost/replica:0/task:0/device:GPU:0 by allocator GPU_0_bfc\n\t [[node sequential/dense_1/Tensordot/MatMul (defined at E:\\Anconda\\envs\\tf-gpu\\lib\\site-packages\\keras_tuner\\engine\\tuner.py:147) ]]\nHint: If you want to see a list of allocated tensors when OOM happens, add report_tensor_allocations_upon_oom to RunOptions for current allocation info.\n [Op:__inference_train_function_259833]\n\nFunction call stack:\ntrain_function\n"
     ]
    }
   ],
   "source": [
    "tuner.search(X_train, y_train,\n",
    "             epochs=5,\n",
    "             validation_data=(X_val, y_val))"
   ]
  },
  {
   "cell_type": "code",
   "execution_count": null,
   "id": "0ffc9e71",
   "metadata": {},
   "outputs": [],
   "source": []
  }
 ],
 "metadata": {
  "kernelspec": {
   "display_name": "Python 3",
   "language": "python",
   "name": "python3"
  },
  "language_info": {
   "codemirror_mode": {
    "name": "ipython",
    "version": 3
   },
   "file_extension": ".py",
   "mimetype": "text/x-python",
   "name": "python",
   "nbconvert_exporter": "python",
   "pygments_lexer": "ipython3",
   "version": "3.9.6"
  }
 },
 "nbformat": 4,
 "nbformat_minor": 5
}
